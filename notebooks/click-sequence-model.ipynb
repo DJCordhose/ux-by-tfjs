{
  "nbformat": 4,
  "nbformat_minor": 0,
  "metadata": {
    "colab": {
      "name": "rnn-model.ipynb",
      "version": "0.3.2",
      "provenance": [],
      "toc_visible": true,
      "include_colab_link": true
    },
    "kernelspec": {
      "display_name": "Python 3",
      "language": "python",
      "name": "python3"
    },
    "accelerator": "GPU"
  },
  "cells": [
    {
      "cell_type": "markdown",
      "metadata": {
        "id": "view-in-github",
        "colab_type": "text"
      },
      "source": [
        "<a href=\"https://colab.research.google.com/github/DJCordhose/ux-by-tfjs/blob/master/notebooks/click-sequence-model.ipynb\" target=\"_parent\"><img src=\"https://colab.research.google.com/assets/colab-badge.svg\" alt=\"Open In Colab\"/></a>"
      ]
    },
    {
      "cell_type": "markdown",
      "metadata": {
        "colab_type": "text",
        "id": "XdfXfXK2-CiG"
      },
      "source": [
        "# Training on Sequences of Clicks on the Server"
      ]
    },
    {
      "cell_type": "code",
      "metadata": {
        "colab_type": "code",
        "id": "u8IonVMfAelY",
        "colab": {}
      },
      "source": [
        "# for colab\n",
        "!pip install -q tf-nightly-gpu-2.0-preview"
      ],
      "execution_count": 0,
      "outputs": []
    },
    {
      "cell_type": "code",
      "metadata": {
        "colab_type": "code",
        "id": "0rEa6M11-CiY",
        "outputId": "371a428e-c08d-4e62-92e3-ce762d46f038",
        "colab": {
          "base_uri": "https://localhost:8080/",
          "height": 34
        }
      },
      "source": [
        "import tensorflow as tf\n",
        "print(tf.__version__)"
      ],
      "execution_count": 2,
      "outputs": [
        {
          "output_type": "stream",
          "text": [
            "2.0.0-dev20190628\n"
          ],
          "name": "stdout"
        }
      ]
    },
    {
      "cell_type": "code",
      "metadata": {
        "colab_type": "code",
        "id": "I35W9tmrRWF3",
        "outputId": "a28a5ce9-cf30-428e-f5ba-9741d24da30d",
        "colab": {
          "base_uri": "https://localhost:8080/",
          "height": 34
        }
      },
      "source": [
        "# a small sanity check, does tf seem to work ok?\n",
        "hello = tf.constant('Hello TF!')\n",
        "print(\"This works: {}\".format(hello))"
      ],
      "execution_count": 3,
      "outputs": [
        {
          "output_type": "stream",
          "text": [
            "This works: b'Hello TF!'\n"
          ],
          "name": "stdout"
        }
      ]
    },
    {
      "cell_type": "code",
      "metadata": {
        "colab_type": "code",
        "id": "DpXHERPSQvMD",
        "outputId": "443b2685-ecb5-463a-d086-2350ac8973ea",
        "colab": {
          "base_uri": "https://localhost:8080/",
          "height": 34
        }
      },
      "source": [
        "# this should return True even on Colab\n",
        "tf.test.is_gpu_available()"
      ],
      "execution_count": 4,
      "outputs": [
        {
          "output_type": "execute_result",
          "data": {
            "text/plain": [
              "True"
            ]
          },
          "metadata": {
            "tags": []
          },
          "execution_count": 4
        }
      ]
    },
    {
      "cell_type": "code",
      "metadata": {
        "colab_type": "code",
        "id": "hEoP6O2r3Jvf",
        "outputId": "f88c045e-374c-404a-ed0e-e275537b6fad",
        "colab": {
          "base_uri": "https://localhost:8080/",
          "height": 34
        }
      },
      "source": [
        "tf.test.is_built_with_cuda()"
      ],
      "execution_count": 5,
      "outputs": [
        {
          "output_type": "execute_result",
          "data": {
            "text/plain": [
              "True"
            ]
          },
          "metadata": {
            "tags": []
          },
          "execution_count": 5
        }
      ]
    },
    {
      "cell_type": "code",
      "metadata": {
        "colab_type": "code",
        "id": "PqalzDXr3OiQ",
        "outputId": "81f4caad-5c44-4df4-b704-d093291c80c6",
        "colab": {
          "base_uri": "https://localhost:8080/",
          "height": 34
        }
      },
      "source": [
        "tf.executing_eagerly()"
      ],
      "execution_count": 6,
      "outputs": [
        {
          "output_type": "execute_result",
          "data": {
            "text/plain": [
              "True"
            ]
          },
          "metadata": {
            "tags": []
          },
          "execution_count": 6
        }
      ]
    },
    {
      "cell_type": "markdown",
      "metadata": {
        "id": "C9a1zn2-_hEY",
        "colab_type": "text"
      },
      "source": [
        "## load data"
      ]
    },
    {
      "cell_type": "code",
      "metadata": {
        "id": "iztUacrB_hEZ",
        "colab_type": "code",
        "outputId": "072c6506-a988-42ff-b560-2685cb3a3cb6",
        "colab": {
          "base_uri": "https://localhost:8080/",
          "height": 34
        }
      },
      "source": [
        "import pandas as pd\n",
        "print(pd.__version__)"
      ],
      "execution_count": 17,
      "outputs": [
        {
          "output_type": "stream",
          "text": [
            "0.24.2\n"
          ],
          "name": "stdout"
        }
      ]
    },
    {
      "cell_type": "code",
      "metadata": {
        "id": "p_Na83Q9U1Le",
        "colab_type": "code",
        "colab": {
          "base_uri": "https://localhost:8080/",
          "height": 34
        },
        "outputId": "656e451c-e96b-459c-b3a7-bca988d1acd1"
      },
      "source": [
        "import numpy as np\n",
        "print(np.__version__)"
      ],
      "execution_count": 18,
      "outputs": [
        {
          "output_type": "stream",
          "text": [
            "1.16.4\n"
          ],
          "name": "stdout"
        }
      ]
    },
    {
      "cell_type": "code",
      "metadata": {
        "id": "PhJJH5TS_hEc",
        "colab_type": "code",
        "colab": {}
      },
      "source": [
        "# local\n",
        "# URL = '../data/click-sequence.json'\n",
        "\n",
        "# remote\n",
        "URL = 'https://raw.githubusercontent.com/DJCordhose/ux-by-tfjs/master//data/click-sequence.json'\n",
        "\n",
        "\n",
        "df = pd.read_json(URL, typ='series')"
      ],
      "execution_count": 0,
      "outputs": []
    },
    {
      "cell_type": "code",
      "metadata": {
        "id": "swqLoJAh_hEe",
        "colab_type": "code",
        "outputId": "b10190f9-646f-464f-972c-7e92d56c3b6a",
        "colab": {
          "base_uri": "https://localhost:8080/",
          "height": 34
        }
      },
      "source": [
        "len(df)"
      ],
      "execution_count": 9,
      "outputs": [
        {
          "output_type": "execute_result",
          "data": {
            "text/plain": [
              "26"
            ]
          },
          "metadata": {
            "tags": []
          },
          "execution_count": 9
        }
      ]
    },
    {
      "cell_type": "code",
      "metadata": {
        "id": "8CHaa_KVsPlZ",
        "colab_type": "code",
        "colab": {
          "base_uri": "https://localhost:8080/",
          "height": 119
        },
        "outputId": "f8725ba4-448d-43bd-8dd9-9531564b89d4"
      },
      "source": [
        "df.head()"
      ],
      "execution_count": 15,
      "outputs": [
        {
          "output_type": "execute_result",
          "data": {
            "text/plain": [
              "0                                                   []\n",
              "1                   [train-model, save-model-to-local]\n",
              "2                      [load-local-model, train-model]\n",
              "3    [load-local-model, train-model, toggle-visor, ...\n",
              "4    [train-model, show-eval, train-model, save-mod...\n",
              "dtype: object"
            ]
          },
          "metadata": {
            "tags": []
          },
          "execution_count": 15
        }
      ]
    },
    {
      "cell_type": "code",
      "metadata": {
        "id": "lEHQA75JUfXt",
        "colab_type": "code",
        "colab": {
          "base_uri": "https://localhost:8080/",
          "height": 34
        },
        "outputId": "f127e5d7-1897-4635-a790-8ee892d40f5d"
      },
      "source": [
        "type(df[0])"
      ],
      "execution_count": 24,
      "outputs": [
        {
          "output_type": "execute_result",
          "data": {
            "text/plain": [
              "list"
            ]
          },
          "metadata": {
            "tags": []
          },
          "execution_count": 24
        }
      ]
    },
    {
      "cell_type": "code",
      "metadata": {
        "id": "JRo1kuJmsQ-s",
        "colab_type": "code",
        "colab": {
          "base_uri": "https://localhost:8080/",
          "height": 34
        },
        "outputId": "8176ea2e-9e77-43c3-f197-ef619f8af82e"
      },
      "source": [
        "df[0], df[1]"
      ],
      "execution_count": 23,
      "outputs": [
        {
          "output_type": "execute_result",
          "data": {
            "text/plain": [
              "([], ['train-model', 'save-model-to-local'])"
            ]
          },
          "metadata": {
            "tags": []
          },
          "execution_count": 23
        }
      ]
    },
    {
      "cell_type": "code",
      "metadata": {
        "id": "iILrKJHzuNA8",
        "colab_type": "code",
        "colab": {
          "base_uri": "https://localhost:8080/",
          "height": 54
        },
        "outputId": "4afd96bf-9345-4f5b-a0e0-c25260b0cec9"
      },
      "source": [
        "all_buttons = set()\n",
        "for seq in df:\n",
        "  for button in seq:\n",
        "    all_buttons.add(button)\n",
        "\n",
        "all_buttons.add('<START>')\n",
        "all_buttons.add('<EMPTY>')\n",
        "\n",
        "all_buttons = list(all_buttons)\n",
        "\n",
        "print(all_buttons)"
      ],
      "execution_count": 27,
      "outputs": [
        {
          "output_type": "stream",
          "text": [
            "['show-eval', '<START>', 'upload-model', 'train-model', '<EMPTY>', 'reset-data', 'show-model', 'reset-model', 'toggle-prediction', 'load-local-model', 'save-model-to-local', 'toggle-visor', 'download-model']\n"
          ],
          "name": "stdout"
        }
      ]
    },
    {
      "cell_type": "code",
      "metadata": {
        "colab_type": "code",
        "outputId": "2b81432c-1489-44ec-f717-51603299c36a",
        "id": "z0n-qYv6sAwf",
        "colab": {
          "base_uri": "https://localhost:8080/",
          "height": 85
        }
      },
      "source": [
        "from sklearn.preprocessing import LabelBinarizer, MultiLabelBinarizer, LabelEncoder\n",
        "encoder = LabelEncoder()\n",
        "encoder.fit(all_buttons)\n",
        "encoder.classes_"
      ],
      "execution_count": 28,
      "outputs": [
        {
          "output_type": "execute_result",
          "data": {
            "text/plain": [
              "array(['<EMPTY>', '<START>', 'download-model', 'load-local-model',\n",
              "       'reset-data', 'reset-model', 'save-model-to-local', 'show-eval',\n",
              "       'show-model', 'toggle-prediction', 'toggle-visor', 'train-model',\n",
              "       'upload-model'], dtype='<U19')"
            ]
          },
          "metadata": {
            "tags": []
          },
          "execution_count": 28
        }
      ]
    },
    {
      "cell_type": "code",
      "metadata": {
        "id": "OoNWjgb6tgN_",
        "colab_type": "code",
        "colab": {
          "base_uri": "https://localhost:8080/",
          "height": 105
        },
        "outputId": "352a7f9a-e1e8-4235-f403-5b4e78c0c34a"
      },
      "source": [
        "transfomed_labels = [encoder.transform(seq) for seq in df if len(seq) != 0]\n",
        "print(transfomed_labels)"
      ],
      "execution_count": 31,
      "outputs": [
        {
          "output_type": "stream",
          "text": [
            "[array([11,  6]), array([ 3, 11]), array([ 3, 11, 10, 10, 11,  5, 11]), array([11,  7, 11,  6]), array([ 3, 11,  7,  6,  2, 10,  9]), array([11,  8, 10,  7, 10, 10,  6,  9]), array([11, 10,  6, 10,  7,  4, 11, 10,  6,  7,  7,  7]), array([11, 11,  6,  7, 10,  9,  6,  2]), array([12, 12, 12, 12,  9]), array([ 4, 11,  9,  7,  9,  9,  9, 10,  9,  9,  5, 11, 10,  6, 11,  6,  7,\n",
            "        7,  9, 10,  9,  5, 11, 10,  6,  7,  7,  9,  9]), array([11,  6, 10,  2,  9, 12, 12, 10,  7,  7]), array([12, 12,  9,  4,  9]), array([11,  9, 10]), array([11]), array([11,  7,  5, 11, 10, 10, 10,  7,  7, 11,  5, 11,  6,  7,  7,  4,  5,\n",
            "       11, 10,  7,  7, 10,  5, 11, 10,  6, 10,  9,  9, 11, 10, 10,  9,  9,\n",
            "       11, 10,  6,  7,  7, 10,  9]), array([11]), array([11]), array([11,  3,  9, 10,  9]), array([ 9,  3,  3,  9,  9,  9, 11, 10, 10,  7,  7,  9, 10, 11]), array([11, 10])]\n"
          ],
          "name": "stdout"
        }
      ]
    },
    {
      "cell_type": "markdown",
      "metadata": {
        "id": "CeIWHq5hBkgs",
        "colab_type": "text"
      },
      "source": [
        "## pre-process data into chunks"
      ]
    },
    {
      "cell_type": "code",
      "metadata": {
        "id": "2stZBQcRe960",
        "colab_type": "code",
        "colab": {
          "base_uri": "https://localhost:8080/",
          "height": 51
        },
        "outputId": "674cb4fc-cedc-4050-883f-ef46736f4737"
      },
      "source": [
        "empty = encoder.transform(['<EMPTY>'])\n",
        "start = encoder.transform(['<START>'])\n",
        "chunk_size = 5"
      ],
      "execution_count": 123,
      "outputs": [
        {
          "output_type": "execute_result",
          "data": {
            "text/plain": [
              "array([ 4, 11,  9,  7,  9,  9,  9, 10,  9,  9,  5, 11, 10,  6, 11,  6,  7,\n",
              "        7,  9, 10,  9,  5, 11, 10,  6,  7,  7,  9,  9])"
            ]
          },
          "metadata": {
            "tags": []
          },
          "execution_count": 123
        }
      ]
    },
    {
      "cell_type": "code",
      "metadata": {
        "id": "YUz7R-aKmGH0",
        "colab_type": "code",
        "colab": {}
      },
      "source": [
        "# [ 1, 11,  7, 11,  6] => [[[0, 0, 0, 0, 1], 11], [[0, 0, 0, 1, 11], 7], [[0, 0, 1, 11, 7], 11], [[0, 1, 11, 7, 11], 6]]\n",
        "\n",
        "def create_sequences(seq, chunk_size, empty, start):\n",
        "  # all sequences implicitly start\n",
        "  seq = np.append(start, seq)\n",
        "  # if sequence is too short, we pad it to minimum size at the beginning\n",
        "  seq = np.append(np.full(chunk_size - 1, empty), seq)\n",
        "  \n",
        "  seqs = np.array([])\n",
        "  for index in range(chunk_size, len(seq)):\n",
        "    y = seq[index]\n",
        "    x = seq[index-chunk_size : index]\n",
        "    seqs = np.append(seqs, [x, y])\n",
        "  return seqs"
      ],
      "execution_count": 0,
      "outputs": []
    },
    {
      "cell_type": "code",
      "metadata": {
        "id": "IlZ6LZZN15uo",
        "colab_type": "code",
        "colab": {
          "base_uri": "https://localhost:8080/",
          "height": 34
        },
        "outputId": "9bd04d1f-20ea-45b9-9482-451f21212665"
      },
      "source": [
        "\n",
        "# seq = transfomed_labels[0]\n",
        "# seq = transfomed_labels[9]\n",
        "seq = transfomed_labels[3]\n",
        "seq"
      ],
      "execution_count": 276,
      "outputs": [
        {
          "output_type": "execute_result",
          "data": {
            "text/plain": [
              "array([11,  7, 11,  6])"
            ]
          },
          "metadata": {
            "tags": []
          },
          "execution_count": 276
        }
      ]
    },
    {
      "cell_type": "code",
      "metadata": {
        "id": "gZ2h1RW84mE9",
        "colab_type": "code",
        "colab": {
          "base_uri": "https://localhost:8080/",
          "height": 68
        },
        "outputId": "0c6be271-34c9-4b8f-ebc7-b773ac1e3a0f"
      },
      "source": [
        "create_sequences(seq, chunk_size, empty, start)"
      ],
      "execution_count": 277,
      "outputs": [
        {
          "output_type": "execute_result",
          "data": {
            "text/plain": [
              "array([array([0, 0, 0, 0, 1]), 11, array([ 0,  0,  0,  1, 11]), 7,\n",
              "       array([ 0,  0,  1, 11,  7]), 11, array([ 0,  1, 11,  7, 11]), 6],\n",
              "      dtype=object)"
            ]
          },
          "metadata": {
            "tags": []
          },
          "execution_count": 277
        }
      ]
    },
    {
      "cell_type": "code",
      "metadata": {
        "id": "bRQEXaUb4kGD",
        "colab_type": "code",
        "colab": {
          "base_uri": "https://localhost:8080/",
          "height": 34
        },
        "outputId": "ec2f2619-4e9c-4a96-d24e-665cf6a5f1cb"
      },
      "source": [
        "seqs = np.array([])\n",
        "for seq in transfomed_labels:\n",
        "  seqs = np.append(seqs, create_sequences(seq, chunk_size, empty, start))\n",
        "seqs = seqs.reshape(-1, 2)\n",
        "seqs.shape"
      ],
      "execution_count": 330,
      "outputs": [
        {
          "output_type": "execute_result",
          "data": {
            "text/plain": [
              "(167, 2)"
            ]
          },
          "metadata": {
            "tags": []
          },
          "execution_count": 330
        }
      ]
    },
    {
      "cell_type": "code",
      "metadata": {
        "id": "xUZY7WpX8p3x",
        "colab_type": "code",
        "colab": {
          "base_uri": "https://localhost:8080/",
          "height": 34
        },
        "outputId": "6f1fec33-f2ab-4481-ec93-92a1cefc7669"
      },
      "source": [
        "X = seqs[:, 0]\n",
        "# X = X.reshape(-1, chunk_size)\n",
        "X = np.vstack(X)\n",
        "X.shape"
      ],
      "execution_count": 334,
      "outputs": [
        {
          "output_type": "execute_result",
          "data": {
            "text/plain": [
              "(167, 5)"
            ]
          },
          "metadata": {
            "tags": []
          },
          "execution_count": 334
        }
      ]
    },
    {
      "cell_type": "code",
      "metadata": {
        "id": "PYYGotC6ArLG",
        "colab_type": "code",
        "colab": {
          "base_uri": "https://localhost:8080/",
          "height": 170
        },
        "outputId": "d21ecce7-5ae5-4647-a4e7-0c8052c84e15"
      },
      "source": [
        "y = seqs[:, 1]\n",
        "y"
      ],
      "execution_count": 335,
      "outputs": [
        {
          "output_type": "execute_result",
          "data": {
            "text/plain": [
              "array([11, 6, 3, 11, 3, 11, 10, 10, 11, 5, 11, 11, 7, 11, 6, 3, 11, 7, 6,\n",
              "       2, 10, 9, 11, 8, 10, 7, 10, 10, 6, 9, 11, 10, 6, 10, 7, 4, 11, 10,\n",
              "       6, 7, 7, 7, 11, 11, 6, 7, 10, 9, 6, 2, 12, 12, 12, 12, 9, 4, 11, 9,\n",
              "       7, 9, 9, 9, 10, 9, 9, 5, 11, 10, 6, 11, 6, 7, 7, 9, 10, 9, 5, 11,\n",
              "       10, 6, 7, 7, 9, 9, 11, 6, 10, 2, 9, 12, 12, 10, 7, 7, 12, 12, 9, 4,\n",
              "       9, 11, 9, 10, 11, 11, 7, 5, 11, 10, 10, 10, 7, 7, 11, 5, 11, 6, 7,\n",
              "       7, 4, 5, 11, 10, 7, 7, 10, 5, 11, 10, 6, 10, 9, 9, 11, 10, 10, 9,\n",
              "       9, 11, 10, 6, 7, 7, 10, 9, 11, 11, 11, 3, 9, 10, 9, 9, 3, 3, 9, 9,\n",
              "       9, 11, 10, 10, 7, 7, 9, 10, 11, 11, 10], dtype=object)"
            ]
          },
          "metadata": {
            "tags": []
          },
          "execution_count": 335
        }
      ]
    },
    {
      "cell_type": "markdown",
      "metadata": {
        "id": "r9nB_r-ABpl7",
        "colab_type": "text"
      },
      "source": [
        "## Training"
      ]
    },
    {
      "cell_type": "code",
      "metadata": {
        "id": "rQ6o5bkU6Pha",
        "colab_type": "code",
        "colab": {
          "base_uri": "https://localhost:8080/",
          "height": 323
        },
        "outputId": "9cbb5dcb-74a3-4299-d951-e5b58f111cd3"
      },
      "source": [
        "import tensorflow as tf\n",
        "from tensorflow import keras\n",
        "from tensorflow.keras.layers import Dense, LSTM, GRU, SimpleRNN, Embedding, BatchNormalization, Dropout\n",
        "from tensorflow.keras.models import Sequential, Model\n",
        "\n",
        "embedding_dim = 2\n",
        "n_buttons = len(encoder.classes_) + 1\n",
        "\n",
        "dropout = .4\n",
        "recurrent_dropout = .4\n",
        "\n",
        "model = Sequential()\n",
        "model.add(Embedding(name='embedding',\n",
        "                    input_dim=n_buttons, \n",
        "                    output_dim=embedding_dim, \n",
        "                    input_length=chunk_size))\n",
        "\n",
        "model.add(SimpleRNN(units=50, activation='relu', name=\"RNN\", recurrent_dropout=recurrent_dropout))\n",
        "# model.add(GRU(units=25, activation='relu', name=\"RNN\", recurrent_dropout=0.5))\n",
        "# model.add(LSTM(units=25, activation='relu', name=\"RNN\", recurrent_dropout=0.5))\n",
        "\n",
        "model.add(BatchNormalization())\n",
        "model.add(Dropout(dropout))\n",
        "\n",
        "model.add(Dense(units=n_buttons, name='softmax', activation='softmax'))\n",
        "model.compile(optimizer='adam', loss='sparse_categorical_crossentropy', metrics=['accuracy'])\n",
        "model.summary()"
      ],
      "execution_count": 418,
      "outputs": [
        {
          "output_type": "stream",
          "text": [
            "Model: \"sequential_19\"\n",
            "_________________________________________________________________\n",
            "Layer (type)                 Output Shape              Param #   \n",
            "=================================================================\n",
            "embedding (Embedding)        (None, 5, 2)              28        \n",
            "_________________________________________________________________\n",
            "RNN (SimpleRNN)              (None, 50)                2650      \n",
            "_________________________________________________________________\n",
            "batch_normalization_11 (Batc (None, 50)                200       \n",
            "_________________________________________________________________\n",
            "dropout_11 (Dropout)         (None, 50)                0         \n",
            "_________________________________________________________________\n",
            "softmax (Dense)              (None, 14)                714       \n",
            "=================================================================\n",
            "Total params: 3,592\n",
            "Trainable params: 3,492\n",
            "Non-trainable params: 100\n",
            "_________________________________________________________________\n"
          ],
          "name": "stdout"
        }
      ]
    },
    {
      "cell_type": "code",
      "metadata": {
        "id": "oGO7UyA2_hFM",
        "colab_type": "code",
        "outputId": "0c8adf81-1499-40dd-9268-ca186dd5e4d6",
        "colab": {
          "base_uri": "https://localhost:8080/",
          "height": 51
        }
      },
      "source": [
        "%%time\n",
        "\n",
        "EPOCHS = 1000\n",
        "BATCH_SIZE = 50\n",
        "\n",
        "history = model.fit(X, y, \n",
        "                    batch_size=BATCH_SIZE,\n",
        "                    epochs=EPOCHS, verbose=0, validation_split=0.2)"
      ],
      "execution_count": 419,
      "outputs": [
        {
          "output_type": "stream",
          "text": [
            "CPU times: user 54 s, sys: 4.42 s, total: 58.4 s\n",
            "Wall time: 36.8 s\n"
          ],
          "name": "stdout"
        }
      ]
    },
    {
      "cell_type": "code",
      "metadata": {
        "id": "po7tURch_hFP",
        "colab_type": "code",
        "outputId": "0fb15266-61ef-4871-a904-e886bdce40eb",
        "colab": {
          "base_uri": "https://localhost:8080/",
          "height": 51
        }
      },
      "source": [
        "loss, accuracy = model.evaluate(X, y, batch_size=BATCH_SIZE)\n",
        "accuracy"
      ],
      "execution_count": 420,
      "outputs": [
        {
          "output_type": "stream",
          "text": [
            "167/167 [==============================] - 0s 2ms/sample - loss: 1.0371 - accuracy: 0.6826\n"
          ],
          "name": "stdout"
        },
        {
          "output_type": "execute_result",
          "data": {
            "text/plain": [
              "0.6826347"
            ]
          },
          "metadata": {
            "tags": []
          },
          "execution_count": 420
        }
      ]
    },
    {
      "cell_type": "code",
      "metadata": {
        "id": "uqMFRTwp_hFR",
        "colab_type": "code",
        "outputId": "6c613866-1170-4c31-83d0-c270bea04196",
        "colab": {
          "base_uri": "https://localhost:8080/",
          "height": 300
        }
      },
      "source": [
        "%matplotlib inline\n",
        "\n",
        "import matplotlib.pyplot as plt\n",
        "\n",
        "# plt.yscale('log')\n",
        "plt.ylabel('loss')\n",
        "plt.xlabel('epochs')\n",
        "\n",
        "plt.plot(history.history['loss'])\n",
        "plt.plot(history.history['val_loss'])\n",
        "\n",
        "plt.legend(['loss', 'val_loss'])"
      ],
      "execution_count": 421,
      "outputs": [
        {
          "output_type": "execute_result",
          "data": {
            "text/plain": [
              "<matplotlib.legend.Legend at 0x7fe12c56d400>"
            ]
          },
          "metadata": {
            "tags": []
          },
          "execution_count": 421
        },
        {
          "output_type": "display_data",
          "data": {
            "image/png": "[encoded data removed]",
            "text/plain": [
              "<Figure size 432x288 with 1 Axes>"
            ]
          },
          "metadata": {
            "tags": []
          }
        }
      ]
    },
    {
      "cell_type": "code",
      "metadata": {
        "id": "CS1Gynas_hFT",
        "colab_type": "code",
        "outputId": "3f5d63e1-23b9-44f3-b957-22e0b828cc90",
        "colab": {
          "base_uri": "https://localhost:8080/",
          "height": 300
        }
      },
      "source": [
        "plt.ylabel('accuracy')\n",
        "plt.xlabel('epochs')\n",
        "\n",
        "# TF 2.0\n",
        "plt.plot(history.history['accuracy'])\n",
        "plt.plot(history.history['val_accuracy'])\n",
        "# plt.plot(history.history['acc'])\n",
        "# plt.plot(history.history['val_acc'])\n",
        "\n",
        "plt.legend(['accuracy', 'val_accuracy'])"
      ],
      "execution_count": 422,
      "outputs": [
        {
          "output_type": "execute_result",
          "data": {
            "text/plain": [
              "<matplotlib.legend.Legend at 0x7fe12c552a90>"
            ]
          },
          "metadata": {
            "tags": []
          },
          "execution_count": 422
        },
        {
          "output_type": "display_data",
          "data": {
            "image/png": "[encoded data removed]",
            "text/plain": [
              "<Figure size 432x288 with 1 Axes>"
            ]
          },
          "metadata": {
            "tags": []
          }
        }
      ]
    },
    {
      "cell_type": "code",
      "metadata": {
        "id": "h7ZO4M2I_hFV",
        "colab_type": "code",
        "outputId": "b38a74ce-6bf6-4218-e215-3e25da4521b5",
        "colab": {
          "base_uri": "https://localhost:8080/",
          "height": 68
        }
      },
      "source": [
        "model.predict([[X[0]]])"
      ],
      "execution_count": 423,
      "outputs": [
        {
          "output_type": "execute_result",
          "data": {
            "text/plain": [
              "array([[0.00073592, 0.00073798, 0.00296197, 0.23294578, 0.05335211,\n",
              "        0.00691509, 0.00211277, 0.0030992 , 0.00131499, 0.00245372,\n",
              "        0.00177553, 0.5743698 , 0.1164148 , 0.00081041]], dtype=float32)"
            ]
          },
          "metadata": {
            "tags": []
          },
          "execution_count": 423
        }
      ]
    },
    {
      "cell_type": "code",
      "metadata": {
        "id": "VEGNcvSv_hFX",
        "colab_type": "code",
        "outputId": "f945b9e3-314c-4b8c-eb9a-2aa3cf1be9f5",
        "colab": {
          "base_uri": "https://localhost:8080/",
          "height": 34
        }
      },
      "source": [
        "model.predict([[X[0]]]).argmax()"
      ],
      "execution_count": 428,
      "outputs": [
        {
          "output_type": "execute_result",
          "data": {
            "text/plain": [
              "11"
            ]
          },
          "metadata": {
            "tags": []
          },
          "execution_count": 428
        }
      ]
    },
    {
      "cell_type": "code",
      "metadata": {
        "id": "RpdLq4RT_hFa",
        "colab_type": "code",
        "outputId": "9aeb4949-5097-4863-8ad8-23174316a756",
        "colab": {
          "base_uri": "https://localhost:8080/",
          "height": 34
        }
      },
      "source": [
        "y[0]"
      ],
      "execution_count": 429,
      "outputs": [
        {
          "output_type": "execute_result",
          "data": {
            "text/plain": [
              "11"
            ]
          },
          "metadata": {
            "tags": []
          },
          "execution_count": 429
        }
      ]
    },
    {
      "cell_type": "code",
      "metadata": {
        "id": "--ZGTfeohmS_",
        "colab_type": "code",
        "colab": {
          "base_uri": "https://localhost:8080/",
          "height": 187
        },
        "outputId": "b862f965-be9a-4241-f964-8009ccdbc5c9"
      },
      "source": [
        "y_pred = model.predict([X]).argmax(axis=1)\n",
        "y_pred"
      ],
      "execution_count": 430,
      "outputs": [
        {
          "output_type": "execute_result",
          "data": {
            "text/plain": [
              "array([11,  7, 11, 11, 11, 11, 10,  6, 11,  5, 11, 11,  7, 11,  6, 11, 11,\n",
              "       10, 11,  2, 10,  9, 11,  7, 10,  7, 10, 10,  6,  7, 11,  7,  6, 10,\n",
              "        7,  4, 11, 10,  6,  7,  7,  4, 11,  7,  6,  7,  7,  9,  6,  2, 11,\n",
              "       12, 12, 12,  9, 11, 11,  9,  7,  9,  9,  9, 10,  9,  9,  5, 11, 10,\n",
              "        6,  7,  6,  7,  7,  9,  9,  9,  5, 11, 10,  6,  7,  7,  4,  9, 11,\n",
              "        7, 10,  7,  9, 12, 12, 10,  7,  7, 11, 12, 12,  4,  9, 11,  7, 10,\n",
              "       11, 11,  7, 11, 11, 10,  6, 10,  7,  7, 11,  5, 11,  6,  7,  7,  4,\n",
              "       11, 11, 10,  6,  7, 11,  5, 11, 10,  6, 10,  7,  9, 11,  6,  6,  7,\n",
              "        9,  5,  6,  6,  7,  7,  4,  7, 11, 11, 11,  7, 11, 12,  9, 11, 12,\n",
              "       11, 11, 10, 12, 12,  9,  7,  7, 11, 11,  9,  9, 11,  7])"
            ]
          },
          "metadata": {
            "tags": []
          },
          "execution_count": 430
        }
      ]
    },
    {
      "cell_type": "code",
      "metadata": {
        "id": "rTgT0xH7KeNQ",
        "colab_type": "code",
        "colab": {
          "base_uri": "https://localhost:8080/",
          "height": 170
        },
        "outputId": "a6c5625e-3a06-43b8-c605-7e2f33bc7d21"
      },
      "source": [
        "y"
      ],
      "execution_count": 431,
      "outputs": [
        {
          "output_type": "execute_result",
          "data": {
            "text/plain": [
              "array([11, 6, 3, 11, 3, 11, 10, 10, 11, 5, 11, 11, 7, 11, 6, 3, 11, 7, 6,\n",
              "       2, 10, 9, 11, 8, 10, 7, 10, 10, 6, 9, 11, 10, 6, 10, 7, 4, 11, 10,\n",
              "       6, 7, 7, 7, 11, 11, 6, 7, 10, 9, 6, 2, 12, 12, 12, 12, 9, 4, 11, 9,\n",
              "       7, 9, 9, 9, 10, 9, 9, 5, 11, 10, 6, 11, 6, 7, 7, 9, 10, 9, 5, 11,\n",
              "       10, 6, 7, 7, 9, 9, 11, 6, 10, 2, 9, 12, 12, 10, 7, 7, 12, 12, 9, 4,\n",
              "       9, 11, 9, 10, 11, 11, 7, 5, 11, 10, 10, 10, 7, 7, 11, 5, 11, 6, 7,\n",
              "       7, 4, 5, 11, 10, 7, 7, 10, 5, 11, 10, 6, 10, 9, 9, 11, 10, 10, 9,\n",
              "       9, 11, 10, 6, 7, 7, 10, 9, 11, 11, 11, 3, 9, 10, 9, 9, 3, 3, 9, 9,\n",
              "       9, 11, 10, 10, 7, 7, 9, 10, 11, 11, 10], dtype=object)"
            ]
          },
          "metadata": {
            "tags": []
          },
          "execution_count": 431
        }
      ]
    },
    {
      "cell_type": "code",
      "metadata": {
        "id": "iCFPYjo-ga6m",
        "colab_type": "code",
        "outputId": "2ac691aa-a85a-4140-85c3-3df79b808618",
        "colab": {
          "base_uri": "https://localhost:8080/",
          "height": 255
        }
      },
      "source": [
        "# TF 2.0\n",
        "cm = tf.math.confusion_matrix(labels=tf.constant(y, dtype=tf.int64), predictions=tf.constant(y_pred, dtype=tf.int64))\n",
        "cm"
      ],
      "execution_count": 432,
      "outputs": [
        {
          "output_type": "execute_result",
          "data": {
            "text/plain": [
              "<tf.Tensor: id=371345, shape=(13, 13), dtype=int32, numpy=\n",
              "array([[ 0,  0,  0,  0,  0,  0,  0,  0,  0,  0,  0,  0,  0],\n",
              "       [ 0,  0,  0,  0,  0,  0,  0,  0,  0,  0,  0,  0,  0],\n",
              "       [ 0,  0,  2,  0,  0,  0,  0,  1,  0,  0,  0,  0,  0],\n",
              "       [ 0,  0,  0,  0,  0,  0,  0,  1,  0,  0,  0,  4,  1],\n",
              "       [ 0,  0,  0,  0,  3,  0,  0,  0,  0,  0,  0,  1,  0],\n",
              "       [ 0,  0,  0,  0,  0,  5,  0,  0,  0,  0,  0,  2,  0],\n",
              "       [ 0,  0,  0,  0,  0,  0, 12,  2,  0,  0,  0,  1,  0],\n",
              "       [ 0,  0,  0,  0,  1,  0,  1, 22,  0,  0,  1,  1,  0],\n",
              "       [ 0,  0,  0,  0,  0,  0,  0,  1,  0,  0,  0,  0,  0],\n",
              "       [ 0,  0,  0,  0,  1,  0,  0,  5,  0, 17,  1,  4,  2],\n",
              "       [ 0,  0,  0,  0,  1,  0,  5,  4,  0,  3, 18,  1,  1],\n",
              "       [ 0,  0,  0,  0,  0,  1,  0,  2,  0,  1,  0, 29,  1],\n",
              "       [ 0,  0,  0,  0,  0,  0,  0,  0,  0,  0,  0,  2,  6]], dtype=int32)>"
            ]
          },
          "metadata": {
            "tags": []
          },
          "execution_count": 432
        }
      ]
    },
    {
      "cell_type": "code",
      "metadata": {
        "id": "qwV7StyWjYVa",
        "colab_type": "code",
        "colab": {
          "base_uri": "https://localhost:8080/",
          "height": 592
        },
        "outputId": "1d1487dc-66ed-4170-9427-04d38115cd32"
      },
      "source": [
        "import seaborn as sns\n",
        "\n",
        "classes = encoder.classes_\n",
        "\n",
        "plt.figure(figsize=(8, 8))\n",
        "\n",
        "sns.heatmap(cm, annot=True, fmt=\"d\", xticklabels=classes, yticklabels=classes)"
      ],
      "execution_count": 441,
      "outputs": [
        {
          "output_type": "execute_result",
          "data": {
            "text/plain": [
              "<matplotlib.axes._subplots.AxesSubplot at 0x7fe12bc09dd8>"
            ]
          },
          "metadata": {
            "tags": []
          },
          "execution_count": 441
        },
        {
          "output_type": "display_data",
          "data": {
            "image/png": "[encoded data removed]",
            "text/plain": [
              "<Figure size 576x576 with 2 Axes>"
            ]
          },
          "metadata": {
            "tags": []
          }
        }
      ]
    },
    {
      "cell_type": "code",
      "metadata": {
        "id": "9IxmvEavQ5ka",
        "colab_type": "code",
        "colab": {}
      },
      "source": [
        "sns.heatmap?"
      ],
      "execution_count": 0,
      "outputs": []
    },
    {
      "cell_type": "code",
      "metadata": {
        "id": "YhzQj78OL5_w",
        "colab_type": "code",
        "colab": {}
      },
      "source": [
        "# import numpy as np\n",
        "\n",
        "# samples = [1,2,3,4]\n",
        "\n",
        "# embedding_layer = model.get_layer('embedding')\n",
        "# embedding_model = Model(inputs=model.input, outputs=embedding_layer.output)\n",
        "# embeddings_1d = embedding_model.predict(samples).reshape(-1)\n",
        "\n",
        "# # for printing only\n",
        "# # plt.figure(figsize=(20,5))\n",
        "# # plt.figure(dpi=600)\n",
        "\n",
        "# plt.axis('off')\n",
        "\n",
        "# plt.scatter(embeddings_1d, np.zeros(len(embeddings_1d)))\n",
        "# for index, x_pos in zip(samples, embeddings_1d):\n",
        "#   name = encoder.classes_[index]\n",
        "#   print(name, (x_pos))\n",
        "# #   plt.annotate(name, (x_pos, 0), rotation=80)"
      ],
      "execution_count": 0,
      "outputs": []
    },
    {
      "cell_type": "markdown",
      "metadata": {
        "id": "Rv2Yo1SsBvYn",
        "colab_type": "text"
      },
      "source": [
        "## Convert Model into tfjs format"
      ]
    },
    {
      "cell_type": "code",
      "metadata": {
        "id": "crq3LXdj_hFc",
        "colab_type": "code",
        "colab": {}
      },
      "source": [
        "model.save('ux.h5', save_format='h5')"
      ],
      "execution_count": 0,
      "outputs": []
    },
    {
      "cell_type": "code",
      "metadata": {
        "id": "_sRLDfTDB8GS",
        "colab_type": "code",
        "outputId": "c0d2160f-f977-4b86-c656-f7309d092252",
        "colab": {
          "base_uri": "https://localhost:8080/",
          "height": 68
        }
      },
      "source": [
        "!ls -l"
      ],
      "execution_count": 454,
      "outputs": [
        {
          "output_type": "stream",
          "text": [
            "total 88\n",
            "drwxr-xr-x 1 root root  4096 Jun 18 16:14 sample_data\n",
            "-rw-r--r-- 1 root root 83992 Jun 29 12:57 ux.h5\n"
          ],
          "name": "stdout"
        }
      ]
    },
    {
      "cell_type": "code",
      "metadata": {
        "id": "Xbv45tMgCIkn",
        "colab_type": "code",
        "colab": {}
      },
      "source": [
        "!pip install -q tensorflowjs"
      ],
      "execution_count": 0,
      "outputs": []
    },
    {
      "cell_type": "code",
      "metadata": {
        "id": "bqztV867_hFd",
        "colab_type": "code",
        "colab": {}
      },
      "source": [
        "!tensorflowjs_converter --input_format keras ux.h5 tfjs"
      ],
      "execution_count": 0,
      "outputs": []
    },
    {
      "cell_type": "code",
      "metadata": {
        "id": "2GH6PYWgCDYc",
        "colab_type": "code",
        "outputId": "165bb17e-2898-4a00-f94b-f0cf95bc134d",
        "colab": {
          "base_uri": "https://localhost:8080/",
          "height": 68
        }
      },
      "source": [
        "!ls -l tfjs"
      ],
      "execution_count": 457,
      "outputs": [
        {
          "output_type": "stream",
          "text": [
            "total 20\n",
            "-rw-r--r-- 1 root root 14368 Jun 29 12:58 group1-shard1of1.bin\n",
            "-rw-r--r-- 1 root root  3773 Jun 29 12:58 model.json\n"
          ],
          "name": "stdout"
        }
      ]
    },
    {
      "cell_type": "markdown",
      "metadata": {
        "id": "Xd5GPZiUkpTD",
        "colab_type": "text"
      },
      "source": [
        "Download using _Files_ menu on the left"
      ]
    },
    {
      "cell_type": "code",
      "metadata": {
        "id": "lsd2Kj8ECJu3",
        "colab_type": "code",
        "colab": {}
      },
      "source": [
        ""
      ],
      "execution_count": 0,
      "outputs": []
    }
  ]
}