{
  "nbformat": 4,
  "nbformat_minor": 0,
  "metadata": {
    "colab": {
      "name": "rnn-model.ipynb",
      "version": "0.3.2",
      "provenance": [],
      "toc_visible": true,
      "include_colab_link": true
    },
    "kernelspec": {
      "display_name": "Python 3",
      "language": "python",
      "name": "python3"
    },
    "accelerator": "GPU"
  },
  "cells": [
    {
      "cell_type": "markdown",
      "metadata": {
        "id": "view-in-github",
        "colab_type": "text"
      },
      "source": [
        "<a href=\"https://colab.research.google.com/github/DJCordhose/ux-by-tfjs/blob/master/notebooks/click-sequence-model.ipynb\" target=\"_parent\"><img src=\"https://colab.research.google.com/assets/colab-badge.svg\" alt=\"Open In Colab\"/></a>"
      ]
    },
    {
      "cell_type": "markdown",
      "metadata": {
        "colab_type": "text",
        "id": "XdfXfXK2-CiG"
      },
      "source": [
        "# Training on Sequences of Clicks on the Server\n",
        "\n",
        "Make sure to run this from top to bottom to export model, otherwise names of layers cause tf.js to bail out"
      ]
    },
    {
      "cell_type": "code",
      "metadata": {
        "colab_type": "code",
        "id": "u8IonVMfAelY",
        "colab": {
          "base_uri": "https://localhost:8080/",
          "height": 102
        },
        "outputId": "4134f181-217d-49b8-928b-ca3c3bf24190"
      },
      "source": [
        "# for colab\n",
        "!pip install -q tf-nightly-gpu-2.0-preview"
      ],
      "execution_count": 1,
      "outputs": [
        {
          "output_type": "stream",
          "text": [
            "\u001b[K     |████████████████████████████████| 369.7MB 53kB/s \n",
            "\u001b[K     |████████████████████████████████| 61kB 19.9MB/s \n",
            "\u001b[K     |████████████████████████████████| 3.2MB 30.2MB/s \n",
            "\u001b[K     |████████████████████████████████| 450kB 42.5MB/s \n",
            "\u001b[?25h  Building wheel for opt-einsum (setup.py) ... \u001b[?25l\u001b[?25hdone\n"
          ],
          "name": "stdout"
        }
      ]
    },
    {
      "cell_type": "code",
      "metadata": {
        "colab_type": "code",
        "id": "0rEa6M11-CiY",
        "outputId": "bb62113d-17c7-4ffa-dc0e-09111caba8a3",
        "colab": {
          "base_uri": "https://localhost:8080/",
          "height": 34
        }
      },
      "source": [
        "import tensorflow as tf\n",
        "print(tf.__version__)"
      ],
      "execution_count": 2,
      "outputs": [
        {
          "output_type": "stream",
          "text": [
            "2.0.0-dev20190701\n"
          ],
          "name": "stdout"
        }
      ]
    },
    {
      "cell_type": "code",
      "metadata": {
        "colab_type": "code",
        "id": "I35W9tmrRWF3",
        "outputId": "f47c6345-fccf-4ba3-96ef-9deb4c7d7348",
        "colab": {
          "base_uri": "https://localhost:8080/",
          "height": 34
        }
      },
      "source": [
        "# a small sanity check, does tf seem to work ok?\n",
        "hello = tf.constant('Hello TF!')\n",
        "print(\"This works: {}\".format(hello))"
      ],
      "execution_count": 3,
      "outputs": [
        {
          "output_type": "stream",
          "text": [
            "This works: b'Hello TF!'\n"
          ],
          "name": "stdout"
        }
      ]
    },
    {
      "cell_type": "code",
      "metadata": {
        "colab_type": "code",
        "id": "DpXHERPSQvMD",
        "outputId": "18691629-e541-4e1c-af21-7b2dda2b0895",
        "colab": {
          "base_uri": "https://localhost:8080/",
          "height": 34
        }
      },
      "source": [
        "# this should return True even on Colab\n",
        "tf.test.is_gpu_available()"
      ],
      "execution_count": 4,
      "outputs": [
        {
          "output_type": "execute_result",
          "data": {
            "text/plain": [
              "True"
            ]
          },
          "metadata": {
            "tags": []
          },
          "execution_count": 4
        }
      ]
    },
    {
      "cell_type": "code",
      "metadata": {
        "colab_type": "code",
        "id": "hEoP6O2r3Jvf",
        "outputId": "28e38822-4af0-474c-c98f-2c7a03ff7954",
        "colab": {
          "base_uri": "https://localhost:8080/",
          "height": 34
        }
      },
      "source": [
        "tf.test.is_built_with_cuda()"
      ],
      "execution_count": 5,
      "outputs": [
        {
          "output_type": "execute_result",
          "data": {
            "text/plain": [
              "True"
            ]
          },
          "metadata": {
            "tags": []
          },
          "execution_count": 5
        }
      ]
    },
    {
      "cell_type": "code",
      "metadata": {
        "colab_type": "code",
        "id": "PqalzDXr3OiQ",
        "outputId": "7ec0823a-33e8-47ee-8d7d-e1f8f0a53f58",
        "colab": {
          "base_uri": "https://localhost:8080/",
          "height": 34
        }
      },
      "source": [
        "tf.executing_eagerly()"
      ],
      "execution_count": 6,
      "outputs": [
        {
          "output_type": "execute_result",
          "data": {
            "text/plain": [
              "True"
            ]
          },
          "metadata": {
            "tags": []
          },
          "execution_count": 6
        }
      ]
    },
    {
      "cell_type": "markdown",
      "metadata": {
        "id": "C9a1zn2-_hEY",
        "colab_type": "text"
      },
      "source": [
        "## load data"
      ]
    },
    {
      "cell_type": "code",
      "metadata": {
        "id": "iztUacrB_hEZ",
        "colab_type": "code",
        "outputId": "13ef25f0-c0a6-4e24-bf6b-30a03a4e2508",
        "colab": {
          "base_uri": "https://localhost:8080/",
          "height": 34
        }
      },
      "source": [
        "import pandas as pd\n",
        "print(pd.__version__)"
      ],
      "execution_count": 7,
      "outputs": [
        {
          "output_type": "stream",
          "text": [
            "0.24.2\n"
          ],
          "name": "stdout"
        }
      ]
    },
    {
      "cell_type": "code",
      "metadata": {
        "id": "p_Na83Q9U1Le",
        "colab_type": "code",
        "outputId": "6dae6e9d-954c-4933-f08e-0c9ea13cdecd",
        "colab": {
          "base_uri": "https://localhost:8080/",
          "height": 34
        }
      },
      "source": [
        "import numpy as np\n",
        "print(np.__version__)"
      ],
      "execution_count": 8,
      "outputs": [
        {
          "output_type": "stream",
          "text": [
            "1.16.4\n"
          ],
          "name": "stdout"
        }
      ]
    },
    {
      "cell_type": "code",
      "metadata": {
        "id": "PhJJH5TS_hEc",
        "colab_type": "code",
        "colab": {}
      },
      "source": [
        "# local\n",
        "# URL = '../data/click-sequence.json'\n",
        "\n",
        "# remote\n",
        "URL = 'https://raw.githubusercontent.com/DJCordhose/ux-by-tfjs/master//data/click-sequence.json'\n",
        "\n",
        "\n",
        "df = pd.read_json(URL, typ='series')"
      ],
      "execution_count": 0,
      "outputs": []
    },
    {
      "cell_type": "code",
      "metadata": {
        "id": "swqLoJAh_hEe",
        "colab_type": "code",
        "outputId": "92e816c1-b1b1-45bd-ef46-e0b5daf07251",
        "colab": {
          "base_uri": "https://localhost:8080/",
          "height": 34
        }
      },
      "source": [
        "len(df)"
      ],
      "execution_count": 10,
      "outputs": [
        {
          "output_type": "execute_result",
          "data": {
            "text/plain": [
              "26"
            ]
          },
          "metadata": {
            "tags": []
          },
          "execution_count": 10
        }
      ]
    },
    {
      "cell_type": "code",
      "metadata": {
        "id": "8CHaa_KVsPlZ",
        "colab_type": "code",
        "outputId": "2fdd1d5c-f2c3-40d8-a0a1-e71b1c7bc03f",
        "colab": {
          "base_uri": "https://localhost:8080/",
          "height": 119
        }
      },
      "source": [
        "df.head()"
      ],
      "execution_count": 11,
      "outputs": [
        {
          "output_type": "execute_result",
          "data": {
            "text/plain": [
              "0                                                   []\n",
              "1                   [train-model, save-model-to-local]\n",
              "2                      [load-local-model, train-model]\n",
              "3    [load-local-model, train-model, toggle-visor, ...\n",
              "4    [train-model, show-eval, train-model, save-mod...\n",
              "dtype: object"
            ]
          },
          "metadata": {
            "tags": []
          },
          "execution_count": 11
        }
      ]
    },
    {
      "cell_type": "code",
      "metadata": {
        "id": "lEHQA75JUfXt",
        "colab_type": "code",
        "outputId": "8f581c4d-ad28-4207-d0f3-f88464ed773c",
        "colab": {
          "base_uri": "https://localhost:8080/",
          "height": 34
        }
      },
      "source": [
        "type(df[0])"
      ],
      "execution_count": 12,
      "outputs": [
        {
          "output_type": "execute_result",
          "data": {
            "text/plain": [
              "list"
            ]
          },
          "metadata": {
            "tags": []
          },
          "execution_count": 12
        }
      ]
    },
    {
      "cell_type": "code",
      "metadata": {
        "id": "JRo1kuJmsQ-s",
        "colab_type": "code",
        "outputId": "a83511ca-8c45-4b27-9f55-d4f8ef677338",
        "colab": {
          "base_uri": "https://localhost:8080/",
          "height": 34
        }
      },
      "source": [
        "df[0], df[1]"
      ],
      "execution_count": 13,
      "outputs": [
        {
          "output_type": "execute_result",
          "data": {
            "text/plain": [
              "([], ['train-model', 'save-model-to-local'])"
            ]
          },
          "metadata": {
            "tags": []
          },
          "execution_count": 13
        }
      ]
    },
    {
      "cell_type": "code",
      "metadata": {
        "id": "iILrKJHzuNA8",
        "colab_type": "code",
        "outputId": "30958164-2d61-4607-a689-b47342287688",
        "colab": {
          "base_uri": "https://localhost:8080/",
          "height": 54
        }
      },
      "source": [
        "all_buttons = set()\n",
        "for seq in df:\n",
        "  for button in seq:\n",
        "    all_buttons.add(button)\n",
        "\n",
        "all_buttons.add('<START>')\n",
        "all_buttons.add('<EMPTY>')\n",
        "\n",
        "all_buttons = list(all_buttons)\n",
        "\n",
        "print(all_buttons)"
      ],
      "execution_count": 14,
      "outputs": [
        {
          "output_type": "stream",
          "text": [
            "['download-model', 'load-local-model', 'toggle-prediction', 'save-model-to-local', 'reset-data', 'toggle-visor', '<EMPTY>', '<START>', 'show-eval', 'upload-model', 'reset-model', 'show-model', 'train-model']\n"
          ],
          "name": "stdout"
        }
      ]
    },
    {
      "cell_type": "code",
      "metadata": {
        "colab_type": "code",
        "outputId": "ac1f4142-0353-4f96-bcd6-3d8f6a6f078a",
        "id": "z0n-qYv6sAwf",
        "colab": {
          "base_uri": "https://localhost:8080/",
          "height": 85
        }
      },
      "source": [
        "from sklearn.preprocessing import LabelBinarizer, MultiLabelBinarizer, LabelEncoder\n",
        "encoder = LabelEncoder()\n",
        "encoder.fit(all_buttons)\n",
        "encoder.classes_"
      ],
      "execution_count": 15,
      "outputs": [
        {
          "output_type": "execute_result",
          "data": {
            "text/plain": [
              "array(['<EMPTY>', '<START>', 'download-model', 'load-local-model',\n",
              "       'reset-data', 'reset-model', 'save-model-to-local', 'show-eval',\n",
              "       'show-model', 'toggle-prediction', 'toggle-visor', 'train-model',\n",
              "       'upload-model'], dtype='<U19')"
            ]
          },
          "metadata": {
            "tags": []
          },
          "execution_count": 15
        }
      ]
    },
    {
      "cell_type": "code",
      "metadata": {
        "id": "OoNWjgb6tgN_",
        "colab_type": "code",
        "outputId": "d632c48b-d660-4c86-a589-152fcadcbe9b",
        "colab": {
          "base_uri": "https://localhost:8080/",
          "height": 105
        }
      },
      "source": [
        "transfomed_labels = [encoder.transform(seq) for seq in df if len(seq) != 0]\n",
        "print(transfomed_labels)"
      ],
      "execution_count": 16,
      "outputs": [
        {
          "output_type": "stream",
          "text": [
            "[array([11,  6]), array([ 3, 11]), array([ 3, 11, 10, 10, 11,  5, 11]), array([11,  7, 11,  6]), array([ 3, 11,  7,  6,  2, 10,  9]), array([11,  8, 10,  7, 10, 10,  6,  9]), array([11, 10,  6, 10,  7,  4, 11, 10,  6,  7,  7,  7]), array([11, 11,  6,  7, 10,  9,  6,  2]), array([12, 12, 12, 12,  9]), array([ 4, 11,  9,  7,  9,  9,  9, 10,  9,  9,  5, 11, 10,  6, 11,  6,  7,\n",
            "        7,  9, 10,  9,  5, 11, 10,  6,  7,  7,  9,  9]), array([11,  6, 10,  2,  9, 12, 12, 10,  7,  7]), array([12, 12,  9,  4,  9]), array([11,  9, 10]), array([11]), array([11,  7,  5, 11, 10, 10, 10,  7,  7, 11,  5, 11,  6,  7,  7,  4,  5,\n",
            "       11, 10,  7,  7, 10,  5, 11, 10,  6, 10,  9,  9, 11, 10, 10,  9,  9,\n",
            "       11, 10,  6,  7,  7, 10,  9]), array([11]), array([11]), array([11,  3,  9, 10,  9]), array([ 9,  3,  3,  9,  9,  9, 11, 10, 10,  7,  7,  9, 10, 11]), array([11, 10])]\n"
          ],
          "name": "stdout"
        }
      ]
    },
    {
      "cell_type": "markdown",
      "metadata": {
        "id": "CeIWHq5hBkgs",
        "colab_type": "text"
      },
      "source": [
        "## pre-process data into chunks"
      ]
    },
    {
      "cell_type": "code",
      "metadata": {
        "id": "2stZBQcRe960",
        "colab_type": "code",
        "colab": {}
      },
      "source": [
        "empty = encoder.transform(['<EMPTY>'])\n",
        "start = encoder.transform(['<START>'])\n",
        "chunk_size = 5"
      ],
      "execution_count": 0,
      "outputs": []
    },
    {
      "cell_type": "code",
      "metadata": {
        "id": "YUz7R-aKmGH0",
        "colab_type": "code",
        "colab": {}
      },
      "source": [
        "# [ 1, 11,  7, 11,  6] => [[[0, 0, 0, 0, 1], 11], [[0, 0, 0, 1, 11], 7], [[0, 0, 1, 11, 7], 11], [[0, 1, 11, 7, 11], 6]]\n",
        "\n",
        "def create_sequences(seq, chunk_size, empty, start):\n",
        "  # all sequences implicitly start\n",
        "  seq = np.append(start, seq)\n",
        "  # if sequence is too short, we pad it to minimum size at the beginning\n",
        "  seq = np.append(np.full(chunk_size - 1, empty), seq)\n",
        "  \n",
        "  seqs = np.array([])\n",
        "  for index in range(chunk_size, len(seq)):\n",
        "    y = seq[index]\n",
        "    x = seq[index-chunk_size : index]\n",
        "    seqs = np.append(seqs, [x, y])\n",
        "  return seqs"
      ],
      "execution_count": 0,
      "outputs": []
    },
    {
      "cell_type": "code",
      "metadata": {
        "id": "IlZ6LZZN15uo",
        "colab_type": "code",
        "outputId": "d8ac4939-7091-417e-bc32-ee306cf79d3a",
        "colab": {
          "base_uri": "https://localhost:8080/",
          "height": 34
        }
      },
      "source": [
        "\n",
        "# seq = transfomed_labels[0]\n",
        "# seq = transfomed_labels[9]\n",
        "seq = transfomed_labels[3]\n",
        "seq"
      ],
      "execution_count": 19,
      "outputs": [
        {
          "output_type": "execute_result",
          "data": {
            "text/plain": [
              "array([11,  7, 11,  6])"
            ]
          },
          "metadata": {
            "tags": []
          },
          "execution_count": 19
        }
      ]
    },
    {
      "cell_type": "code",
      "metadata": {
        "id": "gZ2h1RW84mE9",
        "colab_type": "code",
        "outputId": "5278fb6c-1433-490d-b78d-ed9f04d44da6",
        "colab": {
          "base_uri": "https://localhost:8080/",
          "height": 68
        }
      },
      "source": [
        "create_sequences(seq, chunk_size, empty, start)"
      ],
      "execution_count": 20,
      "outputs": [
        {
          "output_type": "execute_result",
          "data": {
            "text/plain": [
              "array([array([0, 0, 0, 0, 1]), 11, array([ 0,  0,  0,  1, 11]), 7,\n",
              "       array([ 0,  0,  1, 11,  7]), 11, array([ 0,  1, 11,  7, 11]), 6],\n",
              "      dtype=object)"
            ]
          },
          "metadata": {
            "tags": []
          },
          "execution_count": 20
        }
      ]
    },
    {
      "cell_type": "code",
      "metadata": {
        "id": "bRQEXaUb4kGD",
        "colab_type": "code",
        "outputId": "032eff4a-a423-4a07-b459-e49c124c7dd6",
        "colab": {
          "base_uri": "https://localhost:8080/",
          "height": 34
        }
      },
      "source": [
        "seqs = np.array([])\n",
        "for seq in transfomed_labels:\n",
        "  seqs = np.append(seqs, create_sequences(seq, chunk_size, empty, start))\n",
        "seqs = seqs.reshape(-1, 2)\n",
        "seqs.shape"
      ],
      "execution_count": 21,
      "outputs": [
        {
          "output_type": "execute_result",
          "data": {
            "text/plain": [
              "(167, 2)"
            ]
          },
          "metadata": {
            "tags": []
          },
          "execution_count": 21
        }
      ]
    },
    {
      "cell_type": "code",
      "metadata": {
        "id": "xUZY7WpX8p3x",
        "colab_type": "code",
        "outputId": "bb774010-9193-45a6-8eef-729f3479c645",
        "colab": {
          "base_uri": "https://localhost:8080/",
          "height": 34
        }
      },
      "source": [
        "X = seqs[:, 0]\n",
        "# X = X.reshape(-1, chunk_size)\n",
        "X = np.vstack(X)\n",
        "X.shape"
      ],
      "execution_count": 22,
      "outputs": [
        {
          "output_type": "execute_result",
          "data": {
            "text/plain": [
              "(167, 5)"
            ]
          },
          "metadata": {
            "tags": []
          },
          "execution_count": 22
        }
      ]
    },
    {
      "cell_type": "code",
      "metadata": {
        "id": "PYYGotC6ArLG",
        "colab_type": "code",
        "outputId": "c1e8a137-f6d7-44f8-f372-cfae8ec11a0f",
        "colab": {
          "base_uri": "https://localhost:8080/",
          "height": 170
        }
      },
      "source": [
        "y = seqs[:, 1]\n",
        "y"
      ],
      "execution_count": 23,
      "outputs": [
        {
          "output_type": "execute_result",
          "data": {
            "text/plain": [
              "array([11, 6, 3, 11, 3, 11, 10, 10, 11, 5, 11, 11, 7, 11, 6, 3, 11, 7, 6,\n",
              "       2, 10, 9, 11, 8, 10, 7, 10, 10, 6, 9, 11, 10, 6, 10, 7, 4, 11, 10,\n",
              "       6, 7, 7, 7, 11, 11, 6, 7, 10, 9, 6, 2, 12, 12, 12, 12, 9, 4, 11, 9,\n",
              "       7, 9, 9, 9, 10, 9, 9, 5, 11, 10, 6, 11, 6, 7, 7, 9, 10, 9, 5, 11,\n",
              "       10, 6, 7, 7, 9, 9, 11, 6, 10, 2, 9, 12, 12, 10, 7, 7, 12, 12, 9, 4,\n",
              "       9, 11, 9, 10, 11, 11, 7, 5, 11, 10, 10, 10, 7, 7, 11, 5, 11, 6, 7,\n",
              "       7, 4, 5, 11, 10, 7, 7, 10, 5, 11, 10, 6, 10, 9, 9, 11, 10, 10, 9,\n",
              "       9, 11, 10, 6, 7, 7, 10, 9, 11, 11, 11, 3, 9, 10, 9, 9, 3, 3, 9, 9,\n",
              "       9, 11, 10, 10, 7, 7, 9, 10, 11, 11, 10], dtype=object)"
            ]
          },
          "metadata": {
            "tags": []
          },
          "execution_count": 23
        }
      ]
    },
    {
      "cell_type": "markdown",
      "metadata": {
        "id": "r9nB_r-ABpl7",
        "colab_type": "text"
      },
      "source": [
        "## Training"
      ]
    },
    {
      "cell_type": "code",
      "metadata": {
        "id": "rQ6o5bkU6Pha",
        "colab_type": "code",
        "outputId": "5d09abde-5856-462e-9ac4-4c57fad93e2d",
        "colab": {
          "base_uri": "https://localhost:8080/",
          "height": 323
        }
      },
      "source": [
        "import tensorflow as tf\n",
        "from tensorflow import keras\n",
        "from tensorflow.keras.layers import Dense, LSTM, GRU, SimpleRNN, Embedding, BatchNormalization, Dropout\n",
        "from tensorflow.keras.models import Sequential, Model\n",
        "\n",
        "embedding_dim = 2\n",
        "n_buttons = len(encoder.classes_)\n",
        "\n",
        "dropout = .4\n",
        "recurrent_dropout = .4\n",
        "\n",
        "model = Sequential()\n",
        "model.add(Embedding(name='embedding',\n",
        "                    input_dim=n_buttons, \n",
        "                    output_dim=embedding_dim, \n",
        "                    input_length=chunk_size))\n",
        "\n",
        "model.add(SimpleRNN(units=50, activation='relu', name=\"RNN\", recurrent_dropout=recurrent_dropout))\n",
        "# model.add(GRU(units=25, activation='relu', name=\"RNN\", recurrent_dropout=0.5))\n",
        "# model.add(LSTM(units=25, activation='relu', name=\"RNN\", recurrent_dropout=0.5))\n",
        "\n",
        "model.add(BatchNormalization())\n",
        "model.add(Dropout(dropout))\n",
        "\n",
        "model.add(Dense(units=n_buttons, name='softmax', activation='softmax'))\n",
        "model.compile(optimizer='adam', loss='sparse_categorical_crossentropy', metrics=['accuracy'])\n",
        "model.summary()"
      ],
      "execution_count": 24,
      "outputs": [
        {
          "output_type": "stream",
          "text": [
            "Model: \"sequential\"\n",
            "_________________________________________________________________\n",
            "Layer (type)                 Output Shape              Param #   \n",
            "=================================================================\n",
            "embedding (Embedding)        (None, 5, 2)              26        \n",
            "_________________________________________________________________\n",
            "RNN (SimpleRNN)              (None, 50)                2650      \n",
            "_________________________________________________________________\n",
            "batch_normalization (BatchNo (None, 50)                200       \n",
            "_________________________________________________________________\n",
            "dropout (Dropout)            (None, 50)                0         \n",
            "_________________________________________________________________\n",
            "softmax (Dense)              (None, 13)                663       \n",
            "=================================================================\n",
            "Total params: 3,539\n",
            "Trainable params: 3,439\n",
            "Non-trainable params: 100\n",
            "_________________________________________________________________\n"
          ],
          "name": "stdout"
        }
      ]
    },
    {
      "cell_type": "code",
      "metadata": {
        "id": "oGO7UyA2_hFM",
        "colab_type": "code",
        "outputId": "82914d2d-8cc2-4615-fdc3-1383a4aeb68b",
        "colab": {
          "base_uri": "https://localhost:8080/",
          "height": 190
        }
      },
      "source": [
        "%%time\n",
        "\n",
        "EPOCHS = 1000\n",
        "BATCH_SIZE = 50\n",
        "\n",
        "history = model.fit(X, y, \n",
        "                    batch_size=BATCH_SIZE,\n",
        "                    epochs=EPOCHS, verbose=0, validation_split=0.2)"
      ],
      "execution_count": 25,
      "outputs": [
        {
          "output_type": "stream",
          "text": [
            "WARNING: Logging before flag parsing goes to stderr.\n",
            "W0702 07:11:23.977500 140604897929088 deprecation.py:323] From /usr/local/lib/python3.6/dist-packages/tensorflow_core/python/ops/math_grad.py:1251: where (from tensorflow.python.ops.array_ops) is deprecated and will be removed in a future version.\n",
            "Instructions for updating:\n",
            "Use tf.where in 2.0, which has the same broadcast rule as np.where\n",
            "W0702 07:11:24.473417 140604897929088 deprecation.py:323] From /usr/local/lib/python3.6/dist-packages/tensorflow_core/python/keras/optimizer_v2/optimizer_v2.py:454: BaseResourceVariable.constraint (from tensorflow.python.ops.resource_variable_ops) is deprecated and will be removed in a future version.\n",
            "Instructions for updating:\n",
            "Apply a constraint manually following the optimizer update step.\n"
          ],
          "name": "stderr"
        },
        {
          "output_type": "stream",
          "text": [
            "CPU times: user 1min 19s, sys: 8.43 s, total: 1min 28s\n",
            "Wall time: 54.4 s\n"
          ],
          "name": "stdout"
        }
      ]
    },
    {
      "cell_type": "code",
      "metadata": {
        "id": "po7tURch_hFP",
        "colab_type": "code",
        "outputId": "7bf8601c-9d34-4473-85e6-358931038285",
        "colab": {
          "base_uri": "https://localhost:8080/",
          "height": 51
        }
      },
      "source": [
        "loss, accuracy = model.evaluate(X, y, batch_size=BATCH_SIZE)\n",
        "accuracy"
      ],
      "execution_count": 26,
      "outputs": [
        {
          "output_type": "stream",
          "text": [
            "167/167 [==============================] - 0s 2ms/sample - loss: 1.1218 - accuracy: 0.6587\n"
          ],
          "name": "stdout"
        },
        {
          "output_type": "execute_result",
          "data": {
            "text/plain": [
              "0.65868264"
            ]
          },
          "metadata": {
            "tags": []
          },
          "execution_count": 26
        }
      ]
    },
    {
      "cell_type": "code",
      "metadata": {
        "id": "uqMFRTwp_hFR",
        "colab_type": "code",
        "outputId": "ab441e2f-30c3-4196-8082-a4779bfd339d",
        "colab": {
          "base_uri": "https://localhost:8080/",
          "height": 300
        }
      },
      "source": [
        "%matplotlib inline\n",
        "\n",
        "import matplotlib.pyplot as plt\n",
        "\n",
        "# plt.yscale('log')\n",
        "plt.ylabel('loss')\n",
        "plt.xlabel('epochs')\n",
        "\n",
        "plt.plot(history.history['loss'])\n",
        "plt.plot(history.history['val_loss'])\n",
        "\n",
        "plt.legend(['loss', 'val_loss'])"
      ],
      "execution_count": 27,
      "outputs": [
        {
          "output_type": "execute_result",
          "data": {
            "text/plain": [
              "<matplotlib.legend.Legend at 0x7fe0605aba90>"
            ]
          },
          "metadata": {
            "tags": []
          },
          "execution_count": 27
        },
        {
          "output_type": "display_data",
          "data": {
            "image/png": "[encoded data removed]",
            "text/plain": [
              "<Figure size 432x288 with 1 Axes>"
            ]
          },
          "metadata": {
            "tags": []
          }
        }
      ]
    },
    {
      "cell_type": "code",
      "metadata": {
        "id": "CS1Gynas_hFT",
        "colab_type": "code",
        "outputId": "2242b0bf-fd05-4029-a65a-e63fd49e7ee5",
        "colab": {
          "base_uri": "https://localhost:8080/",
          "height": 300
        }
      },
      "source": [
        "plt.ylabel('accuracy')\n",
        "plt.xlabel('epochs')\n",
        "\n",
        "# TF 2.0\n",
        "plt.plot(history.history['accuracy'])\n",
        "plt.plot(history.history['val_accuracy'])\n",
        "# plt.plot(history.history['acc'])\n",
        "# plt.plot(history.history['val_acc'])\n",
        "\n",
        "plt.legend(['accuracy', 'val_accuracy'])"
      ],
      "execution_count": 28,
      "outputs": [
        {
          "output_type": "execute_result",
          "data": {
            "text/plain": [
              "<matplotlib.legend.Legend at 0x7fe05e55e588>"
            ]
          },
          "metadata": {
            "tags": []
          },
          "execution_count": 28
        },
        {
          "output_type": "display_data",
          "data": {
            "image/png": "[encoded data removed]",
            "text/plain": [
              "<Figure size 432x288 with 1 Axes>"
            ]
          },
          "metadata": {
            "tags": []
          }
        }
      ]
    },
    {
      "cell_type": "code",
      "metadata": {
        "id": "h7ZO4M2I_hFV",
        "colab_type": "code",
        "outputId": "aa311d32-6a6e-4e7b-fdd1-ee060aa683a5",
        "colab": {
          "base_uri": "https://localhost:8080/",
          "height": 85
        }
      },
      "source": [
        "model.predict([[X[0]]])"
      ],
      "execution_count": 29,
      "outputs": [
        {
          "output_type": "execute_result",
          "data": {
            "text/plain": [
              "array([[3.1764372e-04, 3.1948110e-04, 1.6882364e-03, 1.8360125e-01,\n",
              "        4.3390695e-02, 7.3930132e-04, 7.7192904e-04, 2.8299938e-03,\n",
              "        7.4647239e-04, 1.8327440e-03, 3.5560520e-03, 6.6830355e-01,\n",
              "        9.1902561e-02]], dtype=float32)"
            ]
          },
          "metadata": {
            "tags": []
          },
          "execution_count": 29
        }
      ]
    },
    {
      "cell_type": "code",
      "metadata": {
        "id": "VEGNcvSv_hFX",
        "colab_type": "code",
        "outputId": "f19a9b2f-4a7d-44a9-97d1-ba29a83b2a43",
        "colab": {
          "base_uri": "https://localhost:8080/",
          "height": 34
        }
      },
      "source": [
        "model.predict([[X[0]]]).argmax()"
      ],
      "execution_count": 30,
      "outputs": [
        {
          "output_type": "execute_result",
          "data": {
            "text/plain": [
              "11"
            ]
          },
          "metadata": {
            "tags": []
          },
          "execution_count": 30
        }
      ]
    },
    {
      "cell_type": "code",
      "metadata": {
        "id": "RpdLq4RT_hFa",
        "colab_type": "code",
        "outputId": "f323539e-37e6-4bfa-fd24-51b13691d3cf",
        "colab": {
          "base_uri": "https://localhost:8080/",
          "height": 34
        }
      },
      "source": [
        "y[0]"
      ],
      "execution_count": 31,
      "outputs": [
        {
          "output_type": "execute_result",
          "data": {
            "text/plain": [
              "11"
            ]
          },
          "metadata": {
            "tags": []
          },
          "execution_count": 31
        }
      ]
    },
    {
      "cell_type": "code",
      "metadata": {
        "id": "--ZGTfeohmS_",
        "colab_type": "code",
        "outputId": "9f15931e-fe1a-46be-e504-cf0a0fc3ecb7",
        "colab": {
          "base_uri": "https://localhost:8080/",
          "height": 187
        }
      },
      "source": [
        "y_pred = model.predict([X]).argmax(axis=1)\n",
        "y_pred"
      ],
      "execution_count": 32,
      "outputs": [
        {
          "output_type": "execute_result",
          "data": {
            "text/plain": [
              "array([11,  7, 11, 11, 11, 11, 10,  6,  7,  5, 11, 11,  7, 10,  6, 11, 11,\n",
              "       10, 10,  2, 10,  9, 11,  7, 10,  7, 10, 10,  6,  7, 11,  7,  6,  7,\n",
              "        7,  9, 11, 10,  6,  7,  7,  9, 11,  7,  6,  7,  7,  9,  6,  2, 11,\n",
              "       12,  9, 12,  9, 11, 11,  9,  7,  9,  9,  9, 10,  9,  9,  9, 11, 10,\n",
              "        6,  7,  6,  7,  7,  9, 10,  9,  9, 11, 10,  6,  7,  7,  9,  9, 11,\n",
              "        7,  7,  7,  9, 12, 12, 10,  7,  7, 11, 12,  9,  4,  9, 11,  7, 10,\n",
              "       11, 11,  7, 10, 11, 10,  6,  7,  7,  7,  7,  5, 11,  6,  7,  7,  9,\n",
              "       11, 11, 10,  7,  7,  7,  9, 11, 10,  6,  7,  7,  9, 11, 10,  6,  7,\n",
              "        9,  9, 10,  6,  7,  7,  9,  7, 11, 11, 11,  7, 11, 10,  9, 11, 10,\n",
              "       11, 11, 10,  9, 12,  9,  6,  7,  7,  7,  9,  9, 11,  7])"
            ]
          },
          "metadata": {
            "tags": []
          },
          "execution_count": 32
        }
      ]
    },
    {
      "cell_type": "code",
      "metadata": {
        "id": "rTgT0xH7KeNQ",
        "colab_type": "code",
        "outputId": "0e457130-c805-4c25-e95b-7dfac221fa9b",
        "colab": {
          "base_uri": "https://localhost:8080/",
          "height": 170
        }
      },
      "source": [
        "y"
      ],
      "execution_count": 33,
      "outputs": [
        {
          "output_type": "execute_result",
          "data": {
            "text/plain": [
              "array([11, 6, 3, 11, 3, 11, 10, 10, 11, 5, 11, 11, 7, 11, 6, 3, 11, 7, 6,\n",
              "       2, 10, 9, 11, 8, 10, 7, 10, 10, 6, 9, 11, 10, 6, 10, 7, 4, 11, 10,\n",
              "       6, 7, 7, 7, 11, 11, 6, 7, 10, 9, 6, 2, 12, 12, 12, 12, 9, 4, 11, 9,\n",
              "       7, 9, 9, 9, 10, 9, 9, 5, 11, 10, 6, 11, 6, 7, 7, 9, 10, 9, 5, 11,\n",
              "       10, 6, 7, 7, 9, 9, 11, 6, 10, 2, 9, 12, 12, 10, 7, 7, 12, 12, 9, 4,\n",
              "       9, 11, 9, 10, 11, 11, 7, 5, 11, 10, 10, 10, 7, 7, 11, 5, 11, 6, 7,\n",
              "       7, 4, 5, 11, 10, 7, 7, 10, 5, 11, 10, 6, 10, 9, 9, 11, 10, 10, 9,\n",
              "       9, 11, 10, 6, 7, 7, 10, 9, 11, 11, 11, 3, 9, 10, 9, 9, 3, 3, 9, 9,\n",
              "       9, 11, 10, 10, 7, 7, 9, 10, 11, 11, 10], dtype=object)"
            ]
          },
          "metadata": {
            "tags": []
          },
          "execution_count": 33
        }
      ]
    },
    {
      "cell_type": "code",
      "metadata": {
        "id": "iCFPYjo-ga6m",
        "colab_type": "code",
        "outputId": "03a4de87-f811-4328-c2e6-1d9fee4183b3",
        "colab": {
          "base_uri": "https://localhost:8080/",
          "height": 255
        }
      },
      "source": [
        "# TF 2.0\n",
        "cm = tf.math.confusion_matrix(labels=tf.constant(y, dtype=tf.int64), predictions=tf.constant(y_pred, dtype=tf.int64))\n",
        "cm"
      ],
      "execution_count": 34,
      "outputs": [
        {
          "output_type": "execute_result",
          "data": {
            "text/plain": [
              "<tf.Tensor: id=33510, shape=(13, 13), dtype=int32, numpy=\n",
              "array([[ 0,  0,  0,  0,  0,  0,  0,  0,  0,  0,  0,  0,  0],\n",
              "       [ 0,  0,  0,  0,  0,  0,  0,  0,  0,  0,  0,  0,  0],\n",
              "       [ 0,  0,  2,  0,  0,  0,  0,  1,  0,  0,  0,  0,  0],\n",
              "       [ 0,  0,  0,  0,  0,  0,  0,  1,  0,  0,  1,  4,  0],\n",
              "       [ 0,  0,  0,  0,  1,  0,  0,  0,  0,  2,  0,  1,  0],\n",
              "       [ 0,  0,  0,  0,  0,  2,  0,  0,  0,  3,  1,  1,  0],\n",
              "       [ 0,  0,  0,  0,  0,  0, 12,  2,  0,  0,  1,  0,  0],\n",
              "       [ 0,  0,  0,  0,  0,  0,  0, 24,  0,  1,  1,  0,  0],\n",
              "       [ 0,  0,  0,  0,  0,  0,  0,  1,  0,  0,  0,  0,  0],\n",
              "       [ 0,  0,  0,  0,  0,  0,  0,  6,  0, 20,  1,  3,  0],\n",
              "       [ 0,  0,  0,  0,  0,  0,  4,  8,  0,  3, 18,  0,  0],\n",
              "       [ 0,  0,  0,  0,  0,  0,  0,  4,  0,  2,  1, 26,  1],\n",
              "       [ 0,  0,  0,  0,  0,  0,  0,  0,  0,  1,  0,  2,  5]], dtype=int32)>"
            ]
          },
          "metadata": {
            "tags": []
          },
          "execution_count": 34
        }
      ]
    },
    {
      "cell_type": "code",
      "metadata": {
        "id": "qwV7StyWjYVa",
        "colab_type": "code",
        "outputId": "80d49361-5be7-4a73-ae9b-e1dde151fe27",
        "colab": {
          "base_uri": "https://localhost:8080/",
          "height": 592
        }
      },
      "source": [
        "import seaborn as sns\n",
        "\n",
        "classes = encoder.classes_\n",
        "\n",
        "plt.figure(figsize=(8, 8))\n",
        "\n",
        "sns.heatmap(cm, annot=True, fmt=\"d\", xticklabels=classes, yticklabels=classes)"
      ],
      "execution_count": 35,
      "outputs": [
        {
          "output_type": "execute_result",
          "data": {
            "text/plain": [
              "<matplotlib.axes._subplots.AxesSubplot at 0x7fe059f4a898>"
            ]
          },
          "metadata": {
            "tags": []
          },
          "execution_count": 35
        },
        {
          "output_type": "display_data",
          "data": {
            "image/png": "[encoded data removed]",
            "text/plain": [
              "<Figure size 576x576 with 2 Axes>"
            ]
          },
          "metadata": {
            "tags": []
          }
        }
      ]
    },
    {
      "cell_type": "code",
      "metadata": {
        "id": "9IxmvEavQ5ka",
        "colab_type": "code",
        "colab": {}
      },
      "source": [
        "# sns.heatmap?"
      ],
      "execution_count": 0,
      "outputs": []
    },
    {
      "cell_type": "code",
      "metadata": {
        "id": "YhzQj78OL5_w",
        "colab_type": "code",
        "colab": {}
      },
      "source": [
        "# import numpy as np\n",
        "\n",
        "# samples = [1,2,3,4]\n",
        "\n",
        "# embedding_layer = model.get_layer('embedding')\n",
        "# embedding_model = Model(inputs=model.input, outputs=embedding_layer.output)\n",
        "# embeddings_1d = embedding_model.predict(samples).reshape(-1)\n",
        "\n",
        "# # for printing only\n",
        "# # plt.figure(figsize=(20,5))\n",
        "# # plt.figure(dpi=600)\n",
        "\n",
        "# plt.axis('off')\n",
        "\n",
        "# plt.scatter(embeddings_1d, np.zeros(len(embeddings_1d)))\n",
        "# for index, x_pos in zip(samples, embeddings_1d):\n",
        "#   name = encoder.classes_[index]\n",
        "#   print(name, (x_pos))\n",
        "# #   plt.annotate(name, (x_pos, 0), rotation=80)"
      ],
      "execution_count": 0,
      "outputs": []
    },
    {
      "cell_type": "markdown",
      "metadata": {
        "id": "Rv2Yo1SsBvYn",
        "colab_type": "text"
      },
      "source": [
        "## Convert Model into tfjs format"
      ]
    },
    {
      "cell_type": "code",
      "metadata": {
        "id": "crq3LXdj_hFc",
        "colab_type": "code",
        "colab": {}
      },
      "source": [
        "model.save('ux.h5', save_format='h5')"
      ],
      "execution_count": 0,
      "outputs": []
    },
    {
      "cell_type": "code",
      "metadata": {
        "id": "_sRLDfTDB8GS",
        "colab_type": "code",
        "outputId": "786542a3-8644-4b7a-ae23-787a4cc04753",
        "colab": {
          "base_uri": "https://localhost:8080/",
          "height": 68
        }
      },
      "source": [
        "!ls -l"
      ],
      "execution_count": 39,
      "outputs": [
        {
          "output_type": "stream",
          "text": [
            "total 88\n",
            "drwxr-xr-x 1 root root  4096 Jun 18 16:14 sample_data\n",
            "-rw-r--r-- 1 root root 83072 Jul  2 07:12 ux.h5\n"
          ],
          "name": "stdout"
        }
      ]
    },
    {
      "cell_type": "code",
      "metadata": {
        "id": "Xbv45tMgCIkn",
        "colab_type": "code",
        "outputId": "40331b84-e616-488f-e8bc-9263550a3fc2",
        "colab": {
          "base_uri": "https://localhost:8080/",
          "height": 119
        }
      },
      "source": [
        "!pip install -q tensorflowjs"
      ],
      "execution_count": 40,
      "outputs": [
        {
          "output_type": "stream",
          "text": [
            "\u001b[?25l\r\u001b[K     |████▌                           | 10kB 19.7MB/s eta 0:00:01\r\u001b[K     |█████████                       | 20kB 26.0MB/s eta 0:00:01\r\u001b[K     |█████████████▌                  | 30kB 30.8MB/s eta 0:00:01\r\u001b[K     |██████████████████              | 40kB 33.9MB/s eta 0:00:01\r\u001b[K     |██████████████████████▍         | 51kB 4.4MB/s eta 0:00:01\r\u001b[K     |███████████████████████████     | 61kB 5.2MB/s eta 0:00:01\r\u001b[K     |███████████████████████████████▍| 71kB 6.0MB/s eta 0:00:01\r\u001b[K     |████████████████████████████████| 81kB 6.0MB/s \n",
            "\u001b[31mERROR: s3fs 0.2.1 has requirement six>=1.12.0, but you'll have six 1.11.0 which is incompatible.\u001b[0m\n",
            "\u001b[31mERROR: jupyter-console 6.0.0 has requirement prompt-toolkit<2.1.0,>=2.0.0, but you'll have prompt-toolkit 1.0.16 which is incompatible.\u001b[0m\n",
            "\u001b[31mERROR: google-colab 1.0.0 has requirement six~=1.12.0, but you'll have six 1.11.0 which is incompatible.\u001b[0m\n",
            "\u001b[31mERROR: datascience 0.10.6 has requirement folium==0.2.1, but you'll have folium 0.8.3 which is incompatible.\u001b[0m\n",
            "\u001b[31mERROR: albumentations 0.1.12 has requirement imgaug<0.2.7,>=0.2.5, but you'll have imgaug 0.2.9 which is incompatible.\u001b[0m\n",
            "\u001b[?25h"
          ],
          "name": "stdout"
        }
      ]
    },
    {
      "cell_type": "code",
      "metadata": {
        "id": "bqztV867_hFd",
        "colab_type": "code",
        "colab": {}
      },
      "source": [
        "!tensorflowjs_converter --input_format keras ux.h5 tfjs"
      ],
      "execution_count": 0,
      "outputs": []
    },
    {
      "cell_type": "code",
      "metadata": {
        "id": "2GH6PYWgCDYc",
        "colab_type": "code",
        "outputId": "b725cbfb-17d5-4533-88cc-40024bfb3f9a",
        "colab": {
          "base_uri": "https://localhost:8080/",
          "height": 68
        }
      },
      "source": [
        "!ls -l tfjs"
      ],
      "execution_count": 42,
      "outputs": [
        {
          "output_type": "stream",
          "text": [
            "total 20\n",
            "-rw-r--r-- 1 root root 14156 Jul  2 07:12 group1-shard1of1.bin\n",
            "-rw-r--r-- 1 root root  3734 Jul  2 07:12 model.json\n"
          ],
          "name": "stdout"
        }
      ]
    },
    {
      "cell_type": "markdown",
      "metadata": {
        "id": "Xd5GPZiUkpTD",
        "colab_type": "text"
      },
      "source": [
        "Download using _Files_ menu on the left"
      ]
    },
    {
      "cell_type": "code",
      "metadata": {
        "id": "lsd2Kj8ECJu3",
        "colab_type": "code",
        "colab": {}
      },
      "source": [
        ""
      ],
      "execution_count": 0,
      "outputs": []
    }
  ]
}