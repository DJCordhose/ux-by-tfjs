{
  "nbformat": 4,
  "nbformat_minor": 0,
  "metadata": {
    "colab": {
      "name": "rnn-model.ipynb",
      "version": "0.3.2",
      "provenance": [],
      "toc_visible": true,
      "include_colab_link": true
    },
    "kernelspec": {
      "display_name": "Python 3",
      "language": "python",
      "name": "python3"
    },
    "accelerator": "GPU"
  },
  "cells": [
    {
      "cell_type": "markdown",
      "metadata": {
        "id": "view-in-github",
        "colab_type": "text"
      },
      "source": [
        "<a href=\"https://colab.research.google.com/github/DJCordhose/ux-by-tfjs/blob/master/notebooks/click-sequence-model.ipynb\" target=\"_parent\"><img src=\"https://colab.research.google.com/assets/colab-badge.svg\" alt=\"Open In Colab\"/></a>"
      ]
    },
    {
      "cell_type": "markdown",
      "metadata": {
        "colab_type": "text",
        "id": "XdfXfXK2-CiG"
      },
      "source": [
        "# Training on Sequences of Clicks on the Server\n",
        "\n",
        "Make sure to run this from top to bottom to export model, otherwise names of layers cause tf.js to bail out"
      ]
    },
    {
      "cell_type": "code",
      "metadata": {
        "colab_type": "code",
        "id": "u8IonVMfAelY",
        "colab": {
          "base_uri": "https://localhost:8080/",
          "height": 34
        },
        "outputId": "7eef0b92-84c4-4007-9b13-0187b74f1e84"
      },
      "source": [
        "# Gives us a well defined version of tensorflow\n",
        "\n",
        "try:\n",
        "  # %tensorflow_version only exists in Colab.\n",
        "  %tensorflow_version 2.x\n",
        "except Exception:\n",
        "  pass"
      ],
      "execution_count": 1,
      "outputs": [
        {
          "output_type": "stream",
          "text": [
            "TensorFlow 2.x selected.\n"
          ],
          "name": "stdout"
        }
      ]
    },
    {
      "cell_type": "code",
      "metadata": {
        "colab_type": "code",
        "id": "0rEa6M11-CiY",
        "outputId": "2308b9af-853d-46ab-eabd-d55f4743b566",
        "colab": {
          "base_uri": "https://localhost:8080/",
          "height": 34
        }
      },
      "source": [
        "import tensorflow as tf\n",
        "print(tf.__version__)"
      ],
      "execution_count": 2,
      "outputs": [
        {
          "output_type": "stream",
          "text": [
            "2.0.0-rc0\n"
          ],
          "name": "stdout"
        }
      ]
    },
    {
      "cell_type": "code",
      "metadata": {
        "colab_type": "code",
        "id": "I35W9tmrRWF3",
        "outputId": "c4714d46-6a93-45e1-8f09-d3cc7c21aad1",
        "colab": {
          "base_uri": "https://localhost:8080/",
          "height": 34
        }
      },
      "source": [
        "# a small sanity check, does tf seem to work ok?\n",
        "hello = tf.constant('Hello TF!')\n",
        "print(\"This works: {}\".format(hello))"
      ],
      "execution_count": 3,
      "outputs": [
        {
          "output_type": "stream",
          "text": [
            "This works: b'Hello TF!'\n"
          ],
          "name": "stdout"
        }
      ]
    },
    {
      "cell_type": "code",
      "metadata": {
        "colab_type": "code",
        "id": "DpXHERPSQvMD",
        "outputId": "79909b4a-a8a6-4acc-9e40-0bf7b8f4d4d4",
        "colab": {
          "base_uri": "https://localhost:8080/",
          "height": 34
        }
      },
      "source": [
        "# this should return True even on Colab\n",
        "tf.test.is_gpu_available()"
      ],
      "execution_count": 4,
      "outputs": [
        {
          "output_type": "execute_result",
          "data": {
            "text/plain": [
              "True"
            ]
          },
          "metadata": {
            "tags": []
          },
          "execution_count": 4
        }
      ]
    },
    {
      "cell_type": "code",
      "metadata": {
        "colab_type": "code",
        "id": "hEoP6O2r3Jvf",
        "outputId": "9cc9c79e-a176-4566-b15f-33e829774b40",
        "colab": {
          "base_uri": "https://localhost:8080/",
          "height": 34
        }
      },
      "source": [
        "tf.test.is_built_with_cuda()"
      ],
      "execution_count": 5,
      "outputs": [
        {
          "output_type": "execute_result",
          "data": {
            "text/plain": [
              "True"
            ]
          },
          "metadata": {
            "tags": []
          },
          "execution_count": 5
        }
      ]
    },
    {
      "cell_type": "code",
      "metadata": {
        "colab_type": "code",
        "id": "PqalzDXr3OiQ",
        "outputId": "d66e6532-f21f-4ba5-8348-069801aa3244",
        "colab": {
          "base_uri": "https://localhost:8080/",
          "height": 34
        }
      },
      "source": [
        "tf.executing_eagerly()"
      ],
      "execution_count": 6,
      "outputs": [
        {
          "output_type": "execute_result",
          "data": {
            "text/plain": [
              "True"
            ]
          },
          "metadata": {
            "tags": []
          },
          "execution_count": 6
        }
      ]
    },
    {
      "cell_type": "markdown",
      "metadata": {
        "id": "C9a1zn2-_hEY",
        "colab_type": "text"
      },
      "source": [
        "## load data"
      ]
    },
    {
      "cell_type": "code",
      "metadata": {
        "id": "iztUacrB_hEZ",
        "colab_type": "code",
        "outputId": "26db459d-5093-4a7e-ed37-6386fd82b077",
        "colab": {
          "base_uri": "https://localhost:8080/",
          "height": 34
        }
      },
      "source": [
        "import pandas as pd\n",
        "print(pd.__version__)"
      ],
      "execution_count": 7,
      "outputs": [
        {
          "output_type": "stream",
          "text": [
            "0.24.2\n"
          ],
          "name": "stdout"
        }
      ]
    },
    {
      "cell_type": "code",
      "metadata": {
        "id": "p_Na83Q9U1Le",
        "colab_type": "code",
        "outputId": "acaf7d86-f5d9-42fa-ad23-21a353f04769",
        "colab": {
          "base_uri": "https://localhost:8080/",
          "height": 34
        }
      },
      "source": [
        "import numpy as np\n",
        "print(np.__version__)"
      ],
      "execution_count": 8,
      "outputs": [
        {
          "output_type": "stream",
          "text": [
            "1.16.5\n"
          ],
          "name": "stdout"
        }
      ]
    },
    {
      "cell_type": "code",
      "metadata": {
        "id": "PhJJH5TS_hEc",
        "colab_type": "code",
        "colab": {}
      },
      "source": [
        "# local\n",
        "# URL = '../data/click-sequence.json'\n",
        "\n",
        "# remote\n",
        "URL = 'https://raw.githubusercontent.com/DJCordhose/ux-by-tfjs/master//data/click-sequence.json'\n",
        "\n",
        "\n",
        "df = pd.read_json(URL, typ='series')"
      ],
      "execution_count": 0,
      "outputs": []
    },
    {
      "cell_type": "code",
      "metadata": {
        "id": "swqLoJAh_hEe",
        "colab_type": "code",
        "outputId": "5972fb3a-1028-41a3-88ce-d2ac8fec04bc",
        "colab": {
          "base_uri": "https://localhost:8080/",
          "height": 34
        }
      },
      "source": [
        "len(df)"
      ],
      "execution_count": 10,
      "outputs": [
        {
          "output_type": "execute_result",
          "data": {
            "text/plain": [
              "51"
            ]
          },
          "metadata": {
            "tags": []
          },
          "execution_count": 10
        }
      ]
    },
    {
      "cell_type": "code",
      "metadata": {
        "id": "8CHaa_KVsPlZ",
        "colab_type": "code",
        "outputId": "af7a2439-b1d1-45bf-a3a6-83e9983ca857",
        "colab": {
          "base_uri": "https://localhost:8080/",
          "height": 119
        }
      },
      "source": [
        "df.head()"
      ],
      "execution_count": 11,
      "outputs": [
        {
          "output_type": "execute_result",
          "data": {
            "text/plain": [
              "0                                                   []\n",
              "1                   [train-model, save-model-to-local]\n",
              "2                      [load-local-model, train-model]\n",
              "3    [load-local-model, train-model, toggle-visor, ...\n",
              "4    [train-model, show-eval, train-model, save-mod...\n",
              "dtype: object"
            ]
          },
          "metadata": {
            "tags": []
          },
          "execution_count": 11
        }
      ]
    },
    {
      "cell_type": "code",
      "metadata": {
        "id": "lEHQA75JUfXt",
        "colab_type": "code",
        "outputId": "1f8bbae0-9bb3-4889-b4db-92cbbbea07e0",
        "colab": {
          "base_uri": "https://localhost:8080/",
          "height": 34
        }
      },
      "source": [
        "type(df[0])"
      ],
      "execution_count": 12,
      "outputs": [
        {
          "output_type": "execute_result",
          "data": {
            "text/plain": [
              "list"
            ]
          },
          "metadata": {
            "tags": []
          },
          "execution_count": 12
        }
      ]
    },
    {
      "cell_type": "code",
      "metadata": {
        "id": "JRo1kuJmsQ-s",
        "colab_type": "code",
        "outputId": "2fc00d73-600d-49c5-bb37-7150b2ddebd4",
        "colab": {
          "base_uri": "https://localhost:8080/",
          "height": 34
        }
      },
      "source": [
        "df[0], df[1]"
      ],
      "execution_count": 13,
      "outputs": [
        {
          "output_type": "execute_result",
          "data": {
            "text/plain": [
              "([], ['train-model', 'save-model-to-local'])"
            ]
          },
          "metadata": {
            "tags": []
          },
          "execution_count": 13
        }
      ]
    },
    {
      "cell_type": "code",
      "metadata": {
        "id": "iILrKJHzuNA8",
        "colab_type": "code",
        "outputId": "ede15fe7-0232-45b8-8f5d-e1ca8074abb0",
        "colab": {
          "base_uri": "https://localhost:8080/",
          "height": 255
        }
      },
      "source": [
        "all_buttons = set()\n",
        "for seq in df:\n",
        "  for button in seq:\n",
        "    all_buttons.add(button)\n",
        "\n",
        "all_buttons.add('<START>')\n",
        "all_buttons.add('<EMPTY>')\n",
        "\n",
        "all_buttons = list(all_buttons)\n",
        "\n",
        "all_buttons"
      ],
      "execution_count": 14,
      "outputs": [
        {
          "output_type": "execute_result",
          "data": {
            "text/plain": [
              "['download-model',\n",
              " 'load-remote-model',\n",
              " 'toggle-visor',\n",
              " 'show-model',\n",
              " 'upload-model',\n",
              " 'reset-data',\n",
              " 'save-model-to-local',\n",
              " '<START>',\n",
              " '<EMPTY>',\n",
              " 'toggle-prediction',\n",
              " 'load-local-model',\n",
              " 'reset-model',\n",
              " 'show-eval',\n",
              " 'train-model']"
            ]
          },
          "metadata": {
            "tags": []
          },
          "execution_count": 14
        }
      ]
    },
    {
      "cell_type": "code",
      "metadata": {
        "colab_type": "code",
        "outputId": "eaaac283-2707-4501-a53a-45183cec807c",
        "id": "z0n-qYv6sAwf",
        "colab": {
          "base_uri": "https://localhost:8080/",
          "height": 102
        }
      },
      "source": [
        "from sklearn.preprocessing import LabelBinarizer, MultiLabelBinarizer, LabelEncoder\n",
        "encoder = LabelEncoder()\n",
        "encoder.fit(all_buttons)\n",
        "encoder.classes_"
      ],
      "execution_count": 15,
      "outputs": [
        {
          "output_type": "execute_result",
          "data": {
            "text/plain": [
              "array(['<EMPTY>', '<START>', 'download-model', 'load-local-model',\n",
              "       'load-remote-model', 'reset-data', 'reset-model',\n",
              "       'save-model-to-local', 'show-eval', 'show-model',\n",
              "       'toggle-prediction', 'toggle-visor', 'train-model', 'upload-model'],\n",
              "      dtype='<U19')"
            ]
          },
          "metadata": {
            "tags": []
          },
          "execution_count": 15
        }
      ]
    },
    {
      "cell_type": "code",
      "metadata": {
        "id": "OoNWjgb6tgN_",
        "colab_type": "code",
        "outputId": "d62b8f78-db05-45c0-fe6b-887a60d78ed7",
        "colab": {
          "base_uri": "https://localhost:8080/",
          "height": 765
        }
      },
      "source": [
        "transfomed_labels = [encoder.transform(seq) for seq in df if len(seq) != 0]\n",
        "transfomed_labels"
      ],
      "execution_count": 16,
      "outputs": [
        {
          "output_type": "execute_result",
          "data": {
            "text/plain": [
              "[array([12,  7]),\n",
              " array([ 3, 12]),\n",
              " array([ 3, 12, 11, 11, 12,  6, 12]),\n",
              " array([12,  8, 12,  7]),\n",
              " array([ 3, 12,  8,  7,  2, 11, 10]),\n",
              " array([12,  9, 11,  8, 11, 11,  7, 10]),\n",
              " array([12, 11,  7, 11,  8,  5, 12, 11,  7,  8,  8,  8]),\n",
              " array([12, 12,  7,  8, 11, 10,  7,  2]),\n",
              " array([13, 13, 13, 13, 10]),\n",
              " array([ 5, 12, 10,  8, 10, 10, 10, 11, 10, 10,  6, 12, 11,  7, 12,  7,  8,\n",
              "         8, 10, 11, 10,  6, 12, 11,  7,  8,  8, 10, 10]),\n",
              " array([12,  7, 11,  2, 10, 13, 13, 11,  8,  8]),\n",
              " array([13, 13, 10,  5, 10]),\n",
              " array([12, 10, 11]),\n",
              " array([12]),\n",
              " array([12,  8,  6, 12, 11, 11, 11,  8,  8, 12,  6, 12,  7,  8,  8,  5,  6,\n",
              "        12, 11,  8,  8, 11,  6, 12, 11,  7, 11, 10, 10, 12, 11, 11, 10, 10,\n",
              "        12, 11,  7,  8,  8, 11, 10]),\n",
              " array([12]),\n",
              " array([12]),\n",
              " array([12,  3, 10, 11, 10]),\n",
              " array([10,  3,  3, 10, 10, 10, 12, 11, 11,  8,  8, 10, 11, 12]),\n",
              " array([12, 11]),\n",
              " array([12,  8, 11, 11, 10, 10, 11, 11]),\n",
              " array([12]),\n",
              " array([12,  8]),\n",
              " array([11, 11, 11,  8]),\n",
              " array([12,  8, 11, 11]),\n",
              " array([12]),\n",
              " array([12]),\n",
              " array([12,  8, 12,  6, 12]),\n",
              " array([12,  8, 12, 11]),\n",
              " array([ 5, 12,  8]),\n",
              " array([12,  8]),\n",
              " array([12]),\n",
              " array([12, 12,  8, 11, 12, 11,  8,  8,  6, 12,  8,  8,  6, 12, 12, 12,  8,\n",
              "         8, 10, 11,  7,  2, 11]),\n",
              " array([10, 10, 10]),\n",
              " array([12,  8, 11,  8, 10, 11, 10, 12]),\n",
              " array([12,  8, 11, 11, 10, 10, 10, 11, 11,  8, 11,  3]),\n",
              " array([12, 12, 10, 11, 11,  8, 12, 10, 11,  8,  8,  8, 10,  3]),\n",
              " array([12, 12,  8, 11, 10,  3]),\n",
              " array([12, 11, 11,  8,  8,  8,  4, 12, 11]),\n",
              " array([12])]"
            ]
          },
          "metadata": {
            "tags": []
          },
          "execution_count": 16
        }
      ]
    },
    {
      "cell_type": "markdown",
      "metadata": {
        "id": "CeIWHq5hBkgs",
        "colab_type": "text"
      },
      "source": [
        "## pre-process data into chunks"
      ]
    },
    {
      "cell_type": "code",
      "metadata": {
        "id": "2stZBQcRe960",
        "colab_type": "code",
        "colab": {}
      },
      "source": [
        "empty = encoder.transform(['<EMPTY>'])\n",
        "start = encoder.transform(['<START>'])\n",
        "chunk_size = 5"
      ],
      "execution_count": 0,
      "outputs": []
    },
    {
      "cell_type": "code",
      "metadata": {
        "id": "YUz7R-aKmGH0",
        "colab_type": "code",
        "colab": {}
      },
      "source": [
        "# [ 1, 11,  7, 11,  6] => [[[0, 0, 0, 0, 1], 11], [[0, 0, 0, 1, 11], 7], [[0, 0, 1, 11, 7], 11], [[0, 1, 11, 7, 11], 6]]\n",
        "\n",
        "def create_sequences(seq, chunk_size, empty, start):\n",
        "  # all sequences implicitly start\n",
        "  seq = np.append(start, seq)\n",
        "  # if sequence is too short, we pad it to minimum size at the beginning\n",
        "  seq = np.append(np.full(chunk_size - 1, empty), seq)\n",
        "  \n",
        "  seqs = np.array([])\n",
        "  for index in range(chunk_size, len(seq)):\n",
        "    y = seq[index]\n",
        "    x = seq[index-chunk_size : index]\n",
        "    seqs = np.append(seqs, [x, y])\n",
        "  return seqs"
      ],
      "execution_count": 0,
      "outputs": []
    },
    {
      "cell_type": "code",
      "metadata": {
        "id": "IlZ6LZZN15uo",
        "colab_type": "code",
        "outputId": "16a7cb35-1858-453a-a1f8-7787484d1d14",
        "colab": {
          "base_uri": "https://localhost:8080/",
          "height": 34
        }
      },
      "source": [
        "\n",
        "# seq = transfomed_labels[0]\n",
        "# seq = transfomed_labels[9]\n",
        "seq = transfomed_labels[3]\n",
        "seq"
      ],
      "execution_count": 19,
      "outputs": [
        {
          "output_type": "execute_result",
          "data": {
            "text/plain": [
              "array([12,  8, 12,  7])"
            ]
          },
          "metadata": {
            "tags": []
          },
          "execution_count": 19
        }
      ]
    },
    {
      "cell_type": "code",
      "metadata": {
        "id": "gZ2h1RW84mE9",
        "colab_type": "code",
        "outputId": "df32df59-572e-402a-c8a7-65bb3ea7648d",
        "colab": {
          "base_uri": "https://localhost:8080/",
          "height": 68
        }
      },
      "source": [
        "create_sequences(seq, chunk_size, empty, start)"
      ],
      "execution_count": 20,
      "outputs": [
        {
          "output_type": "execute_result",
          "data": {
            "text/plain": [
              "array([array([0, 0, 0, 0, 1]), 12, array([ 0,  0,  0,  1, 12]), 8,\n",
              "       array([ 0,  0,  1, 12,  8]), 12, array([ 0,  1, 12,  8, 12]), 7],\n",
              "      dtype=object)"
            ]
          },
          "metadata": {
            "tags": []
          },
          "execution_count": 20
        }
      ]
    },
    {
      "cell_type": "code",
      "metadata": {
        "id": "bRQEXaUb4kGD",
        "colab_type": "code",
        "outputId": "16fd29cd-0ba5-4f30-bcab-1baf444c4e9a",
        "colab": {
          "base_uri": "https://localhost:8080/",
          "height": 34
        }
      },
      "source": [
        "seqs = np.array([])\n",
        "for seq in transfomed_labels:\n",
        "  seqs = np.append(seqs, create_sequences(seq, chunk_size, empty, start))\n",
        "seqs = seqs.reshape(-1, 2)\n",
        "seqs.shape"
      ],
      "execution_count": 21,
      "outputs": [
        {
          "output_type": "execute_result",
          "data": {
            "text/plain": [
              "(279, 2)"
            ]
          },
          "metadata": {
            "tags": []
          },
          "execution_count": 21
        }
      ]
    },
    {
      "cell_type": "code",
      "metadata": {
        "id": "xUZY7WpX8p3x",
        "colab_type": "code",
        "outputId": "ac2bc831-9018-4af5-bf85-000cf43d3137",
        "colab": {
          "base_uri": "https://localhost:8080/",
          "height": 34
        }
      },
      "source": [
        "X = seqs[:, 0]\n",
        "# X = X.reshape(-1, chunk_size)\n",
        "X = np.vstack(X).astype('int32')\n",
        "X.dtype, X.shape"
      ],
      "execution_count": 22,
      "outputs": [
        {
          "output_type": "execute_result",
          "data": {
            "text/plain": [
              "(dtype('int32'), (279, 5))"
            ]
          },
          "metadata": {
            "tags": []
          },
          "execution_count": 22
        }
      ]
    },
    {
      "cell_type": "code",
      "metadata": {
        "id": "PYYGotC6ArLG",
        "colab_type": "code",
        "outputId": "21cb23fe-3881-4f94-d13b-cb83767184ee",
        "colab": {
          "base_uri": "https://localhost:8080/",
          "height": 340
        }
      },
      "source": [
        "y = seqs[:, 1].astype('int32')\n",
        "y.dtype, y.shape, y"
      ],
      "execution_count": 23,
      "outputs": [
        {
          "output_type": "execute_result",
          "data": {
            "text/plain": [
              "(dtype('int32'),\n",
              " (279,),\n",
              " array([12,  7,  3, 12,  3, 12, 11, 11, 12,  6, 12, 12,  8, 12,  7,  3, 12,\n",
              "         8,  7,  2, 11, 10, 12,  9, 11,  8, 11, 11,  7, 10, 12, 11,  7, 11,\n",
              "         8,  5, 12, 11,  7,  8,  8,  8, 12, 12,  7,  8, 11, 10,  7,  2, 13,\n",
              "        13, 13, 13, 10,  5, 12, 10,  8, 10, 10, 10, 11, 10, 10,  6, 12, 11,\n",
              "         7, 12,  7,  8,  8, 10, 11, 10,  6, 12, 11,  7,  8,  8, 10, 10, 12,\n",
              "         7, 11,  2, 10, 13, 13, 11,  8,  8, 13, 13, 10,  5, 10, 12, 10, 11,\n",
              "        12, 12,  8,  6, 12, 11, 11, 11,  8,  8, 12,  6, 12,  7,  8,  8,  5,\n",
              "         6, 12, 11,  8,  8, 11,  6, 12, 11,  7, 11, 10, 10, 12, 11, 11, 10,\n",
              "        10, 12, 11,  7,  8,  8, 11, 10, 12, 12, 12,  3, 10, 11, 10, 10,  3,\n",
              "         3, 10, 10, 10, 12, 11, 11,  8,  8, 10, 11, 12, 12, 11, 12,  8, 11,\n",
              "        11, 10, 10, 11, 11, 12, 12,  8, 11, 11, 11,  8, 12,  8, 11, 11, 12,\n",
              "        12, 12,  8, 12,  6, 12, 12,  8, 12, 11,  5, 12,  8, 12,  8, 12, 12,\n",
              "        12,  8, 11, 12, 11,  8,  8,  6, 12,  8,  8,  6, 12, 12, 12,  8,  8,\n",
              "        10, 11,  7,  2, 11, 10, 10, 10, 12,  8, 11,  8, 10, 11, 10, 12, 12,\n",
              "         8, 11, 11, 10, 10, 10, 11, 11,  8, 11,  3, 12, 12, 10, 11, 11,  8,\n",
              "        12, 10, 11,  8,  8,  8, 10,  3, 12, 12,  8, 11, 10,  3, 12, 11, 11,\n",
              "         8,  8,  8,  4, 12, 11, 12], dtype=int32))"
            ]
          },
          "metadata": {
            "tags": []
          },
          "execution_count": 23
        }
      ]
    },
    {
      "cell_type": "markdown",
      "metadata": {
        "id": "r9nB_r-ABpl7",
        "colab_type": "text"
      },
      "source": [
        "## Training"
      ]
    },
    {
      "cell_type": "code",
      "metadata": {
        "id": "rQ6o5bkU6Pha",
        "colab_type": "code",
        "outputId": "44d7577e-9b2c-4764-f042-311e687e0443",
        "colab": {
          "base_uri": "https://localhost:8080/",
          "height": 377
        }
      },
      "source": [
        "import tensorflow as tf\n",
        "from tensorflow import keras\n",
        "from tensorflow.keras.layers import Dense, LSTM, GRU, SimpleRNN, Embedding, BatchNormalization, Dropout\n",
        "from tensorflow.keras.models import Sequential, Model\n",
        "\n",
        "embedding_dim = 2\n",
        "n_buttons = len(encoder.classes_)\n",
        "\n",
        "dropout = .6\n",
        "recurrent_dropout = .6\n",
        "\n",
        "model = Sequential()\n",
        "model.add(Embedding(name='embedding',\n",
        "                    input_dim=n_buttons, \n",
        "                    output_dim=embedding_dim, \n",
        "                    input_length=chunk_size))\n",
        "\n",
        "model.add(SimpleRNN(units=50, activation='relu', name=\"RNN\", recurrent_dropout=recurrent_dropout))\n",
        "# model.add(GRU(units=25, activation='relu', name=\"RNN\", recurrent_dropout=0.5))\n",
        "# model.add(LSTM(units=25, activation='relu', name=\"RNN\", recurrent_dropout=0.5))\n",
        "\n",
        "model.add(BatchNormalization())\n",
        "model.add(Dropout(dropout))\n",
        "\n",
        "model.add(Dense(units=n_buttons, name='softmax', activation='softmax'))\n",
        "model.compile(optimizer='adam', loss='sparse_categorical_crossentropy', metrics=['accuracy'])\n",
        "model.summary()"
      ],
      "execution_count": 24,
      "outputs": [
        {
          "output_type": "stream",
          "text": [
            "WARNING:tensorflow:Large dropout rate: 0.6 (>0.5). In TensorFlow 2.x, dropout() uses dropout rate instead of keep_prob. Please ensure that this is intended.\n",
            "WARNING:tensorflow:Large dropout rate: 0.6 (>0.5). In TensorFlow 2.x, dropout() uses dropout rate instead of keep_prob. Please ensure that this is intended.\n",
            "Model: \"sequential\"\n",
            "_________________________________________________________________\n",
            "Layer (type)                 Output Shape              Param #   \n",
            "=================================================================\n",
            "embedding (Embedding)        (None, 5, 2)              28        \n",
            "_________________________________________________________________\n",
            "RNN (SimpleRNN)              (None, 50)                2650      \n",
            "_________________________________________________________________\n",
            "batch_normalization (BatchNo (None, 50)                200       \n",
            "_________________________________________________________________\n",
            "dropout (Dropout)            (None, 50)                0         \n",
            "_________________________________________________________________\n",
            "softmax (Dense)              (None, 14)                714       \n",
            "=================================================================\n",
            "Total params: 3,592\n",
            "Trainable params: 3,492\n",
            "Non-trainable params: 100\n",
            "_________________________________________________________________\n"
          ],
          "name": "stdout"
        }
      ]
    },
    {
      "cell_type": "code",
      "metadata": {
        "id": "oGO7UyA2_hFM",
        "colab_type": "code",
        "outputId": "2b272a79-e53e-405b-ad2f-9c5bfcb12b2f",
        "colab": {
          "base_uri": "https://localhost:8080/",
          "height": 173
        }
      },
      "source": [
        "%%time\n",
        "\n",
        "EPOCHS = 1000\n",
        "BATCH_SIZE = 100\n",
        "\n",
        "history = model.fit(X, y, \n",
        "                    batch_size=BATCH_SIZE,\n",
        "                    epochs=EPOCHS, verbose=0, validation_split=0.2)"
      ],
      "execution_count": 25,
      "outputs": [
        {
          "output_type": "stream",
          "text": [
            "WARNING:tensorflow:Large dropout rate: 0.6 (>0.5). In TensorFlow 2.x, dropout() uses dropout rate instead of keep_prob. Please ensure that this is intended.\n",
            "WARNING:tensorflow:Large dropout rate: 0.6 (>0.5). In TensorFlow 2.x, dropout() uses dropout rate instead of keep_prob. Please ensure that this is intended.\n",
            "WARNING:tensorflow:Entity <function Function._initialize_uninitialized_variables.<locals>.initialize_variables at 0x7fe6b0a68d90> could not be transformed and will be executed as-is. Please report this to the AutoGraph team. When filing the bug, set the verbosity to 10 (on Linux, `export AUTOGRAPH_VERBOSITY=10`) and attach the full output. Cause: module 'gast' has no attribute 'Num'\n",
            "WARNING: Entity <function Function._initialize_uninitialized_variables.<locals>.initialize_variables at 0x7fe6b0a68d90> could not be transformed and will be executed as-is. Please report this to the AutoGraph team. When filing the bug, set the verbosity to 10 (on Linux, `export AUTOGRAPH_VERBOSITY=10`) and attach the full output. Cause: module 'gast' has no attribute 'Num'\n",
            "WARNING:tensorflow:Large dropout rate: 0.6 (>0.5). In TensorFlow 2.x, dropout() uses dropout rate instead of keep_prob. Please ensure that this is intended.\n",
            "WARNING:tensorflow:Large dropout rate: 0.6 (>0.5). In TensorFlow 2.x, dropout() uses dropout rate instead of keep_prob. Please ensure that this is intended.\n",
            "CPU times: user 59.5 s, sys: 4.53 s, total: 1min 4s\n",
            "Wall time: 45.9 s\n"
          ],
          "name": "stdout"
        }
      ]
    },
    {
      "cell_type": "code",
      "metadata": {
        "id": "po7tURch_hFP",
        "colab_type": "code",
        "outputId": "a02c708e-9c2b-4e6b-de98-ea45fc72f872",
        "colab": {
          "base_uri": "https://localhost:8080/",
          "height": 71
        }
      },
      "source": [
        "loss, accuracy = model.evaluate(X, y, batch_size=BATCH_SIZE)\n",
        "accuracy"
      ],
      "execution_count": 26,
      "outputs": [
        {
          "output_type": "stream",
          "text": [
            "\r279/1 [==================================================================================================================================================================================================================================================================================================================================================================================================================================================================================================================================================================================================================================================================================================================================================================================================================================================================================================================================================================================================================================================================================================================================================================================================================================================================================================================================================================================================================================================================================================================================================================================================================================================================================================================================================================================================================================================================================================================================================================================================================================================================================================================================================================================================================================================================================================================================================================================================================================================================================================================================================================================================================================================================================================================================================================================================================================================================================================================================================================================================================================================================================================================================================================================================================================================================================================================================================================================================================================================================================================================================================================================================================================================================================================================================================================================================================================================================================================================================================================================================================================================================================================================================================================================================================================================================================================================================================================================================================================================================================================================================================================================================================================================================================================================================================================================================================================================================================================================================================================================================================================================================================================================================================================================================================================================================================================================================================================================================================================================================================================================================================================================================================================================================================================================================================================================================================================================================================================================================================================================================================================================================================================================================================================================================================================================================================================================================================================================================================================================================================================================================================================================================================================================================================================================================================================================================================================================================================================================================================================================================================================================================================================================================================================================================================================================================================================================================================================================================================================================================================================================================================================================================================================================================================================================================================================================================================================================================================================================================================================================================================================================================================================================================================================================================================================================================================================================================================================================================================================================================================================================================================================================================================================================================================================================] - 0s 48us/sample - loss: 1.4925 - accuracy: 0.5269\n"
          ],
          "name": "stdout"
        },
        {
          "output_type": "execute_result",
          "data": {
            "text/plain": [
              "0.5268817"
            ]
          },
          "metadata": {
            "tags": []
          },
          "execution_count": 26
        }
      ]
    },
    {
      "cell_type": "code",
      "metadata": {
        "id": "uqMFRTwp_hFR",
        "colab_type": "code",
        "outputId": "d1f3ea66-f7d4-4882-ee09-f7f7073b969d",
        "colab": {
          "base_uri": "https://localhost:8080/",
          "height": 300
        }
      },
      "source": [
        "%matplotlib inline\n",
        "\n",
        "import matplotlib.pyplot as plt\n",
        "\n",
        "# plt.yscale('log')\n",
        "plt.ylabel('loss')\n",
        "plt.xlabel('epochs')\n",
        "\n",
        "plt.plot(history.history['loss'])\n",
        "plt.plot(history.history['val_loss'])\n",
        "\n",
        "plt.legend(['loss', 'val_loss'])"
      ],
      "execution_count": 27,
      "outputs": [
        {
          "output_type": "execute_result",
          "data": {
            "text/plain": [
              "<matplotlib.legend.Legend at 0x7fe6b0e32f28>"
            ]
          },
          "metadata": {
            "tags": []
          },
          "execution_count": 27
        },
        {
          "output_type": "display_data",
          "data": {
            "image/png": "[encoded data removed]",
            "text/plain": [
              "<Figure size 432x288 with 1 Axes>"
            ]
          },
          "metadata": {
            "tags": []
          }
        }
      ]
    },
    {
      "cell_type": "code",
      "metadata": {
        "id": "CS1Gynas_hFT",
        "colab_type": "code",
        "outputId": "cfbce644-23cb-4e01-a32d-da9cff1d7c8c",
        "colab": {
          "base_uri": "https://localhost:8080/",
          "height": 300
        }
      },
      "source": [
        "plt.ylabel('accuracy')\n",
        "plt.xlabel('epochs')\n",
        "\n",
        "# TF 2.0\n",
        "plt.plot(history.history['accuracy'])\n",
        "plt.plot(history.history['val_accuracy'])\n",
        "# plt.plot(history.history['acc'])\n",
        "# plt.plot(history.history['val_acc'])\n",
        "\n",
        "plt.legend(['accuracy', 'val_accuracy'])"
      ],
      "execution_count": 28,
      "outputs": [
        {
          "output_type": "execute_result",
          "data": {
            "text/plain": [
              "<matplotlib.legend.Legend at 0x7fe6aef46710>"
            ]
          },
          "metadata": {
            "tags": []
          },
          "execution_count": 28
        },
        {
          "output_type": "display_data",
          "data": {
            "image/png": "[encoded data removed]",
            "text/plain": [
              "<Figure size 432x288 with 1 Axes>"
            ]
          },
          "metadata": {
            "tags": []
          }
        }
      ]
    },
    {
      "cell_type": "code",
      "metadata": {
        "id": "h7ZO4M2I_hFV",
        "colab_type": "code",
        "colab": {
          "base_uri": "https://localhost:8080/",
          "height": 85
        },
        "outputId": "aec3b786-00aa-49c2-e135-13315c83ccf2"
      },
      "source": [
        "model.predict([[X[0]]])"
      ],
      "execution_count": 29,
      "outputs": [
        {
          "output_type": "execute_result",
          "data": {
            "text/plain": [
              "array([[9.78894386e-05, 1.08205553e-04, 2.70361576e-04, 8.18726271e-02,\n",
              "        1.02920734e-04, 3.86499688e-02, 2.20555719e-03, 1.37578498e-03,\n",
              "        1.55323360e-03, 2.53209961e-04, 1.29948379e-02, 9.63301025e-03,\n",
              "        8.07070315e-01, 4.38120663e-02]], dtype=float32)"
            ]
          },
          "metadata": {
            "tags": []
          },
          "execution_count": 29
        }
      ]
    },
    {
      "cell_type": "code",
      "metadata": {
        "id": "VEGNcvSv_hFX",
        "colab_type": "code",
        "colab": {
          "base_uri": "https://localhost:8080/",
          "height": 34
        },
        "outputId": "44ee8a7e-2427-4608-a1ee-e5b90cfb1b59"
      },
      "source": [
        "model.predict([[X[0]]]).argmax()"
      ],
      "execution_count": 30,
      "outputs": [
        {
          "output_type": "execute_result",
          "data": {
            "text/plain": [
              "12"
            ]
          },
          "metadata": {
            "tags": []
          },
          "execution_count": 30
        }
      ]
    },
    {
      "cell_type": "code",
      "metadata": {
        "id": "RpdLq4RT_hFa",
        "colab_type": "code",
        "colab": {
          "base_uri": "https://localhost:8080/",
          "height": 34
        },
        "outputId": "d14cc71f-aee3-4dcd-fb21-3fe5ef479dcb"
      },
      "source": [
        "y[0]"
      ],
      "execution_count": 31,
      "outputs": [
        {
          "output_type": "execute_result",
          "data": {
            "text/plain": [
              "12"
            ]
          },
          "metadata": {
            "tags": []
          },
          "execution_count": 31
        }
      ]
    },
    {
      "cell_type": "code",
      "metadata": {
        "id": "--ZGTfeohmS_",
        "colab_type": "code",
        "colab": {
          "base_uri": "https://localhost:8080/",
          "height": 306
        },
        "outputId": "c0a348d8-7de6-4f2c-883f-06259765d1c6"
      },
      "source": [
        "y_pred = model.predict([X]).argmax(axis=1)\n",
        "y_pred"
      ],
      "execution_count": 32,
      "outputs": [
        {
          "output_type": "execute_result",
          "data": {
            "text/plain": [
              "array([12,  8, 12, 12, 12, 12, 11, 11, 11, 11, 12, 12,  8, 11, 11, 12, 12,\n",
              "       11, 11,  2, 10, 10, 12,  8, 11,  8,  8, 10, 11,  8, 12,  8, 11,  8,\n",
              "       11,  8, 12, 11, 11,  8,  8, 10, 12,  8, 11,  8,  8, 10, 10,  2, 12,\n",
              "       13, 10, 13, 10, 12, 12,  8, 10, 10, 10, 10, 10, 10, 10, 10, 12, 11,\n",
              "       11,  8, 11,  8,  8, 10, 10, 10, 10, 12, 11, 11,  8,  8, 10, 10, 12,\n",
              "        8, 11, 11, 10, 10, 13, 10,  8,  8, 12, 13, 10, 10, 10, 12,  8, 10,\n",
              "       12, 12,  8, 11, 12, 11, 11, 11, 10,  8, 10, 11, 12, 11,  8,  8, 10,\n",
              "       10, 12, 11, 11,  8, 10, 10, 12, 11, 11,  8, 11, 10, 10, 11, 11, 11,\n",
              "       10, 10, 11, 11,  8,  8, 10, 10, 12, 12, 12,  8, 10, 10, 10, 12, 12,\n",
              "       10, 10, 10, 10, 10, 11, 11, 11,  8, 10, 10, 10, 12,  8, 12,  8, 11,\n",
              "       10, 10, 10, 10, 10, 12, 12,  8, 12,  8, 11, 10, 12,  8, 11, 10, 12,\n",
              "       12, 12,  8, 11, 11, 12, 12,  8, 11, 11, 12, 12,  8, 12,  8, 12, 12,\n",
              "        8, 11,  8, 10, 11, 11,  8, 10, 12, 11,  8, 10, 12, 11, 11,  8,  8,\n",
              "       10, 10, 10,  8, 10, 12, 12, 10, 12,  8, 11, 10,  8, 10, 10, 10, 12,\n",
              "        8, 11, 10, 10, 10, 10, 10, 10, 11,  8, 10, 12,  8, 11, 11, 10, 11,\n",
              "        8, 11, 10, 10,  8, 10, 10, 10, 12,  8, 11,  8, 10, 10, 12,  8, 11,\n",
              "       11,  8, 10, 10, 10, 11, 12])"
            ]
          },
          "metadata": {
            "tags": []
          },
          "execution_count": 32
        }
      ]
    },
    {
      "cell_type": "code",
      "metadata": {
        "id": "rTgT0xH7KeNQ",
        "colab_type": "code",
        "colab": {
          "base_uri": "https://localhost:8080/",
          "height": 306
        },
        "outputId": "6496e7e3-2e14-4b04-a1aa-b7f86264c1f7"
      },
      "source": [
        "y"
      ],
      "execution_count": 33,
      "outputs": [
        {
          "output_type": "execute_result",
          "data": {
            "text/plain": [
              "array([12,  7,  3, 12,  3, 12, 11, 11, 12,  6, 12, 12,  8, 12,  7,  3, 12,\n",
              "        8,  7,  2, 11, 10, 12,  9, 11,  8, 11, 11,  7, 10, 12, 11,  7, 11,\n",
              "        8,  5, 12, 11,  7,  8,  8,  8, 12, 12,  7,  8, 11, 10,  7,  2, 13,\n",
              "       13, 13, 13, 10,  5, 12, 10,  8, 10, 10, 10, 11, 10, 10,  6, 12, 11,\n",
              "        7, 12,  7,  8,  8, 10, 11, 10,  6, 12, 11,  7,  8,  8, 10, 10, 12,\n",
              "        7, 11,  2, 10, 13, 13, 11,  8,  8, 13, 13, 10,  5, 10, 12, 10, 11,\n",
              "       12, 12,  8,  6, 12, 11, 11, 11,  8,  8, 12,  6, 12,  7,  8,  8,  5,\n",
              "        6, 12, 11,  8,  8, 11,  6, 12, 11,  7, 11, 10, 10, 12, 11, 11, 10,\n",
              "       10, 12, 11,  7,  8,  8, 11, 10, 12, 12, 12,  3, 10, 11, 10, 10,  3,\n",
              "        3, 10, 10, 10, 12, 11, 11,  8,  8, 10, 11, 12, 12, 11, 12,  8, 11,\n",
              "       11, 10, 10, 11, 11, 12, 12,  8, 11, 11, 11,  8, 12,  8, 11, 11, 12,\n",
              "       12, 12,  8, 12,  6, 12, 12,  8, 12, 11,  5, 12,  8, 12,  8, 12, 12,\n",
              "       12,  8, 11, 12, 11,  8,  8,  6, 12,  8,  8,  6, 12, 12, 12,  8,  8,\n",
              "       10, 11,  7,  2, 11, 10, 10, 10, 12,  8, 11,  8, 10, 11, 10, 12, 12,\n",
              "        8, 11, 11, 10, 10, 10, 11, 11,  8, 11,  3, 12, 12, 10, 11, 11,  8,\n",
              "       12, 10, 11,  8,  8,  8, 10,  3, 12, 12,  8, 11, 10,  3, 12, 11, 11,\n",
              "        8,  8,  8,  4, 12, 11, 12], dtype=int32)"
            ]
          },
          "metadata": {
            "tags": []
          },
          "execution_count": 33
        }
      ]
    },
    {
      "cell_type": "code",
      "metadata": {
        "id": "iCFPYjo-ga6m",
        "colab_type": "code",
        "colab": {
          "base_uri": "https://localhost:8080/",
          "height": 289
        },
        "outputId": "e79dba34-acf8-4729-9996-54a31cee712d"
      },
      "source": [
        "# TF 2.0\n",
        "cm = tf.math.confusion_matrix(labels=tf.constant(y, dtype=tf.int64), predictions=tf.constant(y_pred, dtype=tf.int64))\n",
        "cm"
      ],
      "execution_count": 34,
      "outputs": [
        {
          "output_type": "execute_result",
          "data": {
            "text/plain": [
              "<tf.Tensor: id=22121, shape=(14, 14), dtype=int32, numpy=\n",
              "array([[ 0,  0,  0,  0,  0,  0,  0,  0,  0,  0,  0,  0,  0,  0],\n",
              "       [ 0,  0,  0,  0,  0,  0,  0,  0,  0,  0,  0,  0,  0,  0],\n",
              "       [ 0,  0,  2,  0,  0,  0,  0,  0,  1,  0,  0,  1,  0,  0],\n",
              "       [ 0,  0,  0,  0,  0,  0,  0,  0,  1,  0,  4,  0,  4,  0],\n",
              "       [ 0,  0,  0,  0,  0,  0,  0,  0,  0,  0,  1,  0,  0,  0],\n",
              "       [ 0,  0,  0,  0,  0,  0,  0,  0,  1,  0,  2,  0,  2,  0],\n",
              "       [ 0,  0,  0,  0,  0,  0,  0,  0,  0,  0,  6,  4,  0,  0],\n",
              "       [ 0,  0,  0,  0,  0,  0,  0,  0,  2,  0,  2, 12,  0,  0],\n",
              "       [ 0,  0,  0,  0,  0,  0,  0,  0, 34,  0,  8, 11,  0,  0],\n",
              "       [ 0,  0,  0,  0,  0,  0,  0,  0,  1,  0,  0,  0,  0,  0],\n",
              "       [ 0,  0,  0,  0,  0,  0,  0,  0,  4,  0, 34,  4,  3,  0],\n",
              "       [ 0,  0,  0,  0,  0,  0,  0,  0, 11,  0, 22, 27,  1,  0],\n",
              "       [ 0,  0,  0,  0,  0,  0,  0,  0,  6,  0,  8,  6, 46,  0],\n",
              "       [ 0,  0,  0,  0,  0,  0,  0,  0,  0,  0,  2,  0,  2,  4]],\n",
              "      dtype=int32)>"
            ]
          },
          "metadata": {
            "tags": []
          },
          "execution_count": 34
        }
      ]
    },
    {
      "cell_type": "code",
      "metadata": {
        "id": "qwV7StyWjYVa",
        "colab_type": "code",
        "colab": {
          "base_uri": "https://localhost:8080/",
          "height": 575
        },
        "outputId": "03b0f7ff-7923-47cc-eb0e-3ec100940705"
      },
      "source": [
        "import seaborn as sns\n",
        "\n",
        "classes = encoder.classes_\n",
        "\n",
        "plt.figure(figsize=(8, 8))\n",
        "\n",
        "sns.heatmap(cm, annot=True, fmt=\"d\", xticklabels=classes, yticklabels=classes);"
      ],
      "execution_count": 35,
      "outputs": [
        {
          "output_type": "display_data",
          "data": {
            "image/png": "[encoded data removed]",
            "text/plain": [
              "<Figure size 576x576 with 2 Axes>"
            ]
          },
          "metadata": {
            "tags": []
          }
        }
      ]
    },
    {
      "cell_type": "code",
      "metadata": {
        "id": "Jx5FYRmWFIwH",
        "colab_type": "code",
        "colab": {
          "base_uri": "https://localhost:8080/",
          "height": 34
        },
        "outputId": "f1d3c5fb-b639-48b5-8887-0e3072970e83"
      },
      "source": [
        "embedding_layer = model.get_layer('embedding')\n",
        "embedding_model = Model(inputs=model.input, outputs=embedding_layer.output)\n",
        "embeddings_2d = embedding_model.predict(X)\n",
        "embeddings_2d.shape"
      ],
      "execution_count": 36,
      "outputs": [
        {
          "output_type": "execute_result",
          "data": {
            "text/plain": [
              "(279, 5, 2)"
            ]
          },
          "metadata": {
            "tags": []
          },
          "execution_count": 36
        }
      ]
    },
    {
      "cell_type": "code",
      "metadata": {
        "id": "LixJiOr6FnoA",
        "colab_type": "code",
        "colab": {
          "base_uri": "https://localhost:8080/",
          "height": 102
        },
        "outputId": "bad13eb4-540c-4cec-fa6a-431bff6bae3a"
      },
      "source": [
        "encoder.classes_"
      ],
      "execution_count": 37,
      "outputs": [
        {
          "output_type": "execute_result",
          "data": {
            "text/plain": [
              "array(['<EMPTY>', '<START>', 'download-model', 'load-local-model',\n",
              "       'load-remote-model', 'reset-data', 'reset-model',\n",
              "       'save-model-to-local', 'show-eval', 'show-model',\n",
              "       'toggle-prediction', 'toggle-visor', 'train-model', 'upload-model'],\n",
              "      dtype='<U19')"
            ]
          },
          "metadata": {
            "tags": []
          },
          "execution_count": 37
        }
      ]
    },
    {
      "cell_type": "code",
      "metadata": {
        "id": "8UFFhpTXRKTt",
        "colab_type": "code",
        "colab": {}
      },
      "source": [
        "encoded_classes = encoder.transform(encoder.classes_)"
      ],
      "execution_count": 0,
      "outputs": []
    },
    {
      "cell_type": "code",
      "metadata": {
        "id": "Jy1hM7tMSSQ9",
        "colab_type": "code",
        "colab": {}
      },
      "source": [
        "same_button_seqs = np.repeat(encoded_classes, 5).reshape(14, 5)"
      ],
      "execution_count": 0,
      "outputs": []
    },
    {
      "cell_type": "code",
      "metadata": {
        "id": "lqzUPT1qV9Yq",
        "colab_type": "code",
        "colab": {
          "base_uri": "https://localhost:8080/",
          "height": 34
        },
        "outputId": "f81c8350-b5c6-4ebb-af49-e06a68e21090"
      },
      "source": [
        "embeddings_2d = embedding_model.predict(same_button_seqs)\n",
        "embeddings_2d.shape"
      ],
      "execution_count": 40,
      "outputs": [
        {
          "output_type": "execute_result",
          "data": {
            "text/plain": [
              "(14, 5, 2)"
            ]
          },
          "metadata": {
            "tags": []
          },
          "execution_count": 40
        }
      ]
    },
    {
      "cell_type": "code",
      "metadata": {
        "id": "-pwG6XdVWDgl",
        "colab_type": "code",
        "colab": {
          "base_uri": "https://localhost:8080/",
          "height": 255
        },
        "outputId": "da08fdfe-4f7e-4667-be61-4d955951a80a"
      },
      "source": [
        "only_first = embeddings_2d[:, 0, :]\n",
        "only_first"
      ],
      "execution_count": 41,
      "outputs": [
        {
          "output_type": "execute_result",
          "data": {
            "text/plain": [
              "array([[-0.00781773, -0.00638027],\n",
              "       [-0.15964448,  0.05347453],\n",
              "       [-0.04041966, -0.00026357],\n",
              "       [-0.07364755,  0.0285954 ],\n",
              "       [ 0.00276493, -0.0462673 ],\n",
              "       [-0.10611954,  0.00841947],\n",
              "       [-0.10117791,  0.21063556],\n",
              "       [ 0.16280444, -0.10450128],\n",
              "       [ 0.04665007, -0.17037311],\n",
              "       [ 0.13859741,  0.22828631],\n",
              "       [-0.10123737, -0.05630664],\n",
              "       [ 0.08001171,  0.01762263],\n",
              "       [ 0.13432185,  0.04202359],\n",
              "       [-0.22794957, -0.2202854 ]], dtype=float32)"
            ]
          },
          "metadata": {
            "tags": []
          },
          "execution_count": 41
        }
      ]
    },
    {
      "cell_type": "code",
      "metadata": {
        "id": "YhzQj78OL5_w",
        "colab_type": "code",
        "colab": {
          "base_uri": "https://localhost:8080/",
          "height": 678
        },
        "outputId": "2d2d20e2-493f-42ab-b6ca-c181d5f1137c"
      },
      "source": [
        "# for printing only\n",
        "plt.figure(figsize=(10,10))\n",
        "# plt.figure(dpi=600)\n",
        "# plt.figure(dpi=300)\n",
        "\n",
        "plt.axis('off')\n",
        "\n",
        "\n",
        "plt.scatter(only_first[:, 0], only_first[:, 1], s=200)\n",
        "for name, x_pos, y_pos in zip(encoder.classes_, only_first[:, 0], only_first[:, 1]):\n",
        "#   print(name, (x_pos, y_pos))\n",
        "  plt.annotate(name, (x_pos, y_pos),  rotation=-60, size=25)"
      ],
      "execution_count": 42,
      "outputs": [
        {
          "output_type": "display_data",
          "data": {
            "image/png": "[encoded data removed]",
            "text/plain": [
              "<Figure size 720x720 with 1 Axes>"
            ]
          },
          "metadata": {
            "tags": []
          }
        }
      ]
    },
    {
      "cell_type": "code",
      "metadata": {
        "id": "GWR9vXsJa_c1",
        "colab_type": "code",
        "colab": {
          "base_uri": "https://localhost:8080/",
          "height": 340
        },
        "outputId": "e355489b-f438-4e61-86db-0a2ce0569809"
      },
      "source": [
        "from sklearn.decomposition import PCA\n",
        "import numpy as np\n",
        "\n",
        "embeddings_1d = PCA(n_components=1).fit_transform(only_first)\n",
        "\n",
        "# for printing only\n",
        "plt.figure(figsize=(25,5))\n",
        "# plt.figure(dpi=300)\n",
        "\n",
        "plt.axis('off')\n",
        "\n",
        "plt.scatter(embeddings_1d, np.zeros(len(embeddings_1d)), s=80)\n",
        "for name, x_pos in zip(encoder.classes_, embeddings_1d):\n",
        "  plt.annotate(name, (x_pos, 0), rotation=-45)"
      ],
      "execution_count": 43,
      "outputs": [
        {
          "output_type": "display_data",
          "data": {
            "image/png": "[encoded data removed]",
            "text/plain": [
              "<Figure size 1800x360 with 1 Axes>"
            ]
          },
          "metadata": {
            "tags": []
          }
        }
      ]
    },
    {
      "cell_type": "markdown",
      "metadata": {
        "id": "Rv2Yo1SsBvYn",
        "colab_type": "text"
      },
      "source": [
        "## Convert Model into tfjs format\n",
        "\n",
        "* https://www.tensorflow.org/js/tutorials/conversion/import_keras"
      ]
    },
    {
      "cell_type": "code",
      "metadata": {
        "id": "Xbv45tMgCIkn",
        "colab_type": "code",
        "colab": {
          "base_uri": "https://localhost:8080/",
          "height": 255
        },
        "outputId": "5c9bed22-95fd-4e10-cb0b-897b170e3d66"
      },
      "source": [
        "!pip install -q tensorflowjs"
      ],
      "execution_count": 44,
      "outputs": [
        {
          "output_type": "stream",
          "text": [
            "\u001b[K     |████████████████████████████████| 51kB 2.0MB/s \n",
            "\u001b[K     |████████████████████████████████| 17.3MB 7.3MB/s \n",
            "\u001b[K     |████████████████████████████████| 81kB 22.5MB/s \n",
            "\u001b[K     |████████████████████████████████| 2.8MB 37.9MB/s \n",
            "\u001b[K     |████████████████████████████████| 109.2MB 337kB/s \n",
            "\u001b[K     |████████████████████████████████| 317kB 37.4MB/s \n",
            "\u001b[K     |████████████████████████████████| 256kB 45.0MB/s \n",
            "\u001b[K     |████████████████████████████████| 890kB 47.3MB/s \n",
            "\u001b[K     |████████████████████████████████| 655kB 43.4MB/s \n",
            "\u001b[?25h  Building wheel for PyInquirer (setup.py) ... \u001b[?25l\u001b[?25hdone\n",
            "  Building wheel for regex (setup.py) ... \u001b[?25l\u001b[?25hdone\n",
            "\u001b[31mERROR: google-colab 1.0.0 has requirement six~=1.12.0, but you'll have six 1.11.0 which is incompatible.\u001b[0m\n",
            "\u001b[31mERROR: datascience 0.10.6 has requirement folium==0.2.1, but you'll have folium 0.8.3 which is incompatible.\u001b[0m\n",
            "\u001b[31mERROR: albumentations 0.1.12 has requirement imgaug<0.2.7,>=0.2.5, but you'll have imgaug 0.2.9 which is incompatible.\u001b[0m\n"
          ],
          "name": "stdout"
        }
      ]
    },
    {
      "cell_type": "code",
      "metadata": {
        "id": "crq3LXdj_hFc",
        "colab_type": "code",
        "colab": {}
      },
      "source": [
        "model.save('ux.h5', save_format='h5')"
      ],
      "execution_count": 0,
      "outputs": []
    },
    {
      "cell_type": "code",
      "metadata": {
        "id": "_sRLDfTDB8GS",
        "colab_type": "code",
        "outputId": "d8b9c50a-58e3-4f2b-ad70-189ad1c0d3b2",
        "colab": {
          "base_uri": "https://localhost:8080/",
          "height": 68
        }
      },
      "source": [
        "!ls -l"
      ],
      "execution_count": 46,
      "outputs": [
        {
          "output_type": "stream",
          "text": [
            "total 88\n",
            "drwxr-xr-x 1 root root  4096 Aug 27 16:17 sample_data\n",
            "-rw-r--r-- 1 root root 82488 Sep 15 08:56 ux.h5\n"
          ],
          "name": "stdout"
        }
      ]
    },
    {
      "cell_type": "code",
      "metadata": {
        "id": "bqztV867_hFd",
        "colab_type": "code",
        "outputId": "ec218017-47f6-489f-b6f8-4fd72c9e36f8",
        "colab": {
          "base_uri": "https://localhost:8080/",
          "height": 255
        }
      },
      "source": [
        "!tensorflowjs_converter --input_format keras ux.h5 tfjs"
      ],
      "execution_count": 47,
      "outputs": [
        {
          "output_type": "stream",
          "text": [
            "Traceback (most recent call last):\n",
            "  File \"/usr/local/bin/tensorflowjs_converter\", line 6, in <module>\n",
            "    from tensorflowjs.converters.converter import pip_main\n",
            "  File \"/usr/local/lib/python3.6/dist-packages/tensorflowjs/__init__.py\", line 21, in <module>\n",
            "    from tensorflowjs import converters\n",
            "  File \"/usr/local/lib/python3.6/dist-packages/tensorflowjs/converters/__init__.py\", line 24, in <module>\n",
            "    from tensorflowjs.converters.tf_saved_model_conversion_v2 import convert_tf_saved_model\n",
            "  File \"/usr/local/lib/python3.6/dist-packages/tensorflowjs/converters/tf_saved_model_conversion_v2.py\", line 36, in <module>\n",
            "    import tensorflow_hub as hub\n",
            "  File \"/usr/local/lib/python3.6/dist-packages/tensorflow_hub/__init__.py\", line 29, in <module>\n",
            "    from tensorflow_hub.estimator import LatestModuleExporter\n",
            "  File \"/usr/local/lib/python3.6/dist-packages/tensorflow_hub/estimator.py\", line 63, in <module>\n",
            "    class LatestModuleExporter(tf_v1.estimator.Exporter):\n",
            "AttributeError: module 'tensorflow_hub.tf_v1' has no attribute 'estimator'\n"
          ],
          "name": "stdout"
        }
      ]
    },
    {
      "cell_type": "code",
      "metadata": {
        "id": "2GH6PYWgCDYc",
        "colab_type": "code",
        "colab": {
          "base_uri": "https://localhost:8080/",
          "height": 34
        },
        "outputId": "3b7a56fb-1a99-46c3-ef29-547871592b2d"
      },
      "source": [
        "!ls -l tfjs"
      ],
      "execution_count": 48,
      "outputs": [
        {
          "output_type": "stream",
          "text": [
            "ls: cannot access 'tfjs': No such file or directory\n"
          ],
          "name": "stdout"
        }
      ]
    },
    {
      "cell_type": "markdown",
      "metadata": {
        "id": "Xd5GPZiUkpTD",
        "colab_type": "text"
      },
      "source": [
        "Download using _Files_ menu on the left"
      ]
    },
    {
      "cell_type": "code",
      "metadata": {
        "id": "lsd2Kj8ECJu3",
        "colab_type": "code",
        "colab": {}
      },
      "source": [
        ""
      ],
      "execution_count": 0,
      "outputs": []
    }
  ]
}