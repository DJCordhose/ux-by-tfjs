{
  "nbformat": 4,
  "nbformat_minor": 0,
  "metadata": {
    "colab": {
      "name": "rnn-model.ipynb",
      "version": "0.3.2",
      "provenance": [],
      "toc_visible": true,
      "include_colab_link": true
    },
    "kernelspec": {
      "display_name": "Python 3",
      "language": "python",
      "name": "python3"
    },
    "accelerator": "GPU"
  },
  "cells": [
    {
      "cell_type": "markdown",
      "metadata": {
        "id": "view-in-github",
        "colab_type": "text"
      },
      "source": [
        "<a href=\"https://colab.research.google.com/github/DJCordhose/ux-by-tfjs/blob/master/notebooks/click-sequence-model.ipynb\" target=\"_parent\"><img src=\"https://colab.research.google.com/assets/colab-badge.svg\" alt=\"Open In Colab\"/></a>"
      ]
    },
    {
      "cell_type": "markdown",
      "metadata": {
        "colab_type": "text",
        "id": "XdfXfXK2-CiG"
      },
      "source": [
        "# Training on Sequences of Clicks on the Server\n",
        "\n",
        "Make sure to run this from top to bottom to export model, otherwise names of layers cause tf.js to bail out"
      ]
    },
    {
      "cell_type": "code",
      "metadata": {
        "colab_type": "code",
        "id": "u8IonVMfAelY",
        "colab": {}
      },
      "source": [
        "# for colab\n",
        "!pip install -q tf-nightly-gpu-2.0-preview"
      ],
      "execution_count": 0,
      "outputs": []
    },
    {
      "cell_type": "code",
      "metadata": {
        "colab_type": "code",
        "id": "0rEa6M11-CiY",
        "outputId": "5b66084f-64b7-4af1-d157-5d0dd643839a",
        "colab": {
          "base_uri": "https://localhost:8080/",
          "height": 34
        }
      },
      "source": [
        "import tensorflow as tf\n",
        "print(tf.__version__)"
      ],
      "execution_count": 2,
      "outputs": [
        {
          "output_type": "stream",
          "text": [
            "2.0.0-dev20190728\n"
          ],
          "name": "stdout"
        }
      ]
    },
    {
      "cell_type": "code",
      "metadata": {
        "colab_type": "code",
        "id": "I35W9tmrRWF3",
        "outputId": "4da4f83c-4621-47e0-9190-05dba6f93e92",
        "colab": {
          "base_uri": "https://localhost:8080/",
          "height": 34
        }
      },
      "source": [
        "# a small sanity check, does tf seem to work ok?\n",
        "hello = tf.constant('Hello TF!')\n",
        "print(\"This works: {}\".format(hello))"
      ],
      "execution_count": 3,
      "outputs": [
        {
          "output_type": "stream",
          "text": [
            "This works: b'Hello TF!'\n"
          ],
          "name": "stdout"
        }
      ]
    },
    {
      "cell_type": "code",
      "metadata": {
        "colab_type": "code",
        "id": "DpXHERPSQvMD",
        "outputId": "e05223c7-70b8-4543-e9e2-67d045b09d92",
        "colab": {
          "base_uri": "https://localhost:8080/",
          "height": 34
        }
      },
      "source": [
        "# this should return True even on Colab\n",
        "tf.test.is_gpu_available()"
      ],
      "execution_count": 4,
      "outputs": [
        {
          "output_type": "execute_result",
          "data": {
            "text/plain": [
              "True"
            ]
          },
          "metadata": {
            "tags": []
          },
          "execution_count": 4
        }
      ]
    },
    {
      "cell_type": "code",
      "metadata": {
        "colab_type": "code",
        "id": "hEoP6O2r3Jvf",
        "outputId": "c1232231-e907-44b2-f217-19cc2ef99353",
        "colab": {
          "base_uri": "https://localhost:8080/",
          "height": 34
        }
      },
      "source": [
        "tf.test.is_built_with_cuda()"
      ],
      "execution_count": 5,
      "outputs": [
        {
          "output_type": "execute_result",
          "data": {
            "text/plain": [
              "True"
            ]
          },
          "metadata": {
            "tags": []
          },
          "execution_count": 5
        }
      ]
    },
    {
      "cell_type": "code",
      "metadata": {
        "colab_type": "code",
        "id": "PqalzDXr3OiQ",
        "outputId": "78fca590-f792-4f52-fc72-e392fb0c9b4a",
        "colab": {
          "base_uri": "https://localhost:8080/",
          "height": 34
        }
      },
      "source": [
        "tf.executing_eagerly()"
      ],
      "execution_count": 6,
      "outputs": [
        {
          "output_type": "execute_result",
          "data": {
            "text/plain": [
              "True"
            ]
          },
          "metadata": {
            "tags": []
          },
          "execution_count": 6
        }
      ]
    },
    {
      "cell_type": "markdown",
      "metadata": {
        "id": "C9a1zn2-_hEY",
        "colab_type": "text"
      },
      "source": [
        "## load data"
      ]
    },
    {
      "cell_type": "code",
      "metadata": {
        "id": "iztUacrB_hEZ",
        "colab_type": "code",
        "outputId": "a0451cfa-a148-4f49-c661-ed62ea3db44c",
        "colab": {
          "base_uri": "https://localhost:8080/",
          "height": 34
        }
      },
      "source": [
        "import pandas as pd\n",
        "print(pd.__version__)"
      ],
      "execution_count": 7,
      "outputs": [
        {
          "output_type": "stream",
          "text": [
            "0.24.2\n"
          ],
          "name": "stdout"
        }
      ]
    },
    {
      "cell_type": "code",
      "metadata": {
        "id": "p_Na83Q9U1Le",
        "colab_type": "code",
        "outputId": "117a0874-f05a-4716-89ae-7eb8797fdb02",
        "colab": {
          "base_uri": "https://localhost:8080/",
          "height": 34
        }
      },
      "source": [
        "import numpy as np\n",
        "print(np.__version__)"
      ],
      "execution_count": 8,
      "outputs": [
        {
          "output_type": "stream",
          "text": [
            "1.16.4\n"
          ],
          "name": "stdout"
        }
      ]
    },
    {
      "cell_type": "code",
      "metadata": {
        "id": "PhJJH5TS_hEc",
        "colab_type": "code",
        "colab": {}
      },
      "source": [
        "# local\n",
        "# URL = '../data/click-sequence.json'\n",
        "\n",
        "# remote\n",
        "URL = 'https://raw.githubusercontent.com/DJCordhose/ux-by-tfjs/master//data/click-sequence.json'\n",
        "\n",
        "\n",
        "df = pd.read_json(URL, typ='series')"
      ],
      "execution_count": 0,
      "outputs": []
    },
    {
      "cell_type": "code",
      "metadata": {
        "id": "swqLoJAh_hEe",
        "colab_type": "code",
        "outputId": "be7063fc-5467-4a00-cf9a-00cbcacc3035",
        "colab": {
          "base_uri": "https://localhost:8080/",
          "height": 34
        }
      },
      "source": [
        "len(df)"
      ],
      "execution_count": 10,
      "outputs": [
        {
          "output_type": "execute_result",
          "data": {
            "text/plain": [
              "51"
            ]
          },
          "metadata": {
            "tags": []
          },
          "execution_count": 10
        }
      ]
    },
    {
      "cell_type": "code",
      "metadata": {
        "id": "8CHaa_KVsPlZ",
        "colab_type": "code",
        "outputId": "a11d64ad-94ac-479f-c866-d290791426c6",
        "colab": {
          "base_uri": "https://localhost:8080/",
          "height": 119
        }
      },
      "source": [
        "df.head()"
      ],
      "execution_count": 11,
      "outputs": [
        {
          "output_type": "execute_result",
          "data": {
            "text/plain": [
              "0                                                   []\n",
              "1                   [train-model, save-model-to-local]\n",
              "2                      [load-local-model, train-model]\n",
              "3    [load-local-model, train-model, toggle-visor, ...\n",
              "4    [train-model, show-eval, train-model, save-mod...\n",
              "dtype: object"
            ]
          },
          "metadata": {
            "tags": []
          },
          "execution_count": 11
        }
      ]
    },
    {
      "cell_type": "code",
      "metadata": {
        "id": "lEHQA75JUfXt",
        "colab_type": "code",
        "outputId": "11d1bfff-03f3-4cd5-9543-0c38d3958bf2",
        "colab": {
          "base_uri": "https://localhost:8080/",
          "height": 34
        }
      },
      "source": [
        "type(df[0])"
      ],
      "execution_count": 12,
      "outputs": [
        {
          "output_type": "execute_result",
          "data": {
            "text/plain": [
              "list"
            ]
          },
          "metadata": {
            "tags": []
          },
          "execution_count": 12
        }
      ]
    },
    {
      "cell_type": "code",
      "metadata": {
        "id": "JRo1kuJmsQ-s",
        "colab_type": "code",
        "outputId": "fe59f50c-31ad-4486-f4f6-15c2ca61fbcc",
        "colab": {
          "base_uri": "https://localhost:8080/",
          "height": 34
        }
      },
      "source": [
        "df[0], df[1]"
      ],
      "execution_count": 13,
      "outputs": [
        {
          "output_type": "execute_result",
          "data": {
            "text/plain": [
              "([], ['train-model', 'save-model-to-local'])"
            ]
          },
          "metadata": {
            "tags": []
          },
          "execution_count": 13
        }
      ]
    },
    {
      "cell_type": "code",
      "metadata": {
        "id": "iILrKJHzuNA8",
        "colab_type": "code",
        "outputId": "7ce145ef-c67c-4d24-bfe2-64c6843b542b",
        "colab": {
          "base_uri": "https://localhost:8080/",
          "height": 54
        }
      },
      "source": [
        "all_buttons = set()\n",
        "for seq in df:\n",
        "  for button in seq:\n",
        "    all_buttons.add(button)\n",
        "\n",
        "all_buttons.add('<START>')\n",
        "all_buttons.add('<EMPTY>')\n",
        "\n",
        "all_buttons = list(all_buttons)\n",
        "\n",
        "print(all_buttons)"
      ],
      "execution_count": 14,
      "outputs": [
        {
          "output_type": "stream",
          "text": [
            "['upload-model', '<EMPTY>', 'save-model-to-local', 'show-eval', 'train-model', '<START>', 'reset-data', 'toggle-prediction', 'show-model', 'load-local-model', 'reset-model', 'download-model', 'toggle-visor', 'load-remote-model']\n"
          ],
          "name": "stdout"
        }
      ]
    },
    {
      "cell_type": "code",
      "metadata": {
        "colab_type": "code",
        "outputId": "6e0c819c-5a8f-49ea-904b-5ed312c1a1ff",
        "id": "z0n-qYv6sAwf",
        "colab": {
          "base_uri": "https://localhost:8080/",
          "height": 102
        }
      },
      "source": [
        "from sklearn.preprocessing import LabelBinarizer, MultiLabelBinarizer, LabelEncoder\n",
        "encoder = LabelEncoder()\n",
        "encoder.fit(all_buttons)\n",
        "encoder.classes_"
      ],
      "execution_count": 15,
      "outputs": [
        {
          "output_type": "execute_result",
          "data": {
            "text/plain": [
              "array(['<EMPTY>', '<START>', 'download-model', 'load-local-model',\n",
              "       'load-remote-model', 'reset-data', 'reset-model',\n",
              "       'save-model-to-local', 'show-eval', 'show-model',\n",
              "       'toggle-prediction', 'toggle-visor', 'train-model', 'upload-model'],\n",
              "      dtype='<U19')"
            ]
          },
          "metadata": {
            "tags": []
          },
          "execution_count": 15
        }
      ]
    },
    {
      "cell_type": "code",
      "metadata": {
        "id": "OoNWjgb6tgN_",
        "colab_type": "code",
        "outputId": "10c4d2a3-e0b2-4913-eee3-70a4273d139a",
        "colab": {
          "base_uri": "https://localhost:8080/",
          "height": 122
        }
      },
      "source": [
        "transfomed_labels = [encoder.transform(seq) for seq in df if len(seq) != 0]\n",
        "print(transfomed_labels)"
      ],
      "execution_count": 16,
      "outputs": [
        {
          "output_type": "stream",
          "text": [
            "[array([12,  7]), array([ 3, 12]), array([ 3, 12, 11, 11, 12,  6, 12]), array([12,  8, 12,  7]), array([ 3, 12,  8,  7,  2, 11, 10]), array([12,  9, 11,  8, 11, 11,  7, 10]), array([12, 11,  7, 11,  8,  5, 12, 11,  7,  8,  8,  8]), array([12, 12,  7,  8, 11, 10,  7,  2]), array([13, 13, 13, 13, 10]), array([ 5, 12, 10,  8, 10, 10, 10, 11, 10, 10,  6, 12, 11,  7, 12,  7,  8,\n",
            "        8, 10, 11, 10,  6, 12, 11,  7,  8,  8, 10, 10]), array([12,  7, 11,  2, 10, 13, 13, 11,  8,  8]), array([13, 13, 10,  5, 10]), array([12, 10, 11]), array([12]), array([12,  8,  6, 12, 11, 11, 11,  8,  8, 12,  6, 12,  7,  8,  8,  5,  6,\n",
            "       12, 11,  8,  8, 11,  6, 12, 11,  7, 11, 10, 10, 12, 11, 11, 10, 10,\n",
            "       12, 11,  7,  8,  8, 11, 10]), array([12]), array([12]), array([12,  3, 10, 11, 10]), array([10,  3,  3, 10, 10, 10, 12, 11, 11,  8,  8, 10, 11, 12]), array([12, 11]), array([12,  8, 11, 11, 10, 10, 11, 11]), array([12]), array([12,  8]), array([11, 11, 11,  8]), array([12,  8, 11, 11]), array([12]), array([12]), array([12,  8, 12,  6, 12]), array([12,  8, 12, 11]), array([ 5, 12,  8]), array([12,  8]), array([12]), array([12, 12,  8, 11, 12, 11,  8,  8,  6, 12,  8,  8,  6, 12, 12, 12,  8,\n",
            "        8, 10, 11,  7,  2, 11]), array([10, 10, 10]), array([12,  8, 11,  8, 10, 11, 10, 12]), array([12,  8, 11, 11, 10, 10, 10, 11, 11,  8, 11,  3]), array([12, 12, 10, 11, 11,  8, 12, 10, 11,  8,  8,  8, 10,  3]), array([12, 12,  8, 11, 10,  3]), array([12, 11, 11,  8,  8,  8,  4, 12, 11]), array([12])]\n"
          ],
          "name": "stdout"
        }
      ]
    },
    {
      "cell_type": "markdown",
      "metadata": {
        "id": "CeIWHq5hBkgs",
        "colab_type": "text"
      },
      "source": [
        "## pre-process data into chunks"
      ]
    },
    {
      "cell_type": "code",
      "metadata": {
        "id": "2stZBQcRe960",
        "colab_type": "code",
        "colab": {}
      },
      "source": [
        "empty = encoder.transform(['<EMPTY>'])\n",
        "start = encoder.transform(['<START>'])\n",
        "chunk_size = 5"
      ],
      "execution_count": 0,
      "outputs": []
    },
    {
      "cell_type": "code",
      "metadata": {
        "id": "YUz7R-aKmGH0",
        "colab_type": "code",
        "colab": {}
      },
      "source": [
        "# [ 1, 11,  7, 11,  6] => [[[0, 0, 0, 0, 1], 11], [[0, 0, 0, 1, 11], 7], [[0, 0, 1, 11, 7], 11], [[0, 1, 11, 7, 11], 6]]\n",
        "\n",
        "def create_sequences(seq, chunk_size, empty, start):\n",
        "  # all sequences implicitly start\n",
        "  seq = np.append(start, seq)\n",
        "  # if sequence is too short, we pad it to minimum size at the beginning\n",
        "  seq = np.append(np.full(chunk_size - 1, empty), seq)\n",
        "  \n",
        "  seqs = np.array([])\n",
        "  for index in range(chunk_size, len(seq)):\n",
        "    y = seq[index]\n",
        "    x = seq[index-chunk_size : index]\n",
        "    seqs = np.append(seqs, [x, y])\n",
        "  return seqs"
      ],
      "execution_count": 0,
      "outputs": []
    },
    {
      "cell_type": "code",
      "metadata": {
        "id": "IlZ6LZZN15uo",
        "colab_type": "code",
        "outputId": "96222308-cc5e-4183-fe55-edb50b879c1c",
        "colab": {
          "base_uri": "https://localhost:8080/",
          "height": 34
        }
      },
      "source": [
        "\n",
        "# seq = transfomed_labels[0]\n",
        "# seq = transfomed_labels[9]\n",
        "seq = transfomed_labels[3]\n",
        "seq"
      ],
      "execution_count": 19,
      "outputs": [
        {
          "output_type": "execute_result",
          "data": {
            "text/plain": [
              "array([12,  8, 12,  7])"
            ]
          },
          "metadata": {
            "tags": []
          },
          "execution_count": 19
        }
      ]
    },
    {
      "cell_type": "code",
      "metadata": {
        "id": "gZ2h1RW84mE9",
        "colab_type": "code",
        "outputId": "e651f3b6-0f21-419c-f6b1-891d7be5983e",
        "colab": {
          "base_uri": "https://localhost:8080/",
          "height": 68
        }
      },
      "source": [
        "create_sequences(seq, chunk_size, empty, start)"
      ],
      "execution_count": 20,
      "outputs": [
        {
          "output_type": "execute_result",
          "data": {
            "text/plain": [
              "array([array([0, 0, 0, 0, 1]), 12, array([ 0,  0,  0,  1, 12]), 8,\n",
              "       array([ 0,  0,  1, 12,  8]), 12, array([ 0,  1, 12,  8, 12]), 7],\n",
              "      dtype=object)"
            ]
          },
          "metadata": {
            "tags": []
          },
          "execution_count": 20
        }
      ]
    },
    {
      "cell_type": "code",
      "metadata": {
        "id": "bRQEXaUb4kGD",
        "colab_type": "code",
        "outputId": "4e6c30aa-337e-4bc2-d9c9-345851dd87c4",
        "colab": {
          "base_uri": "https://localhost:8080/",
          "height": 34
        }
      },
      "source": [
        "seqs = np.array([])\n",
        "for seq in transfomed_labels:\n",
        "  seqs = np.append(seqs, create_sequences(seq, chunk_size, empty, start))\n",
        "seqs = seqs.reshape(-1, 2)\n",
        "seqs.shape"
      ],
      "execution_count": 21,
      "outputs": [
        {
          "output_type": "execute_result",
          "data": {
            "text/plain": [
              "(279, 2)"
            ]
          },
          "metadata": {
            "tags": []
          },
          "execution_count": 21
        }
      ]
    },
    {
      "cell_type": "code",
      "metadata": {
        "id": "xUZY7WpX8p3x",
        "colab_type": "code",
        "outputId": "9e04b0e4-5801-4678-bcc2-330edf5e9452",
        "colab": {
          "base_uri": "https://localhost:8080/",
          "height": 34
        }
      },
      "source": [
        "X = seqs[:, 0]\n",
        "# X = X.reshape(-1, chunk_size)\n",
        "X = np.vstack(X)\n",
        "X.shape"
      ],
      "execution_count": 22,
      "outputs": [
        {
          "output_type": "execute_result",
          "data": {
            "text/plain": [
              "(279, 5)"
            ]
          },
          "metadata": {
            "tags": []
          },
          "execution_count": 22
        }
      ]
    },
    {
      "cell_type": "code",
      "metadata": {
        "id": "PYYGotC6ArLG",
        "colab_type": "code",
        "outputId": "904073a3-1935-4358-fcd1-fcc2d08292a4",
        "colab": {
          "base_uri": "https://localhost:8080/",
          "height": 289
        }
      },
      "source": [
        "y = seqs[:, 1]\n",
        "y"
      ],
      "execution_count": 23,
      "outputs": [
        {
          "output_type": "execute_result",
          "data": {
            "text/plain": [
              "array([12, 7, 3, 12, 3, 12, 11, 11, 12, 6, 12, 12, 8, 12, 7, 3, 12, 8, 7,\n",
              "       2, 11, 10, 12, 9, 11, 8, 11, 11, 7, 10, 12, 11, 7, 11, 8, 5, 12,\n",
              "       11, 7, 8, 8, 8, 12, 12, 7, 8, 11, 10, 7, 2, 13, 13, 13, 13, 10, 5,\n",
              "       12, 10, 8, 10, 10, 10, 11, 10, 10, 6, 12, 11, 7, 12, 7, 8, 8, 10,\n",
              "       11, 10, 6, 12, 11, 7, 8, 8, 10, 10, 12, 7, 11, 2, 10, 13, 13, 11,\n",
              "       8, 8, 13, 13, 10, 5, 10, 12, 10, 11, 12, 12, 8, 6, 12, 11, 11, 11,\n",
              "       8, 8, 12, 6, 12, 7, 8, 8, 5, 6, 12, 11, 8, 8, 11, 6, 12, 11, 7, 11,\n",
              "       10, 10, 12, 11, 11, 10, 10, 12, 11, 7, 8, 8, 11, 10, 12, 12, 12, 3,\n",
              "       10, 11, 10, 10, 3, 3, 10, 10, 10, 12, 11, 11, 8, 8, 10, 11, 12, 12,\n",
              "       11, 12, 8, 11, 11, 10, 10, 11, 11, 12, 12, 8, 11, 11, 11, 8, 12, 8,\n",
              "       11, 11, 12, 12, 12, 8, 12, 6, 12, 12, 8, 12, 11, 5, 12, 8, 12, 8,\n",
              "       12, 12, 12, 8, 11, 12, 11, 8, 8, 6, 12, 8, 8, 6, 12, 12, 12, 8, 8,\n",
              "       10, 11, 7, 2, 11, 10, 10, 10, 12, 8, 11, 8, 10, 11, 10, 12, 12, 8,\n",
              "       11, 11, 10, 10, 10, 11, 11, 8, 11, 3, 12, 12, 10, 11, 11, 8, 12,\n",
              "       10, 11, 8, 8, 8, 10, 3, 12, 12, 8, 11, 10, 3, 12, 11, 11, 8, 8, 8,\n",
              "       4, 12, 11, 12], dtype=object)"
            ]
          },
          "metadata": {
            "tags": []
          },
          "execution_count": 23
        }
      ]
    },
    {
      "cell_type": "markdown",
      "metadata": {
        "id": "r9nB_r-ABpl7",
        "colab_type": "text"
      },
      "source": [
        "## Training"
      ]
    },
    {
      "cell_type": "code",
      "metadata": {
        "id": "rQ6o5bkU6Pha",
        "colab_type": "code",
        "outputId": "8f1c38fe-c2ae-468d-922e-002d26f8e19d",
        "colab": {
          "base_uri": "https://localhost:8080/",
          "height": 323
        }
      },
      "source": [
        "import tensorflow as tf\n",
        "from tensorflow import keras\n",
        "from tensorflow.keras.layers import Dense, LSTM, GRU, SimpleRNN, Embedding, BatchNormalization, Dropout\n",
        "from tensorflow.keras.models import Sequential, Model\n",
        "\n",
        "embedding_dim = 2\n",
        "n_buttons = len(encoder.classes_)\n",
        "\n",
        "dropout = .6\n",
        "recurrent_dropout = .6\n",
        "\n",
        "model = Sequential()\n",
        "model.add(Embedding(name='embedding',\n",
        "                    input_dim=n_buttons, \n",
        "                    output_dim=embedding_dim, \n",
        "                    input_length=chunk_size))\n",
        "\n",
        "model.add(SimpleRNN(units=50, activation='relu', name=\"RNN\", recurrent_dropout=recurrent_dropout))\n",
        "# model.add(GRU(units=25, activation='relu', name=\"RNN\", recurrent_dropout=0.5))\n",
        "# model.add(LSTM(units=25, activation='relu', name=\"RNN\", recurrent_dropout=0.5))\n",
        "\n",
        "model.add(BatchNormalization())\n",
        "model.add(Dropout(dropout))\n",
        "\n",
        "model.add(Dense(units=n_buttons, name='softmax', activation='softmax'))\n",
        "model.compile(optimizer='adam', loss='sparse_categorical_crossentropy', metrics=['accuracy'])\n",
        "model.summary()"
      ],
      "execution_count": 29,
      "outputs": [
        {
          "output_type": "stream",
          "text": [
            "Model: \"sequential_1\"\n",
            "_________________________________________________________________\n",
            "Layer (type)                 Output Shape              Param #   \n",
            "=================================================================\n",
            "embedding (Embedding)        (None, 5, 2)              28        \n",
            "_________________________________________________________________\n",
            "RNN (SimpleRNN)              (None, 50)                2650      \n",
            "_________________________________________________________________\n",
            "batch_normalization_1 (Batch (None, 50)                200       \n",
            "_________________________________________________________________\n",
            "dropout_1 (Dropout)          (None, 50)                0         \n",
            "_________________________________________________________________\n",
            "softmax (Dense)              (None, 14)                714       \n",
            "=================================================================\n",
            "Total params: 3,592\n",
            "Trainable params: 3,492\n",
            "Non-trainable params: 100\n",
            "_________________________________________________________________\n"
          ],
          "name": "stdout"
        }
      ]
    },
    {
      "cell_type": "code",
      "metadata": {
        "id": "oGO7UyA2_hFM",
        "colab_type": "code",
        "outputId": "a87009ee-12f9-45e8-834a-c531e67435cb",
        "colab": {
          "base_uri": "https://localhost:8080/",
          "height": 51
        }
      },
      "source": [
        "%%time\n",
        "\n",
        "EPOCHS = 1000\n",
        "BATCH_SIZE = 100\n",
        "\n",
        "history = model.fit(X, y, \n",
        "                    batch_size=BATCH_SIZE,\n",
        "                    epochs=EPOCHS, verbose=0, validation_split=0.2)"
      ],
      "execution_count": 30,
      "outputs": [
        {
          "output_type": "stream",
          "text": [
            "CPU times: user 2min 56s, sys: 14.6 s, total: 3min 10s\n",
            "Wall time: 2min 1s\n"
          ],
          "name": "stdout"
        }
      ]
    },
    {
      "cell_type": "code",
      "metadata": {
        "id": "po7tURch_hFP",
        "colab_type": "code",
        "outputId": "a46d6709-761f-4b90-80b0-528bcc4ac283",
        "colab": {
          "base_uri": "https://localhost:8080/",
          "height": 51
        }
      },
      "source": [
        "loss, accuracy = model.evaluate(X, y, batch_size=BATCH_SIZE)\n",
        "accuracy"
      ],
      "execution_count": 31,
      "outputs": [
        {
          "output_type": "stream",
          "text": [
            "279/279 [==============================] - 0s 796us/sample - loss: 1.2082 - accuracy: 0.5986\n"
          ],
          "name": "stdout"
        },
        {
          "output_type": "execute_result",
          "data": {
            "text/plain": [
              "0.5985663"
            ]
          },
          "metadata": {
            "tags": []
          },
          "execution_count": 31
        }
      ]
    },
    {
      "cell_type": "code",
      "metadata": {
        "id": "uqMFRTwp_hFR",
        "colab_type": "code",
        "outputId": "921a7bb2-248f-469a-a9a5-44cc885b928d",
        "colab": {
          "base_uri": "https://localhost:8080/",
          "height": 300
        }
      },
      "source": [
        "%matplotlib inline\n",
        "\n",
        "import matplotlib.pyplot as plt\n",
        "\n",
        "# plt.yscale('log')\n",
        "plt.ylabel('loss')\n",
        "plt.xlabel('epochs')\n",
        "\n",
        "plt.plot(history.history['loss'])\n",
        "plt.plot(history.history['val_loss'])\n",
        "\n",
        "plt.legend(['loss', 'val_loss'])"
      ],
      "execution_count": 32,
      "outputs": [
        {
          "output_type": "execute_result",
          "data": {
            "text/plain": [
              "<matplotlib.legend.Legend at 0x7fcb75279c88>"
            ]
          },
          "metadata": {
            "tags": []
          },
          "execution_count": 32
        },
        {
          "output_type": "display_data",
          "data": {
            "image/png": "[encoded data removed]",
            "text/plain": [
              "<Figure size 432x288 with 1 Axes>"
            ]
          },
          "metadata": {
            "tags": []
          }
        }
      ]
    },
    {
      "cell_type": "code",
      "metadata": {
        "id": "CS1Gynas_hFT",
        "colab_type": "code",
        "outputId": "d82a2270-026b-449c-eaaf-7be4171dad48",
        "colab": {
          "base_uri": "https://localhost:8080/",
          "height": 300
        }
      },
      "source": [
        "plt.ylabel('accuracy')\n",
        "plt.xlabel('epochs')\n",
        "\n",
        "# TF 2.0\n",
        "plt.plot(history.history['accuracy'])\n",
        "plt.plot(history.history['val_accuracy'])\n",
        "# plt.plot(history.history['acc'])\n",
        "# plt.plot(history.history['val_acc'])\n",
        "\n",
        "plt.legend(['accuracy', 'val_accuracy'])"
      ],
      "execution_count": 33,
      "outputs": [
        {
          "output_type": "execute_result",
          "data": {
            "text/plain": [
              "<matplotlib.legend.Legend at 0x7fcb751ec2b0>"
            ]
          },
          "metadata": {
            "tags": []
          },
          "execution_count": 33
        },
        {
          "output_type": "display_data",
          "data": {
            "image/png": "[encoded data removed]",
            "text/plain": [
              "<Figure size 432x288 with 1 Axes>"
            ]
          },
          "metadata": {
            "tags": []
          }
        }
      ]
    },
    {
      "cell_type": "code",
      "metadata": {
        "id": "h7ZO4M2I_hFV",
        "colab_type": "code",
        "outputId": "8dd124e0-0e42-40fc-f5f4-a2441c968b2a",
        "colab": {
          "base_uri": "https://localhost:8080/",
          "height": 85
        }
      },
      "source": [
        "model.predict([[X[0]]])"
      ],
      "execution_count": 34,
      "outputs": [
        {
          "output_type": "execute_result",
          "data": {
            "text/plain": [
              "array([[8.2155075e-06, 7.0649203e-06, 2.7443617e-04, 8.9549869e-02,\n",
              "        7.4284012e-06, 4.3790173e-02, 2.9159831e-03, 9.2941412e-04,\n",
              "        2.5820679e-03, 3.5484630e-04, 2.2838922e-02, 1.2494260e-02,\n",
              "        7.8079081e-01, 4.3456476e-02]], dtype=float32)"
            ]
          },
          "metadata": {
            "tags": []
          },
          "execution_count": 34
        }
      ]
    },
    {
      "cell_type": "code",
      "metadata": {
        "id": "VEGNcvSv_hFX",
        "colab_type": "code",
        "outputId": "39450a08-e81d-442c-d04f-5d00baf4b5ec",
        "colab": {
          "base_uri": "https://localhost:8080/",
          "height": 34
        }
      },
      "source": [
        "model.predict([[X[0]]]).argmax()"
      ],
      "execution_count": 35,
      "outputs": [
        {
          "output_type": "execute_result",
          "data": {
            "text/plain": [
              "12"
            ]
          },
          "metadata": {
            "tags": []
          },
          "execution_count": 35
        }
      ]
    },
    {
      "cell_type": "code",
      "metadata": {
        "id": "RpdLq4RT_hFa",
        "colab_type": "code",
        "outputId": "7d4aca39-81cd-4e23-9e2c-30959692f298",
        "colab": {
          "base_uri": "https://localhost:8080/",
          "height": 34
        }
      },
      "source": [
        "y[0]"
      ],
      "execution_count": 36,
      "outputs": [
        {
          "output_type": "execute_result",
          "data": {
            "text/plain": [
              "12"
            ]
          },
          "metadata": {
            "tags": []
          },
          "execution_count": 36
        }
      ]
    },
    {
      "cell_type": "code",
      "metadata": {
        "id": "--ZGTfeohmS_",
        "colab_type": "code",
        "outputId": "15163e98-9bb2-43b0-cf9a-71d9313e869f",
        "colab": {
          "base_uri": "https://localhost:8080/",
          "height": 306
        }
      },
      "source": [
        "y_pred = model.predict([X]).argmax(axis=1)\n",
        "y_pred"
      ],
      "execution_count": 37,
      "outputs": [
        {
          "output_type": "execute_result",
          "data": {
            "text/plain": [
              "array([12,  8, 12, 12, 12, 12,  8,  8, 10,  6, 12, 12,  8, 11,  6, 12, 12,\n",
              "        8,  8,  2, 11, 10, 12,  8, 11,  8, 11, 11, 11, 11, 12,  8, 11,  8,\n",
              "        8,  8, 12, 11, 11,  8,  8, 10, 12,  8,  8,  8,  8, 10, 10,  2, 12,\n",
              "       13, 10, 13, 10, 12, 12,  8,  8, 10, 10, 10, 10, 10, 10, 10, 12, 11,\n",
              "        7,  8,  7,  8,  8, 10, 10, 10, 10, 12, 11,  7,  8,  8, 10, 10, 12,\n",
              "        8, 11,  8, 10, 10, 13, 11,  8,  8, 12, 13, 10,  5, 10, 12,  8, 11,\n",
              "       12, 12,  8, 11, 12, 11, 11, 10, 10,  8, 10,  6, 12,  7,  8,  8, 10,\n",
              "       12, 12, 11,  8,  8, 10, 11, 12, 11,  7,  8,  8, 10, 12, 11, 11, 10,\n",
              "       10, 10, 11, 11,  8,  8, 10, 11, 12, 12, 12,  8, 10, 10, 10, 12, 12,\n",
              "       10, 12, 10, 10, 10, 11, 11, 10,  8, 10, 10, 10, 12,  8, 12,  8, 11,\n",
              "       11, 10, 10, 12, 10, 12, 12,  8, 12, 11, 11, 10, 12,  8, 11, 11, 12,\n",
              "       12, 12,  8, 11,  6, 12, 12,  8, 11,  6, 12, 12,  8, 12,  8, 12, 12,\n",
              "        8,  8,  8, 10,  6,  8,  8, 10, 12,  8,  8, 10, 12,  8,  8,  8,  8,\n",
              "       10, 10, 10, 11, 11, 12, 12, 10, 12,  8, 11, 11,  8, 10, 10, 10, 12,\n",
              "        8, 11, 11, 10, 10, 12, 10, 10, 10,  8, 10, 12,  8,  8,  8, 10, 10,\n",
              "        8,  6, 11, 10,  8, 10, 10, 10, 12,  8,  8,  8, 10, 10, 12,  8, 11,\n",
              "       10,  8, 10, 10, 10,  6, 12])"
            ]
          },
          "metadata": {
            "tags": []
          },
          "execution_count": 37
        }
      ]
    },
    {
      "cell_type": "code",
      "metadata": {
        "id": "rTgT0xH7KeNQ",
        "colab_type": "code",
        "outputId": "5ea56f44-5453-452c-c8c9-0e896589674f",
        "colab": {
          "base_uri": "https://localhost:8080/",
          "height": 289
        }
      },
      "source": [
        "y"
      ],
      "execution_count": 38,
      "outputs": [
        {
          "output_type": "execute_result",
          "data": {
            "text/plain": [
              "array([12, 7, 3, 12, 3, 12, 11, 11, 12, 6, 12, 12, 8, 12, 7, 3, 12, 8, 7,\n",
              "       2, 11, 10, 12, 9, 11, 8, 11, 11, 7, 10, 12, 11, 7, 11, 8, 5, 12,\n",
              "       11, 7, 8, 8, 8, 12, 12, 7, 8, 11, 10, 7, 2, 13, 13, 13, 13, 10, 5,\n",
              "       12, 10, 8, 10, 10, 10, 11, 10, 10, 6, 12, 11, 7, 12, 7, 8, 8, 10,\n",
              "       11, 10, 6, 12, 11, 7, 8, 8, 10, 10, 12, 7, 11, 2, 10, 13, 13, 11,\n",
              "       8, 8, 13, 13, 10, 5, 10, 12, 10, 11, 12, 12, 8, 6, 12, 11, 11, 11,\n",
              "       8, 8, 12, 6, 12, 7, 8, 8, 5, 6, 12, 11, 8, 8, 11, 6, 12, 11, 7, 11,\n",
              "       10, 10, 12, 11, 11, 10, 10, 12, 11, 7, 8, 8, 11, 10, 12, 12, 12, 3,\n",
              "       10, 11, 10, 10, 3, 3, 10, 10, 10, 12, 11, 11, 8, 8, 10, 11, 12, 12,\n",
              "       11, 12, 8, 11, 11, 10, 10, 11, 11, 12, 12, 8, 11, 11, 11, 8, 12, 8,\n",
              "       11, 11, 12, 12, 12, 8, 12, 6, 12, 12, 8, 12, 11, 5, 12, 8, 12, 8,\n",
              "       12, 12, 12, 8, 11, 12, 11, 8, 8, 6, 12, 8, 8, 6, 12, 12, 12, 8, 8,\n",
              "       10, 11, 7, 2, 11, 10, 10, 10, 12, 8, 11, 8, 10, 11, 10, 12, 12, 8,\n",
              "       11, 11, 10, 10, 10, 11, 11, 8, 11, 3, 12, 12, 10, 11, 11, 8, 12,\n",
              "       10, 11, 8, 8, 8, 10, 3, 12, 12, 8, 11, 10, 3, 12, 11, 11, 8, 8, 8,\n",
              "       4, 12, 11, 12], dtype=object)"
            ]
          },
          "metadata": {
            "tags": []
          },
          "execution_count": 38
        }
      ]
    },
    {
      "cell_type": "code",
      "metadata": {
        "id": "iCFPYjo-ga6m",
        "colab_type": "code",
        "outputId": "aec3f2b5-5fcb-4645-ad72-eb5d293d9121",
        "colab": {
          "base_uri": "https://localhost:8080/",
          "height": 289
        }
      },
      "source": [
        "# TF 2.0\n",
        "cm = tf.math.confusion_matrix(labels=tf.constant(y, dtype=tf.int64), predictions=tf.constant(y_pred, dtype=tf.int64))\n",
        "cm"
      ],
      "execution_count": 39,
      "outputs": [
        {
          "output_type": "execute_result",
          "data": {
            "text/plain": [
              "<tf.Tensor: id=102505, shape=(14, 14), dtype=int32, numpy=\n",
              "array([[ 0,  0,  0,  0,  0,  0,  0,  0,  0,  0,  0,  0,  0,  0],\n",
              "       [ 0,  0,  0,  0,  0,  0,  0,  0,  0,  0,  0,  0,  0,  0],\n",
              "       [ 0,  0,  2,  0,  0,  0,  0,  0,  1,  0,  0,  1,  0,  0],\n",
              "       [ 0,  0,  0,  0,  0,  0,  0,  0,  1,  0,  4,  0,  4,  0],\n",
              "       [ 0,  0,  0,  0,  0,  0,  0,  0,  0,  0,  1,  0,  0,  0],\n",
              "       [ 0,  0,  0,  0,  0,  1,  0,  0,  1,  0,  1,  0,  2,  0],\n",
              "       [ 0,  0,  0,  0,  0,  0,  3,  0,  0,  0,  4,  2,  1,  0],\n",
              "       [ 0,  0,  0,  0,  0,  0,  1,  5,  4,  0,  2,  4,  0,  0],\n",
              "       [ 0,  0,  0,  0,  0,  0,  0,  0, 42,  0, 10,  1,  0,  0],\n",
              "       [ 0,  0,  0,  0,  0,  0,  0,  0,  1,  0,  0,  0,  0,  0],\n",
              "       [ 0,  0,  0,  0,  0,  0,  1,  0,  5,  0, 32,  2,  5,  0],\n",
              "       [ 0,  0,  0,  0,  0,  0,  3,  0, 12,  0, 13, 31,  2,  0],\n",
              "       [ 0,  0,  0,  0,  0,  0,  0,  0,  8,  0,  8,  3, 47,  0],\n",
              "       [ 0,  0,  0,  0,  0,  0,  0,  0,  0,  0,  2,  0,  2,  4]],\n",
              "      dtype=int32)>"
            ]
          },
          "metadata": {
            "tags": []
          },
          "execution_count": 39
        }
      ]
    },
    {
      "cell_type": "code",
      "metadata": {
        "id": "qwV7StyWjYVa",
        "colab_type": "code",
        "outputId": "97ef2a29-7133-4b74-fda5-b0a6a4e0944f",
        "colab": {
          "base_uri": "https://localhost:8080/",
          "height": 592
        }
      },
      "source": [
        "import seaborn as sns\n",
        "\n",
        "classes = encoder.classes_\n",
        "\n",
        "plt.figure(figsize=(8, 8))\n",
        "\n",
        "sns.heatmap(cm, annot=True, fmt=\"d\", xticklabels=classes, yticklabels=classes)"
      ],
      "execution_count": 40,
      "outputs": [
        {
          "output_type": "execute_result",
          "data": {
            "text/plain": [
              "<matplotlib.axes._subplots.AxesSubplot at 0x7fcb70c93c18>"
            ]
          },
          "metadata": {
            "tags": []
          },
          "execution_count": 40
        },
        {
          "output_type": "display_data",
          "data": {
            "image/png": "[encoded data removed]",
            "text/plain": [
              "<Figure size 576x576 with 2 Axes>"
            ]
          },
          "metadata": {
            "tags": []
          }
        }
      ]
    },
    {
      "cell_type": "code",
      "metadata": {
        "id": "9IxmvEavQ5ka",
        "colab_type": "code",
        "colab": {}
      },
      "source": [
        "# sns.heatmap?"
      ],
      "execution_count": 0,
      "outputs": []
    },
    {
      "cell_type": "code",
      "metadata": {
        "id": "Jx5FYRmWFIwH",
        "colab_type": "code",
        "colab": {
          "base_uri": "https://localhost:8080/",
          "height": 34
        },
        "outputId": "660cb88f-333b-4826-b44b-191d16f7b798"
      },
      "source": [
        "embedding_layer = model.get_layer('embedding')\n",
        "embedding_model = Model(inputs=model.input, outputs=embedding_layer.output)\n",
        "embeddings_2d = embedding_model.predict(X)\n",
        "embeddings_2d.shape"
      ],
      "execution_count": 58,
      "outputs": [
        {
          "output_type": "execute_result",
          "data": {
            "text/plain": [
              "(279, 5, 2)"
            ]
          },
          "metadata": {
            "tags": []
          },
          "execution_count": 58
        }
      ]
    },
    {
      "cell_type": "code",
      "metadata": {
        "id": "4l-UHsAvF1lB",
        "colab_type": "code",
        "colab": {
          "base_uri": "https://localhost:8080/",
          "height": 646
        },
        "outputId": "2d245e91-93a3-4530-8d00-67d316f2d5e4"
      },
      "source": [
        "embeddings_2d"
      ],
      "execution_count": 59,
      "outputs": [
        {
          "output_type": "execute_result",
          "data": {
            "text/plain": [
              "array([[[-0.00442662, -0.02886559],\n",
              "        [-0.00442662, -0.02886559],\n",
              "        [-0.00442662, -0.02886559],\n",
              "        [-0.00442662, -0.02886559],\n",
              "        [ 0.16050503, -0.14630839]],\n",
              "\n",
              "       [[-0.00442662, -0.02886559],\n",
              "        [-0.00442662, -0.02886559],\n",
              "        [-0.00442662, -0.02886559],\n",
              "        [ 0.16050503, -0.14630839],\n",
              "        [-0.31363907, -0.09648325]],\n",
              "\n",
              "       [[-0.00442662, -0.02886559],\n",
              "        [-0.00442662, -0.02886559],\n",
              "        [-0.00442662, -0.02886559],\n",
              "        [-0.00442662, -0.02886559],\n",
              "        [ 0.16050503, -0.14630839]],\n",
              "\n",
              "       ...,\n",
              "\n",
              "       [[-0.11615247,  0.130757  ],\n",
              "        [-0.01070085, -0.00391349],\n",
              "        [-0.01070085, -0.00391349],\n",
              "        [-0.01070085, -0.00391349],\n",
              "        [ 0.01248433,  0.01787362]],\n",
              "\n",
              "       [[-0.01070085, -0.00391349],\n",
              "        [-0.01070085, -0.00391349],\n",
              "        [-0.01070085, -0.00391349],\n",
              "        [ 0.01248433,  0.01787362],\n",
              "        [-0.31363907, -0.09648325]],\n",
              "\n",
              "       [[-0.00442662, -0.02886559],\n",
              "        [-0.00442662, -0.02886559],\n",
              "        [-0.00442662, -0.02886559],\n",
              "        [-0.00442662, -0.02886559],\n",
              "        [ 0.16050503, -0.14630839]]], dtype=float32)"
            ]
          },
          "metadata": {
            "tags": []
          },
          "execution_count": 59
        }
      ]
    },
    {
      "cell_type": "code",
      "metadata": {
        "id": "LixJiOr6FnoA",
        "colab_type": "code",
        "colab": {
          "base_uri": "https://localhost:8080/",
          "height": 102
        },
        "outputId": "f29aacbb-4c76-4d95-c152-2f089528e46f"
      },
      "source": [
        "encoder.classes_"
      ],
      "execution_count": 61,
      "outputs": [
        {
          "output_type": "execute_result",
          "data": {
            "text/plain": [
              "array(['<EMPTY>', '<START>', 'download-model', 'load-local-model',\n",
              "       'load-remote-model', 'reset-data', 'reset-model',\n",
              "       'save-model-to-local', 'show-eval', 'show-model',\n",
              "       'toggle-prediction', 'toggle-visor', 'train-model', 'upload-model'],\n",
              "      dtype='<U19')"
            ]
          },
          "metadata": {
            "tags": []
          },
          "execution_count": 61
        }
      ]
    },
    {
      "cell_type": "code",
      "metadata": {
        "id": "8UFFhpTXRKTt",
        "colab_type": "code",
        "colab": {}
      },
      "source": [
        "encoded_classes = encoder.transform(encoder.classes_)"
      ],
      "execution_count": 0,
      "outputs": []
    },
    {
      "cell_type": "code",
      "metadata": {
        "id": "Jy1hM7tMSSQ9",
        "colab_type": "code",
        "colab": {}
      },
      "source": [
        "same_button_seqs = np.repeat(encoded_classes, 5).reshape(14, 5)"
      ],
      "execution_count": 0,
      "outputs": []
    },
    {
      "cell_type": "code",
      "metadata": {
        "id": "lqzUPT1qV9Yq",
        "colab_type": "code",
        "colab": {
          "base_uri": "https://localhost:8080/",
          "height": 34
        },
        "outputId": "15b4b63d-5f6e-4a1d-98bb-a0b4c4a19848"
      },
      "source": [
        "embeddings_2d = embedding_model.predict(same_button_seqs)\n",
        "embeddings_2d.shape"
      ],
      "execution_count": 80,
      "outputs": [
        {
          "output_type": "execute_result",
          "data": {
            "text/plain": [
              "(14, 5, 2)"
            ]
          },
          "metadata": {
            "tags": []
          },
          "execution_count": 80
        }
      ]
    },
    {
      "cell_type": "code",
      "metadata": {
        "id": "MQK9MRqAWvr0",
        "colab_type": "code",
        "colab": {
          "base_uri": "https://localhost:8080/",
          "height": 1000
        },
        "outputId": "42c9237f-7d6f-489f-d6ff-0b42c8c00586"
      },
      "source": [
        "embeddings_2d"
      ],
      "execution_count": 81,
      "outputs": [
        {
          "output_type": "execute_result",
          "data": {
            "text/plain": [
              "array([[[-0.00442662, -0.02886559],\n",
              "        [-0.00442662, -0.02886559],\n",
              "        [-0.00442662, -0.02886559],\n",
              "        [-0.00442662, -0.02886559],\n",
              "        [-0.00442662, -0.02886559]],\n",
              "\n",
              "       [[ 0.16050503, -0.14630839],\n",
              "        [ 0.16050503, -0.14630839],\n",
              "        [ 0.16050503, -0.14630839],\n",
              "        [ 0.16050503, -0.14630839],\n",
              "        [ 0.16050503, -0.14630839]],\n",
              "\n",
              "       [[-0.013004  ,  0.2784732 ],\n",
              "        [-0.013004  ,  0.2784732 ],\n",
              "        [-0.013004  ,  0.2784732 ],\n",
              "        [-0.013004  ,  0.2784732 ],\n",
              "        [-0.013004  ,  0.2784732 ]],\n",
              "\n",
              "       [[ 0.12424547, -0.02575832],\n",
              "        [ 0.12424547, -0.02575832],\n",
              "        [ 0.12424547, -0.02575832],\n",
              "        [ 0.12424547, -0.02575832],\n",
              "        [ 0.12424547, -0.02575832]],\n",
              "\n",
              "       [[ 0.01248433,  0.01787362],\n",
              "        [ 0.01248433,  0.01787362],\n",
              "        [ 0.01248433,  0.01787362],\n",
              "        [ 0.01248433,  0.01787362],\n",
              "        [ 0.01248433,  0.01787362]],\n",
              "\n",
              "       [[ 0.17162313,  0.01450849],\n",
              "        [ 0.17162313,  0.01450849],\n",
              "        [ 0.17162313,  0.01450849],\n",
              "        [ 0.17162313,  0.01450849],\n",
              "        [ 0.17162313,  0.01450849]],\n",
              "\n",
              "       [[ 0.10398964, -0.31924585],\n",
              "        [ 0.10398964, -0.31924585],\n",
              "        [ 0.10398964, -0.31924585],\n",
              "        [ 0.10398964, -0.31924585],\n",
              "        [ 0.10398964, -0.31924585]],\n",
              "\n",
              "       [[-0.26749665,  0.10292697],\n",
              "        [-0.26749665,  0.10292697],\n",
              "        [-0.26749665,  0.10292697],\n",
              "        [-0.26749665,  0.10292697],\n",
              "        [-0.26749665,  0.10292697]],\n",
              "\n",
              "       [[-0.01070085, -0.00391349],\n",
              "        [-0.01070085, -0.00391349],\n",
              "        [-0.01070085, -0.00391349],\n",
              "        [-0.01070085, -0.00391349],\n",
              "        [-0.01070085, -0.00391349]],\n",
              "\n",
              "       [[-0.32971352,  0.3900501 ],\n",
              "        [-0.32971352,  0.3900501 ],\n",
              "        [-0.32971352,  0.3900501 ],\n",
              "        [-0.32971352,  0.3900501 ],\n",
              "        [-0.32971352,  0.3900501 ]],\n",
              "\n",
              "       [[ 0.11382654,  0.10787859],\n",
              "        [ 0.11382654,  0.10787859],\n",
              "        [ 0.11382654,  0.10787859],\n",
              "        [ 0.11382654,  0.10787859],\n",
              "        [ 0.11382654,  0.10787859]],\n",
              "\n",
              "       [[-0.11615247,  0.130757  ],\n",
              "        [-0.11615247,  0.130757  ],\n",
              "        [-0.11615247,  0.130757  ],\n",
              "        [-0.11615247,  0.130757  ],\n",
              "        [-0.11615247,  0.130757  ]],\n",
              "\n",
              "       [[-0.31363907, -0.09648325],\n",
              "        [-0.31363907, -0.09648325],\n",
              "        [-0.31363907, -0.09648325],\n",
              "        [-0.31363907, -0.09648325],\n",
              "        [-0.31363907, -0.09648325]],\n",
              "\n",
              "       [[ 0.23341952,  0.28193444],\n",
              "        [ 0.23341952,  0.28193444],\n",
              "        [ 0.23341952,  0.28193444],\n",
              "        [ 0.23341952,  0.28193444],\n",
              "        [ 0.23341952,  0.28193444]]], dtype=float32)"
            ]
          },
          "metadata": {
            "tags": []
          },
          "execution_count": 81
        }
      ]
    },
    {
      "cell_type": "code",
      "metadata": {
        "id": "-pwG6XdVWDgl",
        "colab_type": "code",
        "colab": {
          "base_uri": "https://localhost:8080/",
          "height": 255
        },
        "outputId": "17da6e87-a2f5-4472-eca4-5e8ba431dae5"
      },
      "source": [
        "only_first = embeddings_2d[:, 0, :]\n",
        "only_first"
      ],
      "execution_count": 84,
      "outputs": [
        {
          "output_type": "execute_result",
          "data": {
            "text/plain": [
              "array([[-0.00442662, -0.02886559],\n",
              "       [ 0.16050503, -0.14630839],\n",
              "       [-0.013004  ,  0.2784732 ],\n",
              "       [ 0.12424547, -0.02575832],\n",
              "       [ 0.01248433,  0.01787362],\n",
              "       [ 0.17162313,  0.01450849],\n",
              "       [ 0.10398964, -0.31924585],\n",
              "       [-0.26749665,  0.10292697],\n",
              "       [-0.01070085, -0.00391349],\n",
              "       [-0.32971352,  0.3900501 ],\n",
              "       [ 0.11382654,  0.10787859],\n",
              "       [-0.11615247,  0.130757  ],\n",
              "       [-0.31363907, -0.09648325],\n",
              "       [ 0.23341952,  0.28193444]], dtype=float32)"
            ]
          },
          "metadata": {
            "tags": []
          },
          "execution_count": 84
        }
      ]
    },
    {
      "cell_type": "code",
      "metadata": {
        "id": "2pdzg-RNXM6S",
        "colab_type": "code",
        "colab": {}
      },
      "source": [
        ""
      ],
      "execution_count": 0,
      "outputs": []
    },
    {
      "cell_type": "code",
      "metadata": {
        "id": "YhzQj78OL5_w",
        "colab_type": "code",
        "colab": {
          "base_uri": "https://localhost:8080/",
          "height": 665
        },
        "outputId": "990a1a02-2b53-4bed-b2b8-a0064b07eabc"
      },
      "source": [
        "# for printing only\n",
        "plt.figure(figsize=(10,10))\n",
        "# plt.figure(dpi=600)\n",
        "# plt.figure(dpi=300)\n",
        "\n",
        "plt.axis('off')\n",
        "\n",
        "\n",
        "plt.scatter(only_first[:, 0], only_first[:, 1], s=200)\n",
        "for name, x_pos, y_pos in zip(encoder.classes_, only_first[:, 0], only_first[:, 1]):\n",
        "#   print(name, (x_pos, y_pos))\n",
        "  plt.annotate(name, (x_pos, y_pos),  rotation=-60, size=25)"
      ],
      "execution_count": 87,
      "outputs": [
        {
          "output_type": "display_data",
          "data": {
            "image/png": "[encoded data removed]",
            "text/plain": [
              "<Figure size 720x720 with 1 Axes>"
            ]
          },
          "metadata": {
            "tags": []
          }
        }
      ]
    },
    {
      "cell_type": "code",
      "metadata": {
        "id": "GWR9vXsJa_c1",
        "colab_type": "code",
        "colab": {
          "base_uri": "https://localhost:8080/",
          "height": 340
        },
        "outputId": "4bac0afc-1cb3-47bd-b1bb-a920048703b5"
      },
      "source": [
        "from sklearn.decomposition import PCA\n",
        "import numpy as np\n",
        "\n",
        "embeddings_1d = PCA(n_components=1).fit_transform(only_first)\n",
        "\n",
        "# for printing only\n",
        "plt.figure(figsize=(25,5))\n",
        "# plt.figure(dpi=300)\n",
        "\n",
        "plt.axis('off')\n",
        "\n",
        "plt.scatter(embeddings_1d, np.zeros(len(embeddings_1d)), s=80)\n",
        "for name, x_pos in zip(encoder.classes_, embeddings_1d):\n",
        "  plt.annotate(name, (x_pos, 0), rotation=-45)"
      ],
      "execution_count": 90,
      "outputs": [
        {
          "output_type": "display_data",
          "data": {
            "image/png": "[encoded data removed]",
            "text/plain": [
              "<Figure size 1800x360 with 1 Axes>"
            ]
          },
          "metadata": {
            "tags": []
          }
        }
      ]
    },
    {
      "cell_type": "markdown",
      "metadata": {
        "id": "Rv2Yo1SsBvYn",
        "colab_type": "text"
      },
      "source": [
        "## Convert Model into tfjs format"
      ]
    },
    {
      "cell_type": "code",
      "metadata": {
        "id": "crq3LXdj_hFc",
        "colab_type": "code",
        "colab": {}
      },
      "source": [
        "model.save('ux.h5', save_format='h5')"
      ],
      "execution_count": 0,
      "outputs": []
    },
    {
      "cell_type": "code",
      "metadata": {
        "id": "_sRLDfTDB8GS",
        "colab_type": "code",
        "outputId": "786542a3-8644-4b7a-ae23-787a4cc04753",
        "colab": {
          "base_uri": "https://localhost:8080/",
          "height": 68
        }
      },
      "source": [
        "!ls -l"
      ],
      "execution_count": 0,
      "outputs": [
        {
          "output_type": "stream",
          "text": [
            "total 88\n",
            "drwxr-xr-x 1 root root  4096 Jun 18 16:14 sample_data\n",
            "-rw-r--r-- 1 root root 83072 Jul  2 07:12 ux.h5\n"
          ],
          "name": "stdout"
        }
      ]
    },
    {
      "cell_type": "code",
      "metadata": {
        "id": "Xbv45tMgCIkn",
        "colab_type": "code",
        "outputId": "40331b84-e616-488f-e8bc-9263550a3fc2",
        "colab": {
          "base_uri": "https://localhost:8080/",
          "height": 119
        }
      },
      "source": [
        "!pip install -q tensorflowjs"
      ],
      "execution_count": 0,
      "outputs": [
        {
          "output_type": "stream",
          "text": [
            "\u001b[?25l\r\u001b[K     |████▌                           | 10kB 19.7MB/s eta 0:00:01\r\u001b[K     |█████████                       | 20kB 26.0MB/s eta 0:00:01\r\u001b[K     |█████████████▌                  | 30kB 30.8MB/s eta 0:00:01\r\u001b[K     |██████████████████              | 40kB 33.9MB/s eta 0:00:01\r\u001b[K     |██████████████████████▍         | 51kB 4.4MB/s eta 0:00:01\r\u001b[K     |███████████████████████████     | 61kB 5.2MB/s eta 0:00:01\r\u001b[K     |███████████████████████████████▍| 71kB 6.0MB/s eta 0:00:01\r\u001b[K     |████████████████████████████████| 81kB 6.0MB/s \n",
            "\u001b[31mERROR: s3fs 0.2.1 has requirement six>=1.12.0, but you'll have six 1.11.0 which is incompatible.\u001b[0m\n",
            "\u001b[31mERROR: jupyter-console 6.0.0 has requirement prompt-toolkit<2.1.0,>=2.0.0, but you'll have prompt-toolkit 1.0.16 which is incompatible.\u001b[0m\n",
            "\u001b[31mERROR: google-colab 1.0.0 has requirement six~=1.12.0, but you'll have six 1.11.0 which is incompatible.\u001b[0m\n",
            "\u001b[31mERROR: datascience 0.10.6 has requirement folium==0.2.1, but you'll have folium 0.8.3 which is incompatible.\u001b[0m\n",
            "\u001b[31mERROR: albumentations 0.1.12 has requirement imgaug<0.2.7,>=0.2.5, but you'll have imgaug 0.2.9 which is incompatible.\u001b[0m\n",
            "\u001b[?25h"
          ],
          "name": "stdout"
        }
      ]
    },
    {
      "cell_type": "code",
      "metadata": {
        "id": "bqztV867_hFd",
        "colab_type": "code",
        "colab": {}
      },
      "source": [
        "!tensorflowjs_converter --input_format keras ux.h5 tfjs"
      ],
      "execution_count": 0,
      "outputs": []
    },
    {
      "cell_type": "code",
      "metadata": {
        "id": "2GH6PYWgCDYc",
        "colab_type": "code",
        "outputId": "b725cbfb-17d5-4533-88cc-40024bfb3f9a",
        "colab": {
          "base_uri": "https://localhost:8080/",
          "height": 68
        }
      },
      "source": [
        "!ls -l tfjs"
      ],
      "execution_count": 0,
      "outputs": [
        {
          "output_type": "stream",
          "text": [
            "total 20\n",
            "-rw-r--r-- 1 root root 14156 Jul  2 07:12 group1-shard1of1.bin\n",
            "-rw-r--r-- 1 root root  3734 Jul  2 07:12 model.json\n"
          ],
          "name": "stdout"
        }
      ]
    },
    {
      "cell_type": "markdown",
      "metadata": {
        "id": "Xd5GPZiUkpTD",
        "colab_type": "text"
      },
      "source": [
        "Download using _Files_ menu on the left"
      ]
    },
    {
      "cell_type": "code",
      "metadata": {
        "id": "lsd2Kj8ECJu3",
        "colab_type": "code",
        "colab": {}
      },
      "source": [
        ""
      ],
      "execution_count": 0,
      "outputs": []
    }
  ]
}