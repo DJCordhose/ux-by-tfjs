{
  "nbformat": 4,
  "nbformat_minor": 0,
  "metadata": {
    "colab": {
      "name": "rnn-model.ipynb",
      "version": "0.3.2",
      "provenance": [],
      "toc_visible": true,
      "include_colab_link": true
    },
    "kernelspec": {
      "display_name": "Python 3",
      "language": "python",
      "name": "python3"
    },
    "accelerator": "GPU"
  },
  "cells": [
    {
      "cell_type": "markdown",
      "metadata": {
        "id": "view-in-github",
        "colab_type": "text"
      },
      "source": [
        "<a href=\"https://colab.research.google.com/github/DJCordhose/ux-by-tfjs/blob/master/notebooks/click-sequence-model-overfit.ipynb\" target=\"_parent\"><img src=\"https://colab.research.google.com/assets/colab-badge.svg\" alt=\"Open In Colab\"/></a>"
      ]
    },
    {
      "cell_type": "markdown",
      "metadata": {
        "colab_type": "text",
        "id": "XdfXfXK2-CiG"
      },
      "source": [
        "# Training on Sequences of Clicks on the Server\n",
        "\n",
        "Make sure to run this from top to bottom to export model, otherwise names of layers cause tf.js to bail out"
      ]
    },
    {
      "cell_type": "code",
      "metadata": {
        "colab_type": "code",
        "id": "u8IonVMfAelY",
        "colab": {}
      },
      "source": [
        "# for colab\n",
        "!pip install -q tf-nightly-gpu-2.0-preview"
      ],
      "execution_count": 0,
      "outputs": []
    },
    {
      "cell_type": "code",
      "metadata": {
        "colab_type": "code",
        "id": "0rEa6M11-CiY",
        "outputId": "cb4bae0e-b407-42d8-bd1d-9fa89e5ee09c",
        "colab": {
          "base_uri": "https://localhost:8080/",
          "height": 34
        }
      },
      "source": [
        "import tensorflow as tf\n",
        "print(tf.__version__)"
      ],
      "execution_count": 2,
      "outputs": [
        {
          "output_type": "stream",
          "text": [
            "2.0.0-dev20190701\n"
          ],
          "name": "stdout"
        }
      ]
    },
    {
      "cell_type": "code",
      "metadata": {
        "colab_type": "code",
        "id": "I35W9tmrRWF3",
        "outputId": "53ea40e0-ddc9-45af-91ad-6442fa41553d",
        "colab": {
          "base_uri": "https://localhost:8080/",
          "height": 34
        }
      },
      "source": [
        "# a small sanity check, does tf seem to work ok?\n",
        "hello = tf.constant('Hello TF!')\n",
        "print(\"This works: {}\".format(hello))"
      ],
      "execution_count": 3,
      "outputs": [
        {
          "output_type": "stream",
          "text": [
            "This works: b'Hello TF!'\n"
          ],
          "name": "stdout"
        }
      ]
    },
    {
      "cell_type": "code",
      "metadata": {
        "colab_type": "code",
        "id": "DpXHERPSQvMD",
        "outputId": "6b422b53-1548-4ce3-ed8e-a660b23cd096",
        "colab": {
          "base_uri": "https://localhost:8080/",
          "height": 34
        }
      },
      "source": [
        "# this should return True even on Colab\n",
        "tf.test.is_gpu_available()"
      ],
      "execution_count": 4,
      "outputs": [
        {
          "output_type": "execute_result",
          "data": {
            "text/plain": [
              "True"
            ]
          },
          "metadata": {
            "tags": []
          },
          "execution_count": 4
        }
      ]
    },
    {
      "cell_type": "code",
      "metadata": {
        "colab_type": "code",
        "id": "hEoP6O2r3Jvf",
        "outputId": "1861ee3c-a297-46fb-af30-9b4ae234acf6",
        "colab": {
          "base_uri": "https://localhost:8080/",
          "height": 34
        }
      },
      "source": [
        "tf.test.is_built_with_cuda()"
      ],
      "execution_count": 5,
      "outputs": [
        {
          "output_type": "execute_result",
          "data": {
            "text/plain": [
              "True"
            ]
          },
          "metadata": {
            "tags": []
          },
          "execution_count": 5
        }
      ]
    },
    {
      "cell_type": "code",
      "metadata": {
        "colab_type": "code",
        "id": "PqalzDXr3OiQ",
        "outputId": "8e446c6a-f38e-451a-908f-b0bc997fe319",
        "colab": {
          "base_uri": "https://localhost:8080/",
          "height": 34
        }
      },
      "source": [
        "tf.executing_eagerly()"
      ],
      "execution_count": 6,
      "outputs": [
        {
          "output_type": "execute_result",
          "data": {
            "text/plain": [
              "True"
            ]
          },
          "metadata": {
            "tags": []
          },
          "execution_count": 6
        }
      ]
    },
    {
      "cell_type": "markdown",
      "metadata": {
        "id": "C9a1zn2-_hEY",
        "colab_type": "text"
      },
      "source": [
        "## load data"
      ]
    },
    {
      "cell_type": "code",
      "metadata": {
        "id": "iztUacrB_hEZ",
        "colab_type": "code",
        "outputId": "7e82f177-7fcc-44d5-d7de-d84d9dce5ce2",
        "colab": {
          "base_uri": "https://localhost:8080/",
          "height": 34
        }
      },
      "source": [
        "import pandas as pd\n",
        "print(pd.__version__)"
      ],
      "execution_count": 7,
      "outputs": [
        {
          "output_type": "stream",
          "text": [
            "0.24.2\n"
          ],
          "name": "stdout"
        }
      ]
    },
    {
      "cell_type": "code",
      "metadata": {
        "id": "p_Na83Q9U1Le",
        "colab_type": "code",
        "outputId": "837717bf-3476-46da-9dd4-24674aba5cee",
        "colab": {
          "base_uri": "https://localhost:8080/",
          "height": 34
        }
      },
      "source": [
        "import numpy as np\n",
        "print(np.__version__)"
      ],
      "execution_count": 8,
      "outputs": [
        {
          "output_type": "stream",
          "text": [
            "1.16.4\n"
          ],
          "name": "stdout"
        }
      ]
    },
    {
      "cell_type": "code",
      "metadata": {
        "id": "PhJJH5TS_hEc",
        "colab_type": "code",
        "colab": {}
      },
      "source": [
        "# local\n",
        "# URL = '../data/click-sequence.json'\n",
        "\n",
        "# remote\n",
        "URL = 'https://raw.githubusercontent.com/DJCordhose/ux-by-tfjs/master//data/click-sequence.json'\n",
        "\n",
        "\n",
        "df = pd.read_json(URL, typ='series')"
      ],
      "execution_count": 0,
      "outputs": []
    },
    {
      "cell_type": "code",
      "metadata": {
        "id": "swqLoJAh_hEe",
        "colab_type": "code",
        "outputId": "e868ff58-83f0-4a18-eb6f-14dc87740192",
        "colab": {
          "base_uri": "https://localhost:8080/",
          "height": 34
        }
      },
      "source": [
        "len(df)"
      ],
      "execution_count": 10,
      "outputs": [
        {
          "output_type": "execute_result",
          "data": {
            "text/plain": [
              "26"
            ]
          },
          "metadata": {
            "tags": []
          },
          "execution_count": 10
        }
      ]
    },
    {
      "cell_type": "code",
      "metadata": {
        "id": "8CHaa_KVsPlZ",
        "colab_type": "code",
        "outputId": "5498c3b7-de8b-4a63-b9ae-7161a37a78b9",
        "colab": {
          "base_uri": "https://localhost:8080/",
          "height": 119
        }
      },
      "source": [
        "df.head()"
      ],
      "execution_count": 11,
      "outputs": [
        {
          "output_type": "execute_result",
          "data": {
            "text/plain": [
              "0                                                   []\n",
              "1                   [train-model, save-model-to-local]\n",
              "2                      [load-local-model, train-model]\n",
              "3    [load-local-model, train-model, toggle-visor, ...\n",
              "4    [train-model, show-eval, train-model, save-mod...\n",
              "dtype: object"
            ]
          },
          "metadata": {
            "tags": []
          },
          "execution_count": 11
        }
      ]
    },
    {
      "cell_type": "code",
      "metadata": {
        "id": "lEHQA75JUfXt",
        "colab_type": "code",
        "outputId": "bf1ef4df-4c0c-4efc-e2de-8f5be3788f3f",
        "colab": {
          "base_uri": "https://localhost:8080/",
          "height": 34
        }
      },
      "source": [
        "type(df[0])"
      ],
      "execution_count": 12,
      "outputs": [
        {
          "output_type": "execute_result",
          "data": {
            "text/plain": [
              "list"
            ]
          },
          "metadata": {
            "tags": []
          },
          "execution_count": 12
        }
      ]
    },
    {
      "cell_type": "code",
      "metadata": {
        "id": "JRo1kuJmsQ-s",
        "colab_type": "code",
        "outputId": "784abf16-6bf0-47d6-dd6f-01e674f9857d",
        "colab": {
          "base_uri": "https://localhost:8080/",
          "height": 34
        }
      },
      "source": [
        "df[0], df[1]"
      ],
      "execution_count": 13,
      "outputs": [
        {
          "output_type": "execute_result",
          "data": {
            "text/plain": [
              "([], ['train-model', 'save-model-to-local'])"
            ]
          },
          "metadata": {
            "tags": []
          },
          "execution_count": 13
        }
      ]
    },
    {
      "cell_type": "code",
      "metadata": {
        "id": "iILrKJHzuNA8",
        "colab_type": "code",
        "outputId": "fc057468-86f4-4a36-9066-509e5583fb5c",
        "colab": {
          "base_uri": "https://localhost:8080/",
          "height": 54
        }
      },
      "source": [
        "all_buttons = set()\n",
        "for seq in df:\n",
        "  for button in seq:\n",
        "    all_buttons.add(button)\n",
        "\n",
        "all_buttons.add('<START>')\n",
        "all_buttons.add('<EMPTY>')\n",
        "\n",
        "all_buttons = list(all_buttons)\n",
        "\n",
        "print(all_buttons)"
      ],
      "execution_count": 14,
      "outputs": [
        {
          "output_type": "stream",
          "text": [
            "['show-model', '<START>', 'download-model', 'load-local-model', 'reset-model', 'toggle-prediction', 'reset-data', 'show-eval', 'train-model', 'upload-model', 'toggle-visor', 'save-model-to-local', '<EMPTY>']\n"
          ],
          "name": "stdout"
        }
      ]
    },
    {
      "cell_type": "code",
      "metadata": {
        "colab_type": "code",
        "outputId": "9886a57a-31c9-41eb-dd2b-c75779311e66",
        "id": "z0n-qYv6sAwf",
        "colab": {
          "base_uri": "https://localhost:8080/",
          "height": 85
        }
      },
      "source": [
        "from sklearn.preprocessing import LabelBinarizer, MultiLabelBinarizer, LabelEncoder\n",
        "encoder = LabelEncoder()\n",
        "encoder.fit(all_buttons)\n",
        "encoder.classes_"
      ],
      "execution_count": 15,
      "outputs": [
        {
          "output_type": "execute_result",
          "data": {
            "text/plain": [
              "array(['<EMPTY>', '<START>', 'download-model', 'load-local-model',\n",
              "       'reset-data', 'reset-model', 'save-model-to-local', 'show-eval',\n",
              "       'show-model', 'toggle-prediction', 'toggle-visor', 'train-model',\n",
              "       'upload-model'], dtype='<U19')"
            ]
          },
          "metadata": {
            "tags": []
          },
          "execution_count": 15
        }
      ]
    },
    {
      "cell_type": "code",
      "metadata": {
        "id": "OoNWjgb6tgN_",
        "colab_type": "code",
        "outputId": "e2fa4b82-a8fe-4cfc-eb37-8c9186a20518",
        "colab": {
          "base_uri": "https://localhost:8080/",
          "height": 105
        }
      },
      "source": [
        "transfomed_labels = [encoder.transform(seq) for seq in df if len(seq) != 0]\n",
        "print(transfomed_labels)"
      ],
      "execution_count": 16,
      "outputs": [
        {
          "output_type": "stream",
          "text": [
            "[array([11,  6]), array([ 3, 11]), array([ 3, 11, 10, 10, 11,  5, 11]), array([11,  7, 11,  6]), array([ 3, 11,  7,  6,  2, 10,  9]), array([11,  8, 10,  7, 10, 10,  6,  9]), array([11, 10,  6, 10,  7,  4, 11, 10,  6,  7,  7,  7]), array([11, 11,  6,  7, 10,  9,  6,  2]), array([12, 12, 12, 12,  9]), array([ 4, 11,  9,  7,  9,  9,  9, 10,  9,  9,  5, 11, 10,  6, 11,  6,  7,\n",
            "        7,  9, 10,  9,  5, 11, 10,  6,  7,  7,  9,  9]), array([11,  6, 10,  2,  9, 12, 12, 10,  7,  7]), array([12, 12,  9,  4,  9]), array([11,  9, 10]), array([11]), array([11,  7,  5, 11, 10, 10, 10,  7,  7, 11,  5, 11,  6,  7,  7,  4,  5,\n",
            "       11, 10,  7,  7, 10,  5, 11, 10,  6, 10,  9,  9, 11, 10, 10,  9,  9,\n",
            "       11, 10,  6,  7,  7, 10,  9]), array([11]), array([11]), array([11,  3,  9, 10,  9]), array([ 9,  3,  3,  9,  9,  9, 11, 10, 10,  7,  7,  9, 10, 11]), array([11, 10])]\n"
          ],
          "name": "stdout"
        }
      ]
    },
    {
      "cell_type": "markdown",
      "metadata": {
        "id": "CeIWHq5hBkgs",
        "colab_type": "text"
      },
      "source": [
        "## pre-process data into chunks"
      ]
    },
    {
      "cell_type": "code",
      "metadata": {
        "id": "2stZBQcRe960",
        "colab_type": "code",
        "colab": {}
      },
      "source": [
        "empty = encoder.transform(['<EMPTY>'])\n",
        "start = encoder.transform(['<START>'])\n",
        "chunk_size = 5"
      ],
      "execution_count": 0,
      "outputs": []
    },
    {
      "cell_type": "code",
      "metadata": {
        "id": "YUz7R-aKmGH0",
        "colab_type": "code",
        "colab": {}
      },
      "source": [
        "# [ 1, 11,  7, 11,  6] => [[[0, 0, 0, 0, 1], 11], [[0, 0, 0, 1, 11], 7], [[0, 0, 1, 11, 7], 11], [[0, 1, 11, 7, 11], 6]]\n",
        "\n",
        "def create_sequences(seq, chunk_size, empty, start):\n",
        "  # all sequences implicitly start\n",
        "  seq = np.append(start, seq)\n",
        "  # if sequence is too short, we pad it to minimum size at the beginning\n",
        "  seq = np.append(np.full(chunk_size - 1, empty), seq)\n",
        "  \n",
        "  seqs = np.array([])\n",
        "  for index in range(chunk_size, len(seq)):\n",
        "    y = seq[index]\n",
        "    x = seq[index-chunk_size : index]\n",
        "    seqs = np.append(seqs, [x, y])\n",
        "  return seqs"
      ],
      "execution_count": 0,
      "outputs": []
    },
    {
      "cell_type": "code",
      "metadata": {
        "id": "IlZ6LZZN15uo",
        "colab_type": "code",
        "outputId": "b7116784-68ea-4caf-9749-0b62be6b3988",
        "colab": {
          "base_uri": "https://localhost:8080/",
          "height": 34
        }
      },
      "source": [
        "\n",
        "# seq = transfomed_labels[0]\n",
        "# seq = transfomed_labels[9]\n",
        "seq = transfomed_labels[3]\n",
        "seq"
      ],
      "execution_count": 19,
      "outputs": [
        {
          "output_type": "execute_result",
          "data": {
            "text/plain": [
              "array([11,  7, 11,  6])"
            ]
          },
          "metadata": {
            "tags": []
          },
          "execution_count": 19
        }
      ]
    },
    {
      "cell_type": "code",
      "metadata": {
        "id": "gZ2h1RW84mE9",
        "colab_type": "code",
        "outputId": "111612d6-4ff6-4dda-97a5-d7d4e684c7de",
        "colab": {
          "base_uri": "https://localhost:8080/",
          "height": 68
        }
      },
      "source": [
        "create_sequences(seq, chunk_size, empty, start)"
      ],
      "execution_count": 20,
      "outputs": [
        {
          "output_type": "execute_result",
          "data": {
            "text/plain": [
              "array([array([0, 0, 0, 0, 1]), 11, array([ 0,  0,  0,  1, 11]), 7,\n",
              "       array([ 0,  0,  1, 11,  7]), 11, array([ 0,  1, 11,  7, 11]), 6],\n",
              "      dtype=object)"
            ]
          },
          "metadata": {
            "tags": []
          },
          "execution_count": 20
        }
      ]
    },
    {
      "cell_type": "code",
      "metadata": {
        "id": "bRQEXaUb4kGD",
        "colab_type": "code",
        "outputId": "dd71f764-98ad-4e59-8178-9a09b729eab8",
        "colab": {
          "base_uri": "https://localhost:8080/",
          "height": 34
        }
      },
      "source": [
        "seqs = np.array([])\n",
        "for seq in transfomed_labels:\n",
        "  seqs = np.append(seqs, create_sequences(seq, chunk_size, empty, start))\n",
        "seqs = seqs.reshape(-1, 2)\n",
        "seqs.shape"
      ],
      "execution_count": 21,
      "outputs": [
        {
          "output_type": "execute_result",
          "data": {
            "text/plain": [
              "(167, 2)"
            ]
          },
          "metadata": {
            "tags": []
          },
          "execution_count": 21
        }
      ]
    },
    {
      "cell_type": "code",
      "metadata": {
        "id": "xUZY7WpX8p3x",
        "colab_type": "code",
        "outputId": "285fe347-2a8c-4472-cb20-ec982293f354",
        "colab": {
          "base_uri": "https://localhost:8080/",
          "height": 34
        }
      },
      "source": [
        "X = seqs[:, 0]\n",
        "# X = X.reshape(-1, chunk_size)\n",
        "X = np.vstack(X)\n",
        "X.shape"
      ],
      "execution_count": 22,
      "outputs": [
        {
          "output_type": "execute_result",
          "data": {
            "text/plain": [
              "(167, 5)"
            ]
          },
          "metadata": {
            "tags": []
          },
          "execution_count": 22
        }
      ]
    },
    {
      "cell_type": "code",
      "metadata": {
        "id": "PYYGotC6ArLG",
        "colab_type": "code",
        "outputId": "8edb38ab-8d80-4e37-be45-993c67aa041b",
        "colab": {
          "base_uri": "https://localhost:8080/",
          "height": 170
        }
      },
      "source": [
        "y = seqs[:, 1]\n",
        "y"
      ],
      "execution_count": 23,
      "outputs": [
        {
          "output_type": "execute_result",
          "data": {
            "text/plain": [
              "array([11, 6, 3, 11, 3, 11, 10, 10, 11, 5, 11, 11, 7, 11, 6, 3, 11, 7, 6,\n",
              "       2, 10, 9, 11, 8, 10, 7, 10, 10, 6, 9, 11, 10, 6, 10, 7, 4, 11, 10,\n",
              "       6, 7, 7, 7, 11, 11, 6, 7, 10, 9, 6, 2, 12, 12, 12, 12, 9, 4, 11, 9,\n",
              "       7, 9, 9, 9, 10, 9, 9, 5, 11, 10, 6, 11, 6, 7, 7, 9, 10, 9, 5, 11,\n",
              "       10, 6, 7, 7, 9, 9, 11, 6, 10, 2, 9, 12, 12, 10, 7, 7, 12, 12, 9, 4,\n",
              "       9, 11, 9, 10, 11, 11, 7, 5, 11, 10, 10, 10, 7, 7, 11, 5, 11, 6, 7,\n",
              "       7, 4, 5, 11, 10, 7, 7, 10, 5, 11, 10, 6, 10, 9, 9, 11, 10, 10, 9,\n",
              "       9, 11, 10, 6, 7, 7, 10, 9, 11, 11, 11, 3, 9, 10, 9, 9, 3, 3, 9, 9,\n",
              "       9, 11, 10, 10, 7, 7, 9, 10, 11, 11, 10], dtype=object)"
            ]
          },
          "metadata": {
            "tags": []
          },
          "execution_count": 23
        }
      ]
    },
    {
      "cell_type": "markdown",
      "metadata": {
        "id": "r9nB_r-ABpl7",
        "colab_type": "text"
      },
      "source": [
        "## Training"
      ]
    },
    {
      "cell_type": "code",
      "metadata": {
        "id": "rQ6o5bkU6Pha",
        "colab_type": "code",
        "outputId": "183f4a0d-070b-47a8-a5b5-df8f54134563",
        "colab": {
          "base_uri": "https://localhost:8080/",
          "height": 323
        }
      },
      "source": [
        "import tensorflow as tf\n",
        "from tensorflow import keras\n",
        "from tensorflow.keras.layers import Dense, LSTM, GRU, SimpleRNN, Embedding, BatchNormalization, Dropout\n",
        "from tensorflow.keras.models import Sequential, Model\n",
        "\n",
        "embedding_dim = 2\n",
        "n_buttons = len(encoder.classes_)\n",
        "\n",
        "dropout = .4\n",
        "recurrent_dropout = .4\n",
        "\n",
        "model = Sequential()\n",
        "model.add(Embedding(name='embedding',\n",
        "                    input_dim=n_buttons, \n",
        "                    output_dim=embedding_dim, \n",
        "                    input_length=chunk_size))\n",
        "\n",
        "model.add(SimpleRNN(units=50, activation='relu', name=\"RNN\", \n",
        "#                     recurrent_dropout=recurrent_dropout))\n",
        "# model.add(GRU(units=25, activation='relu', name=\"RNN\", recurrent_dropout=0.5))\n",
        "# model.add(LSTM(units=25, activation='relu', name=\"RNN\", recurrent_dropout=0.5))\n",
        "\n",
        "# model.add(BatchNormalization())\n",
        "# model.add(Dropout(dropout))\n",
        "\n",
        "model.add(Dense(units=n_buttons, name='softmax', activation='softmax'))\n",
        "model.compile(optimizer='adam', loss='sparse_categorical_crossentropy', metrics=['accuracy'])\n",
        "model.summary()"
      ],
      "execution_count": 24,
      "outputs": [
        {
          "output_type": "stream",
          "text": [
            "Model: \"sequential\"\n",
            "_________________________________________________________________\n",
            "Layer (type)                 Output Shape              Param #   \n",
            "=================================================================\n",
            "embedding (Embedding)        (None, 5, 2)              26        \n",
            "_________________________________________________________________\n",
            "RNN (SimpleRNN)              (None, 50)                2650      \n",
            "_________________________________________________________________\n",
            "batch_normalization (BatchNo (None, 50)                200       \n",
            "_________________________________________________________________\n",
            "dropout (Dropout)            (None, 50)                0         \n",
            "_________________________________________________________________\n",
            "softmax (Dense)              (None, 13)                663       \n",
            "=================================================================\n",
            "Total params: 3,539\n",
            "Trainable params: 3,439\n",
            "Non-trainable params: 100\n",
            "_________________________________________________________________\n"
          ],
          "name": "stdout"
        }
      ]
    },
    {
      "cell_type": "code",
      "metadata": {
        "id": "oGO7UyA2_hFM",
        "colab_type": "code",
        "outputId": "39a47211-21a8-4fc8-ed41-8534b1838b92",
        "colab": {
          "base_uri": "https://localhost:8080/",
          "height": 190
        }
      },
      "source": [
        "%%time\n",
        "\n",
        "EPOCHS = 1000\n",
        "BATCH_SIZE = 50\n",
        "\n",
        "history = model.fit(X, y, \n",
        "                    batch_size=BATCH_SIZE,\n",
        "                    epochs=EPOCHS, verbose=0, \n",
        "#                     validation_split=0.2\n",
        "                   )"
      ],
      "execution_count": 25,
      "outputs": [
        {
          "output_type": "stream",
          "text": [
            "WARNING: Logging before flag parsing goes to stderr.\n",
            "W0702 08:23:55.662003 139751537239936 deprecation.py:323] From /usr/local/lib/python3.6/dist-packages/tensorflow_core/python/ops/math_grad.py:1251: where (from tensorflow.python.ops.array_ops) is deprecated and will be removed in a future version.\n",
            "Instructions for updating:\n",
            "Use tf.where in 2.0, which has the same broadcast rule as np.where\n",
            "W0702 08:23:56.178181 139751537239936 deprecation.py:323] From /usr/local/lib/python3.6/dist-packages/tensorflow_core/python/keras/optimizer_v2/optimizer_v2.py:454: BaseResourceVariable.constraint (from tensorflow.python.ops.resource_variable_ops) is deprecated and will be removed in a future version.\n",
            "Instructions for updating:\n",
            "Apply a constraint manually following the optimizer update step.\n"
          ],
          "name": "stderr"
        },
        {
          "output_type": "stream",
          "text": [
            "CPU times: user 1min 28s, sys: 9.6 s, total: 1min 38s\n",
            "Wall time: 59.7 s\n"
          ],
          "name": "stdout"
        }
      ]
    },
    {
      "cell_type": "code",
      "metadata": {
        "id": "po7tURch_hFP",
        "colab_type": "code",
        "outputId": "c6d98612-157d-47e2-f97f-5f208a0dda07",
        "colab": {
          "base_uri": "https://localhost:8080/",
          "height": 51
        }
      },
      "source": [
        "loss, accuracy = model.evaluate(X, y, batch_size=BATCH_SIZE)\n",
        "accuracy"
      ],
      "execution_count": 26,
      "outputs": [
        {
          "output_type": "stream",
          "text": [
            "167/167 [==============================] - 0s 2ms/sample - loss: 0.7830 - accuracy: 0.7305\n"
          ],
          "name": "stdout"
        },
        {
          "output_type": "execute_result",
          "data": {
            "text/plain": [
              "0.7305389"
            ]
          },
          "metadata": {
            "tags": []
          },
          "execution_count": 26
        }
      ]
    },
    {
      "cell_type": "code",
      "metadata": {
        "id": "uqMFRTwp_hFR",
        "colab_type": "code",
        "outputId": "ae7c5763-8a40-4ce9-c8e7-1e5d16e4b43c",
        "colab": {
          "base_uri": "https://localhost:8080/",
          "height": 300
        }
      },
      "source": [
        "%matplotlib inline\n",
        "\n",
        "import matplotlib.pyplot as plt\n",
        "\n",
        "# plt.yscale('log')\n",
        "plt.ylabel('loss')\n",
        "plt.xlabel('epochs')\n",
        "\n",
        "plt.plot(history.history['loss'])\n",
        "# plt.plot(history.history['val_loss'])\n",
        "\n",
        "# plt.legend(['loss', 'val_loss'])"
      ],
      "execution_count": 27,
      "outputs": [
        {
          "output_type": "execute_result",
          "data": {
            "text/plain": [
              "[<matplotlib.lines.Line2D at 0x7f19b19b61d0>]"
            ]
          },
          "metadata": {
            "tags": []
          },
          "execution_count": 27
        },
        {
          "output_type": "display_data",
          "data": {
            "image/png": "[encoded data removed]",
            "text/plain": [
              "<Figure size 432x288 with 1 Axes>"
            ]
          },
          "metadata": {
            "tags": []
          }
        }
      ]
    },
    {
      "cell_type": "code",
      "metadata": {
        "id": "CS1Gynas_hFT",
        "colab_type": "code",
        "outputId": "08ca084e-111b-4045-9ffb-92336e8c131c",
        "colab": {
          "base_uri": "https://localhost:8080/",
          "height": 300
        }
      },
      "source": [
        "plt.ylabel('accuracy')\n",
        "plt.xlabel('epochs')\n",
        "\n",
        "# TF 2.0\n",
        "plt.plot(history.history['accuracy'])\n",
        "# plt.plot(history.history['val_accuracy'])\n",
        "# plt.plot(history.history['acc'])\n",
        "# plt.plot(history.history['val_acc'])\n",
        "\n",
        "# plt.legend(['accuracy', 'val_accuracy'])"
      ],
      "execution_count": 28,
      "outputs": [
        {
          "output_type": "execute_result",
          "data": {
            "text/plain": [
              "[<matplotlib.lines.Line2D at 0x7f19af945ef0>]"
            ]
          },
          "metadata": {
            "tags": []
          },
          "execution_count": 28
        },
        {
          "output_type": "display_data",
          "data": {
            "image/png": "[encoded data removed]",
            "text/plain": [
              "<Figure size 432x288 with 1 Axes>"
            ]
          },
          "metadata": {
            "tags": []
          }
        }
      ]
    },
    {
      "cell_type": "code",
      "metadata": {
        "id": "h7ZO4M2I_hFV",
        "colab_type": "code",
        "outputId": "bfe4407f-602f-4498-c934-1f93d60e423d",
        "colab": {
          "base_uri": "https://localhost:8080/",
          "height": 85
        }
      },
      "source": [
        "model.predict([[X[0]]])"
      ],
      "execution_count": 29,
      "outputs": [
        {
          "output_type": "execute_result",
          "data": {
            "text/plain": [
              "array([[3.9246673e-04, 4.7651795e-04, 3.1659512e-03, 1.5998298e-01,\n",
              "        5.4359138e-02, 4.1422280e-03, 2.3623344e-03, 6.3326336e-03,\n",
              "        1.9856619e-03, 6.6364922e-02, 3.3859359e-03, 6.2665427e-01,\n",
              "        7.0394941e-02]], dtype=float32)"
            ]
          },
          "metadata": {
            "tags": []
          },
          "execution_count": 29
        }
      ]
    },
    {
      "cell_type": "code",
      "metadata": {
        "id": "VEGNcvSv_hFX",
        "colab_type": "code",
        "outputId": "972a047b-ff8c-40a5-8a8d-cc27dd1b85b8",
        "colab": {
          "base_uri": "https://localhost:8080/",
          "height": 34
        }
      },
      "source": [
        "model.predict([[X[0]]]).argmax()"
      ],
      "execution_count": 30,
      "outputs": [
        {
          "output_type": "execute_result",
          "data": {
            "text/plain": [
              "11"
            ]
          },
          "metadata": {
            "tags": []
          },
          "execution_count": 30
        }
      ]
    },
    {
      "cell_type": "code",
      "metadata": {
        "id": "RpdLq4RT_hFa",
        "colab_type": "code",
        "outputId": "f23e5b29-93da-47c3-9111-831e3d06428c",
        "colab": {
          "base_uri": "https://localhost:8080/",
          "height": 34
        }
      },
      "source": [
        "y[0]"
      ],
      "execution_count": 31,
      "outputs": [
        {
          "output_type": "execute_result",
          "data": {
            "text/plain": [
              "11"
            ]
          },
          "metadata": {
            "tags": []
          },
          "execution_count": 31
        }
      ]
    },
    {
      "cell_type": "code",
      "metadata": {
        "id": "--ZGTfeohmS_",
        "colab_type": "code",
        "outputId": "b6d4d12a-3949-4ed9-e5c3-18aff4b8af6f",
        "colab": {
          "base_uri": "https://localhost:8080/",
          "height": 187
        }
      },
      "source": [
        "y_pred = model.predict([X]).argmax(axis=1)\n",
        "y_pred"
      ],
      "execution_count": 32,
      "outputs": [
        {
          "output_type": "execute_result",
          "data": {
            "text/plain": [
              "array([11,  6, 11, 11, 11, 11, 10,  6,  7,  5, 11, 11,  6,  5,  6, 11, 11,\n",
              "       10,  7,  2, 10,  9, 11,  6, 10,  7, 10, 10,  6, 10, 11,  6,  6,  7,\n",
              "        7,  7, 11, 10,  6,  7,  7,  9, 11,  6,  6,  7,  7,  9,  6,  2, 11,\n",
              "       12,  9, 12,  9, 11, 11, 10,  7,  9,  9,  9, 10,  9,  9,  9, 11, 10,\n",
              "        6,  7,  6,  7,  7,  9, 10,  9,  5, 11, 10,  6,  7,  7,  9,  9, 11,\n",
              "        6, 10,  2,  9, 12, 12, 10,  7,  7, 11, 12,  9,  4,  9, 11,  6, 10,\n",
              "       11, 11,  6,  5, 11, 10,  6,  7,  7,  7,  9,  5, 11,  6,  7,  7,  9,\n",
              "        5, 11, 10,  6,  7,  9,  5, 11, 10,  6,  7,  7,  9, 11, 10,  6,  7,\n",
              "        9, 11, 10,  6,  7,  7,  9,  9, 11, 11, 11,  6,  9, 10,  9, 11, 11,\n",
              "        3,  9,  9,  9,  9, 10,  6,  7,  7,  9,  9,  9, 11,  6])"
            ]
          },
          "metadata": {
            "tags": []
          },
          "execution_count": 32
        }
      ]
    },
    {
      "cell_type": "code",
      "metadata": {
        "id": "rTgT0xH7KeNQ",
        "colab_type": "code",
        "outputId": "dbae2db1-b1b1-4e42-8c5d-ed048badc8b6",
        "colab": {
          "base_uri": "https://localhost:8080/",
          "height": 170
        }
      },
      "source": [
        "y"
      ],
      "execution_count": 33,
      "outputs": [
        {
          "output_type": "execute_result",
          "data": {
            "text/plain": [
              "array([11, 6, 3, 11, 3, 11, 10, 10, 11, 5, 11, 11, 7, 11, 6, 3, 11, 7, 6,\n",
              "       2, 10, 9, 11, 8, 10, 7, 10, 10, 6, 9, 11, 10, 6, 10, 7, 4, 11, 10,\n",
              "       6, 7, 7, 7, 11, 11, 6, 7, 10, 9, 6, 2, 12, 12, 12, 12, 9, 4, 11, 9,\n",
              "       7, 9, 9, 9, 10, 9, 9, 5, 11, 10, 6, 11, 6, 7, 7, 9, 10, 9, 5, 11,\n",
              "       10, 6, 7, 7, 9, 9, 11, 6, 10, 2, 9, 12, 12, 10, 7, 7, 12, 12, 9, 4,\n",
              "       9, 11, 9, 10, 11, 11, 7, 5, 11, 10, 10, 10, 7, 7, 11, 5, 11, 6, 7,\n",
              "       7, 4, 5, 11, 10, 7, 7, 10, 5, 11, 10, 6, 10, 9, 9, 11, 10, 10, 9,\n",
              "       9, 11, 10, 6, 7, 7, 10, 9, 11, 11, 11, 3, 9, 10, 9, 9, 3, 3, 9, 9,\n",
              "       9, 11, 10, 10, 7, 7, 9, 10, 11, 11, 10], dtype=object)"
            ]
          },
          "metadata": {
            "tags": []
          },
          "execution_count": 33
        }
      ]
    },
    {
      "cell_type": "code",
      "metadata": {
        "id": "iCFPYjo-ga6m",
        "colab_type": "code",
        "outputId": "13e38bde-9570-4d3d-f6ab-1afba587cb89",
        "colab": {
          "base_uri": "https://localhost:8080/",
          "height": 255
        }
      },
      "source": [
        "# TF 2.0\n",
        "cm = tf.math.confusion_matrix(labels=tf.constant(y, dtype=tf.int64), predictions=tf.constant(y_pred, dtype=tf.int64))\n",
        "cm"
      ],
      "execution_count": 34,
      "outputs": [
        {
          "output_type": "execute_result",
          "data": {
            "text/plain": [
              "<tf.Tensor: id=32510, shape=(13, 13), dtype=int32, numpy=\n",
              "array([[ 0,  0,  0,  0,  0,  0,  0,  0,  0,  0,  0,  0,  0],\n",
              "       [ 0,  0,  0,  0,  0,  0,  0,  0,  0,  0,  0,  0,  0],\n",
              "       [ 0,  0,  3,  0,  0,  0,  0,  0,  0,  0,  0,  0,  0],\n",
              "       [ 0,  0,  0,  1,  0,  0,  1,  0,  0,  0,  0,  4,  0],\n",
              "       [ 0,  0,  0,  0,  1,  0,  0,  1,  0,  1,  0,  1,  0],\n",
              "       [ 0,  0,  0,  0,  0,  6,  0,  0,  0,  1,  0,  0,  0],\n",
              "       [ 0,  0,  0,  0,  0,  0, 14,  1,  0,  0,  0,  0,  0],\n",
              "       [ 0,  0,  0,  0,  0,  0,  3, 21,  0,  1,  1,  0,  0],\n",
              "       [ 0,  0,  0,  0,  0,  0,  1,  0,  0,  0,  0,  0,  0],\n",
              "       [ 0,  0,  0,  0,  0,  0,  1,  2,  0, 24,  2,  1,  0],\n",
              "       [ 0,  0,  0,  0,  0,  0,  6,  4,  0,  3, 20,  0,  0],\n",
              "       [ 0,  0,  0,  0,  0,  1,  1,  2,  0,  3,  0, 27,  0],\n",
              "       [ 0,  0,  0,  0,  0,  0,  0,  0,  0,  1,  0,  2,  5]], dtype=int32)>"
            ]
          },
          "metadata": {
            "tags": []
          },
          "execution_count": 34
        }
      ]
    },
    {
      "cell_type": "code",
      "metadata": {
        "id": "qwV7StyWjYVa",
        "colab_type": "code",
        "outputId": "16bb787c-310d-414f-9c88-add90b194cbe",
        "colab": {
          "base_uri": "https://localhost:8080/",
          "height": 874
        }
      },
      "source": [
        "import seaborn as sns\n",
        "\n",
        "classes = encoder.classes_\n",
        "\n",
        "plt.figure(figsize=(10, 10))\n",
        "font = {'family' : 'normal',\n",
        "#         'weight' : 'bold',\n",
        "        'size'   : 22}\n",
        "\n",
        "plt.rc('font', **font)\n",
        "\n",
        "sns.heatmap(cm, annot=True, fmt=\"d\",  cmap=\"YlGnBu\", xticklabels=classes, yticklabels=classes)"
      ],
      "execution_count": 35,
      "outputs": [
        {
          "output_type": "stream",
          "text": [
            "/usr/local/lib/python3.6/dist-packages/matplotlib/font_manager.py:1241: UserWarning: findfont: Font family ['normal'] not found. Falling back to DejaVu Sans.\n",
            "  (prop.get_family(), self.defaultFamily[fontext]))\n"
          ],
          "name": "stderr"
        },
        {
          "output_type": "execute_result",
          "data": {
            "text/plain": [
              "<matplotlib.axes._subplots.AxesSubplot at 0x7f19aba8bf98>"
            ]
          },
          "metadata": {
            "tags": []
          },
          "execution_count": 35
        },
        {
          "output_type": "display_data",
          "data": {
            "image/png": "[encoded data removed]",
            "text/plain": [
              "<Figure size 720x720 with 2 Axes>"
            ]
          },
          "metadata": {
            "tags": []
          }
        }
      ]
    },
    {
      "cell_type": "code",
      "metadata": {
        "id": "9IxmvEavQ5ka",
        "colab_type": "code",
        "colab": {}
      },
      "source": [
        "# sns.heatmap?"
      ],
      "execution_count": 0,
      "outputs": []
    },
    {
      "cell_type": "code",
      "metadata": {
        "id": "YhzQj78OL5_w",
        "colab_type": "code",
        "colab": {}
      },
      "source": [
        "# import numpy as np\n",
        "\n",
        "# samples = [1,2,3,4]\n",
        "\n",
        "# embedding_layer = model.get_layer('embedding')\n",
        "# embedding_model = Model(inputs=model.input, outputs=embedding_layer.output)\n",
        "# embeddings_1d = embedding_model.predict(samples).reshape(-1)\n",
        "\n",
        "# # for printing only\n",
        "# # plt.figure(figsize=(20,5))\n",
        "# # plt.figure(dpi=600)\n",
        "\n",
        "# plt.axis('off')\n",
        "\n",
        "# plt.scatter(embeddings_1d, np.zeros(len(embeddings_1d)))\n",
        "# for index, x_pos in zip(samples, embeddings_1d):\n",
        "#   name = encoder.classes_[index]\n",
        "#   print(name, (x_pos))\n",
        "# #   plt.annotate(name, (x_pos, 0), rotation=80)"
      ],
      "execution_count": 0,
      "outputs": []
    },
    {
      "cell_type": "markdown",
      "metadata": {
        "id": "Rv2Yo1SsBvYn",
        "colab_type": "text"
      },
      "source": [
        "## Convert Model into tfjs format"
      ]
    },
    {
      "cell_type": "code",
      "metadata": {
        "id": "crq3LXdj_hFc",
        "colab_type": "code",
        "colab": {}
      },
      "source": [
        "model.save('ux.h5', save_format='h5')"
      ],
      "execution_count": 0,
      "outputs": []
    },
    {
      "cell_type": "code",
      "metadata": {
        "id": "_sRLDfTDB8GS",
        "colab_type": "code",
        "outputId": "a8e8bbab-9e33-4e3c-9235-b0d4f93ed3e9",
        "colab": {
          "base_uri": "https://localhost:8080/",
          "height": 85
        }
      },
      "source": [
        "!ls -l"
      ],
      "execution_count": 39,
      "outputs": [
        {
          "output_type": "stream",
          "text": [
            "total 92\n",
            "drwxr-xr-x 1 root root  4096 Jun 18 16:14 sample_data\n",
            "drwxr-xr-x 2 root root  4096 Jul  2 07:12 tfjs\n",
            "-rw-r--r-- 1 root root 83072 Jul  2 08:24 ux.h5\n"
          ],
          "name": "stdout"
        }
      ]
    },
    {
      "cell_type": "code",
      "metadata": {
        "id": "Xbv45tMgCIkn",
        "colab_type": "code",
        "colab": {}
      },
      "source": [
        "!pip install -q tensorflowjs"
      ],
      "execution_count": 0,
      "outputs": []
    },
    {
      "cell_type": "code",
      "metadata": {
        "id": "bqztV867_hFd",
        "colab_type": "code",
        "colab": {}
      },
      "source": [
        "!tensorflowjs_converter --input_format keras ux.h5 tfjs"
      ],
      "execution_count": 0,
      "outputs": []
    },
    {
      "cell_type": "code",
      "metadata": {
        "id": "2GH6PYWgCDYc",
        "colab_type": "code",
        "outputId": "ec795671-2ef8-42b5-88b6-3b75c5809537",
        "colab": {
          "base_uri": "https://localhost:8080/",
          "height": 68
        }
      },
      "source": [
        "!ls -l tfjs"
      ],
      "execution_count": 42,
      "outputs": [
        {
          "output_type": "stream",
          "text": [
            "total 20\n",
            "-rw-r--r-- 1 root root 14156 Jul  2 08:25 group1-shard1of1.bin\n",
            "-rw-r--r-- 1 root root  3734 Jul  2 08:25 model.json\n"
          ],
          "name": "stdout"
        }
      ]
    },
    {
      "cell_type": "markdown",
      "metadata": {
        "id": "Xd5GPZiUkpTD",
        "colab_type": "text"
      },
      "source": [
        "Download using _Files_ menu on the left"
      ]
    },
    {
      "cell_type": "code",
      "metadata": {
        "id": "lsd2Kj8ECJu3",
        "colab_type": "code",
        "colab": {}
      },
      "source": [
        ""
      ],
      "execution_count": 0,
      "outputs": []
    }
  ]
}