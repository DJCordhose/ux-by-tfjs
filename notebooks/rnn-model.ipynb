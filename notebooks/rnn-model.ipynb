{
  "nbformat": 4,
  "nbformat_minor": 0,
  "metadata": {
    "colab": {
      "name": "rnn-model.ipynb",
      "version": "0.3.2",
      "provenance": [],
      "toc_visible": true,
      "include_colab_link": true
    },
    "kernelspec": {
      "display_name": "Python 3",
      "language": "python",
      "name": "python3"
    },
    "accelerator": "GPU"
  },
  "cells": [
    {
      "cell_type": "markdown",
      "metadata": {
        "id": "view-in-github",
        "colab_type": "text"
      },
      "source": [
        "<a href=\"https://colab.research.google.com/github/DJCordhose/ux-by-tfjs/blob/master/notebooks/rnn-model.ipynb\" target=\"_parent\"><img src=\"https://colab.research.google.com/assets/colab-badge.svg\" alt=\"Open In Colab\"/></a>"
      ]
    },
    {
      "metadata": {
        "colab_type": "text",
        "id": "XdfXfXK2-CiG"
      },
      "cell_type": "markdown",
      "source": [
        "# Training on Mouse-Movements on the Server"
      ]
    },
    {
      "metadata": {
        "colab_type": "code",
        "id": "u8IonVMfAelY",
        "colab": {
          "base_uri": "https://localhost:8080/",
          "height": 34
        },
        "outputId": "04873c1f-8054-4dde-9086-a69088919b5d"
      },
      "cell_type": "code",
      "source": [
        "# for colab\n",
        "!pip install -q tf-nightly-gpu-2.0-preview"
      ],
      "execution_count": 1,
      "outputs": [
        {
          "output_type": "stream",
          "text": [
            "\u001b[K    100% |████████████████████████████████| 353.4MB 36kB/s \n",
            "\u001b[?25h"
          ],
          "name": "stdout"
        }
      ]
    },
    {
      "metadata": {
        "colab_type": "code",
        "id": "0rEa6M11-CiY",
        "outputId": "bc4e3f18-a3a2-40e7-e9c4-f28e3d5c1a8b",
        "colab": {
          "base_uri": "https://localhost:8080/",
          "height": 34
        }
      },
      "cell_type": "code",
      "source": [
        "import tensorflow as tf\n",
        "print(tf.__version__)"
      ],
      "execution_count": 3,
      "outputs": [
        {
          "output_type": "stream",
          "text": [
            "2.0.0-dev20190403\n"
          ],
          "name": "stdout"
        }
      ]
    },
    {
      "metadata": {
        "colab_type": "code",
        "id": "I35W9tmrRWF3",
        "outputId": "40d0479e-5f5b-41c0-9483-a6a2c61a4b0f",
        "colab": {
          "base_uri": "https://localhost:8080/",
          "height": 34
        }
      },
      "cell_type": "code",
      "source": [
        "# a small sanity check, does tf seem to work ok?\n",
        "hello = tf.constant('Hello TF!')\n",
        "print(\"This works: {}\".format(hello))"
      ],
      "execution_count": 7,
      "outputs": [
        {
          "output_type": "stream",
          "text": [
            "This works: b'Hello TF!'\n"
          ],
          "name": "stdout"
        }
      ]
    },
    {
      "metadata": {
        "colab_type": "code",
        "id": "DpXHERPSQvMD",
        "outputId": "7c04c38c-4a19-42f4-e539-9ca074c09ad8",
        "colab": {
          "base_uri": "https://localhost:8080/",
          "height": 34
        }
      },
      "cell_type": "code",
      "source": [
        "# this should return True even on Colab\n",
        "tf.test.is_gpu_available()"
      ],
      "execution_count": 8,
      "outputs": [
        {
          "output_type": "execute_result",
          "data": {
            "text/plain": [
              "True"
            ]
          },
          "metadata": {
            "tags": []
          },
          "execution_count": 8
        }
      ]
    },
    {
      "metadata": {
        "colab_type": "code",
        "id": "hEoP6O2r3Jvf",
        "outputId": "ea0b858d-ebed-4bb3-baca-17bda65a17c7",
        "colab": {
          "base_uri": "https://localhost:8080/",
          "height": 34
        }
      },
      "cell_type": "code",
      "source": [
        "tf.test.is_built_with_cuda()"
      ],
      "execution_count": 9,
      "outputs": [
        {
          "output_type": "execute_result",
          "data": {
            "text/plain": [
              "True"
            ]
          },
          "metadata": {
            "tags": []
          },
          "execution_count": 9
        }
      ]
    },
    {
      "metadata": {
        "colab_type": "code",
        "id": "PqalzDXr3OiQ",
        "outputId": "0b1bc978-23e8-4d8f-84be-59e4b1df0cd2",
        "colab": {
          "base_uri": "https://localhost:8080/",
          "height": 34
        }
      },
      "cell_type": "code",
      "source": [
        "tf.executing_eagerly()"
      ],
      "execution_count": 10,
      "outputs": [
        {
          "output_type": "execute_result",
          "data": {
            "text/plain": [
              "True"
            ]
          },
          "metadata": {
            "tags": []
          },
          "execution_count": 10
        }
      ]
    },
    {
      "metadata": {
        "id": "C9a1zn2-_hEY",
        "colab_type": "text"
      },
      "cell_type": "markdown",
      "source": [
        "## load data"
      ]
    },
    {
      "metadata": {
        "id": "iztUacrB_hEZ",
        "colab_type": "code",
        "colab": {
          "base_uri": "https://localhost:8080/",
          "height": 34
        },
        "outputId": "f3705388-60d8-4fdb-9d7e-7201c22ce783"
      },
      "cell_type": "code",
      "source": [
        "import pandas as pd\n",
        "print(pd.__version__)"
      ],
      "execution_count": 11,
      "outputs": [
        {
          "output_type": "stream",
          "text": [
            "0.22.0\n"
          ],
          "name": "stdout"
        }
      ]
    },
    {
      "metadata": {
        "id": "PhJJH5TS_hEc",
        "colab_type": "code",
        "colab": {}
      },
      "cell_type": "code",
      "source": [
        "# local\n",
        "# URL = '../data/sample3.json'\n",
        "\n",
        "# remote\n",
        "URL = 'https://raw.githubusercontent.com/DJCordhose/ux-by-tfjs/master//data/sample3.json'\n",
        "\n",
        "\n",
        "df = pd.read_json(URL, typ='series')"
      ],
      "execution_count": 0,
      "outputs": []
    },
    {
      "metadata": {
        "id": "swqLoJAh_hEe",
        "colab_type": "code",
        "colab": {
          "base_uri": "https://localhost:8080/",
          "height": 34
        },
        "outputId": "92b32cd7-7f0c-4093-d546-55d5d812bf87"
      },
      "cell_type": "code",
      "source": [
        "len(df)"
      ],
      "execution_count": 13,
      "outputs": [
        {
          "output_type": "execute_result",
          "data": {
            "text/plain": [
              "251"
            ]
          },
          "metadata": {
            "tags": []
          },
          "execution_count": 13
        }
      ]
    },
    {
      "metadata": {
        "id": "GDwXqDcH_hEg",
        "colab_type": "code",
        "colab": {
          "base_uri": "https://localhost:8080/",
          "height": 119
        },
        "outputId": "353928c6-5715-4ceb-c9e6-ddc178e0e2de"
      },
      "cell_type": "code",
      "source": [
        "df.head()"
      ],
      "execution_count": 14,
      "outputs": [
        {
          "output_type": "execute_result",
          "data": {
            "text/plain": [
              "0    {'x': [[508, 219, -2, 0, 7], [507, 218, -2, -2...\n",
              "1    {'x': [[749, 330, 0, 2, 14], [749, 331, 0, 2, ...\n",
              "2    {'x': [[712, 396, 4, -8, 5], [715, 391, 6, -10...\n",
              "3    {'x': [[794, 434, -2, -12, 6], [794, 427, 0, -...\n",
              "4    {'x': [[644, 469, -2, 2, 6], [644, 470, 0, 2, ...\n",
              "dtype: object"
            ]
          },
          "metadata": {
            "tags": []
          },
          "execution_count": 14
        }
      ]
    },
    {
      "metadata": {
        "id": "zEtq0mau_hEj",
        "colab_type": "code",
        "colab": {}
      },
      "cell_type": "code",
      "source": [
        "X = [item['x'] for item in df]"
      ],
      "execution_count": 0,
      "outputs": []
    },
    {
      "metadata": {
        "id": "DclzD90x_hEm",
        "colab_type": "code",
        "colab": {
          "base_uri": "https://localhost:8080/",
          "height": 3417
        },
        "outputId": "1e61adf9-df1d-4b79-c80f-1c9b7b5d18ff"
      },
      "cell_type": "code",
      "source": [
        "X[0]"
      ],
      "execution_count": 16,
      "outputs": [
        {
          "output_type": "execute_result",
          "data": {
            "text/plain": [
              "[[508, 219, -2, 0, 7],\n",
              " [507, 218, -2, -2, 16],\n",
              " [506, 218, -2, 0, 7],\n",
              " [505, 217, -2, -2, 13],\n",
              " [504, 217, -2, 0, 14],\n",
              " [503, 217, -2, 0, 15],\n",
              " [502, 217, -2, 0, 7],\n",
              " [501, 217, -2, 0, 29],\n",
              " [500, 217, -2, 0, 21],\n",
              " [499, 217, -2, 0, 21],\n",
              " [498, 217, -2, 0, 22],\n",
              " [497, 217, -2, 0, 21],\n",
              " [496, 217, -2, 0, 36],\n",
              " [496, 217, 0, 0, 390],\n",
              " [497, 217, 2, 0, 5108],\n",
              " [500, 218, 6, 2, 7],\n",
              " [505, 219, 10, 2, 8],\n",
              " [509, 220, 8, 2, 7],\n",
              " [514, 221, 10, 2, 6],\n",
              " [519, 222, 10, 2, 7],\n",
              " [522, 222, 6, 0, 7],\n",
              " [524, 223, 4, 2, 7],\n",
              " [526, 223, 4, 0, 7],\n",
              " [529, 223, 6, 0, 8],\n",
              " [530, 224, 2, 2, 7],\n",
              " [532, 224, 4, 0, 7],\n",
              " [533, 224, 2, 0, 7],\n",
              " [534, 224, 2, 0, 14],\n",
              " [535, 224, 2, 0, 15],\n",
              " [535, 224, 0, 0, 7],\n",
              " [536, 225, 2, 2, 14],\n",
              " [536, 225, 0, 0, 8],\n",
              " [536, 226, 0, 2, 22],\n",
              " [549, 228, 26, 4, 199],\n",
              " [563, 230, 28, 4, 6],\n",
              " [576, 232, 26, 4, 7],\n",
              " [598, 235, 44, 6, 7],\n",
              " [619, 238, 42, 6, 7],\n",
              " [628, 241, 18, 6, 9],\n",
              " [642, 244, 28, 6, 6],\n",
              " [657, 248, 30, 8, 7],\n",
              " [666, 251, 18, 6, 6],\n",
              " [672, 254, 12, 6, 8],\n",
              " [674, 255, 4, 2, 6],\n",
              " [677, 256, 6, 2, 9],\n",
              " [679, 257, 4, 2, 6],\n",
              " [679, 257, 0, 0, 7],\n",
              " [680, 257, 2, 0, 8],\n",
              " [680, 259, 0, 4, 637],\n",
              " [679, 260, -2, 2, 6],\n",
              " [678, 261, -2, 2, 7],\n",
              " [677, 263, -2, 4, 8],\n",
              " [676, 264, -2, 2, 7],\n",
              " [675, 266, -2, 4, 8],\n",
              " [675, 268, 0, 4, 6],\n",
              " [674, 269, -2, 2, 7],\n",
              " [673, 270, -2, 2, 7],\n",
              " [673, 271, 0, 2, 8],\n",
              " [672, 272, -2, 2, 8],\n",
              " [671, 273, -2, 2, 20],\n",
              " [672, 274, 2, 2, 679],\n",
              " [673, 274, 2, 0, 8],\n",
              " [674, 274, 2, 0, 21],\n",
              " [675, 274, 2, 0, 7],\n",
              " [676, 274, 2, 0, 7],\n",
              " [678, 274, 4, 0, 7],\n",
              " [680, 274, 4, 0, 7],\n",
              " [681, 274, 2, 0, 7],\n",
              " [682, 274, 2, 0, 8],\n",
              " [683, 274, 2, 0, 8],\n",
              " [684, 274, 2, 0, 6],\n",
              " [685, 274, 2, 0, 7],\n",
              " [686, 274, 2, 0, 7],\n",
              " [687, 274, 2, 0, 7],\n",
              " [688, 274, 2, 0, 8],\n",
              " [689, 274, 2, 0, 8],\n",
              " [690, 274, 2, 0, 5],\n",
              " [691, 274, 2, 0, 8],\n",
              " [692, 274, 2, 0, 7],\n",
              " [693, 274, 2, 0, 7],\n",
              " [694, 274, 2, 0, 7],\n",
              " [695, 274, 2, 0, 16],\n",
              " [696, 274, 2, 0, 7],\n",
              " [697, 274, 2, 0, 27],\n",
              " [698, 274, 2, 0, 22],\n",
              " [699, 274, 2, 0, 36],\n",
              " [703, 274, 8, 0, 215],\n",
              " [708, 276, 10, 4, 7],\n",
              " [711, 277, 6, 2, 6],\n",
              " [714, 277, 6, 0, 7],\n",
              " [716, 278, 4, 2, 7],\n",
              " [719, 279, 6, 2, 8],\n",
              " [721, 280, 4, 2, 7],\n",
              " [724, 281, 6, 2, 6],\n",
              " [726, 281, 4, 0, 8],\n",
              " [727, 282, 2, 2, 6],\n",
              " [727, 282, 0, 0, 8],\n",
              " [728, 282, 2, 0, 7],\n",
              " [730, 284, 4, 4, 1017],\n",
              " [733, 289, 6, 10, 6],\n",
              " [734, 292, 2, 6, 7],\n",
              " [735, 294, 2, 4, 7],\n",
              " [737, 297, 4, 6, 7],\n",
              " [738, 298, 2, 2, 7],\n",
              " [739, 301, 2, 6, 6],\n",
              " [740, 302, 2, 2, 8],\n",
              " [741, 303, 2, 2, 8],\n",
              " [741, 305, 0, 4, 7],\n",
              " [743, 307, 4, 4, 6],\n",
              " [743, 309, 0, 4, 8],\n",
              " [744, 311, 2, 4, 7],\n",
              " [745, 313, 2, 4, 7],\n",
              " [746, 315, 2, 4, 9],\n",
              " [746, 317, 0, 4, 5],\n",
              " [747, 319, 2, 4, 9],\n",
              " [747, 321, 0, 4, 6],\n",
              " [747, 323, 0, 4, 7],\n",
              " [748, 325, 2, 4, 7],\n",
              " [749, 327, 2, 4, 6],\n",
              " [749, 328, 0, 2, 10],\n",
              " [749, 329, 0, 2, 6],\n",
              " [749, 329, 0, 0, 7],\n",
              " [749, 330, 0, 2, 14],\n",
              " [749, 331, 0, 2, 22],\n",
              " [750, 332, 2, 2, 1466],\n",
              " [751, 331, 2, -2, 13],\n",
              " [753, 331, 4, 0, 7],\n",
              " [754, 331, 2, 0, 8],\n",
              " [756, 330, 4, -2, 7],\n",
              " [757, 330, 2, 0, 7],\n",
              " [759, 330, 4, 0, 7],\n",
              " [760, 330, 2, 0, 7],\n",
              " [761, 330, 2, 0, 7],\n",
              " [762, 330, 2, 0, 7],\n",
              " [763, 330, 2, 0, 8],\n",
              " [764, 330, 2, 0, 14],\n",
              " [765, 330, 2, 0, 21],\n",
              " [767, 327, 4, -6, 1487],\n",
              " [769, 322, 4, -10, 7],\n",
              " [773, 316, 8, -12, 7],\n",
              " [776, 310, 6, -12, 8],\n",
              " [779, 305, 6, -10, 7],\n",
              " [782, 301, 6, -8, 7],\n",
              " [784, 298, 4, -6, 7],\n",
              " [784, 295, 0, -6, 7],\n",
              " [785, 294, 2, -2, 7],\n",
              " [785, 293, 0, -2, 8],\n",
              " [786, 293, 2, 0, 7],\n",
              " [786, 292, 0, -2, 21],\n",
              " [787, 291, 2, -2, 50],\n",
              " [787, 290, 0, -2, 7],\n",
              " [788, 288, 2, -4, 7],\n",
              " [789, 287, 2, -2, 8],\n",
              " [789, 287, 0, 0, 7],\n",
              " [790, 286, 2, -2, 6],\n",
              " [790, 286, 0, 0, 8],\n",
              " [787, 291, -6, 10, 1451],\n",
              " [782, 299, -10, 16, 8],\n",
              " [776, 307, -12, 16, 6],\n",
              " [770, 316, -12, 18, 9],\n",
              " [763, 325, -14, 18, 6],\n",
              " [756, 336, -14, 22, 6],\n",
              " [750, 346, -12, 20, 7],\n",
              " [744, 355, -12, 18, 8],\n",
              " [737, 369, -14, 28, 6],\n",
              " [728, 382, -18, 26, 8],\n",
              " [722, 391, -12, 18, 7],\n",
              " [717, 399, -10, 16, 8],\n",
              " [713, 406, -8, 14, 6],\n",
              " [709, 413, -8, 14, 7],\n",
              " [706, 420, -6, 14, 8],\n",
              " [704, 425, -4, 10, 7],\n",
              " [702, 429, -4, 8, 7],\n",
              " [701, 432, -2, 6, 8],\n",
              " [701, 434, 0, 4, 8],\n",
              " [700, 436, -2, 4, 6],\n",
              " [700, 438, 0, 4, 6],\n",
              " [699, 439, -2, 2, 8],\n",
              " [699, 440, 0, 2, 6],\n",
              " [697, 442, -4, 4, 8],\n",
              " [697, 444, 0, 4, 7],\n",
              " [696, 445, -2, 2, 8],\n",
              " [695, 446, -2, 2, 7],\n",
              " [694, 448, -2, 4, 8],\n",
              " [693, 451, -2, 6, 6],\n",
              " [692, 454, -2, 6, 7],\n",
              " [690, 457, -4, 6, 8],\n",
              " [690, 459, 0, 4, 7],\n",
              " [689, 461, -2, 4, 6],\n",
              " [687, 462, -4, 2, 8],\n",
              " [687, 462, 0, 0, 8],\n",
              " [687, 463, 0, 2, 13],\n",
              " [686, 463, -2, 0, 15],\n",
              " [686, 464, 0, 2, 22],\n",
              " [685, 465, -2, 2, 21],\n",
              " [684, 466, -2, 2, 14],\n",
              " [683, 468, -2, 4, 14],\n",
              " [682, 469, -2, 2, 7],\n",
              " [680, 471, -4, 4, 7],\n",
              " [678, 473, -4, 4, 8]]"
            ]
          },
          "metadata": {
            "tags": []
          },
          "execution_count": 16
        }
      ]
    },
    {
      "metadata": {
        "id": "FyafEJGR_hEp",
        "colab_type": "code",
        "colab": {}
      },
      "cell_type": "code",
      "source": [
        "y = [item['y'] - 1 for item in df]"
      ],
      "execution_count": 0,
      "outputs": []
    },
    {
      "metadata": {
        "id": "zGi3lMlf_hEs",
        "colab_type": "code",
        "colab": {
          "base_uri": "https://localhost:8080/",
          "height": 34
        },
        "outputId": "f7f32ed2-7599-448a-c7cb-008fe39e287b"
      },
      "cell_type": "code",
      "source": [
        "y[0]"
      ],
      "execution_count": 18,
      "outputs": [
        {
          "output_type": "execute_result",
          "data": {
            "text/plain": [
              "0"
            ]
          },
          "metadata": {
            "tags": []
          },
          "execution_count": 18
        }
      ]
    },
    {
      "metadata": {
        "id": "CeIWHq5hBkgs",
        "colab_type": "text"
      },
      "cell_type": "markdown",
      "source": [
        "## pre-process data into chunks"
      ]
    },
    {
      "metadata": {
        "id": "Q9Ll551N_hEw",
        "colab_type": "code",
        "colab": {}
      },
      "cell_type": "code",
      "source": [
        "from math import floor\n",
        "\n",
        "def make_chunks(list_to_chunk, chunk_size):\n",
        "    length = len(list_to_chunk)\n",
        "    assert length / chunk_size == floor(length / chunk_size), \"length of data must be multiple of segment length\"\n",
        "    for chunk_start in range(0, length, chunk_size):\n",
        "        yield list_to_chunk[chunk_start : chunk_start + chunk_size]"
      ],
      "execution_count": 0,
      "outputs": []
    },
    {
      "metadata": {
        "id": "OpTBKfUV_hEy",
        "colab_type": "code",
        "colab": {}
      },
      "cell_type": "code",
      "source": [
        "import numpy as np\n",
        "\n",
        "CHUNK_SIZE = 25\n",
        "# only use the final segments \n",
        "SEGMENTS = 2\n",
        "\n",
        "X_expanded = []\n",
        "y_expanded = []\n",
        "\n",
        "for x_el, y_el in zip(X, y):\n",
        "    chunks = list(make_chunks(x_el, CHUNK_SIZE))\n",
        "    chunks = chunks[len(chunks) - SEGMENTS:]\n",
        "    labels = [y_el] * SEGMENTS\n",
        "    for seq, label in zip(chunks, labels):\n",
        "        X_expanded.append(seq)\n",
        "        y_expanded.append(label)\n",
        "\n",
        "X_expanded = np.array(X_expanded)\n",
        "y_expanded = np.array(y_expanded)"
      ],
      "execution_count": 0,
      "outputs": []
    },
    {
      "metadata": {
        "id": "JKKViYg5_hE3",
        "colab_type": "code",
        "colab": {
          "base_uri": "https://localhost:8080/",
          "height": 34
        },
        "outputId": "d745ecaa-77b7-451f-c6b5-7a6cfc22ba85"
      },
      "cell_type": "code",
      "source": [
        "X_expanded.shape"
      ],
      "execution_count": 21,
      "outputs": [
        {
          "output_type": "execute_result",
          "data": {
            "text/plain": [
              "(502, 25, 5)"
            ]
          },
          "metadata": {
            "tags": []
          },
          "execution_count": 21
        }
      ]
    },
    {
      "metadata": {
        "id": "0noYolVg_hE6",
        "colab_type": "code",
        "colab": {
          "base_uri": "https://localhost:8080/",
          "height": 442
        },
        "outputId": "ac707bd2-2371-4823-a083-ad82c109e6c9"
      },
      "cell_type": "code",
      "source": [
        "X_expanded[100]"
      ],
      "execution_count": 22,
      "outputs": [
        {
          "output_type": "execute_result",
          "data": {
            "text/plain": [
              "array([[775, 285,   2,  -2,  14],\n",
              "       [776, 284,   2,  -2,  22],\n",
              "       [775, 283,  -2,  -2, 100],\n",
              "       [774, 284,  -2,   2,  14],\n",
              "       [765, 296, -18,  24,  14],\n",
              "       [759, 303, -12,  14,   6],\n",
              "       [753, 311, -12,  16,   9],\n",
              "       [747, 318, -12,  14,   7],\n",
              "       [740, 327, -14,  18,   7],\n",
              "       [733, 335, -14,  16,   7],\n",
              "       [727, 341, -12,  12,   7],\n",
              "       [722, 346, -10,  10,   6],\n",
              "       [718, 353,  -8,  14,   8],\n",
              "       [714, 359,  -8,  12,   8],\n",
              "       [711, 365,  -6,  12,   7],\n",
              "       [707, 369,  -8,   8,   7],\n",
              "       [703, 374,  -8,  10,   7],\n",
              "       [698, 379, -10,  10,   7],\n",
              "       [694, 383,  -8,   8,   6],\n",
              "       [689, 388, -10,  10,   7],\n",
              "       [685, 393,  -8,  10,   8],\n",
              "       [681, 400,  -8,  14,   7],\n",
              "       [678, 407,  -6,  14,   7],\n",
              "       [674, 414,  -8,  14,   7],\n",
              "       [673, 418,  -2,   8,   8]])"
            ]
          },
          "metadata": {
            "tags": []
          },
          "execution_count": 22
        }
      ]
    },
    {
      "metadata": {
        "id": "OVyeY93X_hE8",
        "colab_type": "code",
        "colab": {
          "base_uri": "https://localhost:8080/",
          "height": 34
        },
        "outputId": "c7aa10c0-f19f-463c-b923-8a7872562e0c"
      },
      "cell_type": "code",
      "source": [
        "X_expanded[100][0]"
      ],
      "execution_count": 23,
      "outputs": [
        {
          "output_type": "execute_result",
          "data": {
            "text/plain": [
              "array([775, 285,   2,  -2,  14])"
            ]
          },
          "metadata": {
            "tags": []
          },
          "execution_count": 23
        }
      ]
    },
    {
      "metadata": {
        "id": "o3_Jm3nl_hE_",
        "colab_type": "code",
        "colab": {
          "base_uri": "https://localhost:8080/",
          "height": 34
        },
        "outputId": "a45f96dd-0cce-4cd4-faba-aefac13952b0"
      },
      "cell_type": "code",
      "source": [
        "y_expanded[100]"
      ],
      "execution_count": 24,
      "outputs": [
        {
          "output_type": "execute_result",
          "data": {
            "text/plain": [
              "0"
            ]
          },
          "metadata": {
            "tags": []
          },
          "execution_count": 24
        }
      ]
    },
    {
      "metadata": {
        "id": "NpL7exC__hFB",
        "colab_type": "code",
        "colab": {
          "base_uri": "https://localhost:8080/",
          "height": 34
        },
        "outputId": "cb31c9c1-6a0c-468e-ba14-1c8e13b5ce85"
      },
      "cell_type": "code",
      "source": [
        "np.unique(y_expanded)"
      ],
      "execution_count": 25,
      "outputs": [
        {
          "output_type": "execute_result",
          "data": {
            "text/plain": [
              "array([0, 1, 2])"
            ]
          },
          "metadata": {
            "tags": []
          },
          "execution_count": 25
        }
      ]
    },
    {
      "metadata": {
        "id": "M-XPkMyW_hFD",
        "colab_type": "code",
        "colab": {}
      },
      "cell_type": "code",
      "source": [
        "assert np.array_equal(np.unique(y_expanded), [0, 1, 2])"
      ],
      "execution_count": 0,
      "outputs": []
    },
    {
      "metadata": {
        "id": "r9nB_r-ABpl7",
        "colab_type": "text"
      },
      "cell_type": "markdown",
      "source": [
        "## Training"
      ]
    },
    {
      "metadata": {
        "id": "0veLeDA6_hFH",
        "colab_type": "code",
        "colab": {}
      },
      "cell_type": "code",
      "source": [
        "import tensorflow as tf\n",
        "from tensorflow import keras\n",
        "from tensorflow.keras.layers import Dense, LSTM, GRU, SimpleRNN, Bidirectional, BatchNormalization\n",
        "from tensorflow.keras.models import Sequential, Model"
      ],
      "execution_count": 0,
      "outputs": []
    },
    {
      "metadata": {
        "id": "CM6on-uz_hFJ",
        "colab_type": "code",
        "colab": {}
      },
      "cell_type": "code",
      "source": [
        "n_steps = len(X_expanded[0])\n",
        "n_features = len(X_expanded[0][0])\n",
        "n_buttons = 3\n",
        "\n",
        "model = Sequential()\n",
        "model.add(GRU(units=50, activation='tanh', input_shape=(n_steps, n_features), name=\"RNN_Input\", \n",
        "# recurrent_dropout makes things slow              \n",
        "#               dropout=0.1, recurrent_dropout=0.1))\n",
        "                dropout=0.1))\n",
        "# model.add(GRU(units=50, activation='tanh', input_shape=(n_steps, n_features), name=\"RNN_Input\"))\n",
        "model.add(BatchNormalization())\n",
        "model.add(Dense(units=n_buttons, name='softmax', activation='softmax'))\n",
        "model.compile(optimizer='adam', loss='sparse_categorical_crossentropy', metrics=['accuracy'])"
      ],
      "execution_count": 0,
      "outputs": []
    },
    {
      "metadata": {
        "id": "oGO7UyA2_hFM",
        "colab_type": "code",
        "colab": {
          "base_uri": "https://localhost:8080/",
          "height": 51
        },
        "outputId": "060aec63-8a58-4390-9dd7-87988a44dd10"
      },
      "cell_type": "code",
      "source": [
        "%%time\n",
        "\n",
        "EPOCHS = 500\n",
        "BATCH_SIZE = 200\n",
        "\n",
        "history = model.fit(X_expanded, y_expanded, \n",
        "                    batch_size=BATCH_SIZE,\n",
        "                    epochs=EPOCHS, verbose=0, validation_split=0.2)"
      ],
      "execution_count": 29,
      "outputs": [
        {
          "output_type": "stream",
          "text": [
            "CPU times: user 2min 16s, sys: 14.3 s, total: 2min 30s\n",
            "Wall time: 1min 33s\n"
          ],
          "name": "stdout"
        }
      ]
    },
    {
      "metadata": {
        "id": "po7tURch_hFP",
        "colab_type": "code",
        "colab": {
          "base_uri": "https://localhost:8080/",
          "height": 51
        },
        "outputId": "c7dea448-48f4-4859-ed8c-eb594dc456c1"
      },
      "cell_type": "code",
      "source": [
        "loss, accuracy = model.evaluate([X_expanded], y_expanded, batch_size=BATCH_SIZE)\n",
        "accuracy"
      ],
      "execution_count": 30,
      "outputs": [
        {
          "output_type": "stream",
          "text": [
            "502/502 [==============================] - 1s 1ms/sample - loss: 0.1879 - accuracy: 0.9323\n"
          ],
          "name": "stdout"
        },
        {
          "output_type": "execute_result",
          "data": {
            "text/plain": [
              "0.93227094"
            ]
          },
          "metadata": {
            "tags": []
          },
          "execution_count": 30
        }
      ]
    },
    {
      "metadata": {
        "id": "uqMFRTwp_hFR",
        "colab_type": "code",
        "colab": {
          "base_uri": "https://localhost:8080/",
          "height": 296
        },
        "outputId": "0d1609cb-f958-4b04-f5e0-4cbc037fd6ad"
      },
      "cell_type": "code",
      "source": [
        "%matplotlib inline\n",
        "\n",
        "import matplotlib.pyplot as plt\n",
        "\n",
        "# plt.yscale('log')\n",
        "plt.ylabel('loss')\n",
        "plt.xlabel('epochs')\n",
        "\n",
        "plt.plot(history.history['loss'])\n",
        "plt.plot(history.history['val_loss'])\n",
        "\n",
        "plt.legend(['loss', 'val_loss'])"
      ],
      "execution_count": 31,
      "outputs": [
        {
          "output_type": "execute_result",
          "data": {
            "text/plain": [
              "<matplotlib.legend.Legend at 0x7f15bbec5518>"
            ]
          },
          "metadata": {
            "tags": []
          },
          "execution_count": 31
        },
        {
          "output_type": "display_data",
          "data": {
            "image/png": "[encoded data removed]",
            "text/plain": [
              "<Figure size 432x288 with 1 Axes>"
            ]
          },
          "metadata": {
            "tags": []
          }
        }
      ]
    },
    {
      "metadata": {
        "id": "CS1Gynas_hFT",
        "colab_type": "code",
        "colab": {
          "base_uri": "https://localhost:8080/",
          "height": 296
        },
        "outputId": "7473fca6-b9fb-4ab2-aeed-c283dda6b33d"
      },
      "cell_type": "code",
      "source": [
        "plt.ylabel('accuracy')\n",
        "plt.xlabel('epochs')\n",
        "\n",
        "plt.plot(history.history['accuracy'])\n",
        "plt.plot(history.history['val_accuracy'])\n",
        "\n",
        "plt.legend(['accuracy', 'val_accuracy'])"
      ],
      "execution_count": 32,
      "outputs": [
        {
          "output_type": "execute_result",
          "data": {
            "text/plain": [
              "<matplotlib.legend.Legend at 0x7f15b9de1e48>"
            ]
          },
          "metadata": {
            "tags": []
          },
          "execution_count": 32
        },
        {
          "output_type": "display_data",
          "data": {
            "image/png": "[encoded data removed]",
            "text/plain": [
              "<Figure size 432x288 with 1 Axes>"
            ]
          },
          "metadata": {
            "tags": []
          }
        }
      ]
    },
    {
      "metadata": {
        "id": "h7ZO4M2I_hFV",
        "colab_type": "code",
        "colab": {
          "base_uri": "https://localhost:8080/",
          "height": 34
        },
        "outputId": "88048a3b-dd6b-4864-f176-049703e9c291"
      },
      "cell_type": "code",
      "source": [
        "model.predict([[X_expanded[0]]])"
      ],
      "execution_count": 33,
      "outputs": [
        {
          "output_type": "execute_result",
          "data": {
            "text/plain": [
              "array([[0.99337864, 0.00301587, 0.00360536]], dtype=float32)"
            ]
          },
          "metadata": {
            "tags": []
          },
          "execution_count": 33
        }
      ]
    },
    {
      "metadata": {
        "id": "VEGNcvSv_hFX",
        "colab_type": "code",
        "colab": {
          "base_uri": "https://localhost:8080/",
          "height": 34
        },
        "outputId": "7429a757-8c74-456c-d85c-b0a2ec5c5d63"
      },
      "cell_type": "code",
      "source": [
        "model.predict([[X_expanded[0]]]).argmax()"
      ],
      "execution_count": 34,
      "outputs": [
        {
          "output_type": "execute_result",
          "data": {
            "text/plain": [
              "0"
            ]
          },
          "metadata": {
            "tags": []
          },
          "execution_count": 34
        }
      ]
    },
    {
      "metadata": {
        "id": "RpdLq4RT_hFa",
        "colab_type": "code",
        "colab": {
          "base_uri": "https://localhost:8080/",
          "height": 34
        },
        "outputId": "f471dbc4-520c-467e-a6bc-961aa1a4bf78"
      },
      "cell_type": "code",
      "source": [
        "y_expanded[0]"
      ],
      "execution_count": 35,
      "outputs": [
        {
          "output_type": "execute_result",
          "data": {
            "text/plain": [
              "0"
            ]
          },
          "metadata": {
            "tags": []
          },
          "execution_count": 35
        }
      ]
    },
    {
      "metadata": {
        "id": "crq3LXdj_hFc",
        "colab_type": "code",
        "colab": {}
      },
      "cell_type": "code",
      "source": [
        "model.save('ux.hd5')"
      ],
      "execution_count": 0,
      "outputs": []
    },
    {
      "metadata": {
        "id": "_sRLDfTDB8GS",
        "colab_type": "code",
        "colab": {
          "base_uri": "https://localhost:8080/",
          "height": 68
        },
        "outputId": "765536ce-c21f-43bb-e4f3-cd3378c936ea"
      },
      "cell_type": "code",
      "source": [
        "!ls -l"
      ],
      "execution_count": 37,
      "outputs": [
        {
          "output_type": "stream",
          "text": [
            "total 144\n",
            "drwxr-xr-x 1 root root   4096 Mar 27 20:26 sample_data\n",
            "-rw-r--r-- 1 root root 141112 Apr  3 11:47 ux.hd5\n"
          ],
          "name": "stdout"
        }
      ]
    },
    {
      "metadata": {
        "id": "0nH66jUmB8BL",
        "colab_type": "code",
        "colab": {}
      },
      "cell_type": "code",
      "source": [
        ""
      ],
      "execution_count": 0,
      "outputs": []
    },
    {
      "metadata": {
        "id": "Rv2Yo1SsBvYn",
        "colab_type": "text"
      },
      "cell_type": "markdown",
      "source": [
        "## Convert Model into tfjs format"
      ]
    },
    {
      "metadata": {
        "id": "Xbv45tMgCIkn",
        "colab_type": "code",
        "colab": {}
      },
      "cell_type": "code",
      "source": [
        "!pip install -q tensorflowjs"
      ],
      "execution_count": 0,
      "outputs": []
    },
    {
      "metadata": {
        "id": "bqztV867_hFd",
        "colab_type": "code",
        "colab": {}
      },
      "cell_type": "code",
      "source": [
        "!tensorflowjs_converter --input_format keras ux.hd5 tfjs"
      ],
      "execution_count": 0,
      "outputs": []
    },
    {
      "metadata": {
        "id": "2GH6PYWgCDYc",
        "colab_type": "code",
        "colab": {
          "base_uri": "https://localhost:8080/",
          "height": 68
        },
        "outputId": "747adb2c-3664-4e8b-f888-8eaf314c8003"
      },
      "cell_type": "code",
      "source": [
        "!ls -l tfjs"
      ],
      "execution_count": 40,
      "outputs": [
        {
          "output_type": "stream",
          "text": [
            "total 40\n",
            "-rw-r--r-- 1 root root 35612 Apr  3 11:49 group1-shard1of1.bin\n",
            "-rw-r--r-- 1 root root  3249 Apr  3 11:49 model.json\n"
          ],
          "name": "stdout"
        }
      ]
    },
    {
      "metadata": {
        "id": "lsd2Kj8ECJu3",
        "colab_type": "code",
        "colab": {}
      },
      "cell_type": "code",
      "source": [
        ""
      ],
      "execution_count": 0,
      "outputs": []
    }
  ]
}