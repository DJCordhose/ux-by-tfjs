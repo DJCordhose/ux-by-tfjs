{
  "nbformat": 4,
  "nbformat_minor": 0,
  "metadata": {
    "colab": {
      "name": "rnn-model.ipynb",
      "version": "0.3.2",
      "provenance": [],
      "toc_visible": true,
      "include_colab_link": true
    },
    "kernelspec": {
      "display_name": "Python 3",
      "language": "python",
      "name": "python3"
    },
    "accelerator": "GPU"
  },
  "cells": [
    {
      "cell_type": "markdown",
      "metadata": {
        "id": "view-in-github",
        "colab_type": "text"
      },
      "source": [
        "<a href=\"https://colab.research.google.com/github/DJCordhose/ux-by-tfjs/blob/master/notebooks/rnn-model.ipynb\" target=\"_parent\"><img src=\"https://colab.research.google.com/assets/colab-badge.svg\" alt=\"Open In Colab\"/></a>"
      ]
    },
    {
      "metadata": {
        "colab_type": "text",
        "id": "XdfXfXK2-CiG"
      },
      "cell_type": "markdown",
      "source": [
        "# Training on Mouse-Movements on the Server"
      ]
    },
    {
      "metadata": {
        "colab_type": "code",
        "id": "u8IonVMfAelY",
        "colab": {}
      },
      "cell_type": "code",
      "source": [
        "# for colab\n",
        "!pip install -q tf-nightly-gpu-2.0-preview"
      ],
      "execution_count": 0,
      "outputs": []
    },
    {
      "metadata": {
        "colab_type": "code",
        "id": "0rEa6M11-CiY",
        "outputId": "2c22575b-769c-49f2-cad2-911e40268c0f",
        "colab": {
          "base_uri": "https://localhost:8080/",
          "height": 34
        }
      },
      "cell_type": "code",
      "source": [
        "import tensorflow as tf\n",
        "print(tf.__version__)"
      ],
      "execution_count": 31,
      "outputs": [
        {
          "output_type": "stream",
          "text": [
            "2.0.0-dev20190403\n"
          ],
          "name": "stdout"
        }
      ]
    },
    {
      "metadata": {
        "colab_type": "code",
        "id": "I35W9tmrRWF3",
        "outputId": "6e0b2e51-41c7-4729-9522-c473a459e3f0",
        "colab": {
          "base_uri": "https://localhost:8080/",
          "height": 34
        }
      },
      "cell_type": "code",
      "source": [
        "# a small sanity check, does tf seem to work ok?\n",
        "hello = tf.constant('Hello TF!')\n",
        "print(\"This works: {}\".format(hello))"
      ],
      "execution_count": 32,
      "outputs": [
        {
          "output_type": "stream",
          "text": [
            "This works: b'Hello TF!'\n"
          ],
          "name": "stdout"
        }
      ]
    },
    {
      "metadata": {
        "colab_type": "code",
        "id": "DpXHERPSQvMD",
        "outputId": "48630d61-6c34-4429-ad6a-408154108929",
        "colab": {
          "base_uri": "https://localhost:8080/",
          "height": 34
        }
      },
      "cell_type": "code",
      "source": [
        "# this should return True even on Colab\n",
        "tf.test.is_gpu_available()"
      ],
      "execution_count": 33,
      "outputs": [
        {
          "output_type": "execute_result",
          "data": {
            "text/plain": [
              "True"
            ]
          },
          "metadata": {
            "tags": []
          },
          "execution_count": 33
        }
      ]
    },
    {
      "metadata": {
        "colab_type": "code",
        "id": "hEoP6O2r3Jvf",
        "outputId": "21e66afb-89ac-4af2-c827-dae3368bf044",
        "colab": {
          "base_uri": "https://localhost:8080/",
          "height": 34
        }
      },
      "cell_type": "code",
      "source": [
        "tf.test.is_built_with_cuda()"
      ],
      "execution_count": 34,
      "outputs": [
        {
          "output_type": "execute_result",
          "data": {
            "text/plain": [
              "True"
            ]
          },
          "metadata": {
            "tags": []
          },
          "execution_count": 34
        }
      ]
    },
    {
      "metadata": {
        "colab_type": "code",
        "id": "PqalzDXr3OiQ",
        "outputId": "3b9c6f21-d1e4-49cd-abf2-a589952ccc15",
        "colab": {
          "base_uri": "https://localhost:8080/",
          "height": 34
        }
      },
      "cell_type": "code",
      "source": [
        "tf.executing_eagerly()"
      ],
      "execution_count": 35,
      "outputs": [
        {
          "output_type": "execute_result",
          "data": {
            "text/plain": [
              "True"
            ]
          },
          "metadata": {
            "tags": []
          },
          "execution_count": 35
        }
      ]
    },
    {
      "metadata": {
        "id": "C9a1zn2-_hEY",
        "colab_type": "text"
      },
      "cell_type": "markdown",
      "source": [
        "## load data"
      ]
    },
    {
      "metadata": {
        "id": "iztUacrB_hEZ",
        "colab_type": "code",
        "outputId": "5d05c355-b0df-496f-ca4b-068fcd2c08bc",
        "colab": {
          "base_uri": "https://localhost:8080/",
          "height": 34
        }
      },
      "cell_type": "code",
      "source": [
        "import pandas as pd\n",
        "print(pd.__version__)"
      ],
      "execution_count": 36,
      "outputs": [
        {
          "output_type": "stream",
          "text": [
            "0.22.0\n"
          ],
          "name": "stdout"
        }
      ]
    },
    {
      "metadata": {
        "id": "PhJJH5TS_hEc",
        "colab_type": "code",
        "colab": {}
      },
      "cell_type": "code",
      "source": [
        "# local\n",
        "# URL = '../data/sample4.json'\n",
        "\n",
        "# remote\n",
        "URL = 'https://raw.githubusercontent.com/DJCordhose/ux-by-tfjs/master//data/sample4.json'\n",
        "\n",
        "\n",
        "df = pd.read_json(URL, typ='series')"
      ],
      "execution_count": 0,
      "outputs": []
    },
    {
      "metadata": {
        "id": "swqLoJAh_hEe",
        "colab_type": "code",
        "outputId": "c6eaee66-90db-40d8-a048-961f08e68ddd",
        "colab": {
          "base_uri": "https://localhost:8080/",
          "height": 34
        }
      },
      "cell_type": "code",
      "source": [
        "len(df)"
      ],
      "execution_count": 38,
      "outputs": [
        {
          "output_type": "execute_result",
          "data": {
            "text/plain": [
              "236"
            ]
          },
          "metadata": {
            "tags": []
          },
          "execution_count": 38
        }
      ]
    },
    {
      "metadata": {
        "id": "GDwXqDcH_hEg",
        "colab_type": "code",
        "outputId": "f6017ef6-1e15-4419-a304-81eccd77453a",
        "colab": {
          "base_uri": "https://localhost:8080/",
          "height": 119
        }
      },
      "cell_type": "code",
      "source": [
        "df.head()"
      ],
      "execution_count": 39,
      "outputs": [
        {
          "output_type": "execute_result",
          "data": {
            "text/plain": [
              "0    {'x': [[0, 0, 0, 0, 0], [0, 0, 0, 0, 0], [0, 0...\n",
              "1    {'x': [[0, 0, 0, 0, 0], [0, 0, 0, 0, 0], [0, 0...\n",
              "2    {'x': [[0, 0, 0, 0, 0], [0, 0, 0, 0, 0], [0, 0...\n",
              "3    {'x': [[0, 0, 0, 0, 0], [0, 0, 0, 0, 0], [0, 0...\n",
              "4    {'x': [[0, 0, 0, 0, 0], [0, 0, 0, 0, 0], [0, 0...\n",
              "dtype: object"
            ]
          },
          "metadata": {
            "tags": []
          },
          "execution_count": 39
        }
      ]
    },
    {
      "metadata": {
        "id": "zEtq0mau_hEj",
        "colab_type": "code",
        "colab": {}
      },
      "cell_type": "code",
      "source": [
        "X = [item['x'] for item in df]"
      ],
      "execution_count": 0,
      "outputs": []
    },
    {
      "metadata": {
        "id": "DclzD90x_hEm",
        "colab_type": "code",
        "outputId": "5fa06ee2-3196-4dc3-892e-38ab581d250e",
        "colab": {
          "base_uri": "https://localhost:8080/",
          "height": 3417
        }
      },
      "cell_type": "code",
      "source": [
        "X[0]"
      ],
      "execution_count": 41,
      "outputs": [
        {
          "output_type": "execute_result",
          "data": {
            "text/plain": [
              "[[0, 0, 0, 0, 0],\n",
              " [0, 0, 0, 0, 0],\n",
              " [0, 0, 0, 0, 0],\n",
              " [0, 0, 0, 0, 0],\n",
              " [0, 0, 0, 0, 0],\n",
              " [0, 0, 0, 0, 0],\n",
              " [0, 0, 0, 0, 0],\n",
              " [0, 0, 0, 0, 0],\n",
              " [0, 0, 0, 0, 0],\n",
              " [0, 0, 0, 0, 0],\n",
              " [0, 0, 0, 0, 0],\n",
              " [0, 0, 0, 0, 0],\n",
              " [0, 0, 0, 0, 0],\n",
              " [0, 0, 0, 0, 0],\n",
              " [0, 0, 0, 0, 0],\n",
              " [0, 0, 0, 0, 0],\n",
              " [0, 0, 0, 0, 0],\n",
              " [0, 0, 0, 0, 0],\n",
              " [0, 0, 0, 0, 0],\n",
              " [0, 0, 0, 0, 0],\n",
              " [0, 0, 0, 0, 0],\n",
              " [0, 0, 0, 0, 0],\n",
              " [0, 0, 0, 0, 0],\n",
              " [0, 0, 0, 0, 0],\n",
              " [0, 0, 0, 0, 0],\n",
              " [0, 0, 0, 0, 0],\n",
              " [0, 0, 0, 0, 0],\n",
              " [0, 0, 0, 0, 0],\n",
              " [0, 0, 0, 0, 0],\n",
              " [0, 0, 0, 0, 0],\n",
              " [0, 0, 0, 0, 0],\n",
              " [0, 0, 0, 0, 0],\n",
              " [0, 0, 0, 0, 0],\n",
              " [0, 0, 0, 0, 0],\n",
              " [0, 0, 0, 0, 0],\n",
              " [0, 0, 0, 0, 0],\n",
              " [0, 0, 0, 0, 0],\n",
              " [0, 0, 0, 0, 0],\n",
              " [0, 0, 0, 0, 0],\n",
              " [0, 0, 0, 0, 0],\n",
              " [0, 0, 0, 0, 0],\n",
              " [0, 0, 0, 0, 0],\n",
              " [0, 0, 0, 0, 0],\n",
              " [0, 0, 0, 0, 0],\n",
              " [0, 0, 0, 0, 0],\n",
              " [0, 0, 0, 0, 0],\n",
              " [0, 0, 0, 0, 0],\n",
              " [0, 0, 0, 0, 0],\n",
              " [0, 0, 0, 0, 0],\n",
              " [0, 0, 0, 0, 0],\n",
              " [0, 0, 0, 0, 0],\n",
              " [0, 0, 0, 0, 0],\n",
              " [0, 0, 0, 0, 0],\n",
              " [0, 0, 0, 0, 0],\n",
              " [0, 0, 0, 0, 0],\n",
              " [0, 0, 0, 0, 0],\n",
              " [0, 0, 0, 0, 0],\n",
              " [0, 0, 0, 0, 0],\n",
              " [0, 0, 0, 0, 0],\n",
              " [0, 0, 0, 0, 0],\n",
              " [0, 0, 0, 0, 0],\n",
              " [119, 33, 0, 0, 0],\n",
              " [139, 57, 40, 48, 14],\n",
              " [149, 67, 20, 20, 12],\n",
              " [159, 81, 20, 28, 0],\n",
              " [172, 100, 26, 38, 8],\n",
              " [182, 112, 20, 24, 7],\n",
              " [196, 123, 28, 22, 7],\n",
              " [208, 136, 24, 26, 7],\n",
              " [218, 149, 20, 26, 7],\n",
              " [226, 159, 16, 20, 7],\n",
              " [234, 167, 16, 16, 7],\n",
              " [242, 174, 16, 14, 8],\n",
              " [252, 182, 20, 16, 7],\n",
              " [258, 190, 12, 16, 6],\n",
              " [264, 199, 12, 18, 8],\n",
              " [267, 205, 6, 12, 7],\n",
              " [271, 210, 8, 10, 7],\n",
              " [274, 215, 6, 10, 9],\n",
              " [277, 220, 6, 10, 5],\n",
              " [280, 225, 6, 10, 10],\n",
              " [283, 231, 6, 12, 5],\n",
              " [285, 236, 4, 10, 7],\n",
              " [287, 241, 4, 10, 7],\n",
              " [289, 243, 4, 4, 8],\n",
              " [289, 246, 0, 6, 7],\n",
              " [291, 247, 4, 2, 6],\n",
              " [292, 249, 2, 4, 8],\n",
              " [293, 250, 2, 2, 6],\n",
              " [294, 252, 2, 4, 8],\n",
              " [295, 253, 2, 2, 7],\n",
              " [295, 254, 0, 2, 8],\n",
              " [296, 255, 2, 2, 7],\n",
              " [297, 256, 2, 2, 7],\n",
              " [297, 258, 0, 4, 7],\n",
              " [297, 261, 0, 6, 7],\n",
              " [297, 263, 0, 4, 7],\n",
              " [297, 265, 0, 4, 6],\n",
              " [297, 268, 0, 6, 9],\n",
              " [297, 269, 0, 2, 7],\n",
              " [296, 270, -2, 2, 7],\n",
              " [296, 271, 0, 2, 6],\n",
              " [296, 272, 0, 2, 8],\n",
              " [296, 273, 0, 2, 7],\n",
              " [296, 274, 0, 2, 14],\n",
              " [297, 275, 2, 2, 7],\n",
              " [298, 276, 2, 2, 8],\n",
              " [298, 276, 0, 0, 7],\n",
              " [299, 276, 2, 0, 6],\n",
              " [300, 277, 2, 2, 7],\n",
              " [301, 277, 2, 0, 8],\n",
              " [302, 277, 2, 0, 7],\n",
              " [315, 289, 26, 24, 6060],\n",
              " [343, 323, 56, 68, 4],\n",
              " [367, 355, 48, 64, 8],\n",
              " [397, 401, 60, 92, 7],\n",
              " [425, 440, 56, 78, 8],\n",
              " [425, 441, 0, 2, 6],\n",
              " [463, 508, 76, 134, 7],\n",
              " [466, 513, 6, 10, 7],\n",
              " [473, 523, 14, 20, 7],\n",
              " [476, 528, 6, 10, 7],\n",
              " [478, 531, 4, 6, 7],\n",
              " [478, 531, 0, 0, 8],\n",
              " [478, 532, 0, 2, 7],\n",
              " [486, 535, 16, 6, 165],\n",
              " [495, 539, 18, 8, 6],\n",
              " [506, 544, 22, 10, 8],\n",
              " [521, 549, 30, 10, 7],\n",
              " [537, 554, 32, 10, 8],\n",
              " [547, 557, 20, 6, 6],\n",
              " [561, 560, 28, 6, 7],\n",
              " [578, 563, 34, 6, 7],\n",
              " [587, 565, 18, 4, 7],\n",
              " [589, 566, 4, 2, 8],\n",
              " [606, 574, 34, 16, 7],\n",
              " [614, 580, 16, 12, 7],\n",
              " [624, 594, 20, 28, 8],\n",
              " [633, 607, 18, 26, 6],\n",
              " [640, 625, 14, 36, 7],\n",
              " [641, 627, 2, 4, 7],\n",
              " [650, 661, 18, 68, 9],\n",
              " [650, 661, 0, 0, 13],\n",
              " [649, 674, -2, 26, 230],\n",
              " [648, 684, -2, 20, 6],\n",
              " [648, 693, 0, 18, 7],\n",
              " [649, 702, 2, 18, 9],\n",
              " [650, 711, 2, 18, 5],\n",
              " [650, 720, 0, 18, 7],\n",
              " [653, 726, 6, 12, 8],\n",
              " [654, 731, 2, 10, 7],\n",
              " [330, 733, 0, 0, 2853],\n",
              " [349, 724, 38, -18, 8],\n",
              " [365, 717, 32, -14, 7],\n",
              " [379, 712, 28, -10, 7],\n",
              " [394, 708, 30, -8, 6],\n",
              " [401, 706, 14, -4, 8],\n",
              " [406, 705, 10, -2, 6],\n",
              " [411, 705, 10, 0, 8],\n",
              " [413, 704, 4, -2, 7],\n",
              " [415, 704, 4, 0, 7],\n",
              " [416, 704, 2, 0, 21],\n",
              " [415, 704, -2, 0, 44],\n",
              " [414, 704, -2, 0, 7],\n",
              " [412, 705, -4, 2, 7],\n",
              " [407, 705, -10, 0, 7],\n",
              " [399, 707, -16, 4, 7],\n",
              " [390, 709, -18, 4, 8],\n",
              " [381, 711, -18, 4, 6],\n",
              " [372, 713, -18, 4, 8],\n",
              " [359, 716, -26, 6, 7],\n",
              " [347, 718, -24, 4, 8],\n",
              " [335, 719, -24, 2, 7],\n",
              " [327, 719, -16, 0, 7],\n",
              " [318, 719, -18, 0, 6],\n",
              " [311, 719, -14, 0, 8],\n",
              " [304, 719, -14, 0, 6],\n",
              " [300, 719, -8, 0, 7],\n",
              " [296, 720, -8, 2, 8],\n",
              " [293, 720, -6, 0, 7],\n",
              " [292, 720, -2, 0, 7],\n",
              " [291, 721, -2, 2, 7],\n",
              " [290, 721, -2, 0, 15],\n",
              " [289, 721, -2, 0, 522],\n",
              " [289, 721, 0, 0, 50],\n",
              " [289, 722, 0, 2, 22],\n",
              " [289, 723, 0, 2, 20],\n",
              " [290, 724, 2, 2, 24],\n",
              " [290, 724, 0, 0, 6],\n",
              " [290, 725, 0, 2, 13],\n",
              " [290, 726, 0, 2, 16],\n",
              " [291, 727, 2, 2, 6],\n",
              " [291, 729, 0, 4, 16],\n",
              " [292, 729, 2, 0, 6],\n",
              " [292, 730, 0, 2, 6],\n",
              " [293, 731, 2, 2, 14],\n",
              " [293, 732, 0, 2, 23],\n",
              " [293, 733, 0, 2, 315],\n",
              " [604, 517, 0, 0, 15942],\n",
              " [604, 517, 0, 0, 0]]"
            ]
          },
          "metadata": {
            "tags": []
          },
          "execution_count": 41
        }
      ]
    },
    {
      "metadata": {
        "id": "FyafEJGR_hEp",
        "colab_type": "code",
        "colab": {}
      },
      "cell_type": "code",
      "source": [
        "y = [item['y'] - 1 for item in df]"
      ],
      "execution_count": 0,
      "outputs": []
    },
    {
      "metadata": {
        "id": "zGi3lMlf_hEs",
        "colab_type": "code",
        "outputId": "792970d8-8ada-49b3-8b09-69b918c19d3c",
        "colab": {
          "base_uri": "https://localhost:8080/",
          "height": 34
        }
      },
      "cell_type": "code",
      "source": [
        "y[0]"
      ],
      "execution_count": 43,
      "outputs": [
        {
          "output_type": "execute_result",
          "data": {
            "text/plain": [
              "0"
            ]
          },
          "metadata": {
            "tags": []
          },
          "execution_count": 43
        }
      ]
    },
    {
      "metadata": {
        "id": "CeIWHq5hBkgs",
        "colab_type": "text"
      },
      "cell_type": "markdown",
      "source": [
        "## pre-process data into chunks"
      ]
    },
    {
      "metadata": {
        "id": "Q9Ll551N_hEw",
        "colab_type": "code",
        "colab": {}
      },
      "cell_type": "code",
      "source": [
        "from math import floor\n",
        "\n",
        "def make_chunks(list_to_chunk, chunk_size):\n",
        "    length = len(list_to_chunk)\n",
        "    assert length / chunk_size == floor(length / chunk_size), \"length of data must be multiple of segment length\"\n",
        "    for chunk_start in range(0, length, chunk_size):\n",
        "        yield list_to_chunk[chunk_start : chunk_start + chunk_size]"
      ],
      "execution_count": 0,
      "outputs": []
    },
    {
      "metadata": {
        "id": "OpTBKfUV_hEy",
        "colab_type": "code",
        "colab": {}
      },
      "cell_type": "code",
      "source": [
        "import numpy as np\n",
        "\n",
        "CHUNK_SIZE = 25\n",
        "# only use the final segments \n",
        "SEGMENTS = 2\n",
        "\n",
        "X_expanded = []\n",
        "y_expanded = []\n",
        "\n",
        "for x_el, y_el in zip(X, y):\n",
        "    chunks = list(make_chunks(x_el, CHUNK_SIZE))\n",
        "    chunks = chunks[len(chunks) - SEGMENTS:]\n",
        "    labels = [y_el] * SEGMENTS\n",
        "    for seq, label in zip(chunks, labels):\n",
        "        X_expanded.append(seq)\n",
        "        y_expanded.append(label)\n",
        "\n",
        "X_expanded = np.array(X_expanded)\n",
        "y_expanded = np.array(y_expanded)"
      ],
      "execution_count": 0,
      "outputs": []
    },
    {
      "metadata": {
        "id": "JKKViYg5_hE3",
        "colab_type": "code",
        "outputId": "6e0e6f45-b3d5-44b2-ff0e-72c2d7dd2068",
        "colab": {
          "base_uri": "https://localhost:8080/",
          "height": 34
        }
      },
      "cell_type": "code",
      "source": [
        "X_expanded.shape"
      ],
      "execution_count": 46,
      "outputs": [
        {
          "output_type": "execute_result",
          "data": {
            "text/plain": [
              "(472, 25, 5)"
            ]
          },
          "metadata": {
            "tags": []
          },
          "execution_count": 46
        }
      ]
    },
    {
      "metadata": {
        "id": "0noYolVg_hE6",
        "colab_type": "code",
        "outputId": "9ba66ba8-6b4d-426a-c744-6e42416b02b6",
        "colab": {
          "base_uri": "https://localhost:8080/",
          "height": 442
        }
      },
      "cell_type": "code",
      "source": [
        "X_expanded[100]"
      ],
      "execution_count": 47,
      "outputs": [
        {
          "output_type": "execute_result",
          "data": {
            "text/plain": [
              "array([[686, 438,   2,  -2,   7],\n",
              "       [686, 437,   0,  -2,  15],\n",
              "       [683, 439,  -6,   4,  28],\n",
              "       [676, 447, -14,  16,   7],\n",
              "       [668, 457, -16,  20,   9],\n",
              "       [658, 468, -20,  22,   7],\n",
              "       [653, 475, -10,  14,   0],\n",
              "       [648, 480, -10,  10,   9],\n",
              "       [645, 484,  -6,   8,   1],\n",
              "       [644, 486,  -2,   4,   8],\n",
              "       [643, 486,  -2,   0,   7],\n",
              "       [643, 487,   0,   2,  14],\n",
              "       [646, 485,   6,  -4,  22],\n",
              "       [658, 478,  24, -14,   6],\n",
              "       [676, 463,  36, -30,   8],\n",
              "       [693, 448,  34, -30,   9],\n",
              "       [717, 427,  48, -42,   5],\n",
              "       [733, 415,  32, -24,   8],\n",
              "       [743, 406,  20, -18,   6],\n",
              "       [747, 402,   8,  -8,   6],\n",
              "       [748, 401,   2,  -2,   8],\n",
              "       [749, 401,   2,   0,   7],\n",
              "       [750, 401,   2,   0,   9],\n",
              "       [750, 404,   0,   6,  20],\n",
              "       [747, 411,  -6,  14,   6]])"
            ]
          },
          "metadata": {
            "tags": []
          },
          "execution_count": 47
        }
      ]
    },
    {
      "metadata": {
        "id": "OVyeY93X_hE8",
        "colab_type": "code",
        "outputId": "fdbebc50-407d-49cd-a6f3-5e9e57453d51",
        "colab": {
          "base_uri": "https://localhost:8080/",
          "height": 34
        }
      },
      "cell_type": "code",
      "source": [
        "X_expanded[100][0]"
      ],
      "execution_count": 48,
      "outputs": [
        {
          "output_type": "execute_result",
          "data": {
            "text/plain": [
              "array([686, 438,   2,  -2,   7])"
            ]
          },
          "metadata": {
            "tags": []
          },
          "execution_count": 48
        }
      ]
    },
    {
      "metadata": {
        "id": "o3_Jm3nl_hE_",
        "colab_type": "code",
        "outputId": "5226541f-37b6-4cc3-afca-79505bc6dd8f",
        "colab": {
          "base_uri": "https://localhost:8080/",
          "height": 34
        }
      },
      "cell_type": "code",
      "source": [
        "y_expanded[100]"
      ],
      "execution_count": 49,
      "outputs": [
        {
          "output_type": "execute_result",
          "data": {
            "text/plain": [
              "1"
            ]
          },
          "metadata": {
            "tags": []
          },
          "execution_count": 49
        }
      ]
    },
    {
      "metadata": {
        "id": "NpL7exC__hFB",
        "colab_type": "code",
        "outputId": "83c1b5d6-3d63-4dfa-e32b-2a5dfab16185",
        "colab": {
          "base_uri": "https://localhost:8080/",
          "height": 34
        }
      },
      "cell_type": "code",
      "source": [
        "np.unique(y_expanded)"
      ],
      "execution_count": 50,
      "outputs": [
        {
          "output_type": "execute_result",
          "data": {
            "text/plain": [
              "array([0, 1, 2])"
            ]
          },
          "metadata": {
            "tags": []
          },
          "execution_count": 50
        }
      ]
    },
    {
      "metadata": {
        "id": "M-XPkMyW_hFD",
        "colab_type": "code",
        "colab": {}
      },
      "cell_type": "code",
      "source": [
        "assert np.array_equal(np.unique(y_expanded), [0, 1, 2])"
      ],
      "execution_count": 0,
      "outputs": []
    },
    {
      "metadata": {
        "id": "r9nB_r-ABpl7",
        "colab_type": "text"
      },
      "cell_type": "markdown",
      "source": [
        "## Training"
      ]
    },
    {
      "metadata": {
        "id": "0veLeDA6_hFH",
        "colab_type": "code",
        "colab": {}
      },
      "cell_type": "code",
      "source": [
        "import tensorflow as tf\n",
        "from tensorflow import keras\n",
        "from tensorflow.keras.layers import Dense, LSTM, GRU, SimpleRNN, Bidirectional, BatchNormalization\n",
        "from tensorflow.keras.models import Sequential, Model"
      ],
      "execution_count": 0,
      "outputs": []
    },
    {
      "metadata": {
        "id": "CM6on-uz_hFJ",
        "colab_type": "code",
        "colab": {}
      },
      "cell_type": "code",
      "source": [
        "n_steps = len(X_expanded[0])\n",
        "n_features = len(X_expanded[0][0])\n",
        "n_buttons = 3\n",
        "\n",
        "model = Sequential()\n",
        "model.add(SimpleRNN(units=50, activation='tanh', input_shape=(n_steps, n_features), name=\"RNN_Input\", \n",
        "# model.add(GRU(units=50, activation='tanh', input_shape=(n_steps, n_features), name=\"RNN_Input\", \n",
        "# recurrent_dropout makes things slow              \n",
        "#               dropout=0.1, recurrent_dropout=0.1))\n",
        "                dropout=0.1))\n",
        "# model.add(GRU(units=50, activation='tanh', input_shape=(n_steps, n_features), name=\"RNN_Input\"))\n",
        "model.add(BatchNormalization())\n",
        "model.add(Dense(units=n_buttons, name='softmax', activation='softmax'))\n",
        "model.compile(optimizer='adam', loss='sparse_categorical_crossentropy', metrics=['accuracy'])"
      ],
      "execution_count": 0,
      "outputs": []
    },
    {
      "metadata": {
        "id": "oGO7UyA2_hFM",
        "colab_type": "code",
        "outputId": "378b704b-975b-43f9-a26e-a2b146443a0f",
        "colab": {
          "base_uri": "https://localhost:8080/",
          "height": 51
        }
      },
      "cell_type": "code",
      "source": [
        "%%time\n",
        "\n",
        "EPOCHS = 100\n",
        "BATCH_SIZE = 10\n",
        "\n",
        "history = model.fit(X_expanded, y_expanded, \n",
        "                    batch_size=BATCH_SIZE,\n",
        "                    epochs=EPOCHS, verbose=0, validation_split=0.2)"
      ],
      "execution_count": 61,
      "outputs": [
        {
          "output_type": "stream",
          "text": [
            "CPU times: user 2min 55s, sys: 18.9 s, total: 3min 14s\n",
            "Wall time: 1min 55s\n"
          ],
          "name": "stdout"
        }
      ]
    },
    {
      "metadata": {
        "id": "po7tURch_hFP",
        "colab_type": "code",
        "outputId": "a2d06040-62bb-4737-eacf-155de5471d2b",
        "colab": {
          "base_uri": "https://localhost:8080/",
          "height": 51
        }
      },
      "cell_type": "code",
      "source": [
        "loss, accuracy = model.evaluate([X_expanded], y_expanded, batch_size=BATCH_SIZE)\n",
        "accuracy"
      ],
      "execution_count": 62,
      "outputs": [
        {
          "output_type": "stream",
          "text": [
            "472/472 [==============================] - 1s 2ms/sample - loss: 0.6838 - accuracy: 0.7606\n"
          ],
          "name": "stdout"
        },
        {
          "output_type": "execute_result",
          "data": {
            "text/plain": [
              "0.76059324"
            ]
          },
          "metadata": {
            "tags": []
          },
          "execution_count": 62
        }
      ]
    },
    {
      "metadata": {
        "id": "uqMFRTwp_hFR",
        "colab_type": "code",
        "outputId": "e2675489-05f9-442d-a4b4-199f440d4ef6",
        "colab": {
          "base_uri": "https://localhost:8080/",
          "height": 296
        }
      },
      "cell_type": "code",
      "source": [
        "%matplotlib inline\n",
        "\n",
        "import matplotlib.pyplot as plt\n",
        "\n",
        "# plt.yscale('log')\n",
        "plt.ylabel('loss')\n",
        "plt.xlabel('epochs')\n",
        "\n",
        "plt.plot(history.history['loss'])\n",
        "plt.plot(history.history['val_loss'])\n",
        "\n",
        "plt.legend(['loss', 'val_loss'])"
      ],
      "execution_count": 63,
      "outputs": [
        {
          "output_type": "execute_result",
          "data": {
            "text/plain": [
              "<matplotlib.legend.Legend at 0x7fb1f01294a8>"
            ]
          },
          "metadata": {
            "tags": []
          },
          "execution_count": 63
        },
        {
          "output_type": "display_data",
          "data": {
            "image/png": "[encoded data removed]",
            "text/plain": [
              "<Figure size 432x288 with 1 Axes>"
            ]
          },
          "metadata": {
            "tags": []
          }
        }
      ]
    },
    {
      "metadata": {
        "id": "CS1Gynas_hFT",
        "colab_type": "code",
        "outputId": "0c2a606b-780e-49f7-c850-c9416d04aa73",
        "colab": {
          "base_uri": "https://localhost:8080/",
          "height": 296
        }
      },
      "cell_type": "code",
      "source": [
        "plt.ylabel('accuracy')\n",
        "plt.xlabel('epochs')\n",
        "\n",
        "plt.plot(history.history['accuracy'])\n",
        "plt.plot(history.history['val_accuracy'])\n",
        "\n",
        "plt.legend(['accuracy', 'val_accuracy'])"
      ],
      "execution_count": 64,
      "outputs": [
        {
          "output_type": "execute_result",
          "data": {
            "text/plain": [
              "<matplotlib.legend.Legend at 0x7fb1f0107ba8>"
            ]
          },
          "metadata": {
            "tags": []
          },
          "execution_count": 64
        },
        {
          "output_type": "display_data",
          "data": {
            "image/png": "[encoded data removed]",
            "text/plain": [
              "<Figure size 432x288 with 1 Axes>"
            ]
          },
          "metadata": {
            "tags": []
          }
        }
      ]
    },
    {
      "metadata": {
        "id": "h7ZO4M2I_hFV",
        "colab_type": "code",
        "outputId": "96de89c9-b6e2-40dd-bfe0-f0e6e948e61f",
        "colab": {
          "base_uri": "https://localhost:8080/",
          "height": 34
        }
      },
      "cell_type": "code",
      "source": [
        "model.predict([[X_expanded[0]]])"
      ],
      "execution_count": 65,
      "outputs": [
        {
          "output_type": "execute_result",
          "data": {
            "text/plain": [
              "array([[0.84061784, 0.11025734, 0.0491248 ]], dtype=float32)"
            ]
          },
          "metadata": {
            "tags": []
          },
          "execution_count": 65
        }
      ]
    },
    {
      "metadata": {
        "id": "VEGNcvSv_hFX",
        "colab_type": "code",
        "outputId": "e5fa55bb-f896-4062-be77-1bd69355d1a8",
        "colab": {
          "base_uri": "https://localhost:8080/",
          "height": 34
        }
      },
      "cell_type": "code",
      "source": [
        "model.predict([[X_expanded[0]]]).argmax()"
      ],
      "execution_count": 66,
      "outputs": [
        {
          "output_type": "execute_result",
          "data": {
            "text/plain": [
              "0"
            ]
          },
          "metadata": {
            "tags": []
          },
          "execution_count": 66
        }
      ]
    },
    {
      "metadata": {
        "id": "RpdLq4RT_hFa",
        "colab_type": "code",
        "outputId": "59da179a-aa7f-45d5-a387-f494138aaa5f",
        "colab": {
          "base_uri": "https://localhost:8080/",
          "height": 34
        }
      },
      "cell_type": "code",
      "source": [
        "y_expanded[0]"
      ],
      "execution_count": 69,
      "outputs": [
        {
          "output_type": "execute_result",
          "data": {
            "text/plain": [
              "0"
            ]
          },
          "metadata": {
            "tags": []
          },
          "execution_count": 69
        }
      ]
    },
    {
      "metadata": {
        "id": "--ZGTfeohmS_",
        "colab_type": "code",
        "colab": {}
      },
      "cell_type": "code",
      "source": [
        "y_pred = model.predict([X_expanded]).argmax(axis=1)"
      ],
      "execution_count": 0,
      "outputs": []
    },
    {
      "metadata": {
        "id": "iCFPYjo-ga6m",
        "colab_type": "code",
        "colab": {
          "base_uri": "https://localhost:8080/",
          "height": 85
        },
        "outputId": "27372001-19a0-4793-af32-e35753187288"
      },
      "cell_type": "code",
      "source": [
        "cm = tf.math.confusion_matrix(labels=y_expanded, predictions=y_pred)\n",
        "cm"
      ],
      "execution_count": 82,
      "outputs": [
        {
          "output_type": "execute_result",
          "data": {
            "text/plain": [
              "<tf.Tensor: id=83960, shape=(3, 3), dtype=int32, numpy=\n",
              "array([[134,  16,  20],\n",
              "       [ 20,  95,  23],\n",
              "       [  7,  27, 130]], dtype=int32)>"
            ]
          },
          "metadata": {
            "tags": []
          },
          "execution_count": 82
        }
      ]
    },
    {
      "metadata": {
        "id": "qwV7StyWjYVa",
        "colab_type": "code",
        "colab": {
          "base_uri": "https://localhost:8080/",
          "height": 282
        },
        "outputId": "73e527ff-0e45-413f-ebb0-e6e154e8b93f"
      },
      "cell_type": "code",
      "source": [
        "import seaborn as sns\n",
        "\n",
        "classes = [\"Left Button\", \"Middle Button\", \"Right Button\"]\n",
        "\n",
        "sns.heatmap(cm, annot=True, fmt=\"d\", xticklabels=classes, yticklabels=classes)"
      ],
      "execution_count": 87,
      "outputs": [
        {
          "output_type": "execute_result",
          "data": {
            "text/plain": [
              "<matplotlib.axes._subplots.AxesSubplot at 0x7fb1da7d9cf8>"
            ]
          },
          "metadata": {
            "tags": []
          },
          "execution_count": 87
        },
        {
          "output_type": "display_data",
          "data": {
            "image/png": "[encoded data removed]",
            "text/plain": [
              "<Figure size 432x288 with 2 Axes>"
            ]
          },
          "metadata": {
            "tags": []
          }
        }
      ]
    },
    {
      "metadata": {
        "id": "Rv2Yo1SsBvYn",
        "colab_type": "text"
      },
      "cell_type": "markdown",
      "source": [
        "## Convert Model into tfjs format"
      ]
    },
    {
      "metadata": {
        "id": "crq3LXdj_hFc",
        "colab_type": "code",
        "colab": {}
      },
      "cell_type": "code",
      "source": [
        "model.save('ux.hd5')"
      ],
      "execution_count": 0,
      "outputs": []
    },
    {
      "metadata": {
        "id": "_sRLDfTDB8GS",
        "colab_type": "code",
        "outputId": "3999b86d-defc-4599-8709-dd8355b60aff",
        "colab": {
          "base_uri": "https://localhost:8080/",
          "height": 85
        }
      },
      "cell_type": "code",
      "source": [
        "!ls -l"
      ],
      "execution_count": 89,
      "outputs": [
        {
          "output_type": "stream",
          "text": [
            "total 80\n",
            "drwxr-xr-x 1 root root  4096 Mar 27 20:26 sample_data\n",
            "drwxr-xr-x 2 root root  4096 Apr  3 11:49 tfjs\n",
            "-rw-r--r-- 1 root root 72456 Apr  3 14:20 ux.hd5\n"
          ],
          "name": "stdout"
        }
      ]
    },
    {
      "metadata": {
        "id": "Xbv45tMgCIkn",
        "colab_type": "code",
        "colab": {}
      },
      "cell_type": "code",
      "source": [
        "!pip install -q tensorflowjs"
      ],
      "execution_count": 0,
      "outputs": []
    },
    {
      "metadata": {
        "id": "bqztV867_hFd",
        "colab_type": "code",
        "colab": {}
      },
      "cell_type": "code",
      "source": [
        "!tensorflowjs_converter --input_format keras ux.hd5 tfjs"
      ],
      "execution_count": 0,
      "outputs": []
    },
    {
      "metadata": {
        "id": "2GH6PYWgCDYc",
        "colab_type": "code",
        "outputId": "71d6f1a6-a6bc-40d1-dfd3-74ac50984ab3",
        "colab": {
          "base_uri": "https://localhost:8080/",
          "height": 68
        }
      },
      "cell_type": "code",
      "source": [
        "!ls -l tfjs"
      ],
      "execution_count": 92,
      "outputs": [
        {
          "output_type": "stream",
          "text": [
            "total 20\n",
            "-rw-r--r-- 1 root root 12612 Apr  3 14:20 group1-shard1of1.bin\n",
            "-rw-r--r-- 1 root root  3194 Apr  3 14:20 model.json\n"
          ],
          "name": "stdout"
        }
      ]
    },
    {
      "metadata": {
        "id": "Xd5GPZiUkpTD",
        "colab_type": "text"
      },
      "cell_type": "markdown",
      "source": [
        "Download using file menu on the left"
      ]
    },
    {
      "metadata": {
        "id": "lsd2Kj8ECJu3",
        "colab_type": "code",
        "colab": {}
      },
      "cell_type": "code",
      "source": [
        ""
      ],
      "execution_count": 0,
      "outputs": []
    }
  ]
}