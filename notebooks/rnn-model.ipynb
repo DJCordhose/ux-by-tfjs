{
 "cells": [
  {
   "cell_type": "markdown",
   "metadata": {
    "colab_type": "text",
    "id": "view-in-github"
   },
   "source": [
    "<a href=\"https://colab.research.google.com/github/DJCordhose/ux-by-tfjs/blob/master/notebooks/rnn-model.ipynb\" target=\"_parent\"><img src=\"https://colab.research.google.com/assets/colab-badge.svg\" alt=\"Open In Colab\"/></a>"
   ]
  },
  {
   "cell_type": "markdown",
   "metadata": {
    "colab_type": "text",
    "id": "XdfXfXK2-CiG"
   },
   "source": [
    "# Training on Mouse-Movements on the Server"
   ]
  },
  {
   "cell_type": "code",
   "execution_count": 1,
   "metadata": {
    "colab": {},
    "colab_type": "code",
    "id": "u8IonVMfAelY"
   },
   "outputs": [],
   "source": [
    "# for colab\n",
    "# !pip install -q tf-nightly-gpu-2.0-preview"
   ]
  },
  {
   "cell_type": "code",
   "execution_count": 2,
   "metadata": {
    "colab": {
     "base_uri": "https://localhost:8080/",
     "height": 34
    },
    "colab_type": "code",
    "id": "0rEa6M11-CiY",
    "outputId": "d6e4f8ae-fe71-4fd1-a7c2-811f00322fe8"
   },
   "outputs": [
    {
     "name": "stdout",
     "output_type": "stream",
     "text": [
      "2.0.0-alpha0\n"
     ]
    }
   ],
   "source": [
    "import tensorflow as tf\n",
    "print(tf.__version__)"
   ]
  },
  {
   "cell_type": "code",
   "execution_count": 3,
   "metadata": {
    "colab": {
     "base_uri": "https://localhost:8080/",
     "height": 34
    },
    "colab_type": "code",
    "id": "I35W9tmrRWF3",
    "outputId": "9a5605d6-e705-43fb-c34f-11a6a2d21930"
   },
   "outputs": [
    {
     "name": "stdout",
     "output_type": "stream",
     "text": [
      "This works: b'Hello TF!'\n"
     ]
    }
   ],
   "source": [
    "# a small sanity check, does tf seem to work ok?\n",
    "hello = tf.constant('Hello TF!')\n",
    "print(\"This works: {}\".format(hello))"
   ]
  },
  {
   "cell_type": "code",
   "execution_count": 4,
   "metadata": {
    "colab": {
     "base_uri": "https://localhost:8080/",
     "height": 34
    },
    "colab_type": "code",
    "id": "DpXHERPSQvMD",
    "outputId": "77d47a20-afb8-486b-c7e6-bf2e222679c4"
   },
   "outputs": [
    {
     "data": {
      "text/plain": [
       "True"
      ]
     },
     "execution_count": 4,
     "metadata": {},
     "output_type": "execute_result"
    }
   ],
   "source": [
    "# this should return True even on Colab\n",
    "tf.test.is_gpu_available()"
   ]
  },
  {
   "cell_type": "code",
   "execution_count": 5,
   "metadata": {
    "colab": {
     "base_uri": "https://localhost:8080/",
     "height": 34
    },
    "colab_type": "code",
    "id": "hEoP6O2r3Jvf",
    "outputId": "d1c4480c-0073-48de-9935-e8e6963b30dd"
   },
   "outputs": [
    {
     "data": {
      "text/plain": [
       "True"
      ]
     },
     "execution_count": 5,
     "metadata": {},
     "output_type": "execute_result"
    }
   ],
   "source": [
    "tf.test.is_built_with_cuda()"
   ]
  },
  {
   "cell_type": "code",
   "execution_count": 6,
   "metadata": {
    "colab": {
     "base_uri": "https://localhost:8080/",
     "height": 34
    },
    "colab_type": "code",
    "id": "PqalzDXr3OiQ",
    "outputId": "24007df0-2705-465e-8464-d061fccbb061"
   },
   "outputs": [
    {
     "data": {
      "text/plain": [
       "True"
      ]
     },
     "execution_count": 6,
     "metadata": {},
     "output_type": "execute_result"
    }
   ],
   "source": [
    "tf.executing_eagerly()"
   ]
  },
  {
   "cell_type": "markdown",
   "metadata": {},
   "source": [
    "## load data"
   ]
  },
  {
   "cell_type": "code",
   "execution_count": 7,
   "metadata": {},
   "outputs": [
    {
     "name": "stdout",
     "output_type": "stream",
     "text": [
      "0.23.4\n"
     ]
    }
   ],
   "source": [
    "import pandas as pd\n",
    "print(pd.__version__)"
   ]
  },
  {
   "cell_type": "code",
   "execution_count": 8,
   "metadata": {},
   "outputs": [],
   "source": [
    "df = pd.read_json('../data/sample2.json', typ='series')"
   ]
  },
  {
   "cell_type": "code",
   "execution_count": 9,
   "metadata": {},
   "outputs": [
    {
     "data": {
      "text/plain": [
       "202"
      ]
     },
     "execution_count": 9,
     "metadata": {},
     "output_type": "execute_result"
    }
   ],
   "source": [
    "len(df)"
   ]
  },
  {
   "cell_type": "code",
   "execution_count": 10,
   "metadata": {},
   "outputs": [
    {
     "data": {
      "text/plain": [
       "0    {'x': [[0, 0, 0, 0, 0], [0, 0, 0, 0, 0], [0, 0...\n",
       "1    {'x': [[0, 0, 0, 0, 0], [0, 0, 0, 0, 0], [0, 0...\n",
       "2    {'x': [[796, 199, -18, 12, 8], [789, 203, -14,...\n",
       "3    {'x': [[760, 232, 6, -4, 8], [763, 230, 6, -4,...\n",
       "4    {'x': [[680, 280, 40, -30, 8], [714, 263, 68, ...\n",
       "dtype: object"
      ]
     },
     "execution_count": 10,
     "metadata": {},
     "output_type": "execute_result"
    }
   ],
   "source": [
    "df.head()"
   ]
  },
  {
   "cell_type": "code",
   "execution_count": 11,
   "metadata": {},
   "outputs": [],
   "source": [
    "X = [item['x'] for item in df]"
   ]
  },
  {
   "cell_type": "code",
   "execution_count": 12,
   "metadata": {},
   "outputs": [
    {
     "data": {
      "text/plain": [
       "[[0, 0, 0, 0, 0],\n",
       " [0, 0, 0, 0, 0],\n",
       " [0, 0, 0, 0, 0],\n",
       " [0, 0, 0, 0, 0],\n",
       " [0, 0, 0, 0, 0],\n",
       " [0, 0, 0, 0, 0],\n",
       " [0, 0, 0, 0, 0],\n",
       " [0, 0, 0, 0, 0],\n",
       " [0, 0, 0, 0, 0],\n",
       " [0, 0, 0, 0, 0],\n",
       " [0, 0, 0, 0, 0],\n",
       " [0, 0, 0, 0, 0],\n",
       " [0, 0, 0, 0, 0],\n",
       " [0, 0, 0, 0, 0],\n",
       " [0, 0, 0, 0, 0],\n",
       " [0, 0, 0, 0, 0],\n",
       " [0, 0, 0, 0, 0],\n",
       " [0, 0, 0, 0, 0],\n",
       " [0, 0, 0, 0, 0],\n",
       " [0, 0, 0, 0, 0],\n",
       " [0, 0, 0, 0, 0],\n",
       " [0, 0, 0, 0, 0],\n",
       " [0, 0, 0, 0, 0],\n",
       " [0, 0, 0, 0, 0],\n",
       " [0, 0, 0, 0, 0],\n",
       " [0, 0, 0, 0, 0],\n",
       " [0, 0, 0, 0, 0],\n",
       " [0, 0, 0, 0, 0],\n",
       " [0, 0, 0, 0, 0],\n",
       " [0, 0, 0, 0, 0],\n",
       " [0, 0, 0, 0, 0],\n",
       " [0, 0, 0, 0, 0],\n",
       " [0, 0, 0, 0, 0],\n",
       " [0, 0, 0, 0, 0],\n",
       " [0, 0, 0, 0, 0],\n",
       " [0, 0, 0, 0, 0],\n",
       " [0, 0, 0, 0, 0],\n",
       " [0, 0, 0, 0, 0],\n",
       " [0, 0, 0, 0, 0],\n",
       " [0, 0, 0, 0, 0],\n",
       " [0, 0, 0, 0, 0],\n",
       " [0, 0, 0, 0, 0],\n",
       " [0, 0, 0, 0, 0],\n",
       " [0, 0, 0, 0, 0],\n",
       " [0, 0, 0, 0, 0],\n",
       " [0, 0, 0, 0, 0],\n",
       " [0, 0, 0, 0, 0],\n",
       " [0, 0, 0, 0, 0],\n",
       " [0, 0, 0, 0, 0],\n",
       " [0, 0, 0, 0, 0],\n",
       " [0, 0, 0, 0, 0],\n",
       " [0, 0, 0, 0, 0],\n",
       " [0, 0, 0, 0, 0],\n",
       " [0, 0, 0, 0, 0],\n",
       " [0, 0, 0, 0, 0],\n",
       " [0, 0, 0, 0, 0],\n",
       " [0, 0, 0, 0, 0],\n",
       " [0, 0, 0, 0, 0],\n",
       " [0, 0, 0, 0, 0],\n",
       " [0, 0, 0, 0, 0],\n",
       " [0, 0, 0, 0, 0],\n",
       " [0, 0, 0, 0, 0],\n",
       " [0, 0, 0, 0, 0],\n",
       " [0, 0, 0, 0, 0],\n",
       " [0, 0, 0, 0, 0],\n",
       " [0, 0, 0, 0, 0],\n",
       " [0, 0, 0, 0, 0],\n",
       " [0, 0, 0, 0, 0],\n",
       " [0, 0, 0, 0, 0],\n",
       " [0, 0, 0, 0, 0],\n",
       " [0, 0, 0, 0, 0],\n",
       " [0, 0, 0, 0, 0],\n",
       " [0, 0, 0, 0, 0],\n",
       " [0, 0, 0, 0, 0],\n",
       " [0, 0, 0, 0, 0],\n",
       " [0, 0, 0, 0, 0],\n",
       " [0, 0, 0, 0, 0],\n",
       " [0, 0, 0, 0, 0],\n",
       " [0, 0, 0, 0, 0],\n",
       " [0, 0, 0, 0, 0],\n",
       " [0, 0, 0, 0, 0],\n",
       " [0, 0, 0, 0, 0],\n",
       " [0, 0, 0, 0, 0],\n",
       " [0, 0, 0, 0, 0],\n",
       " [0, 0, 0, 0, 0],\n",
       " [0, 0, 0, 0, 0],\n",
       " [0, 0, 0, 0, 0],\n",
       " [0, 0, 0, 0, 0],\n",
       " [0, 0, 0, 0, 0],\n",
       " [0, 0, 0, 0, 0],\n",
       " [0, 0, 0, 0, 0],\n",
       " [0, 0, 0, 0, 0],\n",
       " [0, 0, 0, 0, 0],\n",
       " [0, 0, 0, 0, 0],\n",
       " [0, 0, 0, 0, 0],\n",
       " [0, 0, 0, 0, 0],\n",
       " [0, 0, 0, 0, 0],\n",
       " [0, 0, 0, 0, 0],\n",
       " [0, 0, 0, 0, 0],\n",
       " [0, 0, 0, 0, 0],\n",
       " [0, 0, 0, 0, 0],\n",
       " [0, 0, 0, 0, 0],\n",
       " [0, 0, 0, 0, 0],\n",
       " [0, 0, 0, 0, 0],\n",
       " [0, 0, 0, 0, 0],\n",
       " [0, 0, 0, 0, 0],\n",
       " [0, 0, 0, 0, 0],\n",
       " [0, 0, 0, 0, 0],\n",
       " [0, 0, 0, 0, 0],\n",
       " [0, 0, 0, 0, 0],\n",
       " [0, 0, 0, 0, 0],\n",
       " [0, 0, 0, 0, 0],\n",
       " [0, 0, 0, 0, 0],\n",
       " [422, 44, 102, 44, 0],\n",
       " [448, 61, 52, 36, 4],\n",
       " [499, 88, 102, 54, 7],\n",
       " [532, 116, 66, 54, 14],\n",
       " [537, 121, 10, 10, 9],\n",
       " [538, 122, 2, 4, 5],\n",
       " [541, 126, 6, 8, 8],\n",
       " [541, 127, 0, 2, 7],\n",
       " [555, 130, 28, 6, 172],\n",
       " [578, 135, 46, 10, 9],\n",
       " [612, 140, 68, 8, 5],\n",
       " [633, 143, 42, 8, 7],\n",
       " [664, 146, 62, 6, 7],\n",
       " [693, 149, 58, 6, 8],\n",
       " [714, 153, 42, 6, 7],\n",
       " [748, 159, 68, 12, 7],\n",
       " [758, 160, 20, 4, 7],\n",
       " [779, 167, 42, 14, 7],\n",
       " [780, 167, 2, 0, 7],\n",
       " [819, 179, 78, 24, 8],\n",
       " [823, 181, 8, 2, 7],\n",
       " [824, 181, 2, 2, 7],\n",
       " [834, 186, 20, 10, 7],\n",
       " [836, 187, 4, 0, 7],\n",
       " [837, 188, 2, 2, 14],\n",
       " [843, 188, 12, 0, 190],\n",
       " [848, 186, 10, -4, 5],\n",
       " [854, 184, 12, -2, 7],\n",
       " [861, 182, 14, -6, 7],\n",
       " [865, 180, 8, -2, 6],\n",
       " [870, 180, 10, -2, 9],\n",
       " [872, 178, 4, -2, 7],\n",
       " [875, 177, 6, -4, 6],\n",
       " [876, 177, 2, 0, 7],\n",
       " [877, 176, 2, 0, 7],\n",
       " [872, 176, -10, 0, 769],\n",
       " [863, 177, -18, 0, 6],\n",
       " [852, 178, -22, 2, 7],\n",
       " [844, 178, -16, 0, 7],\n",
       " [840, 179, -8, 4, 7],\n",
       " [836, 180, -8, 0, 7],\n",
       " [833, 181, -6, 2, 7],\n",
       " [830, 181, -6, 2, 8],\n",
       " [829, 182, -2, 0, 7],\n",
       " [828, 182, -2, 0, 7],\n",
       " [827, 182, -2, 2, 7],\n",
       " [826, 182, -2, 0, 22],\n",
       " [822, 185, -8, 4, 1517],\n",
       " [813, 190, -18, 12, 9],\n",
       " [805, 194, -16, 6, 4],\n",
       " [796, 199, -18, 12, 8],\n",
       " [789, 203, -14, 6, 8],\n",
       " [783, 206, -12, 6, 7],\n",
       " [778, 208, -10, 6, 7],\n",
       " [769, 214, -18, 10, 6],\n",
       " [760, 220, -18, 12, 8],\n",
       " [751, 227, -18, 16, 7],\n",
       " [744, 233, -14, 12, 8],\n",
       " [739, 238, -10, 10, 7],\n",
       " [735, 242, -8, 6, 7],\n",
       " [731, 245, -8, 6, 7],\n",
       " [726, 248, -10, 6, 7],\n",
       " [722, 251, -8, 6, 7],\n",
       " [717, 254, -10, 8, 8],\n",
       " [713, 257, -8, 6, 7],\n",
       " [708, 262, -10, 10, 7],\n",
       " [703, 267, -10, 10, 8],\n",
       " [698, 273, -10, 12, 6],\n",
       " [695, 277, -6, 8, 7],\n",
       " [690, 282, -10, 8, 7],\n",
       " [687, 286, -6, 8, 8],\n",
       " [682, 291, -10, 10, 7],\n",
       " [678, 296, -8, 10, 7],\n",
       " [675, 300, -6, 10, 8],\n",
       " [672, 304, -6, 8, 7],\n",
       " [670, 309, -4, 10, 7],\n",
       " [667, 313, -6, 6, 9],\n",
       " [665, 317, -4, 8, 6],\n",
       " [664, 319, -2, 6, 8],\n",
       " [663, 322, -2, 4, 5],\n",
       " [662, 323, -2, 2, 7],\n",
       " [661, 325, -2, 4, 8],\n",
       " [660, 326, -2, 4, 7],\n",
       " [660, 328, 0, 2, 7],\n",
       " [659, 329, -2, 4, 7],\n",
       " [659, 330, 0, 0, 8],\n",
       " [659, 332, 0, 4, 6]]"
      ]
     },
     "execution_count": 12,
     "metadata": {},
     "output_type": "execute_result"
    }
   ],
   "source": [
    "X[0]"
   ]
  },
  {
   "cell_type": "code",
   "execution_count": 13,
   "metadata": {},
   "outputs": [],
   "source": [
    "y = [item['y'] - 1 for item in df]"
   ]
  },
  {
   "cell_type": "code",
   "execution_count": 14,
   "metadata": {},
   "outputs": [
    {
     "data": {
      "text/plain": [
       "0"
      ]
     },
     "execution_count": 14,
     "metadata": {},
     "output_type": "execute_result"
    }
   ],
   "source": [
    "y[0]"
   ]
  },
  {
   "cell_type": "code",
   "execution_count": 15,
   "metadata": {},
   "outputs": [],
   "source": [
    "from math import floor\n",
    "\n",
    "def make_chunks(list_to_chunk, chunk_size):\n",
    "    length = len(list_to_chunk)\n",
    "    assert length / chunk_size == floor(length / chunk_size), \"length of data must be multiple of segment length\"\n",
    "    for chunk_start in range(0, length, chunk_size):\n",
    "        yield list_to_chunk[chunk_start : chunk_start + chunk_size]"
   ]
  },
  {
   "cell_type": "code",
   "execution_count": 16,
   "metadata": {},
   "outputs": [],
   "source": [
    "import numpy as np\n",
    "\n",
    "CHUNK_SIZE = 25\n",
    "# only use the final segments \n",
    "SEGMENTS = 2\n",
    "\n",
    "X_expanded = []\n",
    "y_expanded = []\n",
    "\n",
    "for x_el, y_el in zip(X, y):\n",
    "    chunks = list(make_chunks(x_el, CHUNK_SIZE))\n",
    "    chunks = chunks[len(chunks) - SEGMENTS:]\n",
    "    labels = [y_el] * SEGMENTS\n",
    "    for seq, label in zip(chunks, labels):\n",
    "        X_expanded.append(seq)\n",
    "        y_expanded.append(label)\n",
    "\n",
    "X_expanded = np.array(X_expanded)\n",
    "y_expanded = np.array(y_expanded)"
   ]
  },
  {
   "cell_type": "code",
   "execution_count": 17,
   "metadata": {},
   "outputs": [
    {
     "data": {
      "text/plain": [
       "(404, 25, 5)"
      ]
     },
     "execution_count": 17,
     "metadata": {},
     "output_type": "execute_result"
    }
   ],
   "source": [
    "X_expanded.shape"
   ]
  },
  {
   "cell_type": "code",
   "execution_count": 18,
   "metadata": {},
   "outputs": [
    {
     "data": {
      "text/plain": [
       "array([[861, 241,   8,   8,   7],\n",
       "       [866, 244,  10,   6,   8],\n",
       "       [869, 248,   6,   8,   6],\n",
       "       [873, 251,   8,   6,   8],\n",
       "       [876, 254,   6,   6,   7],\n",
       "       [878, 257,   4,   8,   7],\n",
       "       [881, 260,   6,   6,   7],\n",
       "       [883, 263,   4,   4,   7],\n",
       "       [884, 265,   2,   4,   7],\n",
       "       [886, 267,   4,   4,   7],\n",
       "       [887, 268,   2,   4,   7],\n",
       "       [888, 270,   2,   4,   9],\n",
       "       [889, 273,   2,   4,   6],\n",
       "       [890, 275,   2,   4,   8],\n",
       "       [892, 277,   4,   6,   6],\n",
       "       [894, 281,   4,   6,   7],\n",
       "       [896, 285,   4,   8,   8],\n",
       "       [899, 289,   6,  10,   8],\n",
       "       [902, 294,   6,  10,   6],\n",
       "       [903, 298,   2,   6,   8],\n",
       "       [905, 301,   4,   8,   7],\n",
       "       [907, 304,   4,   6,   7],\n",
       "       [908, 306,   2,   2,   6],\n",
       "       [910, 307,   4,   4,   8],\n",
       "       [911, 309,   2,   2,   9]])"
      ]
     },
     "execution_count": 18,
     "metadata": {},
     "output_type": "execute_result"
    }
   ],
   "source": [
    "X_expanded[100]"
   ]
  },
  {
   "cell_type": "code",
   "execution_count": 19,
   "metadata": {},
   "outputs": [
    {
     "data": {
      "text/plain": [
       "array([861, 241,   8,   8,   7])"
      ]
     },
     "execution_count": 19,
     "metadata": {},
     "output_type": "execute_result"
    }
   ],
   "source": [
    "X_expanded[100][0]"
   ]
  },
  {
   "cell_type": "code",
   "execution_count": 20,
   "metadata": {},
   "outputs": [
    {
     "data": {
      "text/plain": [
       "2"
      ]
     },
     "execution_count": 20,
     "metadata": {},
     "output_type": "execute_result"
    }
   ],
   "source": [
    "y_expanded[100]"
   ]
  },
  {
   "cell_type": "code",
   "execution_count": 21,
   "metadata": {},
   "outputs": [
    {
     "data": {
      "text/plain": [
       "array([0, 1, 2])"
      ]
     },
     "execution_count": 21,
     "metadata": {},
     "output_type": "execute_result"
    }
   ],
   "source": [
    "np.unique(y_expanded)"
   ]
  },
  {
   "cell_type": "code",
   "execution_count": 22,
   "metadata": {},
   "outputs": [],
   "source": [
    "assert np.array_equal(np.unique(y_expanded), [0, 1, 2])"
   ]
  },
  {
   "cell_type": "code",
   "execution_count": 23,
   "metadata": {},
   "outputs": [],
   "source": [
    "import tensorflow as tf\n",
    "from tensorflow import keras\n",
    "from tensorflow.keras.layers import Dense, LSTM, GRU, SimpleRNN, Bidirectional, BatchNormalization\n",
    "from tensorflow.keras.models import Sequential, Model"
   ]
  },
  {
   "cell_type": "code",
   "execution_count": 24,
   "metadata": {},
   "outputs": [
    {
     "name": "stderr",
     "output_type": "stream",
     "text": [
      "WARNING: Logging before flag parsing goes to stderr.\n",
      "W0402 11:59:04.875766 18560 deprecation.py:506] From C:\\Users\\olive\\Anaconda3\\lib\\site-packages\\tensorflow\\python\\keras\\backend.py:4081: calling dropout (from tensorflow.python.ops.nn_ops) with keep_prob is deprecated and will be removed in a future version.\n",
      "Instructions for updating:\n",
      "Please use `rate` instead of `keep_prob`. Rate should be set to `rate = 1 - keep_prob`.\n"
     ]
    }
   ],
   "source": [
    "n_steps = len(X_expanded[0])\n",
    "n_features = len(X_expanded[0][0])\n",
    "n_buttons = 3\n",
    "\n",
    "model = Sequential()\n",
    "model.add(GRU(units=50, activation='tanh', input_shape=(n_steps, n_features), name=\"RNN_Input\", \n",
    "# recurrent_dropout makes things slow              \n",
    "#               dropout=0.1, recurrent_dropout=0.1))\n",
    "                dropout=0.1))\n",
    "# model.add(GRU(units=50, activation='tanh', input_shape=(n_steps, n_features), name=\"RNN_Input\"))\n",
    "model.add(BatchNormalization())\n",
    "model.add(Dense(units=n_buttons, name='softmax', activation='softmax'))\n",
    "model.compile(optimizer='adam', loss='sparse_categorical_crossentropy', metrics=['accuracy'])"
   ]
  },
  {
   "cell_type": "code",
   "execution_count": 25,
   "metadata": {},
   "outputs": [
    {
     "name": "stdout",
     "output_type": "stream",
     "text": [
      "Wall time: 13.9 s\n"
     ]
    }
   ],
   "source": [
    "%%time\n",
    "\n",
    "EPOCHS = 500\n",
    "BATCH_SIZE = 200\n",
    "\n",
    "history = model.fit(X_expanded, y_expanded, \n",
    "                    batch_size=BATCH_SIZE,\n",
    "                    epochs=EPOCHS, verbose=0, validation_split=0.2)"
   ]
  },
  {
   "cell_type": "code",
   "execution_count": 26,
   "metadata": {},
   "outputs": [
    {
     "name": "stdout",
     "output_type": "stream",
     "text": [
      "404/404 [==============================] - 0s 37us/sample - loss: 0.6004 - accuracy: 0.8762\n"
     ]
    },
    {
     "data": {
      "text/plain": [
       "0.87623763"
      ]
     },
     "execution_count": 26,
     "metadata": {},
     "output_type": "execute_result"
    }
   ],
   "source": [
    "loss, accuracy = model.evaluate([X_expanded], y_expanded, batch_size=BATCH_SIZE)\n",
    "accuracy"
   ]
  },
  {
   "cell_type": "code",
   "execution_count": 33,
   "metadata": {},
   "outputs": [
    {
     "data": {
      "text/plain": [
       "<matplotlib.legend.Legend at 0x24c2594a5c0>"
      ]
     },
     "execution_count": 33,
     "metadata": {},
     "output_type": "execute_result"
    },
    {
     "data": {
      "image/png": "[encoded data removed]",
      "text/plain": [
       "<Figure size 432x288 with 1 Axes>"
      ]
     },
     "metadata": {
      "needs_background": "light"
     },
     "output_type": "display_data"
    }
   ],
   "source": [
    "%matplotlib inline\n",
    "\n",
    "import matplotlib.pyplot as plt\n",
    "\n",
    "# plt.yscale('log')\n",
    "plt.ylabel('loss')\n",
    "plt.xlabel('epochs')\n",
    "\n",
    "plt.plot(history.history['loss'])\n",
    "plt.plot(history.history['val_loss'])\n",
    "\n",
    "plt.legend(['loss', 'val_loss'])"
   ]
  },
  {
   "cell_type": "code",
   "execution_count": 28,
   "metadata": {},
   "outputs": [
    {
     "data": {
      "text/plain": [
       "<matplotlib.legend.Legend at 0x24c23d7df98>"
      ]
     },
     "execution_count": 28,
     "metadata": {},
     "output_type": "execute_result"
    },
    {
     "data": {
      "image/png": "[encoded data removed]",
      "text/plain": [
       "<Figure size 432x288 with 1 Axes>"
      ]
     },
     "metadata": {
      "needs_background": "light"
     },
     "output_type": "display_data"
    }
   ],
   "source": [
    "plt.ylabel('accuracy')\n",
    "plt.xlabel('epochs')\n",
    "\n",
    "plt.plot(history.history['accuracy'])\n",
    "plt.plot(history.history['val_accuracy'])\n",
    "\n",
    "plt.legend(['accuracy', 'val_accuracy'])"
   ]
  },
  {
   "cell_type": "code",
   "execution_count": 29,
   "metadata": {},
   "outputs": [
    {
     "data": {
      "text/plain": [
       "array([[0.60437876, 0.3832703 , 0.01235094]], dtype=float32)"
      ]
     },
     "execution_count": 29,
     "metadata": {},
     "output_type": "execute_result"
    }
   ],
   "source": [
    "model.predict([[X_expanded[0]]])"
   ]
  },
  {
   "cell_type": "code",
   "execution_count": 30,
   "metadata": {},
   "outputs": [
    {
     "data": {
      "text/plain": [
       "0"
      ]
     },
     "execution_count": 30,
     "metadata": {},
     "output_type": "execute_result"
    }
   ],
   "source": [
    "model.predict([[X_expanded[0]]]).argmax()"
   ]
  },
  {
   "cell_type": "code",
   "execution_count": 31,
   "metadata": {},
   "outputs": [
    {
     "data": {
      "text/plain": [
       "0"
      ]
     },
     "execution_count": 31,
     "metadata": {},
     "output_type": "execute_result"
    }
   ],
   "source": [
    "y_expanded[0]"
   ]
  },
  {
   "cell_type": "code",
   "execution_count": 32,
   "metadata": {},
   "outputs": [],
   "source": [
    "model.save('ux.hd5')"
   ]
  },
  {
   "cell_type": "code",
   "execution_count": null,
   "metadata": {},
   "outputs": [],
   "source": []
  }
 ],
 "metadata": {
  "accelerator": "GPU",
  "colab": {
   "include_colab_link": true,
   "name": "rnn-model.ipynb",
   "provenance": [],
   "toc_visible": true,
   "version": "0.3.2"
  },
  "kernelspec": {
   "display_name": "Python 3",
   "language": "python",
   "name": "python3"
  },
  "language_info": {
   "codemirror_mode": {
    "name": "ipython",
    "version": 3
   },
   "file_extension": ".py",
   "mimetype": "text/x-python",
   "name": "python",
   "nbconvert_exporter": "python",
   "pygments_lexer": "ipython3",
   "version": "3.7.1"
  }
 },
 "nbformat": 4,
 "nbformat_minor": 1
}
