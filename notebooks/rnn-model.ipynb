{
 "cells": [
  {
   "cell_type": "markdown",
   "metadata": {
    "colab_type": "text",
    "id": "view-in-github"
   },
   "source": [
    "<a href=\"https://colab.research.google.com/github/DJCordhose/ux-by-tfjs/blob/master/notebooks/rnn-model.ipynb\" target=\"_parent\"><img src=\"https://colab.research.google.com/assets/colab-badge.svg\" alt=\"Open In Colab\"/></a>"
   ]
  },
  {
   "cell_type": "markdown",
   "metadata": {
    "colab_type": "text",
    "id": "XdfXfXK2-CiG"
   },
   "source": [
    "# Training on Mouse-Movements on the Server"
   ]
  },
  {
   "cell_type": "code",
   "execution_count": 33,
   "metadata": {
    "colab": {},
    "colab_type": "code",
    "id": "u8IonVMfAelY"
   },
   "outputs": [
    {
     "name": "stderr",
     "output_type": "stream",
     "text": [
      "  Could not find a version that satisfies the requirement tf-nightly-gpu-2.0-preview (from versions: )\n",
      "No matching distribution found for tf-nightly-gpu-2.0-preview\n"
     ]
    }
   ],
   "source": [
    "# for colab\n",
    "!pip install -q tf-nightly-gpu-2.0-preview"
   ]
  },
  {
   "cell_type": "code",
   "execution_count": 2,
   "metadata": {
    "colab": {
     "base_uri": "https://localhost:8080/",
     "height": 34
    },
    "colab_type": "code",
    "id": "0rEa6M11-CiY",
    "outputId": "d6e4f8ae-fe71-4fd1-a7c2-811f00322fe8"
   },
   "outputs": [
    {
     "name": "stdout",
     "output_type": "stream",
     "text": [
      "2.0.0-alpha0\n"
     ]
    }
   ],
   "source": [
    "import tensorflow as tf\n",
    "print(tf.__version__)"
   ]
  },
  {
   "cell_type": "code",
   "execution_count": 3,
   "metadata": {
    "colab": {
     "base_uri": "https://localhost:8080/",
     "height": 34
    },
    "colab_type": "code",
    "id": "I35W9tmrRWF3",
    "outputId": "9a5605d6-e705-43fb-c34f-11a6a2d21930"
   },
   "outputs": [
    {
     "name": "stdout",
     "output_type": "stream",
     "text": [
      "This works: b'Hello TF!'\n"
     ]
    }
   ],
   "source": [
    "# a small sanity check, does tf seem to work ok?\n",
    "hello = tf.constant('Hello TF!')\n",
    "print(\"This works: {}\".format(hello))"
   ]
  },
  {
   "cell_type": "code",
   "execution_count": 4,
   "metadata": {
    "colab": {
     "base_uri": "https://localhost:8080/",
     "height": 34
    },
    "colab_type": "code",
    "id": "DpXHERPSQvMD",
    "outputId": "77d47a20-afb8-486b-c7e6-bf2e222679c4"
   },
   "outputs": [
    {
     "data": {
      "text/plain": [
       "True"
      ]
     },
     "execution_count": 4,
     "metadata": {},
     "output_type": "execute_result"
    }
   ],
   "source": [
    "# this should return True even on Colab\n",
    "tf.test.is_gpu_available()"
   ]
  },
  {
   "cell_type": "code",
   "execution_count": 5,
   "metadata": {
    "colab": {
     "base_uri": "https://localhost:8080/",
     "height": 34
    },
    "colab_type": "code",
    "id": "hEoP6O2r3Jvf",
    "outputId": "d1c4480c-0073-48de-9935-e8e6963b30dd"
   },
   "outputs": [
    {
     "data": {
      "text/plain": [
       "True"
      ]
     },
     "execution_count": 5,
     "metadata": {},
     "output_type": "execute_result"
    }
   ],
   "source": [
    "tf.test.is_built_with_cuda()"
   ]
  },
  {
   "cell_type": "code",
   "execution_count": 6,
   "metadata": {
    "colab": {
     "base_uri": "https://localhost:8080/",
     "height": 34
    },
    "colab_type": "code",
    "id": "PqalzDXr3OiQ",
    "outputId": "24007df0-2705-465e-8464-d061fccbb061"
   },
   "outputs": [
    {
     "data": {
      "text/plain": [
       "True"
      ]
     },
     "execution_count": 6,
     "metadata": {},
     "output_type": "execute_result"
    }
   ],
   "source": [
    "tf.executing_eagerly()"
   ]
  },
  {
   "cell_type": "markdown",
   "metadata": {},
   "source": [
    "## load data"
   ]
  },
  {
   "cell_type": "code",
   "execution_count": 7,
   "metadata": {},
   "outputs": [
    {
     "name": "stdout",
     "output_type": "stream",
     "text": [
      "0.23.4\n"
     ]
    }
   ],
   "source": [
    "import pandas as pd\n",
    "print(pd.__version__)"
   ]
  },
  {
   "cell_type": "code",
   "execution_count": 8,
   "metadata": {},
   "outputs": [],
   "source": [
    "df = pd.read_json('../data/sample3.json', typ='series')"
   ]
  },
  {
   "cell_type": "code",
   "execution_count": 9,
   "metadata": {},
   "outputs": [
    {
     "data": {
      "text/plain": [
       "251"
      ]
     },
     "execution_count": 9,
     "metadata": {},
     "output_type": "execute_result"
    }
   ],
   "source": [
    "len(df)"
   ]
  },
  {
   "cell_type": "code",
   "execution_count": 10,
   "metadata": {},
   "outputs": [
    {
     "data": {
      "text/plain": [
       "0    {'x': [[508, 219, -2, 0, 7], [507, 218, -2, -2...\n",
       "1    {'x': [[749, 330, 0, 2, 14], [749, 331, 0, 2, ...\n",
       "2    {'x': [[712, 396, 4, -8, 5], [715, 391, 6, -10...\n",
       "3    {'x': [[794, 434, -2, -12, 6], [794, 427, 0, -...\n",
       "4    {'x': [[644, 469, -2, 2, 6], [644, 470, 0, 2, ...\n",
       "dtype: object"
      ]
     },
     "execution_count": 10,
     "metadata": {},
     "output_type": "execute_result"
    }
   ],
   "source": [
    "df.head()"
   ]
  },
  {
   "cell_type": "code",
   "execution_count": 11,
   "metadata": {},
   "outputs": [],
   "source": [
    "X = [item['x'] for item in df]"
   ]
  },
  {
   "cell_type": "code",
   "execution_count": 12,
   "metadata": {},
   "outputs": [
    {
     "data": {
      "text/plain": [
       "[[508, 219, -2, 0, 7],\n",
       " [507, 218, -2, -2, 16],\n",
       " [506, 218, -2, 0, 7],\n",
       " [505, 217, -2, -2, 13],\n",
       " [504, 217, -2, 0, 14],\n",
       " [503, 217, -2, 0, 15],\n",
       " [502, 217, -2, 0, 7],\n",
       " [501, 217, -2, 0, 29],\n",
       " [500, 217, -2, 0, 21],\n",
       " [499, 217, -2, 0, 21],\n",
       " [498, 217, -2, 0, 22],\n",
       " [497, 217, -2, 0, 21],\n",
       " [496, 217, -2, 0, 36],\n",
       " [496, 217, 0, 0, 390],\n",
       " [497, 217, 2, 0, 5108],\n",
       " [500, 218, 6, 2, 7],\n",
       " [505, 219, 10, 2, 8],\n",
       " [509, 220, 8, 2, 7],\n",
       " [514, 221, 10, 2, 6],\n",
       " [519, 222, 10, 2, 7],\n",
       " [522, 222, 6, 0, 7],\n",
       " [524, 223, 4, 2, 7],\n",
       " [526, 223, 4, 0, 7],\n",
       " [529, 223, 6, 0, 8],\n",
       " [530, 224, 2, 2, 7],\n",
       " [532, 224, 4, 0, 7],\n",
       " [533, 224, 2, 0, 7],\n",
       " [534, 224, 2, 0, 14],\n",
       " [535, 224, 2, 0, 15],\n",
       " [535, 224, 0, 0, 7],\n",
       " [536, 225, 2, 2, 14],\n",
       " [536, 225, 0, 0, 8],\n",
       " [536, 226, 0, 2, 22],\n",
       " [549, 228, 26, 4, 199],\n",
       " [563, 230, 28, 4, 6],\n",
       " [576, 232, 26, 4, 7],\n",
       " [598, 235, 44, 6, 7],\n",
       " [619, 238, 42, 6, 7],\n",
       " [628, 241, 18, 6, 9],\n",
       " [642, 244, 28, 6, 6],\n",
       " [657, 248, 30, 8, 7],\n",
       " [666, 251, 18, 6, 6],\n",
       " [672, 254, 12, 6, 8],\n",
       " [674, 255, 4, 2, 6],\n",
       " [677, 256, 6, 2, 9],\n",
       " [679, 257, 4, 2, 6],\n",
       " [679, 257, 0, 0, 7],\n",
       " [680, 257, 2, 0, 8],\n",
       " [680, 259, 0, 4, 637],\n",
       " [679, 260, -2, 2, 6],\n",
       " [678, 261, -2, 2, 7],\n",
       " [677, 263, -2, 4, 8],\n",
       " [676, 264, -2, 2, 7],\n",
       " [675, 266, -2, 4, 8],\n",
       " [675, 268, 0, 4, 6],\n",
       " [674, 269, -2, 2, 7],\n",
       " [673, 270, -2, 2, 7],\n",
       " [673, 271, 0, 2, 8],\n",
       " [672, 272, -2, 2, 8],\n",
       " [671, 273, -2, 2, 20],\n",
       " [672, 274, 2, 2, 679],\n",
       " [673, 274, 2, 0, 8],\n",
       " [674, 274, 2, 0, 21],\n",
       " [675, 274, 2, 0, 7],\n",
       " [676, 274, 2, 0, 7],\n",
       " [678, 274, 4, 0, 7],\n",
       " [680, 274, 4, 0, 7],\n",
       " [681, 274, 2, 0, 7],\n",
       " [682, 274, 2, 0, 8],\n",
       " [683, 274, 2, 0, 8],\n",
       " [684, 274, 2, 0, 6],\n",
       " [685, 274, 2, 0, 7],\n",
       " [686, 274, 2, 0, 7],\n",
       " [687, 274, 2, 0, 7],\n",
       " [688, 274, 2, 0, 8],\n",
       " [689, 274, 2, 0, 8],\n",
       " [690, 274, 2, 0, 5],\n",
       " [691, 274, 2, 0, 8],\n",
       " [692, 274, 2, 0, 7],\n",
       " [693, 274, 2, 0, 7],\n",
       " [694, 274, 2, 0, 7],\n",
       " [695, 274, 2, 0, 16],\n",
       " [696, 274, 2, 0, 7],\n",
       " [697, 274, 2, 0, 27],\n",
       " [698, 274, 2, 0, 22],\n",
       " [699, 274, 2, 0, 36],\n",
       " [703, 274, 8, 0, 215],\n",
       " [708, 276, 10, 4, 7],\n",
       " [711, 277, 6, 2, 6],\n",
       " [714, 277, 6, 0, 7],\n",
       " [716, 278, 4, 2, 7],\n",
       " [719, 279, 6, 2, 8],\n",
       " [721, 280, 4, 2, 7],\n",
       " [724, 281, 6, 2, 6],\n",
       " [726, 281, 4, 0, 8],\n",
       " [727, 282, 2, 2, 6],\n",
       " [727, 282, 0, 0, 8],\n",
       " [728, 282, 2, 0, 7],\n",
       " [730, 284, 4, 4, 1017],\n",
       " [733, 289, 6, 10, 6],\n",
       " [734, 292, 2, 6, 7],\n",
       " [735, 294, 2, 4, 7],\n",
       " [737, 297, 4, 6, 7],\n",
       " [738, 298, 2, 2, 7],\n",
       " [739, 301, 2, 6, 6],\n",
       " [740, 302, 2, 2, 8],\n",
       " [741, 303, 2, 2, 8],\n",
       " [741, 305, 0, 4, 7],\n",
       " [743, 307, 4, 4, 6],\n",
       " [743, 309, 0, 4, 8],\n",
       " [744, 311, 2, 4, 7],\n",
       " [745, 313, 2, 4, 7],\n",
       " [746, 315, 2, 4, 9],\n",
       " [746, 317, 0, 4, 5],\n",
       " [747, 319, 2, 4, 9],\n",
       " [747, 321, 0, 4, 6],\n",
       " [747, 323, 0, 4, 7],\n",
       " [748, 325, 2, 4, 7],\n",
       " [749, 327, 2, 4, 6],\n",
       " [749, 328, 0, 2, 10],\n",
       " [749, 329, 0, 2, 6],\n",
       " [749, 329, 0, 0, 7],\n",
       " [749, 330, 0, 2, 14],\n",
       " [749, 331, 0, 2, 22],\n",
       " [750, 332, 2, 2, 1466],\n",
       " [751, 331, 2, -2, 13],\n",
       " [753, 331, 4, 0, 7],\n",
       " [754, 331, 2, 0, 8],\n",
       " [756, 330, 4, -2, 7],\n",
       " [757, 330, 2, 0, 7],\n",
       " [759, 330, 4, 0, 7],\n",
       " [760, 330, 2, 0, 7],\n",
       " [761, 330, 2, 0, 7],\n",
       " [762, 330, 2, 0, 7],\n",
       " [763, 330, 2, 0, 8],\n",
       " [764, 330, 2, 0, 14],\n",
       " [765, 330, 2, 0, 21],\n",
       " [767, 327, 4, -6, 1487],\n",
       " [769, 322, 4, -10, 7],\n",
       " [773, 316, 8, -12, 7],\n",
       " [776, 310, 6, -12, 8],\n",
       " [779, 305, 6, -10, 7],\n",
       " [782, 301, 6, -8, 7],\n",
       " [784, 298, 4, -6, 7],\n",
       " [784, 295, 0, -6, 7],\n",
       " [785, 294, 2, -2, 7],\n",
       " [785, 293, 0, -2, 8],\n",
       " [786, 293, 2, 0, 7],\n",
       " [786, 292, 0, -2, 21],\n",
       " [787, 291, 2, -2, 50],\n",
       " [787, 290, 0, -2, 7],\n",
       " [788, 288, 2, -4, 7],\n",
       " [789, 287, 2, -2, 8],\n",
       " [789, 287, 0, 0, 7],\n",
       " [790, 286, 2, -2, 6],\n",
       " [790, 286, 0, 0, 8],\n",
       " [787, 291, -6, 10, 1451],\n",
       " [782, 299, -10, 16, 8],\n",
       " [776, 307, -12, 16, 6],\n",
       " [770, 316, -12, 18, 9],\n",
       " [763, 325, -14, 18, 6],\n",
       " [756, 336, -14, 22, 6],\n",
       " [750, 346, -12, 20, 7],\n",
       " [744, 355, -12, 18, 8],\n",
       " [737, 369, -14, 28, 6],\n",
       " [728, 382, -18, 26, 8],\n",
       " [722, 391, -12, 18, 7],\n",
       " [717, 399, -10, 16, 8],\n",
       " [713, 406, -8, 14, 6],\n",
       " [709, 413, -8, 14, 7],\n",
       " [706, 420, -6, 14, 8],\n",
       " [704, 425, -4, 10, 7],\n",
       " [702, 429, -4, 8, 7],\n",
       " [701, 432, -2, 6, 8],\n",
       " [701, 434, 0, 4, 8],\n",
       " [700, 436, -2, 4, 6],\n",
       " [700, 438, 0, 4, 6],\n",
       " [699, 439, -2, 2, 8],\n",
       " [699, 440, 0, 2, 6],\n",
       " [697, 442, -4, 4, 8],\n",
       " [697, 444, 0, 4, 7],\n",
       " [696, 445, -2, 2, 8],\n",
       " [695, 446, -2, 2, 7],\n",
       " [694, 448, -2, 4, 8],\n",
       " [693, 451, -2, 6, 6],\n",
       " [692, 454, -2, 6, 7],\n",
       " [690, 457, -4, 6, 8],\n",
       " [690, 459, 0, 4, 7],\n",
       " [689, 461, -2, 4, 6],\n",
       " [687, 462, -4, 2, 8],\n",
       " [687, 462, 0, 0, 8],\n",
       " [687, 463, 0, 2, 13],\n",
       " [686, 463, -2, 0, 15],\n",
       " [686, 464, 0, 2, 22],\n",
       " [685, 465, -2, 2, 21],\n",
       " [684, 466, -2, 2, 14],\n",
       " [683, 468, -2, 4, 14],\n",
       " [682, 469, -2, 2, 7],\n",
       " [680, 471, -4, 4, 7],\n",
       " [678, 473, -4, 4, 8]]"
      ]
     },
     "execution_count": 12,
     "metadata": {},
     "output_type": "execute_result"
    }
   ],
   "source": [
    "X[0]"
   ]
  },
  {
   "cell_type": "code",
   "execution_count": 13,
   "metadata": {},
   "outputs": [],
   "source": [
    "y = [item['y'] - 1 for item in df]"
   ]
  },
  {
   "cell_type": "code",
   "execution_count": 14,
   "metadata": {},
   "outputs": [
    {
     "data": {
      "text/plain": [
       "0"
      ]
     },
     "execution_count": 14,
     "metadata": {},
     "output_type": "execute_result"
    }
   ],
   "source": [
    "y[0]"
   ]
  },
  {
   "cell_type": "code",
   "execution_count": 15,
   "metadata": {},
   "outputs": [],
   "source": [
    "from math import floor\n",
    "\n",
    "def make_chunks(list_to_chunk, chunk_size):\n",
    "    length = len(list_to_chunk)\n",
    "    assert length / chunk_size == floor(length / chunk_size), \"length of data must be multiple of segment length\"\n",
    "    for chunk_start in range(0, length, chunk_size):\n",
    "        yield list_to_chunk[chunk_start : chunk_start + chunk_size]"
   ]
  },
  {
   "cell_type": "code",
   "execution_count": 16,
   "metadata": {},
   "outputs": [],
   "source": [
    "import numpy as np\n",
    "\n",
    "CHUNK_SIZE = 25\n",
    "# only use the final segments \n",
    "SEGMENTS = 2\n",
    "\n",
    "X_expanded = []\n",
    "y_expanded = []\n",
    "\n",
    "for x_el, y_el in zip(X, y):\n",
    "    chunks = list(make_chunks(x_el, CHUNK_SIZE))\n",
    "    chunks = chunks[len(chunks) - SEGMENTS:]\n",
    "    labels = [y_el] * SEGMENTS\n",
    "    for seq, label in zip(chunks, labels):\n",
    "        X_expanded.append(seq)\n",
    "        y_expanded.append(label)\n",
    "\n",
    "X_expanded = np.array(X_expanded)\n",
    "y_expanded = np.array(y_expanded)"
   ]
  },
  {
   "cell_type": "code",
   "execution_count": 17,
   "metadata": {},
   "outputs": [
    {
     "data": {
      "text/plain": [
       "(502, 25, 5)"
      ]
     },
     "execution_count": 17,
     "metadata": {},
     "output_type": "execute_result"
    }
   ],
   "source": [
    "X_expanded.shape"
   ]
  },
  {
   "cell_type": "code",
   "execution_count": 18,
   "metadata": {},
   "outputs": [
    {
     "data": {
      "text/plain": [
       "array([[775, 285,   2,  -2,  14],\n",
       "       [776, 284,   2,  -2,  22],\n",
       "       [775, 283,  -2,  -2, 100],\n",
       "       [774, 284,  -2,   2,  14],\n",
       "       [765, 296, -18,  24,  14],\n",
       "       [759, 303, -12,  14,   6],\n",
       "       [753, 311, -12,  16,   9],\n",
       "       [747, 318, -12,  14,   7],\n",
       "       [740, 327, -14,  18,   7],\n",
       "       [733, 335, -14,  16,   7],\n",
       "       [727, 341, -12,  12,   7],\n",
       "       [722, 346, -10,  10,   6],\n",
       "       [718, 353,  -8,  14,   8],\n",
       "       [714, 359,  -8,  12,   8],\n",
       "       [711, 365,  -6,  12,   7],\n",
       "       [707, 369,  -8,   8,   7],\n",
       "       [703, 374,  -8,  10,   7],\n",
       "       [698, 379, -10,  10,   7],\n",
       "       [694, 383,  -8,   8,   6],\n",
       "       [689, 388, -10,  10,   7],\n",
       "       [685, 393,  -8,  10,   8],\n",
       "       [681, 400,  -8,  14,   7],\n",
       "       [678, 407,  -6,  14,   7],\n",
       "       [674, 414,  -8,  14,   7],\n",
       "       [673, 418,  -2,   8,   8]])"
      ]
     },
     "execution_count": 18,
     "metadata": {},
     "output_type": "execute_result"
    }
   ],
   "source": [
    "X_expanded[100]"
   ]
  },
  {
   "cell_type": "code",
   "execution_count": 19,
   "metadata": {},
   "outputs": [
    {
     "data": {
      "text/plain": [
       "array([775, 285,   2,  -2,  14])"
      ]
     },
     "execution_count": 19,
     "metadata": {},
     "output_type": "execute_result"
    }
   ],
   "source": [
    "X_expanded[100][0]"
   ]
  },
  {
   "cell_type": "code",
   "execution_count": 20,
   "metadata": {},
   "outputs": [
    {
     "data": {
      "text/plain": [
       "0"
      ]
     },
     "execution_count": 20,
     "metadata": {},
     "output_type": "execute_result"
    }
   ],
   "source": [
    "y_expanded[100]"
   ]
  },
  {
   "cell_type": "code",
   "execution_count": 21,
   "metadata": {},
   "outputs": [
    {
     "data": {
      "text/plain": [
       "array([0, 1, 2])"
      ]
     },
     "execution_count": 21,
     "metadata": {},
     "output_type": "execute_result"
    }
   ],
   "source": [
    "np.unique(y_expanded)"
   ]
  },
  {
   "cell_type": "code",
   "execution_count": 22,
   "metadata": {},
   "outputs": [],
   "source": [
    "assert np.array_equal(np.unique(y_expanded), [0, 1, 2])"
   ]
  },
  {
   "cell_type": "code",
   "execution_count": 23,
   "metadata": {},
   "outputs": [],
   "source": [
    "import tensorflow as tf\n",
    "from tensorflow import keras\n",
    "from tensorflow.keras.layers import Dense, LSTM, GRU, SimpleRNN, Bidirectional, BatchNormalization\n",
    "from tensorflow.keras.models import Sequential, Model"
   ]
  },
  {
   "cell_type": "code",
   "execution_count": 24,
   "metadata": {},
   "outputs": [
    {
     "name": "stderr",
     "output_type": "stream",
     "text": [
      "WARNING: Logging before flag parsing goes to stderr.\n",
      "W0403 12:43:03.980830 10928 deprecation.py:506] From C:\\Users\\olive\\Anaconda3\\lib\\site-packages\\tensorflow\\python\\keras\\backend.py:4081: calling dropout (from tensorflow.python.ops.nn_ops) with keep_prob is deprecated and will be removed in a future version.\n",
      "Instructions for updating:\n",
      "Please use `rate` instead of `keep_prob`. Rate should be set to `rate = 1 - keep_prob`.\n"
     ]
    }
   ],
   "source": [
    "n_steps = len(X_expanded[0])\n",
    "n_features = len(X_expanded[0][0])\n",
    "n_buttons = 3\n",
    "\n",
    "model = Sequential()\n",
    "model.add(GRU(units=50, activation='tanh', input_shape=(n_steps, n_features), name=\"RNN_Input\", \n",
    "# recurrent_dropout makes things slow              \n",
    "#               dropout=0.1, recurrent_dropout=0.1))\n",
    "                dropout=0.1))\n",
    "# model.add(GRU(units=50, activation='tanh', input_shape=(n_steps, n_features), name=\"RNN_Input\"))\n",
    "model.add(BatchNormalization())\n",
    "model.add(Dense(units=n_buttons, name='softmax', activation='softmax'))\n",
    "model.compile(optimizer='adam', loss='sparse_categorical_crossentropy', metrics=['accuracy'])"
   ]
  },
  {
   "cell_type": "code",
   "execution_count": 25,
   "metadata": {},
   "outputs": [
    {
     "name": "stdout",
     "output_type": "stream",
     "text": [
      "Wall time: 15.3 s\n"
     ]
    }
   ],
   "source": [
    "%%time\n",
    "\n",
    "EPOCHS = 500\n",
    "BATCH_SIZE = 200\n",
    "\n",
    "history = model.fit(X_expanded, y_expanded, \n",
    "                    batch_size=BATCH_SIZE,\n",
    "                    epochs=EPOCHS, verbose=0, validation_split=0.2)"
   ]
  },
  {
   "cell_type": "code",
   "execution_count": 26,
   "metadata": {},
   "outputs": [
    {
     "name": "stdout",
     "output_type": "stream",
     "text": [
      "502/502 [==============================] - 0s 30us/sample - loss: 0.3354 - accuracy: 0.8884\n"
     ]
    },
    {
     "data": {
      "text/plain": [
       "0.8884462"
      ]
     },
     "execution_count": 26,
     "metadata": {},
     "output_type": "execute_result"
    }
   ],
   "source": [
    "loss, accuracy = model.evaluate([X_expanded], y_expanded, batch_size=BATCH_SIZE)\n",
    "accuracy"
   ]
  },
  {
   "cell_type": "code",
   "execution_count": 27,
   "metadata": {},
   "outputs": [
    {
     "data": {
      "text/plain": [
       "<matplotlib.legend.Legend at 0x1fa8fa8b748>"
      ]
     },
     "execution_count": 27,
     "metadata": {},
     "output_type": "execute_result"
    },
    {
     "data": {
      "image/png": "[encoded data removed]",
      "text/plain": [
       "<Figure size 432x288 with 1 Axes>"
      ]
     },
     "metadata": {
      "needs_background": "light"
     },
     "output_type": "display_data"
    }
   ],
   "source": [
    "%matplotlib inline\n",
    "\n",
    "import matplotlib.pyplot as plt\n",
    "\n",
    "# plt.yscale('log')\n",
    "plt.ylabel('loss')\n",
    "plt.xlabel('epochs')\n",
    "\n",
    "plt.plot(history.history['loss'])\n",
    "plt.plot(history.history['val_loss'])\n",
    "\n",
    "plt.legend(['loss', 'val_loss'])"
   ]
  },
  {
   "cell_type": "code",
   "execution_count": 28,
   "metadata": {},
   "outputs": [
    {
     "data": {
      "text/plain": [
       "<matplotlib.legend.Legend at 0x1fa96719f60>"
      ]
     },
     "execution_count": 28,
     "metadata": {},
     "output_type": "execute_result"
    },
    {
     "data": {
      "image/png": "[encoded data removed]",
      "text/plain": [
       "<Figure size 432x288 with 1 Axes>"
      ]
     },
     "metadata": {
      "needs_background": "light"
     },
     "output_type": "display_data"
    }
   ],
   "source": [
    "plt.ylabel('accuracy')\n",
    "plt.xlabel('epochs')\n",
    "\n",
    "plt.plot(history.history['accuracy'])\n",
    "plt.plot(history.history['val_accuracy'])\n",
    "\n",
    "plt.legend(['accuracy', 'val_accuracy'])"
   ]
  },
  {
   "cell_type": "code",
   "execution_count": 29,
   "metadata": {},
   "outputs": [
    {
     "data": {
      "text/plain": [
       "array([[9.9648935e-01, 3.3617197e-03, 1.4893623e-04]], dtype=float32)"
      ]
     },
     "execution_count": 29,
     "metadata": {},
     "output_type": "execute_result"
    }
   ],
   "source": [
    "model.predict([[X_expanded[0]]])"
   ]
  },
  {
   "cell_type": "code",
   "execution_count": 30,
   "metadata": {},
   "outputs": [
    {
     "data": {
      "text/plain": [
       "0"
      ]
     },
     "execution_count": 30,
     "metadata": {},
     "output_type": "execute_result"
    }
   ],
   "source": [
    "model.predict([[X_expanded[0]]]).argmax()"
   ]
  },
  {
   "cell_type": "code",
   "execution_count": 31,
   "metadata": {},
   "outputs": [
    {
     "data": {
      "text/plain": [
       "0"
      ]
     },
     "execution_count": 31,
     "metadata": {},
     "output_type": "execute_result"
    }
   ],
   "source": [
    "y_expanded[0]"
   ]
  },
  {
   "cell_type": "code",
   "execution_count": 32,
   "metadata": {},
   "outputs": [],
   "source": [
    "model.save('ux.hd5')"
   ]
  },
  {
   "cell_type": "code",
   "execution_count": null,
   "metadata": {},
   "outputs": [],
   "source": []
  }
 ],
 "metadata": {
  "accelerator": "GPU",
  "colab": {
   "include_colab_link": true,
   "name": "rnn-model.ipynb",
   "provenance": [],
   "toc_visible": true,
   "version": "0.3.2"
  },
  "kernelspec": {
   "display_name": "Python 3",
   "language": "python",
   "name": "python3"
  },
  "language_info": {
   "codemirror_mode": {
    "name": "ipython",
    "version": 3
   },
   "file_extension": ".py",
   "mimetype": "text/x-python",
   "name": "python",
   "nbconvert_exporter": "python",
   "pygments_lexer": "ipython3",
   "version": "3.7.1"
  }
 },
 "nbformat": 4,
 "nbformat_minor": 1
}
