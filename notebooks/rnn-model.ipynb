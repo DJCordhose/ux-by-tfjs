{
 "cells": [
  {
   "cell_type": "markdown",
   "metadata": {
    "colab_type": "text",
    "id": "view-in-github"
   },
   "source": [
    "<a href=\"https://colab.research.google.com/github/DJCordhose/ux-by-tfjs/blob/master/notebooks/rnn-model.ipynb\" target=\"_parent\"><img src=\"https://colab.research.google.com/assets/colab-badge.svg\" alt=\"Open In Colab\"/></a>"
   ]
  },
  {
   "cell_type": "markdown",
   "metadata": {
    "colab_type": "text",
    "id": "XdfXfXK2-CiG"
   },
   "source": [
    "# Training on Mouse-Movements on the Server"
   ]
  },
  {
   "cell_type": "code",
   "execution_count": 1,
   "metadata": {
    "colab": {},
    "colab_type": "code",
    "id": "u8IonVMfAelY"
   },
   "outputs": [],
   "source": [
    "# !pip install -q tf-nightly-gpu-2.0-preview"
   ]
  },
  {
   "cell_type": "code",
   "execution_count": 2,
   "metadata": {
    "colab": {
     "base_uri": "https://localhost:8080/",
     "height": 34
    },
    "colab_type": "code",
    "id": "0rEa6M11-CiY",
    "outputId": "d6e4f8ae-fe71-4fd1-a7c2-811f00322fe8"
   },
   "outputs": [
    {
     "name": "stdout",
     "output_type": "stream",
     "text": [
      "2.0.0-alpha0\n"
     ]
    }
   ],
   "source": [
    "import tensorflow as tf\n",
    "print(tf.__version__)"
   ]
  },
  {
   "cell_type": "code",
   "execution_count": 3,
   "metadata": {
    "colab": {
     "base_uri": "https://localhost:8080/",
     "height": 34
    },
    "colab_type": "code",
    "id": "I35W9tmrRWF3",
    "outputId": "9a5605d6-e705-43fb-c34f-11a6a2d21930"
   },
   "outputs": [
    {
     "name": "stdout",
     "output_type": "stream",
     "text": [
      "This works: b'Hello TF!'\n"
     ]
    }
   ],
   "source": [
    "# a small sanity check, does tf seem to work ok?\n",
    "hello = tf.constant('Hello TF!')\n",
    "print(\"This works: {}\".format(hello))"
   ]
  },
  {
   "cell_type": "code",
   "execution_count": 4,
   "metadata": {
    "colab": {
     "base_uri": "https://localhost:8080/",
     "height": 34
    },
    "colab_type": "code",
    "id": "DpXHERPSQvMD",
    "outputId": "77d47a20-afb8-486b-c7e6-bf2e222679c4"
   },
   "outputs": [
    {
     "data": {
      "text/plain": [
       "True"
      ]
     },
     "execution_count": 4,
     "metadata": {},
     "output_type": "execute_result"
    }
   ],
   "source": [
    "# this should return True even on Colab\n",
    "tf.test.is_gpu_available()"
   ]
  },
  {
   "cell_type": "code",
   "execution_count": 5,
   "metadata": {
    "colab": {
     "base_uri": "https://localhost:8080/",
     "height": 34
    },
    "colab_type": "code",
    "id": "hEoP6O2r3Jvf",
    "outputId": "d1c4480c-0073-48de-9935-e8e6963b30dd"
   },
   "outputs": [
    {
     "data": {
      "text/plain": [
       "True"
      ]
     },
     "execution_count": 5,
     "metadata": {},
     "output_type": "execute_result"
    }
   ],
   "source": [
    "tf.test.is_built_with_cuda()"
   ]
  },
  {
   "cell_type": "code",
   "execution_count": 6,
   "metadata": {
    "colab": {
     "base_uri": "https://localhost:8080/",
     "height": 34
    },
    "colab_type": "code",
    "id": "PqalzDXr3OiQ",
    "outputId": "24007df0-2705-465e-8464-d061fccbb061"
   },
   "outputs": [
    {
     "data": {
      "text/plain": [
       "True"
      ]
     },
     "execution_count": 6,
     "metadata": {},
     "output_type": "execute_result"
    }
   ],
   "source": [
    "tf.executing_eagerly()"
   ]
  },
  {
   "cell_type": "markdown",
   "metadata": {},
   "source": [
    "## load data"
   ]
  },
  {
   "cell_type": "code",
   "execution_count": 7,
   "metadata": {},
   "outputs": [
    {
     "name": "stdout",
     "output_type": "stream",
     "text": [
      "0.23.4\n"
     ]
    }
   ],
   "source": [
    "import pandas as pd\n",
    "print(pd.__version__)"
   ]
  },
  {
   "cell_type": "code",
   "execution_count": 8,
   "metadata": {},
   "outputs": [],
   "source": [
    "df = pd.read_json('../data/sample2.json', typ='series')"
   ]
  },
  {
   "cell_type": "code",
   "execution_count": 9,
   "metadata": {},
   "outputs": [
    {
     "data": {
      "text/plain": [
       "205"
      ]
     },
     "execution_count": 9,
     "metadata": {},
     "output_type": "execute_result"
    }
   ],
   "source": [
    "len(df)"
   ]
  },
  {
   "cell_type": "code",
   "execution_count": 10,
   "metadata": {},
   "outputs": [
    {
     "data": {
      "text/plain": [
       "0    {'x': [[0, 0, 0, 0, 0], [0, 0, 0, 0, 0], [0, 0...\n",
       "1    {'x': [[0, 0, 0, 0, 0], [0, 0, 0, 0, 0], [0, 0...\n",
       "2    {'x': [[0, 0, 0, 0, 0], [0, 0, 0, 0, 0], [0, 0...\n",
       "3    {'x': [[644, 266, 2, 6, 7], [644, 268, 0, 6, 7...\n",
       "4    {'x': [[956, 283, 2, -6, 7], [957, 278, 2, -8,...\n",
       "dtype: object"
      ]
     },
     "execution_count": 10,
     "metadata": {},
     "output_type": "execute_result"
    }
   ],
   "source": [
    "df.head()"
   ]
  },
  {
   "cell_type": "code",
   "execution_count": 11,
   "metadata": {},
   "outputs": [],
   "source": [
    "X = [item['x'] for item in df]"
   ]
  },
  {
   "cell_type": "code",
   "execution_count": 12,
   "metadata": {},
   "outputs": [
    {
     "data": {
      "text/plain": [
       "[[0, 0, 0, 0, 0],\n",
       " [0, 0, 0, 0, 0],\n",
       " [0, 0, 0, 0, 0],\n",
       " [0, 0, 0, 0, 0],\n",
       " [0, 0, 0, 0, 0],\n",
       " [0, 0, 0, 0, 0],\n",
       " [0, 0, 0, 0, 0],\n",
       " [0, 0, 0, 0, 0],\n",
       " [0, 0, 0, 0, 0],\n",
       " [0, 0, 0, 0, 0],\n",
       " [0, 0, 0, 0, 0],\n",
       " [0, 0, 0, 0, 0],\n",
       " [0, 0, 0, 0, 0],\n",
       " [0, 0, 0, 0, 0],\n",
       " [0, 0, 0, 0, 0],\n",
       " [0, 0, 0, 0, 0],\n",
       " [0, 0, 0, 0, 0],\n",
       " [0, 0, 0, 0, 0],\n",
       " [0, 0, 0, 0, 0],\n",
       " [0, 0, 0, 0, 0],\n",
       " [0, 0, 0, 0, 0],\n",
       " [0, 0, 0, 0, 0],\n",
       " [0, 0, 0, 0, 0],\n",
       " [0, 0, 0, 0, 0],\n",
       " [0, 0, 0, 0, 0],\n",
       " [0, 0, 0, 0, 0],\n",
       " [0, 0, 0, 0, 0],\n",
       " [0, 0, 0, 0, 0],\n",
       " [0, 0, 0, 0, 0],\n",
       " [0, 0, 0, 0, 0],\n",
       " [0, 0, 0, 0, 0],\n",
       " [0, 0, 0, 0, 0],\n",
       " [0, 0, 0, 0, 0],\n",
       " [0, 0, 0, 0, 0],\n",
       " [0, 0, 0, 0, 0],\n",
       " [0, 0, 0, 0, 0],\n",
       " [0, 0, 0, 0, 0],\n",
       " [0, 0, 0, 0, 0],\n",
       " [0, 0, 0, 0, 0],\n",
       " [0, 0, 0, 0, 0],\n",
       " [0, 0, 0, 0, 0],\n",
       " [0, 0, 0, 0, 0],\n",
       " [0, 0, 0, 0, 0],\n",
       " [0, 0, 0, 0, 0],\n",
       " [0, 0, 0, 0, 0],\n",
       " [0, 0, 0, 0, 0],\n",
       " [0, 0, 0, 0, 0],\n",
       " [0, 0, 0, 0, 0],\n",
       " [0, 0, 0, 0, 0],\n",
       " [0, 0, 0, 0, 0],\n",
       " [0, 0, 0, 0, 0],\n",
       " [0, 0, 0, 0, 0],\n",
       " [0, 0, 0, 0, 0],\n",
       " [0, 0, 0, 0, 0],\n",
       " [0, 0, 0, 0, 0],\n",
       " [0, 0, 0, 0, 0],\n",
       " [0, 0, 0, 0, 0],\n",
       " [0, 0, 0, 0, 0],\n",
       " [0, 0, 0, 0, 0],\n",
       " [0, 0, 0, 0, 0],\n",
       " [0, 0, 0, 0, 0],\n",
       " [0, 0, 0, 0, 0],\n",
       " [0, 0, 0, 0, 0],\n",
       " [0, 0, 0, 0, 0],\n",
       " [0, 0, 0, 0, 0],\n",
       " [0, 0, 0, 0, 0],\n",
       " [0, 0, 0, 0, 0],\n",
       " [0, 0, 0, 0, 0],\n",
       " [0, 0, 0, 0, 0],\n",
       " [0, 0, 0, 0, 0],\n",
       " [0, 0, 0, 0, 0],\n",
       " [0, 0, 0, 0, 0],\n",
       " [0, 0, 0, 0, 0],\n",
       " [0, 0, 0, 0, 0],\n",
       " [0, 0, 0, 0, 0],\n",
       " [0, 0, 0, 0, 0],\n",
       " [0, 0, 0, 0, 0],\n",
       " [0, 0, 0, 0, 0],\n",
       " [0, 0, 0, 0, 0],\n",
       " [0, 0, 0, 0, 0],\n",
       " [0, 0, 0, 0, 0],\n",
       " [0, 0, 0, 0, 0],\n",
       " [0, 0, 0, 0, 0],\n",
       " [0, 0, 0, 0, 0],\n",
       " [0, 0, 0, 0, 0],\n",
       " [0, 0, 0, 0, 0],\n",
       " [0, 0, 0, 0, 0],\n",
       " [0, 0, 0, 0, 0],\n",
       " [0, 0, 0, 0, 0],\n",
       " [0, 0, 0, 0, 0],\n",
       " [0, 0, 0, 0, 0],\n",
       " [0, 0, 0, 0, 0],\n",
       " [0, 0, 0, 0, 0],\n",
       " [0, 0, 0, 0, 0],\n",
       " [0, 0, 0, 0, 0],\n",
       " [0, 0, 0, 0, 0],\n",
       " [0, 0, 0, 0, 0],\n",
       " [0, 0, 0, 0, 0],\n",
       " [0, 0, 0, 0, 0],\n",
       " [0, 0, 0, 0, 0],\n",
       " [0, 0, 0, 0, 0],\n",
       " [0, 0, 0, 0, 0],\n",
       " [0, 0, 0, 0, 0],\n",
       " [0, 0, 0, 0, 0],\n",
       " [0, 0, 0, 0, 0],\n",
       " [0, 0, 0, 0, 0],\n",
       " [0, 0, 0, 0, 0],\n",
       " [0, 0, 0, 0, 0],\n",
       " [0, 0, 0, 0, 0],\n",
       " [0, 0, 0, 0, 0],\n",
       " [0, 0, 0, 0, 0],\n",
       " [0, 0, 0, 0, 0],\n",
       " [0, 0, 0, 0, 0],\n",
       " [0, 0, 0, 0, 0],\n",
       " [0, 0, 0, 0, 0],\n",
       " [0, 0, 0, 0, 0],\n",
       " [0, 0, 0, 0, 0],\n",
       " [0, 0, 0, 0, 0],\n",
       " [0, 0, 0, 0, 0],\n",
       " [0, 0, 0, 0, 0],\n",
       " [0, 0, 0, 0, 0],\n",
       " [0, 0, 0, 0, 0],\n",
       " [0, 0, 0, 0, 0],\n",
       " [266, 34, 102, 40, 0],\n",
       " [280, 42, 28, 16, 8],\n",
       " [314, 59, 68, 34, 7],\n",
       " [315, 59, 2, 0, 7],\n",
       " [355, 89, 80, 58, 7],\n",
       " [361, 93, 12, 10, 7],\n",
       " [375, 103, 28, 18, 7],\n",
       " [376, 104, 2, 2, 7],\n",
       " [377, 104, 2, 2, 7],\n",
       " [377, 105, 0, 0, 7],\n",
       " [378, 105, 2, 0, 7],\n",
       " [392, 107, 28, 4, 187],\n",
       " [430, 111, 76, 10, 6],\n",
       " [447, 115, 34, 6, 7],\n",
       " [486, 124, 78, 20, 7],\n",
       " [510, 132, 48, 16, 7],\n",
       " [533, 143, 46, 20, 8],\n",
       " [568, 158, 70, 32, 8],\n",
       " [581, 167, 26, 18, 8],\n",
       " [592, 173, 22, 10, 5],\n",
       " [607, 182, 30, 18, 11],\n",
       " [615, 186, 16, 10, 4],\n",
       " [618, 189, 6, 6, 6],\n",
       " [620, 191, 4, 2, 7],\n",
       " [621, 192, 2, 2, 8],\n",
       " [621, 193, 0, 2, 393],\n",
       " [621, 194, 0, 2, 20],\n",
       " [622, 196, 2, 4, 14],\n",
       " [623, 197, 2, 4, 8],\n",
       " [624, 201, 2, 6, 7],\n",
       " [626, 204, 4, 8, 7],\n",
       " [627, 209, 2, 8, 7],\n",
       " [629, 214, 4, 10, 7],\n",
       " [630, 218, 2, 10, 8],\n",
       " [632, 221, 4, 4, 6],\n",
       " [632, 224, 0, 8, 7],\n",
       " [634, 229, 4, 8, 7],\n",
       " [635, 233, 2, 10, 8],\n",
       " [636, 239, 2, 10, 7],\n",
       " [638, 244, 4, 10, 7],\n",
       " [639, 248, 2, 10, 7],\n",
       " [639, 251, 0, 4, 7],\n",
       " [640, 253, 2, 6, 7],\n",
       " [640, 256, 0, 4, 7],\n",
       " [641, 257, 2, 2, 8],\n",
       " [642, 259, 2, 6, 7],\n",
       " [642, 261, 0, 2, 7],\n",
       " [643, 263, 2, 4, 7],\n",
       " [644, 266, 2, 6, 7],\n",
       " [644, 268, 0, 6, 7],\n",
       " [645, 271, 2, 4, 7],\n",
       " [645, 275, 0, 10, 7],\n",
       " [647, 279, 4, 6, 8],\n",
       " [648, 282, 2, 8, 7],\n",
       " [648, 285, 0, 4, 7],\n",
       " [649, 288, 2, 8, 7],\n",
       " [649, 291, 0, 4, 7],\n",
       " [649, 294, 0, 8, 7],\n",
       " [651, 299, 4, 8, 7],\n",
       " [651, 301, 0, 6, 7],\n",
       " [651, 304, 0, 6, 8],\n",
       " [651, 307, 0, 4, 7],\n",
       " [651, 308, 0, 4, 7],\n",
       " [651, 310, 0, 4, 7],\n",
       " [651, 312, 0, 2, 7],\n",
       " [651, 313, 0, 2, 7],\n",
       " [651, 315, 0, 4, 7],\n",
       " [651, 316, 0, 2, 8],\n",
       " [650, 317, -2, 4, 7],\n",
       " [650, 318, 0, 2, 7],\n",
       " [650, 320, 0, 4, 7],\n",
       " [649, 322, -2, 2, 7],\n",
       " [649, 324, 0, 6, 7],\n",
       " [649, 326, 0, 4, 7],\n",
       " [649, 328, 0, 4, 7],\n",
       " [649, 331, 0, 4, 8],\n",
       " [649, 333, 0, 4, 7]]"
      ]
     },
     "execution_count": 12,
     "metadata": {},
     "output_type": "execute_result"
    }
   ],
   "source": [
    "X[0]"
   ]
  },
  {
   "cell_type": "code",
   "execution_count": 13,
   "metadata": {},
   "outputs": [],
   "source": [
    "y = [item['y'] - 1 for item in df]"
   ]
  },
  {
   "cell_type": "code",
   "execution_count": 14,
   "metadata": {},
   "outputs": [
    {
     "data": {
      "text/plain": [
       "0"
      ]
     },
     "execution_count": 14,
     "metadata": {},
     "output_type": "execute_result"
    }
   ],
   "source": [
    "y[0]"
   ]
  },
  {
   "cell_type": "code",
   "execution_count": 15,
   "metadata": {},
   "outputs": [],
   "source": [
    "from math import floor\n",
    "\n",
    "def make_chunks(list_to_chunk, chunk_size):\n",
    "    length = len(list_to_chunk)\n",
    "    assert length / chunk_size == floor(length / chunk_size), \"length of data must be multiple of segment length\"\n",
    "    for chunk_start in range(0, length, chunk_size):\n",
    "        yield list_to_chunk[chunk_start : chunk_start + chunk_size]"
   ]
  },
  {
   "cell_type": "code",
   "execution_count": 16,
   "metadata": {},
   "outputs": [],
   "source": [
    "import numpy as np\n",
    "\n",
    "CHUNK_SIZE = 50\n",
    "SEGMENTS = 4\n",
    "\n",
    "X_expanded = []\n",
    "y_expanded = []\n",
    "\n",
    "for x_el, y_el in zip(X, y):\n",
    "    chunks = list(make_chunks(x_el, CHUNK_SIZE))\n",
    "    labels = [y_el] * SEGMENTS\n",
    "    for seq, label in zip(chunks, labels):\n",
    "        X_expanded.append(seq)\n",
    "        y_expanded.append(label)\n",
    "\n",
    "X_expanded = np.array(X_expanded)\n",
    "y_expanded = np.array(y_expanded)"
   ]
  },
  {
   "cell_type": "code",
   "execution_count": 17,
   "metadata": {},
   "outputs": [
    {
     "data": {
      "text/plain": [
       "(820, 50, 5)"
      ]
     },
     "execution_count": 17,
     "metadata": {},
     "output_type": "execute_result"
    }
   ],
   "source": [
    "X_expanded.shape"
   ]
  },
  {
   "cell_type": "code",
   "execution_count": 18,
   "metadata": {},
   "outputs": [
    {
     "data": {
      "text/plain": [
       "array([[792, 356,   0,   2,   7],\n",
       "       [792, 357,   0,   0,   8],\n",
       "       [791, 357,  -2,   2,   7],\n",
       "       [791, 358,   0,   0,   8],\n",
       "       [790, 358,  -2,   2,  14],\n",
       "       [790, 359,   0,   0,   7],\n",
       "       [790, 358,   0,   0,  85],\n",
       "       [790, 357,   0,  -4,   8],\n",
       "       [790, 356,   0,   0,   7],\n",
       "       [792, 348,   4, -16,  14],\n",
       "       [798, 334,  12, -30,   7],\n",
       "       [807, 313,  18, -40,   7],\n",
       "       [810, 303,   6, -20,   7],\n",
       "       [812, 297,   4, -14,   7],\n",
       "       [812, 291,   0, -10,   8],\n",
       "       [812, 284,   0, -16,   7],\n",
       "       [812, 278,   0, -10,   7],\n",
       "       [811, 274,  -2, -10,   7],\n",
       "       [808, 270,  -6,  -8,   8],\n",
       "       [806, 267,  -4,  -4,   6],\n",
       "       [804, 265,  -4,  -4,   8],\n",
       "       [803, 263,  -2,  -4,   6],\n",
       "       [801, 262,  -4,  -2,   8],\n",
       "       [799, 261,  -4,  -4,   7],\n",
       "       [796, 260,  -6,   0,   7],\n",
       "       [794, 259,  -4,  -2,   7],\n",
       "       [788, 259, -12,   0,   7],\n",
       "       [781, 259, -14,   0,   7],\n",
       "       [772, 260, -18,   2,   7],\n",
       "       [765, 263, -14,   4,   8],\n",
       "       [758, 265, -14,   6,   7],\n",
       "       [749, 269, -18,   6,   7],\n",
       "       [739, 273, -20,  10,   7],\n",
       "       [729, 278, -20,   8,   7],\n",
       "       [720, 281, -18,   8,   7],\n",
       "       [715, 286, -10,   8,   7],\n",
       "       [709, 290, -12,   8,   7],\n",
       "       [702, 293, -14,   8,   8],\n",
       "       [696, 297, -12,   8,   7],\n",
       "       [692, 301,  -8,   6,   7],\n",
       "       [687, 304, -10,   6,   7],\n",
       "       [684, 307,  -6,   6,   7],\n",
       "       [681, 310,  -6,   6,   7],\n",
       "       [677, 314,  -8,   8,   7],\n",
       "       [675, 316,  -4,   6,   7],\n",
       "       [672, 321,  -6,  10,   8],\n",
       "       [669, 325,  -6,   6,   7],\n",
       "       [668, 329,  -2,   8,   7],\n",
       "       [665, 332,  -6,   8,   7],\n",
       "       [664, 335,  -2,   4,   0]])"
      ]
     },
     "execution_count": 18,
     "metadata": {},
     "output_type": "execute_result"
    }
   ],
   "source": [
    "X_expanded[100]"
   ]
  },
  {
   "cell_type": "code",
   "execution_count": 19,
   "metadata": {},
   "outputs": [
    {
     "data": {
      "text/plain": [
       "array([792, 356,   0,   2,   7])"
      ]
     },
     "execution_count": 19,
     "metadata": {},
     "output_type": "execute_result"
    }
   ],
   "source": [
    "X_expanded[100][0]"
   ]
  },
  {
   "cell_type": "code",
   "execution_count": 20,
   "metadata": {},
   "outputs": [
    {
     "data": {
      "text/plain": [
       "2"
      ]
     },
     "execution_count": 20,
     "metadata": {},
     "output_type": "execute_result"
    }
   ],
   "source": [
    "y_expanded[100]"
   ]
  },
  {
   "cell_type": "code",
   "execution_count": 21,
   "metadata": {},
   "outputs": [
    {
     "data": {
      "text/plain": [
       "array([0, 1, 2])"
      ]
     },
     "execution_count": 21,
     "metadata": {},
     "output_type": "execute_result"
    }
   ],
   "source": [
    "np.unique(y_expanded)"
   ]
  },
  {
   "cell_type": "code",
   "execution_count": 22,
   "metadata": {},
   "outputs": [],
   "source": [
    "assert np.array_equal(np.unique(y_expanded), [0, 1, 2])"
   ]
  },
  {
   "cell_type": "code",
   "execution_count": 23,
   "metadata": {},
   "outputs": [],
   "source": [
    "import tensorflow as tf\n",
    "from tensorflow import keras\n",
    "from tensorflow.keras.layers import Dense, LSTM, GRU, SimpleRNN, Bidirectional\n",
    "from tensorflow.keras.models import Sequential, Model"
   ]
  },
  {
   "cell_type": "code",
   "execution_count": 24,
   "metadata": {},
   "outputs": [],
   "source": [
    "n_steps = len(X_expanded[0])\n",
    "n_features = len(X_expanded[0][0])\n",
    "n_buttons = 3\n",
    "\n",
    "# define model\n",
    "model = Sequential()\n",
    "model.add(GRU(units=50, activation='tanh', input_shape=(n_steps, n_features), name=\"RNN_Input\"))\n",
    "model.add(Dense(units=n_buttons, name='softmax', activation='softmax'))\n",
    "model.compile(optimizer='adam', loss='sparse_categorical_crossentropy', metrics=['accuracy'])"
   ]
  },
  {
   "cell_type": "code",
   "execution_count": 25,
   "metadata": {},
   "outputs": [
    {
     "name": "stdout",
     "output_type": "stream",
     "text": [
      "Wall time: 52 s\n"
     ]
    }
   ],
   "source": [
    "%%time\n",
    "\n",
    "EPOCHS = 1000\n",
    "BATCH_SIZE = 200\n",
    "\n",
    "history = model.fit(X_expanded, y_expanded, \n",
    "                    batch_size=BATCH_SIZE,\n",
    "                    epochs=EPOCHS, verbose=0, validation_split=0.2)"
   ]
  },
  {
   "cell_type": "code",
   "execution_count": 26,
   "metadata": {},
   "outputs": [
    {
     "name": "stdout",
     "output_type": "stream",
     "text": [
      "820/820 [==============================] - 0s 36us/sample - loss: 0.8864 - accuracy: 0.5854\n"
     ]
    },
    {
     "data": {
      "text/plain": [
       "0.58536583"
      ]
     },
     "execution_count": 26,
     "metadata": {},
     "output_type": "execute_result"
    }
   ],
   "source": [
    "loss, accuracy = model.evaluate([X_expanded], y_expanded, batch_size=BATCH_SIZE)\n",
    "accuracy"
   ]
  },
  {
   "cell_type": "code",
   "execution_count": 27,
   "metadata": {},
   "outputs": [
    {
     "data": {
      "text/plain": [
       "<matplotlib.legend.Legend at 0x1a099298f98>"
      ]
     },
     "execution_count": 27,
     "metadata": {},
     "output_type": "execute_result"
    },
    {
     "data": {
      "image/png": "[encoded data removed]",
      "text/plain": [
       "<Figure size 432x288 with 1 Axes>"
      ]
     },
     "metadata": {
      "needs_background": "light"
     },
     "output_type": "display_data"
    }
   ],
   "source": [
    "%matplotlib inline\n",
    "\n",
    "import matplotlib.pyplot as plt\n",
    "\n",
    "plt.yscale('log')\n",
    "plt.ylabel('loss')\n",
    "plt.xlabel('epochs')\n",
    "\n",
    "plt.plot(history.history['loss'])\n",
    "plt.plot(history.history['val_loss'])\n",
    "\n",
    "plt.legend(['loss', 'val_loss'])"
   ]
  },
  {
   "cell_type": "code",
   "execution_count": 28,
   "metadata": {},
   "outputs": [
    {
     "data": {
      "text/plain": [
       "<matplotlib.legend.Legend at 0x1a09df93e10>"
      ]
     },
     "execution_count": 28,
     "metadata": {},
     "output_type": "execute_result"
    },
    {
     "data": {
      "image/png": "[encoded data removed]",
      "text/plain": [
       "<Figure size 432x288 with 1 Axes>"
      ]
     },
     "metadata": {
      "needs_background": "light"
     },
     "output_type": "display_data"
    }
   ],
   "source": [
    "plt.ylabel('accuracy')\n",
    "plt.xlabel('epochs')\n",
    "\n",
    "plt.plot(history.history['accuracy'])\n",
    "plt.plot(history.history['val_accuracy'])\n",
    "\n",
    "plt.legend(['accuracy', 'val_accuracy'])"
   ]
  },
  {
   "cell_type": "code",
   "execution_count": 29,
   "metadata": {},
   "outputs": [
    {
     "data": {
      "text/plain": [
       "array([[0.6581337 , 0.33938646, 0.0024799 ]], dtype=float32)"
      ]
     },
     "execution_count": 29,
     "metadata": {},
     "output_type": "execute_result"
    }
   ],
   "source": [
    "model.predict([[X_expanded[0]]])"
   ]
  },
  {
   "cell_type": "code",
   "execution_count": 30,
   "metadata": {},
   "outputs": [
    {
     "data": {
      "text/plain": [
       "0"
      ]
     },
     "execution_count": 30,
     "metadata": {},
     "output_type": "execute_result"
    }
   ],
   "source": [
    "model.predict([[X_expanded[0]]]).argmax()"
   ]
  },
  {
   "cell_type": "code",
   "execution_count": 31,
   "metadata": {},
   "outputs": [
    {
     "data": {
      "text/plain": [
       "0"
      ]
     },
     "execution_count": 31,
     "metadata": {},
     "output_type": "execute_result"
    }
   ],
   "source": [
    "y_expanded[0]"
   ]
  },
  {
   "cell_type": "code",
   "execution_count": 32,
   "metadata": {},
   "outputs": [],
   "source": [
    "model.save('ux.hd5')"
   ]
  },
  {
   "cell_type": "code",
   "execution_count": null,
   "metadata": {},
   "outputs": [],
   "source": []
  }
 ],
 "metadata": {
  "accelerator": "GPU",
  "colab": {
   "include_colab_link": true,
   "name": "rnn-model.ipynb",
   "provenance": [],
   "toc_visible": true,
   "version": "0.3.2"
  },
  "kernelspec": {
   "display_name": "Python 3",
   "language": "python",
   "name": "python3"
  },
  "language_info": {
   "codemirror_mode": {
    "name": "ipython",
    "version": 3
   },
   "file_extension": ".py",
   "mimetype": "text/x-python",
   "name": "python",
   "nbconvert_exporter": "python",
   "pygments_lexer": "ipython3",
   "version": "3.7.1"
  }
 },
 "nbformat": 4,
 "nbformat_minor": 1
}
